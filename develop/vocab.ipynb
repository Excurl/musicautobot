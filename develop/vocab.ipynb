{
 "cells": [
  {
   "cell_type": "code",
   "execution_count": 1,
   "metadata": {},
   "outputs": [],
   "source": [
    "#default_exp vocab"
   ]
  },
  {
   "cell_type": "code",
   "execution_count": 2,
   "metadata": {},
   "outputs": [
    {
     "ename": "ImportError",
     "evalue": "attempted relative import with no known parent package",
     "output_type": "error",
     "traceback": [
      "\u001b[0;31m---------------------------------------------------------------------------\u001b[0m",
      "\u001b[0;31mImportError\u001b[0m                               Traceback (most recent call last)",
      "\u001b[0;32m<ipython-input-2-de95dac3cdbe>\u001b[0m in \u001b[0;36m<module>\u001b[0;34m\u001b[0m\n\u001b[1;32m      1\u001b[0m \u001b[0;32mfrom\u001b[0m \u001b[0mfastai\u001b[0m\u001b[0;34m.\u001b[0m\u001b[0mbasics\u001b[0m \u001b[0;32mimport\u001b[0m \u001b[0;34m*\u001b[0m\u001b[0;34m\u001b[0m\u001b[0;34m\u001b[0m\u001b[0m\n\u001b[0;32m----> 2\u001b[0;31m \u001b[0;32mfrom\u001b[0m \u001b[0;34m.\u001b[0m\u001b[0mnumpy_encode\u001b[0m \u001b[0;32mimport\u001b[0m \u001b[0;34m*\u001b[0m\u001b[0;34m\u001b[0m\u001b[0;34m\u001b[0m\u001b[0m\n\u001b[0m\u001b[1;32m      3\u001b[0m \u001b[0;32mfrom\u001b[0m \u001b[0;34m.\u001b[0m\u001b[0mmusic_transformer\u001b[0m \u001b[0;32mimport\u001b[0m \u001b[0mtransform\u001b[0m\u001b[0;34m\u001b[0m\u001b[0;34m\u001b[0m\u001b[0m\n\u001b[1;32m      4\u001b[0m \u001b[0;34m\u001b[0m\u001b[0m\n\u001b[1;32m      5\u001b[0m \u001b[0mBOS\u001b[0m \u001b[0;34m=\u001b[0m \u001b[0;34m'xxbos'\u001b[0m\u001b[0;34m\u001b[0m\u001b[0;34m\u001b[0m\u001b[0m\n",
      "\u001b[0;31mImportError\u001b[0m: attempted relative import with no known parent package"
     ]
    }
   ],
   "source": [
    "from fastai.basics import *\n",
    "from .numpy_encode import *\n",
    "from .music_transformer import transform\n",
    "\n",
    "BOS = 'xxbos'\n",
    "PAD = 'xxpad'\n",
    "EOS = 'xxeos'\n",
    "MASK = 'xxmask' # Used for BERT masked language modeling. \n",
    "CSEQ = 'xxcseq' # Used for Seq2Seq translation - denotes start of chord sequence\n",
    "MSEQ = 'xxmseq' # Used for Seq2Seq translation - denotes start of melody sequence\n",
    "\n",
    "# Deprecated tokens. Kept for compatibility \n",
    "S2SCLS = 'xxs2scls' # deprecated\n",
    "NSCLS = 'xxnscls' # deprecated\n",
    "\n",
    "SEP = 'xxsep' # Used to denote end of timestep (required for polyphony). separator idx = -1 (part of notes)\n",
    "\n",
    "SPECIAL_TOKS = [BOS, PAD, EOS, S2SCLS, MASK, CSEQ, MSEQ, NSCLS, SEP] # Important: SEP token must be last\n",
    "\n",
    "NOTE_TOKS = [f'n{i}' for i in range(NOTE_SIZE)] \n",
    "DUR_TOKS = [f'd{i}' for i in range(DUR_SIZE)]\n",
    "NOTE_START, NOTE_END = NOTE_TOKS[0], NOTE_TOKS[-1]\n",
    "DUR_START, DUR_END = DUR_TOKS[0], DUR_TOKS[-1]\n",
    "\n",
    "MTEMPO_SIZE = 10\n",
    "MTEMPO_OFF = 'mt0'\n",
    "MTEMPO_TOKS = [f'mt{i}' for i in range(MTEMPO_SIZE)]\n",
    "\n",
    "# Vocab - token to index mapping\n",
    "class MusicVocab():\n",
    "    \"Contain the correspondence between numbers and tokens and numericalize.\"\n",
    "    def __init__(self, itos:Collection[str]):\n",
    "        self.itos = itos\n",
    "        self.stoi = {v:k for k,v in enumerate(self.itos)}\n",
    "\n",
    "    def numericalize(self, t:Collection[str]) -> List[int]:\n",
    "        \"Convert a list of tokens `t` to their ids.\"\n",
    "        return [self.stoi[w] for w in t]\n",
    "\n",
    "    def textify(self, nums:Collection[int], sep=' ') -> List[str]:\n",
    "        \"Convert a list of `nums` to their tokens.\"\n",
    "        items = [self.itos[i] for i in nums]\n",
    "        return sep.join(items) if sep is not None else items\n",
    "    \n",
    "    def to_music_item(self, idxenc):\n",
    "        return transform.MusicItem(idxenc, self)\n",
    "    \n",
    "    @property \n",
    "    def mask_idx(self): return self.stoi[MASK]\n",
    "    @property \n",
    "    def pad_idx(self): return self.stoi[PAD]\n",
    "    @property\n",
    "    def bos_idx(self): return self.stoi[BOS]\n",
    "    @property\n",
    "    def sep_idx(self): return self.stoi[SEP]\n",
    "    @property\n",
    "    def npenc_range(self): return (self.stoi[SEP], self.stoi[DUR_END]+1)\n",
    "    @property\n",
    "    def note_range(self): return self.stoi[NOTE_START], self.stoi[NOTE_END]+1\n",
    "    @property\n",
    "    def dur_range(self): return self.stoi[DUR_START], self.stoi[DUR_END]+1\n",
    "\n",
    "    def is_duration(self, idx): \n",
    "        return idx >= self.dur_range[0] and idx < self.dur_range[1]\n",
    "    def is_duration_or_pad(self, idx):\n",
    "        return idx == self.pad_idx or self.is_duration(idx)\n",
    "        \n",
    "    def __getstate__(self):\n",
    "        return {'itos':self.itos}\n",
    "\n",
    "    def __setstate__(self, state:dict):\n",
    "        self.itos = state['itos']\n",
    "        self.stoi = {v:k for k,v in enumerate(self.itos)}\n",
    "        \n",
    "    def __len__(self): return len(self.itos)\n",
    "\n",
    "    def save(self, path):\n",
    "        \"Save `self.itos` in `path`\"\n",
    "        pickle.dump(self.itos, open(path, 'wb'))\n",
    "\n",
    "    @classmethod\n",
    "    def create(cls) -> 'Vocab':\n",
    "        \"Create a vocabulary from a set of `tokens`.\"\n",
    "        itos = SPECIAL_TOKS + NOTE_TOKS + DUR_TOKS + MTEMPO_TOKS\n",
    "        if len(itos)%8 != 0:\n",
    "            itos = itos + [f'dummy{i}' for i in range(len(itos)%8)]\n",
    "        return cls(itos)\n",
    "    \n",
    "    @classmethod\n",
    "    def load(cls, path):\n",
    "        \"Load the `Vocab` contained in `path`\"\n",
    "        itos = pickle.load(open(path, 'rb'))\n",
    "        return cls(itos)\n"
   ]
  },
  {
   "cell_type": "code",
   "execution_count": 3,
   "metadata": {},
   "outputs": [
    {
     "name": "stdout",
     "output_type": "stream",
     "text": [
      "Converted config.ipynb.\n",
      "Converted numpy_encode.ipynb.\n",
      "Converted attention_mask.ipynb.\n",
      "Converted file_processing.ipynb.\n",
      "Converted lamb.ipynb.\n",
      "Converted midi_file.ipynb.\n",
      "Converted setup_musescore.ipynb.\n",
      "Converted stacked_dataloader.ipynb.\n",
      "Converted top_k_top_p.ipynb.\n",
      "Converted vocab.ipynb.\n"
     ]
    }
   ],
   "source": [
    "#hide\n",
    "from nbdev.export import notebook2script\n",
    "notebook2script(recursive=True)"
   ]
  }
 ],
 "metadata": {
  "kernelspec": {
   "display_name": "Python 3",
   "language": "python",
   "name": "python3"
  },
  "language_info": {
   "codemirror_mode": {
    "name": "ipython",
    "version": 3
   },
   "file_extension": ".py",
   "mimetype": "text/x-python",
   "name": "python",
   "nbconvert_exporter": "python",
   "pygments_lexer": "ipython3",
   "version": "3.8.5"
  }
 },
 "nbformat": 4,
 "nbformat_minor": 4
}
