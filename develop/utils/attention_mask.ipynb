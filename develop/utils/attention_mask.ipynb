{
 "cells": [
  {
   "cell_type": "code",
   "execution_count": 1,
   "metadata": {},
   "outputs": [],
   "source": [
    "#default_exp utils.attention_mask"
   ]
  },
  {
   "cell_type": "code",
   "execution_count": 2,
   "metadata": {},
   "outputs": [],
   "source": [
    "#export\n",
    "import numpy as np\n",
    "import torch\n",
    "\n",
    "def window_mask(x_len, device, m_len=0, size=(1,1)):\n",
    "    win_size,k = size\n",
    "    mem_mask = torch.zeros((x_len,m_len), device=device)\n",
    "    tri_mask = torch.triu(torch.ones((x_len//win_size+1,x_len//win_size+1), device=device),diagonal=k)\n",
    "    window_mask = tri_mask.repeat_interleave(win_size,dim=0).repeat_interleave(win_size,dim=1)[:x_len,:x_len]\n",
    "    if x_len: window_mask[...,0] = 0 # Always allowing first index to see. Otherwise you'll get NaN loss\n",
    "    mask = torch.cat((mem_mask, window_mask), dim=1)[None,None]\n",
    "    return mask.bool() if hasattr(mask, 'bool') else mask.byte()\n",
    "    \n",
    "def rand_window_mask(x_len,m_len,device,max_size:int=None,p:float=0.2,is_eval:bool=False):\n",
    "    if is_eval or np.random.rand() >= p or max_size is None: \n",
    "        win_size,k = (1,1)\n",
    "    else: win_size,k = (np.random.randint(0,max_size)+1,0)\n",
    "    return window_mask(x_len, device, m_len, size=(win_size,k))\n",
    "\n",
    "def lm_mask(x_len, device):\n",
    "    mask = torch.triu(torch.ones((x_len, x_len), device=device), diagonal=1)[None,None]\n",
    "    return mask.bool() if hasattr(mask, 'bool') else mask.byte()\n"
   ]
  },
  {
   "cell_type": "code",
   "execution_count": 5,
   "metadata": {},
   "outputs": [
    {
     "name": "stdout",
     "output_type": "stream",
     "text": [
      "Converted numpy_encode.ipynb.\n",
      "Converted attention_mask.ipynb.\n"
     ]
    }
   ],
   "source": [
    "#hide\n",
    "from nbdev.export import notebook2script\n",
    "notebook2script(recursive=True)"
   ]
  }
 ],
 "metadata": {
  "kernelspec": {
   "display_name": "Python 3",
   "language": "python",
   "name": "python3"
  },
  "language_info": {
   "codemirror_mode": {
    "name": "ipython",
    "version": 3
   },
   "file_extension": ".py",
   "mimetype": "text/x-python",
   "name": "python",
   "nbconvert_exporter": "python",
   "pygments_lexer": "ipython3",
   "version": "3.8.5"
  }
 },
 "nbformat": 4,
 "nbformat_minor": 4
}
