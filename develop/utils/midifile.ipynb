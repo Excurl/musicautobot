{
 "cells": [
  {
   "cell_type": "code",
   "execution_count": 1,
   "metadata": {},
   "outputs": [],
   "source": [
    "#default_exp utils.midifile"
   ]
  },
  {
   "cell_type": "code",
   "execution_count": 2,
   "metadata": {},
   "outputs": [],
   "source": [
    "#export\n",
    "\"Transform functions for raw midi files\"\n",
    "from enum import Enum\n",
    "import music21\n",
    "from music21.midi import ChannelVoiceMessages\n",
    "\n",
    "PIANO_TYPES = list(range(24)) + list(range(80, 96)) # Piano, Synths\n",
    "PLUCK_TYPES = list(range(24, 40)) + list(range(104, 112)) # Guitar, Bass, Ethnic\n",
    "BRIGHT_TYPES = list(range(40, 56)) + list(range(56, 80))\n",
    "\n",
    "PIANO_RANGE = (21, 109) # https://en.wikipedia.org/wiki/Scientific_pitch_notation\n",
    "\n",
    "class Track(Enum):\n",
    "    PIANO = 0 # discrete instruments - keyboard, woodwinds\n",
    "    PLUCK = 1 # continuous instruments with pitch bend: violin, trombone, synths\n",
    "    BRIGHT = 2\n",
    "    PERC = 3\n",
    "    UNDEF = 4\n",
    "    \n",
    "type2inst = {\n",
    "    # use print_music21_instruments() to see supported types\n",
    "    Track.PIANO: 0, # Piano\n",
    "    Track.PLUCK: 24, # Guitar\n",
    "    Track.BRIGHT: 40, # Violin\n",
    "    Track.PERC: 114, # Steel Drum\n",
    "}\n",
    "\n",
    "# INFO_TYPES = set(['TIME_SIGNATURE', 'KEY_SIGNATURE'])\n",
    "INFO_TYPES = set(['TIME_SIGNATURE', 'KEY_SIGNATURE', 'SET_TEMPO'])\n",
    "\n",
    "def file2mf(fp):\n",
    "    mf = music21.midi.MidiFile()\n",
    "    if isinstance(fp, bytes):\n",
    "        mf.readstr(fp)\n",
    "    else:\n",
    "        mf.open(fp)\n",
    "        mf.read()\n",
    "        mf.close()\n",
    "    return mf\n",
    "\n",
    "def mf2stream(mf): return music21.midi.translate.midiFileToStream(mf)\n",
    "\n",
    "def is_empty_midi(fp):\n",
    "    if fp is None: return False\n",
    "    mf = file2mf(fp)\n",
    "    return not any([t.hasNotes() for t in mf.tracks])\n",
    "\n",
    "def num_piano_tracks(fp):\n",
    "    music_file = file2mf(fp)\n",
    "    note_tracks = [t for t in music_file.tracks if t.hasNotes() and get_track_type(t) == Track.PIANO]\n",
    "    return len(note_tracks)\n",
    "\n",
    "def is_channel(t, c_val):\n",
    "    return any([c == c_val for c in t.getChannels()])\n",
    "\n",
    "def track_sort(t): # sort by 1. variation of pitch, 2. number of notes\n",
    "    return len(unique_track_notes(t)), len(t.events)\n",
    "\n",
    "def is_piano_note(pitch):\n",
    "    return (pitch >= PIANO_RANGE[0]) and (pitch < PIANO_RANGE[1])\n",
    "\n",
    "def unique_track_notes(t):\n",
    "    return { e.pitch for e in t.events if e.pitch is not None }\n",
    "\n",
    "def compress_midi_file(fp, cutoff=6, min_variation=3, supported_types=set([Track.PIANO, Track.PLUCK, Track.BRIGHT])):\n",
    "    music_file = file2mf(fp)\n",
    "    \n",
    "    info_tracks = [t for t in music_file.tracks if not t.hasNotes()]\n",
    "    note_tracks = [t for t in music_file.tracks if t.hasNotes()]\n",
    "    \n",
    "    if len(note_tracks) > cutoff:\n",
    "        note_tracks = sorted(note_tracks, key=track_sort, reverse=True)\n",
    "        \n",
    "    supported_tracks = []\n",
    "    for idx,t in enumerate(note_tracks):\n",
    "#         pdb.set_trace()\n",
    "        if len(supported_tracks) >= cutoff: break\n",
    "        track_type = get_track_type(t)\n",
    "        if track_type not in supported_types: continue\n",
    "        pitch_set = unique_track_notes(t)\n",
    "        if (len(pitch_set) < min_variation): continue # must have more than x unique notes\n",
    "        if not all(map(is_piano_note, pitch_set)): continue # must not contain midi notes outside of piano range\n",
    "#         if track_type == Track.UNDEF: print('Could not designate track:', fp, t)\n",
    "        change_track_instrument(t, type2inst[track_type])\n",
    "        supported_tracks.append(t)\n",
    "    if not supported_tracks: return None\n",
    "    music_file.tracks = info_tracks + supported_tracks\n",
    "    return music_file\n",
    "\n",
    "def get_track_type(t):\n",
    "#     if is_channel(t, 10): return Track.PERC # disabling until music21 fix. See cell below\n",
    "    i = get_track_instrument(t)\n",
    "    if i in PIANO_TYPES: return Track.PIANO\n",
    "    if i in PLUCK_TYPES: return Track.PLUCK\n",
    "    if i in BRIGHT_TYPES: return Track.BRIGHT\n",
    "    return Track.UNDEF\n",
    "\n",
    "def get_track_instrument(t):\n",
    "    for idx,e in enumerate(t.events):\n",
    "        if e.type == ChannelVoiceMessages.PROGRAM_CHANGE: return e.data\n",
    "    return None\n",
    "\n",
    "def change_track_instrument(t, value):\n",
    "    for idx,e in enumerate(t.events):\n",
    "        if e.type == ChannelVoiceMessages.PROGRAM_CHANGE: e.data = value\n",
    "\n",
    "def print_music21_instruments():\n",
    "    for i in range(200):\n",
    "        try: print(i, music21.instrument.instrumentFromMidiProgram(i))\n",
    "        except: pass"
   ]
  },
  {
   "cell_type": "code",
   "execution_count": 10,
   "metadata": {},
   "outputs": [],
   "source": [
    "from pathlib import Path\n",
    "file = Path('../../data/midi/examples/A Thousand Miles - Vanessa Carlton - Verse-And-Pre-Chorus.mid')"
   ]
  },
  {
   "cell_type": "code",
   "execution_count": 11,
   "metadata": {},
   "outputs": [],
   "source": [
    "mf = file2mf(file)\n",
    "tracks = mf.tracks"
   ]
  },
  {
   "cell_type": "code",
   "execution_count": 12,
   "metadata": {},
   "outputs": [],
   "source": [
    "assert(get_track_instrument(tracks[1]) in PIANO_TYPES)"
   ]
  },
  {
   "cell_type": "code",
   "execution_count": 13,
   "metadata": {},
   "outputs": [
    {
     "data": {
      "text/plain": [
       "<music21.midi.MidiFile 3 tracks>"
      ]
     },
     "execution_count": 13,
     "metadata": {},
     "output_type": "execute_result"
    }
   ],
   "source": [
    "compress_midi_file(file)"
   ]
  },
  {
   "cell_type": "code",
   "execution_count": 4,
   "metadata": {},
   "outputs": [
    {
     "data": {
      "text/plain": [
       "[[], [1], [2]]"
      ]
     },
     "execution_count": 4,
     "metadata": {},
     "output_type": "execute_result"
    }
   ],
   "source": [
    "# file = '../../data/midi/examples/A Thousand Miles - Vanessa Carlton - Verse-And-Pre-Chorus.mid'\n",
    "\n",
    "# mf = music21.midi.MidiFile()\n",
    "# mf.open(file)\n",
    "# mf.read()\n",
    "# mf.close()\n",
    "\n",
    "# [t.getChannels() for t in mf.tracks]"
   ]
  },
  {
   "cell_type": "code",
   "execution_count": 14,
   "metadata": {},
   "outputs": [
    {
     "name": "stdout",
     "output_type": "stream",
     "text": [
      "Converted config.ipynb.\n",
      "Converted dataloader.ipynb.\n",
      "Converted learner.ipynb.\n",
      "Converted model.ipynb.\n",
      "Converted transform.ipynb.\n",
      "Converted dataloader.ipynb.\n",
      "Converted learner.ipynb.\n",
      "Converted model.ipynb.\n",
      "Converted transform.ipynb.\n",
      "Converted numpy_encode.ipynb.\n",
      "Converted attention_mask.ipynb.\n",
      "Converted env_setup.ipynb.\n",
      "Converted file_processing.ipynb.\n",
      "Converted lamb.ipynb.\n",
      "Converted midifile.ipynb.\n",
      "Converted stacked_dataloader.ipynb.\n",
      "Converted top_k_top_p.ipynb.\n",
      "Converted vocab.ipynb.\n"
     ]
    }
   ],
   "source": [
    "#hide\n",
    "from nbdev.export import notebook2script\n",
    "notebook2script(recursive=True)"
   ]
  }
 ],
 "metadata": {
  "kernelspec": {
   "display_name": "Python 3",
   "language": "python",
   "name": "python3"
  },
  "language_info": {
   "codemirror_mode": {
    "name": "ipython",
    "version": 3
   },
   "file_extension": ".py",
   "mimetype": "text/x-python",
   "name": "python",
   "nbconvert_exporter": "python",
   "pygments_lexer": "ipython3",
   "version": "3.8.5"
  }
 },
 "nbformat": 4,
 "nbformat_minor": 4
}
