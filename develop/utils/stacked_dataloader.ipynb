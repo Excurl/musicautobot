{
 "cells": [
  {
   "cell_type": "code",
   "execution_count": null,
   "metadata": {},
   "outputs": [],
   "source": [
    "#default_exp utils.stacked_dataloader"
   ]
  },
  {
   "cell_type": "code",
   "execution_count": null,
   "metadata": {},
   "outputs": [],
   "source": [
    "#export\n",
    "\"Dataloader wrapper that can combine and handle multiple dataloaders for multitask training\"\n",
    "\n",
    "# DataLoading\n",
    "class StackedDLs():\n",
    "    def __init__(self, dls, num_it=100):\n",
    "        self.dls = dls\n",
    "        self.train = StackedDL([dls.train for dls in self.dls], num_it)\n",
    "        self.valid = StackedDL([dls.valid for dls in self.dls], num_it)\n",
    "        self.path = dls[0].path\n",
    "        self.device = dls[0].device\n",
    "        self.vocab = dls[0].vocab\n",
    "        self.empty_val = False\n",
    "        self.n_inp = 1\n",
    "        \n",
    "    def __getitem__(self, i):\n",
    "        return [self.train, self.valid][i]\n",
    "    def __getattr__(self, attr):\n",
    "        def redirected(*args, **kwargs):\n",
    "            vals = []\n",
    "            for dl in self.dls:\n",
    "                if hasattr(dl, attr):\n",
    "                    val = getattr(dl, attr)(*args, **kwargs)\n",
    "                    vals.append(val)\n",
    "            if vals: return vals[0]\n",
    "        if any([hasattr(dl, attr) for dl in self.dls]): return redirected\n",
    "        raise AttributeError\n",
    "    \n",
    "class StackedDL():\n",
    "    def __init__(self, dls, num_it=100):\n",
    "        self.dls = dls\n",
    "        self.num_it = num_it\n",
    "        self.dl_idx = -1\n",
    "        self.n_inp = 1\n",
    "        \n",
    "    def __len__(self)->int: return sum([len(dl) for dl in self.dls])\n",
    "    def __getattr__(self, attr):\n",
    "        def redirected(*args, **kwargs):\n",
    "            vals = []\n",
    "            for dl in self.dls:\n",
    "                if hasattr(dl, attr):\n",
    "                    val = getattr(dl, attr)(*args, **kwargs)\n",
    "                    vals.append(val)\n",
    "            if vals: return vals[0]\n",
    "        if any([hasattr(dl, attr) for dl in self.dls]): return redirected\n",
    "        raise AttributeError\n",
    "        \n",
    "    def __iter__(self):\n",
    "        \"Process and returns items from `DataLoader`.\"\n",
    "        iters = [iter(dl) for dl in self.dls]\n",
    "        self.dl_idx = -1\n",
    "        while len(iters):\n",
    "            self.dl_idx = (self.dl_idx+1) % len(iters)\n",
    "            for b in range(self.num_it):\n",
    "                try:\n",
    "                    yield next(iters[self.dl_idx])\n",
    "                except StopIteration as e:\n",
    "                    iters.remove(iters[self.dl_idx])\n",
    "                    break"
   ]
  },
  {
   "cell_type": "code",
   "execution_count": 1,
   "metadata": {},
   "outputs": [
    {
     "name": "stdout",
     "output_type": "stream",
     "text": [
      "Converted config.ipynb.\n",
      "Converted Train-before_cleanup.ipynb.\n",
      "Converted Train.ipynb.\n",
      "Converted dataloader.ipynb.\n",
      "Converted learner.ipynb.\n",
      "Converted model.ipynb.\n",
      "Converted transform.ipynb.\n",
      "Converted Train.ipynb.\n",
      "Converted dataloader.ipynb.\n",
      "Converted learner.ipynb.\n",
      "Converted model.ipynb.\n",
      "Converted Train-Scratch.ipynb.\n",
      "Converted dataloader-reference.ipynb.\n",
      "Converted dataloader-v1.ipynb.\n",
      "Converted transform.ipynb.\n",
      "Converted numpy_encode.ipynb.\n",
      "Converted attention_mask.ipynb.\n",
      "Converted env_setup.ipynb.\n",
      "Converted fastai_transformer.ipynb.\n",
      "Converted file_processing.ipynb.\n",
      "Converted lamb.ipynb.\n",
      "Converted midifile.ipynb.\n",
      "Converted stacked_dataloader.ipynb.\n",
      "Converted top_k_top_p.ipynb.\n",
      "Converted vocab.ipynb.\n"
     ]
    }
   ],
   "source": [
    "#hide\n",
    "from nbdev.export import notebook2script\n",
    "notebook2script(recursive=True)"
   ]
  }
 ],
 "metadata": {
  "kernelspec": {
   "display_name": "Python 3",
   "language": "python",
   "name": "python3"
  },
  "language_info": {
   "codemirror_mode": {
    "name": "ipython",
    "version": 3
   },
   "file_extension": ".py",
   "mimetype": "text/x-python",
   "name": "python",
   "nbconvert_exporter": "python",
   "pygments_lexer": "ipython3",
   "version": "3.8.5"
  }
 },
 "nbformat": 4,
 "nbformat_minor": 4
}
