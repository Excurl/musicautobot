{
 "cells": [
  {
   "cell_type": "code",
   "execution_count": null,
   "metadata": {},
   "outputs": [],
   "source": [
    "#default_exp utils.env_setup"
   ]
  },
  {
   "cell_type": "code",
   "execution_count": null,
   "metadata": {},
   "outputs": [],
   "source": [
    "#export\n",
    "def setup_musescore(musescore_path=None):\n",
    "    if not is_ipython(): return\n",
    "    \n",
    "    import platform\n",
    "    from music21 import environment\n",
    "    from pathlib import Path\n",
    "    \n",
    "    system = platform.system()\n",
    "    if system == 'Linux':\n",
    "        import os\n",
    "        os.environ['QT_QPA_PLATFORM']='offscreen' # https://musescore.org/en/node/29041\n",
    "        \n",
    "    existing_path = environment.get('musicxmlPath')\n",
    "    if existing_path: return\n",
    "    if musescore_path is None:\n",
    "        if system == 'Darwin':\n",
    "            app_paths = list(Path('/Applications').glob('MuseScore *.app'))\n",
    "            if len(app_paths): musescore_path = app_paths[-1]/'Contents/MacOS/mscore'\n",
    "        elif system == 'Linux':\n",
    "            musescore_path = '/usr/bin/musescore'\n",
    "    \n",
    "    if musescore_path is None or not Path(musescore_path).exists():\n",
    "        print('Warning: Could not find musescore installation. Please install musescore (see README) and/or update music21 environment paths')\n",
    "    else :\n",
    "        environment.set('musicxmlPath', musescore_path)\n",
    "        environment.set('musescoreDirectPNGPath', musescore_path)\n",
    "\n",
    "def is_ipython():\n",
    "    try: get_ipython\n",
    "    except: return False\n",
    "    return True\n",
    "\n",
    "def is_colab():\n",
    "    try: import google.colab\n",
    "    except: return False\n",
    "    return True\n",
    "\n",
    "def setup_fluidsynth():\n",
    "    from midi2audio import FluidSynth\n",
    "    from IPython.display import Audio\n",
    "\n",
    "def play_wav(stream):\n",
    "    out_midi = stream.write('midi')\n",
    "    out_wav = str(Path(out_midi).with_suffix('.wav'))\n",
    "    FluidSynth(\"font.sf2\").midi_to_audio(out_midi, out_wav)\n",
    "    return Audio(out_wav)\n"
   ]
  },
  {
   "cell_type": "code",
   "execution_count": null,
   "metadata": {},
   "outputs": [],
   "source": [
    "#hide\n",
    "from nbdev.export import notebook2script\n",
    "notebook2script(recursive=True)"
   ]
  }
 ],
 "metadata": {
  "kernelspec": {
   "display_name": "Python 3",
   "language": "python",
   "name": "python3"
  },
  "language_info": {
   "codemirror_mode": {
    "name": "ipython",
    "version": 3
   },
   "file_extension": ".py",
   "mimetype": "text/x-python",
   "name": "python",
   "nbconvert_exporter": "python",
   "pygments_lexer": "ipython3",
   "version": "3.8.5"
  }
 },
 "nbformat": 4,
 "nbformat_minor": 4
}
