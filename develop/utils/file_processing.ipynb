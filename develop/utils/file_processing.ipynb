{
 "cells": [
  {
   "cell_type": "code",
   "execution_count": 1,
   "metadata": {},
   "outputs": [],
   "source": [
    "#default_exp utils.file_processing"
   ]
  },
  {
   "cell_type": "code",
   "execution_count": 2,
   "metadata": {},
   "outputs": [],
   "source": [
    "#export\n",
    "\"Parallel processing for midi files\"\n",
    "import csv\n",
    "from fastprogress.fastprogress import master_bar, progress_bar\n",
    "from pathlib import Path\n",
    "from pebble import ProcessPool\n",
    "from concurrent.futures import TimeoutError\n",
    "import numpy as np"
   ]
  },
  {
   "cell_type": "code",
   "execution_count": 3,
   "metadata": {},
   "outputs": [],
   "source": [
    "#export\n",
    "# https://stackoverflow.com/questions/20991968/asynchronous-multiprocessing-with-a-worker-pool-in-python-how-to-keep-going-aft\n",
    "def process_all(func, arr, timeout_func=None, total=None, max_workers=None, timeout=None):\n",
    "    with ProcessPool() as pool:\n",
    "        future = pool.map(func, arr, timeout=timeout)\n",
    "\n",
    "        iterator = future.result()\n",
    "        results = []\n",
    "        for i in progress_bar(range(len(arr)), total=len(arr)):\n",
    "            try:\n",
    "                result = next(iterator)\n",
    "                if result: results.append(result)\n",
    "            except StopIteration:\n",
    "                break  \n",
    "            except TimeoutError as error:\n",
    "                if timeout_func: timeout_func(arr[i], error.args[1])\n",
    "    return results\n",
    "\n",
    "def process_file(file_path, tfm_func=None, src_path=None, dest_path=None):\n",
    "    \"Utility function that transforms midi file to numpy array.\"\n",
    "    output_file = Path(str(file_path).replace(str(src_path), str(dest_path))).with_suffix('.npy')\n",
    "    if output_file.exists(): return output_file\n",
    "    output_file.parent.mkdir(parents=True, exist_ok=True)\n",
    "    \n",
    "    # Call tfm_func and save file\n",
    "    npenc = tfm_func(file_path)\n",
    "    if npenc is not None: \n",
    "        np.save(output_file, npenc)\n",
    "        return output_file\n",
    "\n",
    "def arr2csv(arr, out_file):\n",
    "    \"Convert metadata array to csv\"\n",
    "    all_keys = {k for d in arr for k in d.keys()}\n",
    "    arr = [format_values(x) for x in arr]\n",
    "    with open(out_file, 'w') as f:\n",
    "        dict_writer = csv.DictWriter(f, list(all_keys))\n",
    "        dict_writer.writeheader()\n",
    "        dict_writer.writerows(arr)\n",
    "        \n",
    "def format_values(d):\n",
    "    \"Format array values for csv encoding\"\n",
    "    def format_value(v):\n",
    "        if isinstance(v, list): return ','.join(v)\n",
    "        return v\n",
    "    return {k:format_value(v) for k,v in d.items()}"
   ]
  },
  {
   "cell_type": "code",
   "execution_count": 5,
   "metadata": {},
   "outputs": [
    {
     "name": "stdout",
     "output_type": "stream",
     "text": [
      "Converted numpy_encode.ipynb.\n",
      "Converted attention_mask.ipynb.\n"
     ]
    }
   ],
   "source": [
    "#hide\n",
    "from nbdev.export import notebook2script\n",
    "notebook2script(recursive=True)"
   ]
  }
 ],
 "metadata": {
  "kernelspec": {
   "display_name": "Python 3",
   "language": "python",
   "name": "python3"
  },
  "language_info": {
   "codemirror_mode": {
    "name": "ipython",
    "version": 3
   },
   "file_extension": ".py",
   "mimetype": "text/x-python",
   "name": "python",
   "nbconvert_exporter": "python",
   "pygments_lexer": "ipython3",
   "version": "3.8.5"
  }
 },
 "nbformat": 4,
 "nbformat_minor": 4
}
