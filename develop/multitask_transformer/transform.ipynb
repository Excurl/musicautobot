{
 "cells": [
  {
   "cell_type": "code",
   "execution_count": null,
   "metadata": {},
   "outputs": [],
   "source": [
    "#default_exp multitask_transformer.transform"
   ]
  },
  {
   "cell_type": "code",
   "execution_count": null,
   "metadata": {},
   "outputs": [],
   "source": [
    "#export\n",
    "from ..music_transformer.transform import *\n",
    "\n",
    "class MultitrackItem():\n",
    "    def __init__(self, melody:MusicItem, chords:MusicItem, stream=None):\n",
    "        self.melody,self.chords = melody, chords\n",
    "        self.vocab = melody.vocab\n",
    "        self._stream = stream\n",
    "        \n",
    "    @classmethod\n",
    "    def from_file(cls, midi_file, vocab):\n",
    "        return cls.from_stream(file2stream(midi_file), vocab)\n",
    "\n",
    "    @classmethod\n",
    "    def from_stream(cls, stream, vocab):\n",
    "        if not isinstance(stream, music21.stream.Score): stream = stream.voicesToParts()\n",
    "        num_parts = len(stream.parts)\n",
    "        sort_pitch = False\n",
    "        if num_parts > 2: \n",
    "            raise ValueError('Could not extract melody and chords from midi file. Please make sure file contains exactly 2 tracks')\n",
    "        elif num_parts == 1: \n",
    "            print('Warning: only 1 track found. Inferring melody/chords')\n",
    "            stream = separate_melody_chord(stream)\n",
    "            sort_pitch = False\n",
    "            \n",
    "        mpart, cpart = stream2npenc_parts(stream, sort_pitch=sort_pitch)\n",
    "        return cls.from_npenc_parts(mpart, cpart, vocab, stream)\n",
    "        \n",
    "    @classmethod\n",
    "    def from_npenc_parts(cls, mpart, cpart, vocab, stream=None):\n",
    "        mpart = npenc2idxenc(mpart, seq_type=SEQType.Melody, vocab=vocab, add_eos=False)\n",
    "        cpart = npenc2idxenc(cpart, seq_type=SEQType.Chords, vocab=vocab, add_eos=False)\n",
    "        return MultitrackItem(MusicItem(mpart, vocab), MusicItem(cpart, vocab), stream)\n",
    "        \n",
    "    @classmethod\n",
    "    def from_idx(cls, item, vocab):\n",
    "        m, c = item\n",
    "        return MultitrackItem(MusicItem.from_idx(m, vocab), MusicItem.from_idx(c, vocab))\n",
    "    def to_idx(self): return np.array((self.melody.to_idx(), self.chords.to_idx()))\n",
    "    \n",
    "    @property\n",
    "    def stream(self):\n",
    "        self._stream = self.to_stream() if self._stream is None else self._stream\n",
    "        return self._stream\n",
    "    \n",
    "    def to_stream(self, bpm=120):\n",
    "        ps = self.melody.to_npenc(), self.chords.to_npenc()\n",
    "        ps = [npenc2chordarr(p) for p in ps]\n",
    "        chordarr = chordarr_combine_parts(ps)\n",
    "        return chordarr2stream(chordarr, bpm=bpm)\n",
    "\n",
    "    \n",
    "    def show(self, format:str=None):\n",
    "        return self.stream.show(format)\n",
    "    def play(self): self.stream.show('midi')\n",
    "        \n",
    "    def transpose(self, val):\n",
    "        return MultitrackItem(self.melody.transpose(val), self.chords.transpose(val))\n",
    "    def pad_to(self, val):\n",
    "        return MultitrackItem(self.melody.pad_to(val), self.chords.pad_to(val))\n",
    "    def trim_to_beat(self, beat):\n",
    "        return MultitrackItem(self.melody.trim_to_beat(beat), self.chords.trim_to_beat(beat))\n",
    "    \n",
    "def combine2chordarr(np1, np2, vocab):\n",
    "    if len(np1.shape) == 1: np1 = idxenc2npenc(np1, vocab)\n",
    "    if len(np2.shape) == 1: np2 = idxenc2npenc(np2, vocab)\n",
    "    p1 = npenc2chordarr(np1)\n",
    "    p2 = npenc2chordarr(np2)\n",
    "    return chordarr_combine_parts((p1, p2))\n"
   ]
  },
  {
   "cell_type": "code",
   "execution_count": 1,
   "metadata": {},
   "outputs": [
    {
     "name": "stdout",
     "output_type": "stream",
     "text": [
      "Converted config.ipynb.\n",
      "Converted dataloader.ipynb.\n",
      "Converted learner.ipynb.\n",
      "Converted model.ipynb.\n",
      "Converted transform.ipynb.\n",
      "Converted numpy_encode.ipynb.\n",
      "Converted attention_mask.ipynb.\n",
      "Converted file_processing.ipynb.\n",
      "Converted lamb.ipynb.\n",
      "Converted midi_file.ipynb.\n",
      "Converted setup_musescore.ipynb.\n",
      "Converted stacked_dataloader.ipynb.\n",
      "Converted top_k_top_p.ipynb.\n",
      "Converted vocab.ipynb.\n"
     ]
    }
   ],
   "source": [
    "#hide\n",
    "from nbdev.export import notebook2script\n",
    "notebook2script(recursive=True)"
   ]
  }
 ],
 "metadata": {
  "kernelspec": {
   "display_name": "Python 3",
   "language": "python",
   "name": "python3"
  },
  "language_info": {
   "codemirror_mode": {
    "name": "ipython",
    "version": 3
   },
   "file_extension": ".py",
   "mimetype": "text/x-python",
   "name": "python",
   "nbconvert_exporter": "python",
   "pygments_lexer": "ipython3",
   "version": "3.8.5"
  }
 },
 "nbformat": 4,
 "nbformat_minor": 4
}
