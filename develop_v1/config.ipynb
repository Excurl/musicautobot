{
 "cells": [
  {
   "cell_type": "code",
   "execution_count": 1,
   "metadata": {},
   "outputs": [],
   "source": [
    "#default_exp config"
   ]
  },
  {
   "cell_type": "code",
   "execution_count": 2,
   "metadata": {},
   "outputs": [
    {
     "ename": "ModuleNotFoundError",
     "evalue": "No module named 'fastai.text.models.transformer'",
     "output_type": "error",
     "traceback": [
      "\u001b[0;31m---------------------------------------------------------------------------\u001b[0m",
      "\u001b[0;31mModuleNotFoundError\u001b[0m                       Traceback (most recent call last)",
      "\u001b[0;32m<ipython-input-2-0bf3178c2fbd>\u001b[0m in \u001b[0;36m<module>\u001b[0;34m\u001b[0m\n\u001b[1;32m      1\u001b[0m \u001b[0;31m#export\u001b[0m\u001b[0;34m\u001b[0m\u001b[0;34m\u001b[0m\u001b[0;34m\u001b[0m\u001b[0m\n\u001b[0;32m----> 2\u001b[0;31m \u001b[0;32mfrom\u001b[0m \u001b[0mfastai\u001b[0m\u001b[0;34m.\u001b[0m\u001b[0mtext\u001b[0m\u001b[0;34m.\u001b[0m\u001b[0mmodels\u001b[0m\u001b[0;34m.\u001b[0m\u001b[0mtransformer\u001b[0m \u001b[0;32mimport\u001b[0m \u001b[0mtfmerXL_lm_config\u001b[0m\u001b[0;34m,\u001b[0m \u001b[0mActivation\u001b[0m\u001b[0;34m\u001b[0m\u001b[0;34m\u001b[0m\u001b[0m\n\u001b[0m\u001b[1;32m      3\u001b[0m \u001b[0;31m# from .vocab import MusicVocab\u001b[0m\u001b[0;34m\u001b[0m\u001b[0;34m\u001b[0m\u001b[0;34m\u001b[0m\u001b[0m\n\u001b[1;32m      4\u001b[0m \u001b[0;34m\u001b[0m\u001b[0m\n\u001b[1;32m      5\u001b[0m \u001b[0;32mdef\u001b[0m \u001b[0mdefault_config\u001b[0m\u001b[0;34m(\u001b[0m\u001b[0;34m)\u001b[0m\u001b[0;34m:\u001b[0m\u001b[0;34m\u001b[0m\u001b[0;34m\u001b[0m\u001b[0m\n",
      "\u001b[0;31mModuleNotFoundError\u001b[0m: No module named 'fastai.text.models.transformer'"
     ]
    }
   ],
   "source": [
    "#export\n",
    "from fastai.text.models.transformer import tfmerXL_lm_config, Activation\n",
    "# from .vocab import MusicVocab\n",
    "\n",
    "def default_config():\n",
    "    config = tfmerXL_lm_config.copy()\n",
    "    config['act'] = Activation.GeLU\n",
    "\n",
    "    config['mem_len'] = 512\n",
    "    config['d_model'] = 512\n",
    "    config['d_inner'] = 2048\n",
    "    config['n_layers'] = 16\n",
    "    \n",
    "    config['n_heads'] = 8\n",
    "    config['d_head'] = 64\n",
    "\n",
    "    return config\n",
    "\n",
    "def music_config():\n",
    "    config = default_config()\n",
    "    config['encode_position'] = True\n",
    "    return config\n",
    "\n",
    "def musicm_config():\n",
    "    config = music_config()\n",
    "    config['d_model'] = 768\n",
    "    config['d_inner'] = 3072\n",
    "    config['n_heads'] = 12\n",
    "    config['d_head'] = 64\n",
    "    config['n_layers'] = 12\n",
    "    return config\n",
    "    \n",
    "def multitask_config():\n",
    "    config = default_config()\n",
    "    config['bias'] = True\n",
    "    config['enc_layers'] = 8\n",
    "    config['dec_layers'] = 8\n",
    "    del config['n_layers']\n",
    "    return config\n",
    "\n",
    "def multitaskm_config():\n",
    "    config = musicm_config()\n",
    "    config['bias'] = True\n",
    "    config['enc_layers'] = 12\n",
    "    config['dec_layers'] = 12\n",
    "    del config['n_layers']\n",
    "    return config\n",
    "\n"
   ]
  },
  {
   "cell_type": "code",
   "execution_count": null,
   "metadata": {},
   "outputs": [],
   "source": [
    "#hide\n",
    "from nbdev.export import notebook2script\n",
    "notebook2script(recursive=True)"
   ]
  }
 ],
 "metadata": {
  "kernelspec": {
   "display_name": "Python 3",
   "language": "python",
   "name": "python3"
  },
  "language_info": {
   "codemirror_mode": {
    "name": "ipython",
    "version": 3
   },
   "file_extension": ".py",
   "mimetype": "text/x-python",
   "name": "python",
   "nbconvert_exporter": "python",
   "pygments_lexer": "ipython3",
   "version": "3.8.5"
  }
 },
 "nbformat": 4,
 "nbformat_minor": 4
}
