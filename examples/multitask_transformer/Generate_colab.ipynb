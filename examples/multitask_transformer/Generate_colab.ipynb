{
 "cells": [
  {
   "cell_type": "markdown",
   "metadata": {
    "colab_type": "text",
    "id": "view-in-github"
   },
   "source": [
    "<a href=\"https://colab.research.google.com/github/bearpelican/musicautobot/blob/master/notebooks/multitask_transformer/Generate_colab.ipynb\" target=\"_parent\"><img src=\"https://colab.research.google.com/assets/colab-badge.svg\" alt=\"Open In Colab\"/></a>"
   ]
  },
  {
   "cell_type": "code",
   "execution_count": 0,
   "metadata": {
    "colab": {},
    "colab_type": "code",
    "id": "NLW5T8KdcX3E"
   },
   "outputs": [],
   "source": [
    "!git clone https://github.com/bearpelican/musicautobot.git"
   ]
  },
  {
   "cell_type": "code",
   "execution_count": 0,
   "metadata": {
    "colab": {},
    "colab_type": "code",
    "id": "TCAs5NW5cX3L"
   },
   "outputs": [],
   "source": [
    "import os\n",
    "os.chdir('musicautobot')"
   ]
  },
  {
   "cell_type": "code",
   "execution_count": 0,
   "metadata": {
    "colab": {},
    "colab_type": "code",
    "id": "L9etuKmTdT_m"
   },
   "outputs": [],
   "source": [
    "!nvidia-smi"
   ]
  },
  {
   "cell_type": "code",
   "execution_count": 0,
   "metadata": {
    "colab": {},
    "colab_type": "code",
    "id": "0fYlE3becc1f"
   },
   "outputs": [],
   "source": [
    "!apt install musescore fluidsynth\n",
    "!cp /usr/share/sounds/sf2/FluidR3_GM.sf2 ./font.sf2\n",
    "!pip install torch fastai music21 pebble fluidsynth midi2audio"
   ]
  },
  {
   "cell_type": "code",
   "execution_count": 0,
   "metadata": {
    "colab": {},
    "colab_type": "code",
    "id": "Wlug8tPUcX3O"
   },
   "outputs": [],
   "source": [
    "from musicautobot.imports import *\n",
    "from musicautobot.numpy_encode import *\n",
    "from musicautobot.utils.file_processing import process_all, process_file\n",
    "from musicautobot.config import *\n",
    "from musicautobot.music_transformer.all import *\n",
    "from musicautobot.multitask_transformer.all import *\n",
    "from musicautobot.numpy_encode import stream2npenc_parts\n",
    "from musicautobot.utils.setup_musescore import setup_musescore\n",
    "setup_musescore()"
   ]
  },
  {
   "cell_type": "code",
   "execution_count": 0,
   "metadata": {
    "colab": {},
    "colab_type": "code",
    "id": "StzS1R1mcjhp"
   },
   "outputs": [],
   "source": [
    "from midi2audio import FluidSynth\n",
    "from IPython.display import Audio"
   ]
  },
  {
   "cell_type": "code",
   "execution_count": 0,
   "metadata": {
    "colab": {},
    "colab_type": "code",
    "id": "Wz0j0TcvclAw"
   },
   "outputs": [],
   "source": [
    "# Colab cannot play music directly from music21 - must convert to .wav first\n",
    "def play_wav(stream):\n",
    "    out_midi = stream.write('midi')\n",
    "    out_wav = str(Path(out_midi).with_suffix('.wav'))\n",
    "    FluidSynth(\"font.sf2\").midi_to_audio(out_midi, out_wav)\n",
    "    return Audio(out_wav)\n"
   ]
  },
  {
   "cell_type": "markdown",
   "metadata": {
    "colab_type": "text",
    "id": "5u3Sup04cX3S"
   },
   "source": [
    "# Generate Music with Pretrained Model"
   ]
  },
  {
   "cell_type": "markdown",
   "metadata": {
    "colab_type": "text",
    "id": "fqdq9pHOcX3T"
   },
   "source": [
    "### Load Pretrained"
   ]
  },
  {
   "cell_type": "code",
   "execution_count": 0,
   "metadata": {
    "colab": {},
    "colab_type": "code",
    "id": "IE8TC8lfcX3U"
   },
   "outputs": [],
   "source": [
    "# Config\n",
    "config = multitask_config();\n",
    "\n",
    "# Location of your midi files\n",
    "midi_path =  Path('data/midi')\n",
    "\n",
    "# Location of saved datset\n",
    "data_path = Path('data/numpy')\n",
    "data_save_name = 'musicitem_data_save.pkl'"
   ]
  },
  {
   "cell_type": "code",
   "execution_count": 0,
   "metadata": {
    "colab": {},
    "colab_type": "code",
    "id": "R88krbh1cX3W"
   },
   "outputs": [],
   "source": [
    "# Data\n",
    "data = MusicDataBunch.empty(data_path)\n",
    "vocab = data.vocab"
   ]
  },
  {
   "cell_type": "code",
   "execution_count": 0,
   "metadata": {
    "colab": {},
    "colab_type": "code",
    "id": "hC531JPKcX3Y"
   },
   "outputs": [],
   "source": [
    "# Pretrained Model\n",
    "\n",
    "# Download pretrained model if you haven't already\n",
    "pretrained_url = 'https://ashaw-midi-web-server.s3-us-west-2.amazonaws.com/pretrained/MultitaskSmallKeyC.pth'\n",
    "# pretrained_url = 'https://ashaw-midi-web-server.s3-us-west-2.amazonaws.com/pretrained/MultitaskSmall.pth'\n",
    "\n",
    "pretrained_path = data_path/'pretrained'/Path(pretrained_url).name\n",
    "pretrained_path.parent.mkdir(parents=True, exist_ok=True)\n",
    "download_url(pretrained_url, dest=pretrained_path)"
   ]
  },
  {
   "cell_type": "code",
   "execution_count": 0,
   "metadata": {
    "colab": {},
    "colab_type": "code",
    "id": "ujbf2949cX3b"
   },
   "outputs": [],
   "source": [
    "# Learner\n",
    "learn = multitask_model_learner(data, pretrained_path=pretrained_path)\n",
    "# learn.to_fp16();"
   ]
  },
  {
   "cell_type": "markdown",
   "metadata": {
    "colab_type": "text",
    "id": "lpoQP5ZVcX3d"
   },
   "source": [
    "### Choose existing midi file as a starting point"
   ]
  },
  {
   "cell_type": "code",
   "execution_count": 0,
   "metadata": {
    "colab": {},
    "colab_type": "code",
    "id": "ovaLLyFbcX3e"
   },
   "outputs": [],
   "source": [
    "example_dir = midi_path/'examples'\n",
    "midi_files = get_files(example_dir, recurse=True, extensions='.mid'); midi_files[:5]"
   ]
  },
  {
   "cell_type": "code",
   "execution_count": 0,
   "metadata": {
    "colab": {},
    "colab_type": "code",
    "id": "9AShtRpNcX3h"
   },
   "outputs": [],
   "source": [
    "file = midi_files[3]; file"
   ]
  },
  {
   "cell_type": "code",
   "execution_count": 0,
   "metadata": {
    "colab": {},
    "colab_type": "code",
    "id": "CQd84OekcX3k"
   },
   "outputs": [],
   "source": [
    "# Encode file \n",
    "item = MusicItem.from_file(file, data.vocab)\n",
    "\n",
    "x = item.to_tensor()\n",
    "x_pos = item.get_pos_tensor()"
   ]
  },
  {
   "cell_type": "code",
   "execution_count": 0,
   "metadata": {
    "colab": {},
    "colab_type": "code",
    "id": "57DlVAp1cX3n"
   },
   "outputs": [],
   "source": [
    "item.show()"
   ]
  },
  {
   "cell_type": "code",
   "execution_count": 0,
   "metadata": {
    "colab": {},
    "colab_type": "code",
    "id": "7NAwJ3A6cX3q"
   },
   "outputs": [],
   "source": [
    "# item.play()\n",
    "play_wav(item.stream)"
   ]
  },
  {
   "cell_type": "markdown",
   "metadata": {
    "colab_type": "text",
    "id": "yQ-ZyQX9cX3s"
   },
   "source": [
    "## Generate"
   ]
  },
  {
   "cell_type": "markdown",
   "metadata": {
    "colab_type": "text",
    "id": "A08P9D2JcX3t"
   },
   "source": [
    "MultitaskTransformer trains on 3 separate tasks. \n",
    "1. NextWord\n",
    "2. Mask\n",
    "3. Sequence to Sequence"
   ]
  },
  {
   "cell_type": "markdown",
   "metadata": {
    "colab_type": "text",
    "id": "dF9uAEdYcX3u"
   },
   "source": [
    "Because we train on 3 separate tasks, we can actually generate some really cool note sequences.\n",
    "\n",
    "1. NextWord/Autocomplete - Take a sequence of notes and predict the next note\n",
    " * 1a. Vanilla Language Model predictions - See [MusicTransformer](../music_transformer) project\n",
    "\n",
    "\n",
    "2. Mask/Remix - Mask certain parts of song and remix those portions.\n",
    " * 2a. Note Masking - Mask all the note pitches and create a new sequence with different notes, but same exact rhythm\n",
    " * 2b. Duration Masking - Mask the note durations. Generate a new sequence with the same melody, but with a different rhythm\n",
    "\n",
    "\n",
    "3. Seq2Seq/Translation - Generate melody from chords or vice versa. \n",
    " * 3a. New Melody - Generate a new melody from existing chords\n",
    " * 3b. Harmonization - Generate chords to acompany an existing melody"
   ]
  },
  {
   "cell_type": "markdown",
   "metadata": {
    "colab_type": "text",
    "id": "4WFB3lIscX3v"
   },
   "source": [
    "## 1. NextWord/Autocomplete\n",
    "\n",
    "Trim the song to only a few notes. Model will use these notes a seed and continue the idea"
   ]
  },
  {
   "cell_type": "code",
   "execution_count": 0,
   "metadata": {
    "colab": {},
    "colab_type": "code",
    "id": "i6RpYxmIcX3w"
   },
   "outputs": [],
   "source": [
    "seed_len = 6 # 4 beats = 1 bar\n",
    "seed = item.trim_to_beat(seed_len)"
   ]
  },
  {
   "cell_type": "code",
   "execution_count": 0,
   "metadata": {
    "colab": {},
    "colab_type": "code",
    "id": "BQTGsKEccX3y"
   },
   "outputs": [],
   "source": [
    "seed.show()"
   ]
  },
  {
   "cell_type": "code",
   "execution_count": 0,
   "metadata": {
    "colab": {},
    "colab_type": "code",
    "id": "sY1S6x_FcX30"
   },
   "outputs": [],
   "source": [
    "pred_nw, full = learn.predict_nw(seed, n_words=200)"
   ]
  },
  {
   "cell_type": "code",
   "execution_count": 0,
   "metadata": {
    "colab": {},
    "colab_type": "code",
    "id": "Z88xHG_qcX33"
   },
   "outputs": [],
   "source": [
    "pred_nw.show()"
   ]
  },
  {
   "cell_type": "code",
   "execution_count": 0,
   "metadata": {
    "colab": {},
    "colab_type": "code",
    "id": "3LAOILA8cX35",
    "scrolled": true
   },
   "outputs": [],
   "source": [
    "play_wav(pred_nw.stream)"
   ]
  },
  {
   "cell_type": "markdown",
   "metadata": {
    "colab_type": "text",
    "id": "lMTkgf2OcX38"
   },
   "source": [
    "Add more randomness"
   ]
  },
  {
   "cell_type": "code",
   "execution_count": 0,
   "metadata": {
    "colab": {},
    "colab_type": "code",
    "id": "Gytv3l22cX39"
   },
   "outputs": [],
   "source": [
    "pitch_temp = 1.4 # randomness of melody\n",
    "tempo_temp = 1.0 # randomness or rhythm\n",
    "top_k = 40\n",
    "pred_nw_rand, full = learn.predict_nw(seed, temperatures=(pitch_temp, tempo_temp), top_k=top_k, top_p=0.5)\n",
    "pred_nw_rand.show()"
   ]
  },
  {
   "cell_type": "code",
   "execution_count": 0,
   "metadata": {
    "colab": {},
    "colab_type": "code",
    "id": "QXQtaJc0d_n_"
   },
   "outputs": [],
   "source": [
    "play_wav(pred_nw_rand.stream)"
   ]
  },
  {
   "cell_type": "code",
   "execution_count": 0,
   "metadata": {
    "colab": {},
    "colab_type": "code",
    "id": "byUvCf4McX4C"
   },
   "outputs": [],
   "source": [
    "# Convenience function\n",
    "# out = nw_predict_from_midi(learn, file, seed_len=seed_len, top_k=30, top_p=0.5); out.show()"
   ]
  },
  {
   "cell_type": "markdown",
   "metadata": {
    "colab_type": "text",
    "id": "nQRnIDhocX4o"
   },
   "source": [
    "## 2. Seq2Seq/Translation"
   ]
  },
  {
   "cell_type": "markdown",
   "metadata": {
    "colab_type": "text",
    "id": "gtjVp2M4cX4p"
   },
   "source": [
    "Load MultitrackItem.\n",
    "\n",
    "MultitrackItem keeps track of which notes are part of the melody and which notes are part of the chords.  \n",
    "This info is needed for translation task"
   ]
  },
  {
   "cell_type": "code",
   "execution_count": 0,
   "metadata": {
    "colab": {},
    "colab_type": "code",
    "id": "cux2aE7YcX4p"
   },
   "outputs": [],
   "source": [
    "multitrack_item = MultitrackItem.from_file(file, vocab)"
   ]
  },
  {
   "cell_type": "code",
   "execution_count": 0,
   "metadata": {
    "colab": {},
    "colab_type": "code",
    "id": "fR4zixCEcX4r"
   },
   "outputs": [],
   "source": [
    "melody, chords = multitrack_item.melody, multitrack_item.chords"
   ]
  },
  {
   "cell_type": "code",
   "execution_count": 0,
   "metadata": {
    "colab": {},
    "colab_type": "code",
    "id": "dl9nGobNcX4u"
   },
   "outputs": [],
   "source": [
    "melody.show()"
   ]
  },
  {
   "cell_type": "code",
   "execution_count": 0,
   "metadata": {
    "colab": {},
    "colab_type": "code",
    "id": "J_AQG8QCcX4w"
   },
   "outputs": [],
   "source": [
    "chords.show()"
   ]
  },
  {
   "cell_type": "code",
   "execution_count": 0,
   "metadata": {
    "colab": {},
    "colab_type": "code",
    "id": "ITC7MqBHcX4y"
   },
   "outputs": [],
   "source": [
    "multitrack_item.play()"
   ]
  },
  {
   "cell_type": "code",
   "execution_count": 0,
   "metadata": {
    "colab": {},
    "colab_type": "code",
    "id": "DxdegKd9c9Ji"
   },
   "outputs": [],
   "source": [
    "play_wav(multitrack_item.stream)"
   ]
  },
  {
   "cell_type": "markdown",
   "metadata": {
    "colab_type": "text",
    "id": "nRnZH289e97c"
   },
   "source": [
    "## 2a. Create Melody\n",
    "\n",
    "Use existing chord progression to generate a new melody"
   ]
  },
  {
   "cell_type": "code",
   "execution_count": 0,
   "metadata": {
    "colab": {},
    "colab_type": "code",
    "id": "RnSIGuCVe97X"
   },
   "outputs": [],
   "source": [
    "# Use a seed for the melody\n",
    "partial_melody = melody.trim_to_beat(4)\n",
    "\n",
    "# Or generate from an empty sequence\n",
    "empty_melody = MusicItem.empty(vocab, seq_type=SEQType.Melody)"
   ]
  },
  {
   "cell_type": "code",
   "execution_count": 0,
   "metadata": {
    "colab": {},
    "colab_type": "code",
    "id": "9i_AWscAe97T"
   },
   "outputs": [],
   "source": [
    "seed_melody = empty_melody; seed_melody.show()"
   ]
  },
  {
   "cell_type": "code",
   "execution_count": 0,
   "metadata": {
    "colab": {},
    "colab_type": "code",
    "id": "9srCEkhLe97P"
   },
   "outputs": [],
   "source": [
    "pred_melody = learn.predict_s2s(chords, seed_melody, use_memory=True)\n",
    "pred_melody.show()"
   ]
  },
  {
   "cell_type": "code",
   "execution_count": 0,
   "metadata": {
    "colab": {},
    "colab_type": "code",
    "id": "UYGaz2Gme97E"
   },
   "outputs": [],
   "source": [
    "play_wav(pred_melody.stream)"
   ]
  },
  {
   "cell_type": "code",
   "execution_count": 0,
   "metadata": {
    "colab": {},
    "colab_type": "code",
    "id": "67VVYrmle97B"
   },
   "outputs": [],
   "source": [
    "combined = MultitrackItem(pred_melody, chords)\n",
    "combined.show()"
   ]
  },
  {
   "cell_type": "code",
   "execution_count": 0,
   "metadata": {
    "colab": {},
    "colab_type": "code",
    "id": "opwBpBmbe964"
   },
   "outputs": [],
   "source": [
    "play_wav(combined.stream)"
   ]
  },
  {
   "cell_type": "markdown",
   "metadata": {
    "colab_type": "text",
    "id": "WSoL0V_We963"
   },
   "source": [
    "## 2b. Harmonization\n",
    "\n",
    "Generate chords to accompany an existing melody"
   ]
  },
  {
   "cell_type": "code",
   "execution_count": 0,
   "metadata": {
    "colab": {},
    "colab_type": "code",
    "id": "zu5kct73e96y"
   },
   "outputs": [],
   "source": [
    "# partial_chords = chords.trim_to_beat(3);\n",
    "# partial_chords.show()\n",
    "\n",
    "empty_chords = MusicItem.empty(vocab, seq_type=SEQType.Chords); empty_chords.show()"
   ]
  },
  {
   "cell_type": "code",
   "execution_count": 0,
   "metadata": {
    "colab": {},
    "colab_type": "code",
    "id": "2jr7znaQe96t"
   },
   "outputs": [],
   "source": [
    "pred_chord = learn.predict_s2s(input_item=melody, target_item=empty_chords)"
   ]
  },
  {
   "cell_type": "code",
   "execution_count": 0,
   "metadata": {
    "colab": {},
    "colab_type": "code",
    "id": "4BX5Qhbee96n"
   },
   "outputs": [],
   "source": [
    "pred_chord.show()"
   ]
  },
  {
   "cell_type": "code",
   "execution_count": 0,
   "metadata": {
    "colab": {},
    "colab_type": "code",
    "id": "efzCw_kfe96i"
   },
   "outputs": [],
   "source": [
    "combined = MultitrackItem(melody, pred_chord)\n",
    "combined.show()"
   ]
  },
  {
   "cell_type": "code",
   "execution_count": 0,
   "metadata": {
    "colab": {},
    "colab_type": "code",
    "id": "J8JZo71Pe96S"
   },
   "outputs": [],
   "source": [
    "play_wav(combined.stream)"
   ]
  },
  {
   "cell_type": "code",
   "execution_count": 0,
   "metadata": {
    "colab": {},
    "colab_type": "code",
    "id": "8itZPefde96M"
   },
   "outputs": [],
   "source": [
    "# Convenience Function\n",
    "\n",
    "# out = s2s_predict_from_midi(learn, file, seed_len=10); out.show()"
   ]
  },
  {
   "cell_type": "markdown",
   "metadata": {
    "colab_type": "text",
    "id": "Td9sxdvocX4F"
   },
   "source": [
    "## 3. Mask/Remix"
   ]
  },
  {
   "cell_type": "markdown",
   "metadata": {
    "colab_type": "text",
    "id": "chz6k0HUcX4G"
   },
   "source": [
    "### 3a. Remix Notes\n",
    "\n",
    "Mask all the note pitches. Model will create a new song with the same rhythm"
   ]
  },
  {
   "cell_type": "code",
   "execution_count": 0,
   "metadata": {
    "colab": {},
    "colab_type": "code",
    "id": "QJaWCnM0cX4H"
   },
   "outputs": [],
   "source": [
    "### Mask notes\n",
    "note_item = item.mask_pitch();"
   ]
  },
  {
   "cell_type": "code",
   "execution_count": 0,
   "metadata": {
    "colab": {},
    "colab_type": "code",
    "id": "AMhdMYDIcX4J"
   },
   "outputs": [],
   "source": [
    "# Mask vs Original\n",
    "list(zip(note_item.to_text(None)[:20], item.to_text(None)[:20]))"
   ]
  },
  {
   "cell_type": "code",
   "execution_count": 0,
   "metadata": {
    "colab": {},
    "colab_type": "code",
    "id": "lQJ0GbqDcX4L"
   },
   "outputs": [],
   "source": [
    "pred_note = learn.predict_mask(note_item, temperatures=(1.4, 1.0))"
   ]
  },
  {
   "cell_type": "code",
   "execution_count": 0,
   "metadata": {
    "colab": {},
    "colab_type": "code",
    "id": "DxDg7aDZcX4P"
   },
   "outputs": [],
   "source": [
    "pred_note.show()"
   ]
  },
  {
   "cell_type": "code",
   "execution_count": 0,
   "metadata": {
    "colab": {},
    "colab_type": "code",
    "id": "vAWuXYQqcX4a"
   },
   "outputs": [],
   "source": [
    "play_wav(pred_note.stream)"
   ]
  },
  {
   "cell_type": "markdown",
   "metadata": {
    "colab_type": "text",
    "id": "x5-pfAv2cX4d"
   },
   "source": [
    "### 3b. Remix rhythm\n",
    "\n",
    "Mask note durations. Same notes, different rhythm"
   ]
  },
  {
   "cell_type": "code",
   "execution_count": 0,
   "metadata": {
    "colab": {},
    "colab_type": "code",
    "id": "w3U-r2YBcX4d"
   },
   "outputs": [],
   "source": [
    "# duration mask\n",
    "dur_item = item.mask_duration()"
   ]
  },
  {
   "cell_type": "code",
   "execution_count": 0,
   "metadata": {
    "colab": {},
    "colab_type": "code",
    "id": "rsNtNDpNcX4f"
   },
   "outputs": [],
   "source": [
    "# Mask vs Original\n",
    "list(zip(dur_item.to_text(None)[:10], item.to_text(None)[:10]))"
   ]
  },
  {
   "cell_type": "code",
   "execution_count": 0,
   "metadata": {
    "colab": {},
    "colab_type": "code",
    "id": "MaTeilzpcX4h"
   },
   "outputs": [],
   "source": [
    "dur_pred = learn.predict_mask(dur_item, temperatures=(0.8,0.8), top_k=40, top_p=0.6)"
   ]
  },
  {
   "cell_type": "code",
   "execution_count": 0,
   "metadata": {
    "colab": {},
    "colab_type": "code",
    "id": "_sDkCHA9cX4k"
   },
   "outputs": [],
   "source": [
    "dur_pred.show()"
   ]
  },
  {
   "cell_type": "code",
   "execution_count": 0,
   "metadata": {
    "colab": {},
    "colab_type": "code",
    "id": "ecJL5whdc4-8"
   },
   "outputs": [],
   "source": [
    "play_wav(dur_pred.stream)"
   ]
  },
  {
   "cell_type": "code",
   "execution_count": 0,
   "metadata": {
    "colab": {},
    "colab_type": "code",
    "id": "9AVn6QrHcX4m"
   },
   "outputs": [],
   "source": [
    "# Convenience function\n",
    "# out = mask_predict_from_midi(learn, file, predict_notes=True)"
   ]
  }
 ],
 "metadata": {
  "accelerator": "GPU",
  "colab": {
   "collapsed_sections": [],
   "include_colab_link": true,
   "name": "Generate_colab.ipynb",
   "provenance": []
  },
  "kernelspec": {
   "display_name": "Python 3",
   "language": "python",
   "name": "python3"
  },
  "language_info": {
   "codemirror_mode": {
    "name": "ipython",
    "version": 3
   },
   "file_extension": ".py",
   "mimetype": "text/x-python",
   "name": "python",
   "nbconvert_exporter": "python",
   "pygments_lexer": "ipython3",
   "version": "3.8.5"
  }
 },
 "nbformat": 4,
 "nbformat_minor": 1
}
