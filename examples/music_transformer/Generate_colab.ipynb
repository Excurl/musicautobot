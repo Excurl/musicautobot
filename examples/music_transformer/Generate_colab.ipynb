{
 "cells": [
  {
   "cell_type": "markdown",
   "metadata": {
    "colab_type": "text",
    "id": "view-in-github"
   },
   "source": [
    "<a href=\"https://colab.research.google.com/github/bearpelican/musicautobot/blob/master/notebooks/music_transformer/Generate_colab.ipynb\" target=\"_parent\"><img src=\"https://colab.research.google.com/assets/colab-badge.svg\" alt=\"Open In Colab\"/></a>"
   ]
  },
  {
   "cell_type": "code",
   "execution_count": 0,
   "metadata": {
    "colab": {},
    "colab_type": "code",
    "id": "z7ZG7C0jMf7d"
   },
   "outputs": [],
   "source": [
    "!git clone https://github.com/bearpelican/musicautobot.git"
   ]
  },
  {
   "cell_type": "code",
   "execution_count": 0,
   "metadata": {
    "colab": {},
    "colab_type": "code",
    "id": "ALIKjODvJdFa"
   },
   "outputs": [],
   "source": [
    "import os\n",
    "os.chdir('musicautobot')"
   ]
  },
  {
   "cell_type": "code",
   "execution_count": 0,
   "metadata": {
    "colab": {},
    "colab_type": "code",
    "id": "Sklh_SE1SE8a"
   },
   "outputs": [],
   "source": [
    "!apt install musescore fluidsynth\n",
    "!cp /usr/share/sounds/sf2/FluidR3_GM.sf2 ./font.sf2"
   ]
  },
  {
   "cell_type": "code",
   "execution_count": 0,
   "metadata": {
    "colab": {},
    "colab_type": "code",
    "id": "rEWuEC9_M1pi"
   },
   "outputs": [],
   "source": [
    "!pip install torch fastai music21 pebble fluidsynth midi2audio"
   ]
  },
  {
   "cell_type": "code",
   "execution_count": 0,
   "metadata": {
    "colab": {},
    "colab_type": "code",
    "id": "dzrRdTvlJdFd"
   },
   "outputs": [],
   "source": [
    "from musicautobot.imports import *\n",
    "from musicautobot.numpy_encode import *\n",
    "from musicautobot.utils.file_processing import process_all, process_file\n",
    "from musicautobot.config import *\n",
    "from musicautobot.music_transformer.all import *\n",
    "from musicautobot.utils.setup_musescore import setup_musescore\n",
    "\n",
    "setup_musescore()"
   ]
  },
  {
   "cell_type": "code",
   "execution_count": null,
   "metadata": {},
   "outputs": [],
   "source": [
    "from fastai.basics import *"
   ]
  },
  {
   "cell_type": "code",
   "execution_count": 0,
   "metadata": {
    "colab": {},
    "colab_type": "code",
    "id": "qWjLAgmVXcoB"
   },
   "outputs": [],
   "source": [
    "from midi2audio import FluidSynth\n",
    "from IPython.display import Audio"
   ]
  },
  {
   "cell_type": "code",
   "execution_count": 0,
   "metadata": {
    "colab": {},
    "colab_type": "code",
    "id": "j48poJKnXjZp"
   },
   "outputs": [],
   "source": [
    "# Colab cannot play music directly from music21 - must convert to .wav first\n",
    "def play_wav(stream):\n",
    "    out_midi = stream.write('midi')\n",
    "    out_wav = str(Path(out_midi).with_suffix('.wav'))\n",
    "    FluidSynth(\"font.sf2\").midi_to_audio(out_midi, out_wav)\n",
    "    return Audio(out_wav)\n"
   ]
  },
  {
   "cell_type": "markdown",
   "metadata": {
    "colab_type": "text",
    "id": "EckFLJkjJdFg"
   },
   "source": [
    "# Generate Music with Pretrained Model"
   ]
  },
  {
   "cell_type": "markdown",
   "metadata": {
    "colab_type": "text",
    "id": "FmhNm2TcJdFh"
   },
   "source": [
    "### Load Pretrained"
   ]
  },
  {
   "cell_type": "code",
   "execution_count": 0,
   "metadata": {
    "colab": {},
    "colab_type": "code",
    "id": "hH7drZxkJdFi"
   },
   "outputs": [],
   "source": [
    "# Location of your midi files\n",
    "midi_path =  Path('data/midi/examples')\n",
    "\n",
    "# Location of saved datset\n",
    "data_path = Path('data/numpy')"
   ]
  },
  {
   "cell_type": "code",
   "execution_count": 0,
   "metadata": {
    "colab": {},
    "colab_type": "code",
    "id": "eoDJWuSaJdFk"
   },
   "outputs": [],
   "source": [
    "# Data\n",
    "data = MusicDataBunch.empty(data_path)\n",
    "vocab = data.vocab\n",
    "\n",
    "# For Saved Data:\n",
    "# data = load_data(data_path, 'musicitem_data_save.pkl')"
   ]
  },
  {
   "cell_type": "code",
   "execution_count": 0,
   "metadata": {
    "colab": {},
    "colab_type": "code",
    "id": "JZeSORnPJdFm"
   },
   "outputs": [],
   "source": [
    "# Pretrained Model\n",
    "# Download pretrained model if you haven't already\n",
    "pretrained_url = 'https://ashaw-midi-web-server.s3-us-west-2.amazonaws.com/pretrained/MusicTransformerKeyC.pth'\n",
    "# pretrained_url = 'https://ashaw-midi-web-server.s3-us-west-2.amazonaws.com/pretrained/MusicTransformer.pth'\n",
    "\n",
    "pretrained_path = data_path/'pretrained'/Path(pretrained_url).name\n",
    "pretrained_path.parent.mkdir(parents=True, exist_ok=True)\n",
    "download_url(pretrained_url, dest=pretrained_path)"
   ]
  },
  {
   "cell_type": "code",
   "execution_count": 0,
   "metadata": {
    "colab": {},
    "colab_type": "code",
    "id": "CJqx0wAGJdFp"
   },
   "outputs": [],
   "source": [
    "# Learner\n",
    "learn = music_model_learner(data, pretrained_path=pretrained_path)"
   ]
  },
  {
   "cell_type": "markdown",
   "metadata": {
    "colab_type": "text",
    "id": "G3HDp9EMJdFr"
   },
   "source": [
    "## Prediction"
   ]
  },
  {
   "cell_type": "markdown",
   "metadata": {
    "colab_type": "text",
    "id": "UDWCdsHFJdFr"
   },
   "source": [
    "#### Choose existing midi file as a starting point"
   ]
  },
  {
   "cell_type": "code",
   "execution_count": 0,
   "metadata": {
    "colab": {},
    "colab_type": "code",
    "id": "61MAPpw0JdFs"
   },
   "outputs": [],
   "source": [
    "midi_files = get_files(midi_path, recurse=True, extensions='.mid'); midi_files[:4]"
   ]
  },
  {
   "cell_type": "code",
   "execution_count": 0,
   "metadata": {
    "colab": {},
    "colab_type": "code",
    "id": "OJA121IEJdFu"
   },
   "outputs": [],
   "source": [
    "idx = 1\n",
    "f = midi_files[idx]; f"
   ]
  },
  {
   "cell_type": "markdown",
   "metadata": {
    "colab_type": "text",
    "id": "nJShT9HKJdFw"
   },
   "source": [
    "#### NextWord/Autocomplete\n",
    "\n",
    "Trim the song to only a few notes. Model will use these notes a seed and continue the idea"
   ]
  },
  {
   "cell_type": "code",
   "execution_count": 0,
   "metadata": {
    "colab": {},
    "colab_type": "code",
    "id": "WUPmoGqcJdFx"
   },
   "outputs": [],
   "source": [
    "cutoff_beat = 10\n",
    "\n",
    "item = MusicItem.from_file(f, data.vocab)\n",
    "seed_item = item.trim_to_beat(cutoff_beat)"
   ]
  },
  {
   "cell_type": "code",
   "execution_count": 0,
   "metadata": {
    "colab": {},
    "colab_type": "code",
    "id": "eUwtyXdkJdFz"
   },
   "outputs": [],
   "source": [
    "seed_item.show()"
   ]
  },
  {
   "cell_type": "code",
   "execution_count": 0,
   "metadata": {
    "colab": {},
    "colab_type": "code",
    "id": "wp3IetalYDM8"
   },
   "outputs": [],
   "source": [
    "# seed_item.play()\n",
    "play_wav(seed_item.stream)"
   ]
  },
  {
   "cell_type": "markdown",
   "metadata": {
    "colab_type": "text",
    "id": "JtYbbqALJdF5"
   },
   "source": [
    "#### Use seed to predict next sequence"
   ]
  },
  {
   "cell_type": "code",
   "execution_count": 0,
   "metadata": {
    "colab": {},
    "colab_type": "code",
    "id": "gurscr8IJdF5"
   },
   "outputs": [],
   "source": [
    "pred, full = learn.predict(seed_item, n_words=400, temperatures=(1.1,0.4), min_bars=12, top_k=24, top_p=0.7)"
   ]
  },
  {
   "cell_type": "code",
   "execution_count": 0,
   "metadata": {
    "colab": {},
    "colab_type": "code",
    "id": "8wQCDsQ4JdF7"
   },
   "outputs": [],
   "source": [
    "pred.show()"
   ]
  },
  {
   "cell_type": "code",
   "execution_count": 0,
   "metadata": {
    "colab": {},
    "colab_type": "code",
    "id": "8biSV173JdF9",
    "scrolled": true
   },
   "outputs": [],
   "source": [
    "play_wav(pred.stream)"
   ]
  },
  {
   "cell_type": "code",
   "execution_count": 0,
   "metadata": {
    "colab": {},
    "colab_type": "code",
    "id": "UZg6f8mVJdF_"
   },
   "outputs": [],
   "source": [
    "full_song = seed_item.append(pred); full_song.show()"
   ]
  },
  {
   "cell_type": "code",
   "execution_count": 0,
   "metadata": {
    "colab": {},
    "colab_type": "code",
    "id": "-48trKgYJdGB",
    "scrolled": true
   },
   "outputs": [],
   "source": [
    "play_wav(full_song.stream)"
   ]
  },
  {
   "cell_type": "markdown",
   "metadata": {
    "colab_type": "text",
    "id": "wQnTf4TxJdGD"
   },
   "source": [
    "#### Add More Randomness to prediction"
   ]
  },
  {
   "cell_type": "code",
   "execution_count": 0,
   "metadata": {
    "colab": {},
    "colab_type": "code",
    "id": "s-xmD-avJdGD"
   },
   "outputs": [],
   "source": [
    "note_temp = 1.4 # Determines amount of variation in note pitches\n",
    "dur_temp = 0.8 # Amount of randomness in rhythm\n",
    "top_k = 30\n",
    "pred, full = learn.predict(seed_item, n_words=400, temperatures=(note_temp, dur_temp), min_bars=12, top_k=top_k, top_p=0.7)"
   ]
  },
  {
   "cell_type": "code",
   "execution_count": 0,
   "metadata": {
    "colab": {},
    "colab_type": "code",
    "id": "ypaK9xZQJdGG"
   },
   "outputs": [],
   "source": [
    "pred.show()"
   ]
  },
  {
   "cell_type": "code",
   "execution_count": 0,
   "metadata": {
    "colab": {},
    "colab_type": "code",
    "id": "wNQGCfyKYjfe"
   },
   "outputs": [],
   "source": [
    "play_wav(pred.stream)"
   ]
  },
  {
   "cell_type": "markdown",
   "metadata": {
    "colab_type": "text",
    "id": "mU1pTyKiJdGJ"
   },
   "source": [
    "### Pop Music Theory"
   ]
  },
  {
   "cell_type": "markdown",
   "metadata": {
    "colab_type": "text",
    "id": "yDLbz6KGJdGK"
   },
   "source": [
    "According to hooktheory, the most popular chord progression is I-V-vi-IV  \n",
    "https://www.hooktheory.com/theorytab/common-chord-progressions"
   ]
  },
  {
   "cell_type": "code",
   "execution_count": 0,
   "metadata": {
    "colab": {},
    "colab_type": "code",
    "id": "IJTfsTapJdGK"
   },
   "outputs": [],
   "source": [
    "# Let's create a partial progression I-V-vi\n",
    "p = music21.stream.Part()\n",
    "p.append(music21.chord.Chord('C4 E4 G4', type='half')) # I\n",
    "p.append(music21.chord.Chord('G3 B3 D4', type='half')) # V\n",
    "p.append(music21.chord.Chord('A3 C4 E4', type='half')) # vi\n",
    "s = music21.stream.Score([p])\n",
    "chord_item = MusicItem.from_stream(s, vocab)\n",
    "chord_item.show()"
   ]
  },
  {
   "cell_type": "code",
   "execution_count": 0,
   "metadata": {
    "colab": {},
    "colab_type": "code",
    "id": "S2DXA4MaJdGM"
   },
   "outputs": [],
   "source": [
    "temperaturs = (0.5,0.5) # Let's lower the note randomness for this test\n",
    "pred, full = learn.predict(chord_item, n_words=10, temperatures=(0.5,0.5))\n",
    "full.show()"
   ]
  },
  {
   "cell_type": "code",
   "execution_count": 0,
   "metadata": {
    "colab": {},
    "colab_type": "code",
    "id": "A-H2KOqmJdGO"
   },
   "outputs": [],
   "source": [
    "# Predicted chords - IV\n",
    "play_wav(pred.stream)"
   ]
  },
  {
   "cell_type": "code",
   "execution_count": 0,
   "metadata": {
    "colab": {},
    "colab_type": "code",
    "id": "HP_Ofs_ZJdGP"
   },
   "outputs": [],
   "source": [
    "# Full sequence\n",
    "chord_item.append(pred).show()"
   ]
  },
  {
   "cell_type": "markdown",
   "metadata": {
    "colab_type": "text",
    "id": "dG3J6hM_JdGR"
   },
   "source": [
    "Looks like it predicted the most popular progression!"
   ]
  },
  {
   "cell_type": "markdown",
   "metadata": {
    "colab_type": "text",
    "id": "b-hAoe5HJdGS"
   },
   "source": [
    "#### Predict without a starting sequence"
   ]
  },
  {
   "cell_type": "code",
   "execution_count": 0,
   "metadata": {
    "colab": {},
    "colab_type": "code",
    "id": "63TFLmE6JdGS"
   },
   "outputs": [],
   "source": [
    "empty_item = MusicItem.empty(vocab)"
   ]
  },
  {
   "cell_type": "code",
   "execution_count": 0,
   "metadata": {
    "colab": {},
    "colab_type": "code",
    "id": "h9gF6rt7JdGU"
   },
   "outputs": [],
   "source": [
    "pred, full = learn.predict(empty_item, n_words=200)"
   ]
  },
  {
   "cell_type": "code",
   "execution_count": 0,
   "metadata": {
    "colab": {},
    "colab_type": "code",
    "id": "Khe7AV8HJdGV"
   },
   "outputs": [],
   "source": [
    "pred.show()"
   ]
  }
 ],
 "metadata": {
  "accelerator": "GPU",
  "colab": {
   "collapsed_sections": [],
   "include_colab_link": true,
   "name": "Generate_colab.ipynb",
   "provenance": []
  },
  "kernelspec": {
   "display_name": "Python 3",
   "language": "python",
   "name": "python3"
  },
  "language_info": {
   "codemirror_mode": {
    "name": "ipython",
    "version": 3
   },
   "file_extension": ".py",
   "mimetype": "text/x-python",
   "name": "python",
   "nbconvert_exporter": "python",
   "pygments_lexer": "ipython3",
   "version": "3.8.5"
  }
 },
 "nbformat": 4,
 "nbformat_minor": 1
}
