{
 "cells": [
  {
   "cell_type": "markdown",
   "metadata": {},
   "source": [
    "### Sources:\n",
    "- classic_piano\n",
    "- cprato\n",
    "- ecomp\n",
    "- freemidi\n",
    "- hooktheory\n",
    "- midiworld\n",
    "- touhou"
   ]
  },
  {
   "cell_type": "markdown",
   "metadata": {},
   "source": [
    "Hooktheory scraper - https://github.com/wayne391/Lead-Sheet-Dataset/tree/03cff9326d1dcaca3a93b4cf8e799e28dd99d093"
   ]
  },
  {
   "cell_type": "code",
   "execution_count": null,
   "metadata": {},
   "outputs": [],
   "source": []
  },
  {
   "cell_type": "markdown",
   "metadata": {},
   "source": [
    "### Created MIDI dataset from the following sources and projects"
   ]
  },
  {
   "cell_type": "markdown",
   "metadata": {},
   "source": [
    "```\n",
    "Amazing HookTheory Scraper\n",
    "https://github.com/wayne391/Symbolic-Musical-Datasets\n",
    "https://github.com/wayne391/Lead-Sheet-Dataset\n",
    "\n",
    "LSTM project with scraper\n",
    "https://github.com/caretcaret/aurora\n",
    "\n",
    "HookTheory API calls:\n",
    "Private api (deprecated?): \n",
    "https://www.hooktheory.com/songs/getXmlByPk?pk=3467\n",
    "Original scraper post:\n",
    "https://github.com/owencm/hooktheory-data\n",
    "Taken from main page:\n",
    "https://api.hooktheory.com/v1/songs/public/ANmpXrPPmyM?fields=ID,xmlData,song,jsonData\n",
    "\n",
    "\n",
    "Piano e competition scraper (includes touhou and classical-piano\n",
    "https://github.com/djosix/Performance-RNN-PyTorch\n",
    "\n",
    "MidiWorldScraper\n",
    "https://github.com/Programmerino/MidiWorldScraper\n",
    "\n",
    "\n",
    "FreeMidi - includes genre, drums, all parts - edm + pop\n",
    "MidiWorld - full song, drums - pop\n",
    "CPrato - short clips, similar to hooktheory\n",
    "Hooktheory - verse, chords, short clips, huge database - chord progression\n",
    "\n",
    "\n",
    "\n",
    "Scraped Sources:\n",
    "Via - https://github.com/djosix/Performance-RNN-PyTorch\n",
    "Yamaha E-piano - http://www.piano-e-competition.com/ - 2621 files\n",
    "TouHou - https://thwiki.cc/ - 165 files\n",
    "Classic Piano - http://www.piano-midi.de - 330 files\n",
    "\n",
    "Via - https://github.com/Programmerino/MidiWorldScraper\n",
    "MidiWorld - http://www.midiworld.com/ - 4717 files\n",
    "\n",
    "Via - https://github.com/wayne391/Symbolic-Musical-Datasets\n",
    "HookTheory - https://www.hooktheory.com/ - 19922 files\n",
    "Downloaded from google drive\n",
    "Wikifonia (no longer exists) - http://www.wikifonia.org/ - 6713 files\n",
    "Downloaded from - http://www.synthzone.com/forum/ubbthreads.php/topics/384909/Download_for_Wikifonia_all_6_6\n",
    "Hymnal - https://www.hymnal.net/en/home\n",
    "Video Game Music Archive - https://www.vgmusic.com/\n",
    "Doug McKenzie Jass - http://bushgrafts.com/wp/\n",
    "Yamaha E-piano - http://www.piano-e-competition.com/\n",
    "\n",
    "Via - https://github.com/toxtli/freemidi-scraper\n",
    "FreeMidi - https://freemidi.org/genre-punk - 4676 pop, 127 disco, 1123 dance-electric\n",
    "\n",
    "CPrato - https://www.cprato.com/ - 314 files\n",
    "```"
   ]
  },
  {
   "cell_type": "code",
   "execution_count": null,
   "metadata": {},
   "outputs": [],
   "source": []
  }
 ],
 "metadata": {
  "kernelspec": {
   "display_name": "Python 3",
   "language": "python",
   "name": "python3"
  },
  "language_info": {
   "codemirror_mode": {
    "name": "ipython",
    "version": 3
   },
   "file_extension": ".py",
   "mimetype": "text/x-python",
   "name": "python",
   "nbconvert_exporter": "python",
   "pygments_lexer": "ipython3",
   "version": "3.7.1"
  }
 },
 "nbformat": 4,
 "nbformat_minor": 2
}
