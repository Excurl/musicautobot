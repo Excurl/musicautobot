{
 "cells": [
  {
   "cell_type": "markdown",
   "metadata": {},
   "source": [
    "## MuseScore Scraper\n",
    "\n",
    "Tool: https://github.com/frankye8998/MusicalMusic  \n",
    "\n",
    "[Reference 2](https://github.com/codeandproduce/music_research_dataset_midi/blob/9a5afe86f1f2d3fdbfa24de99122140e7a7cd60c/MuseScore/MuseScore%20Scraping%20Main.ipynb)"
   ]
  },
  {
   "cell_type": "code",
   "execution_count": 1,
   "metadata": {},
   "outputs": [],
   "source": [
    "from lxml import html\n",
    "import urllib\n",
    "import requests\n",
    "import shutil"
   ]
  },
  {
   "cell_type": "code",
   "execution_count": 2,
   "metadata": {},
   "outputs": [],
   "source": [
    "from random import randint\n",
    "from time import sleep"
   ]
  },
  {
   "cell_type": "code",
   "execution_count": 3,
   "metadata": {},
   "outputs": [],
   "source": [
    "import json\n",
    "from pathlib import Path\n",
    "from tqdm import tqdm\n",
    "import time"
   ]
  },
  {
   "cell_type": "code",
   "execution_count": 4,
   "metadata": {},
   "outputs": [],
   "source": [
    "# links = []\n",
    "# url = \"https://musescore.com/hub/piano/solo-piano?sort=view_count\"\n",
    "# # url = \"https://musescore.com/hub/piano/piano-duet?sort=view_count\"\n",
    "# page = requests.get(url)\n",
    "# tree = html.fromstring(page.content)\n",
    "# print(tree.xpath(\"//title/text()\"))"
   ]
  },
  {
   "cell_type": "code",
   "execution_count": 5,
   "metadata": {},
   "outputs": [],
   "source": [
    "# articles = tree.xpath(\"//article[@role='article']\")"
   ]
  },
  {
   "cell_type": "code",
   "execution_count": 6,
   "metadata": {},
   "outputs": [],
   "source": [
    "def get_data(a):\n",
    "    score = a.find(\"h2//a[@rel='bookmark']\")\n",
    "    link = score.attrib['href']\n",
    "    title = score.text_content().strip()\n",
    "    author = a.find(\"div[@class='user']//a\").text_content()\n",
    "    metadata = a.find(\"div[@class='meta']\").text_content().split('•\\n')\n",
    "    parts, pages, duration, time, views = [m.strip() for m in metadata]\n",
    "    return {\n",
    "        'link': \"https://musescore.com\" + link,\n",
    "        'score_id': Path(link).name,\n",
    "        'title': title,\n",
    "        'author': author,\n",
    "        'parts': parts,\n",
    "        'pages': pages,\n",
    "        'duration': duration,\n",
    "        'views': views\n",
    "    }"
   ]
  },
  {
   "cell_type": "markdown",
   "metadata": {},
   "source": [
    "## But that's actually just page one and there are pages 2,3,4,5... 100!\n",
    "### So let's make a more general format:"
   ]
  },
  {
   "cell_type": "code",
   "execution_count": 8,
   "metadata": {},
   "outputs": [],
   "source": [
    "# url_default = \"https://musescore.com/hub/video_games/movie?sort=view_count&page=\" # + the page number\n",
    "url_default = 'https://musescore.com/hub/piano/easy-piano?sort=view_count&page='\n",
    "# url_default = \"https://musescore.com/hub/piano/solo-piano?sort=view_count&page=\" # + the page number\n",
    "# url_default = \"https://musescore.com/hub/piano/voice-piano?sort=view_count&page=\" # + the page number\n",
    "# url_default = \"https://musescore.com/hub/piano?sort=view_count&page=\" # + the page number"
   ]
  },
  {
   "cell_type": "code",
   "execution_count": 9,
   "metadata": {},
   "outputs": [],
   "source": [
    "json_file = Path('musescore_piano_easy.json')"
   ]
  },
  {
   "cell_type": "code",
   "execution_count": 10,
   "metadata": {},
   "outputs": [],
   "source": [
    "if json_file.exists():\n",
    "    with open(json_file, 'r') as fp:\n",
    "        links = json.load(fp)\n",
    "        "
   ]
  },
  {
   "cell_type": "code",
   "execution_count": 11,
   "metadata": {},
   "outputs": [
    {
     "name": "stderr",
     "output_type": "stream",
     "text": [
      " 99%|█████████▉| 99/100 [01:07<00:00,  1.80it/s]"
     ]
    },
    {
     "name": "stdout",
     "output_type": "stream",
     "text": [
      "[{'link': 'https://musescore.com/user/158751/scores/2163051', 'score_id': '2163051', 'title': 'Game of Thrones, Easy piano', 'author': 'lucky37', 'parts': '1 part', 'pages': '3 pages', 'duration': '01:39', 'views': '448,392 views'}, {'link': 'https://musescore.com/user/2466621/scores/2100881', 'score_id': '2100881', 'title': 'Requiem for a Dream (Easy)', 'author': 'Torby Brand', 'parts': '1 part', 'pages': '2 pages', 'duration': '01:48', 'views': '137,403 views'}, {'link': 'https://musescore.com/user/13543696/scores/4836661', 'score_id': '4836661', 'title': 'Someone Like You (easy piano)', 'author': 'matikavi11869', 'parts': '1 part', 'pages': '6 pages', 'duration': '04:48', 'views': '127,567 views'}, {'link': 'https://musescore.com/user/2500616/scores/2311476', 'score_id': '2311476', 'title': 'Star Wars Theme - easy piano', 'author': 'Erin Keely Whitworth Machado', 'parts': '1 part', 'pages': '1 page', 'duration': '00:58', 'views': '126,604 views'}, {'link': 'https://musescore.com/user/27103076/scores/5009154', 'score_id': '5009154', 'title': 'IKON Love Scenario', 'author': 'chomiguel', 'parts': '1 part', 'pages': '2 pages', 'duration': '02:06', 'views': '125,058 views'}, {'link': 'https://musescore.com/user/2830596/scores/3992921', 'score_id': '3992921', 'title': \"HE'S A PIRATE - Easy Piano\", 'author': 'onnikoivisto', 'parts': '1 part', 'pages': '2 pages', 'duration': '01:21', 'views': '111,205 views'}, {'link': 'https://musescore.com/user/1708621/scores/1323626', 'score_id': '1323626', 'title': \"Ten piano variations on Hedwig's Theme\", 'author': 'Master Snape', 'parts': '1 part', 'pages': '22 pages', 'duration': '10:26', 'views': '98,986 views'}, {'link': 'https://musescore.com/user/1188116/scores/828956', 'score_id': '828956', 'title': 'Pachelbel Canon in D (Fast Easy Piano Version)', 'author': 'LaurenR', 'parts': '1 part', 'pages': '2 pages', 'duration': '00:58', 'views': '84,777 views'}, {'link': 'https://musescore.com/user/4432376/scores/1307891', 'score_id': '1307891', 'title': 'Everything Stays (Adventure Time \"Stakes\")', 'author': 'dimitri fox', 'parts': '2 parts', 'pages': '4 pages', 'duration': '01:49', 'views': '75,219 views'}, {'link': 'https://musescore.com/user/800471/scores/4887914', 'score_id': '4887914', 'title': 'Ed Sheeran - Perfect (easy piano with words)', 'author': 'afsg2410', 'parts': '1 part', 'pages': '4 pages', 'duration': '03:53', 'views': '74,283 views'}, {'link': 'https://musescore.com/user/14364061/scores/3671611', 'score_id': '3671611', 'title': 'Skinny Love', 'author': 'Alex O-G', 'parts': '2 parts', 'pages': '8 pages', 'duration': '03:32', 'views': '57,791 views'}, {'link': 'https://musescore.com/user/21769911/scores/4918059', 'score_id': '4918059', 'title': 'Despacito - Easy Piano - Lyrics- LUIS FONSI, DADDY YANKEE, RAMóN AYLA, ERIKA ENDER', 'author': 'Flordo', 'parts': '1 part', 'pages': '6 pages', 'duration': '03:40', 'views': '53,381 views'}, {'link': 'https://musescore.com/user/5516291/scores/2782256', 'score_id': '2782256', 'title': 'Carol of the Bells (easy piano)', 'author': 'OrliaAnn', 'parts': '1 part', 'pages': '1 page', 'duration': '01', 'views': '48,176 views'}, {'link': 'https://musescore.com/user/3778006/scores/1543021', 'score_id': '1543021', 'title': 'Have Yourself a Merry Little Christmas', 'author': 'Angelina Tran', 'parts': '1 part', 'pages': '2 pages', 'duration': '02:11', 'views': '47,134 views'}, {'link': 'https://musescore.com/user/6977801/scores/3278571', 'score_id': '3278571', 'title': 'Viva La Vida - Piano (Super Easy)', 'author': 'PianoBoy1764', 'parts': '1 part', 'pages': '2 pages', 'duration': '02:08', 'views': '45,146 views'}, {'link': 'https://musescore.com/user/16006641/scores/3582561', 'score_id': '3582561', 'title': 'Ed Sheeran Galway Girl - Easy Piano Cover Tutorial', 'author': 'PianoChannel', 'parts': '1 part', 'pages': '3 pages', 'duration': '01:36', 'views': '41,025 views'}, {'link': 'https://musescore.com/user/15363661/scores/4568641', 'score_id': '4568641', 'title': \"La La Land - Mia & Sebastian's Theme - easy piano\", 'author': 'EverybodyWantsToPlayThePiano', 'parts': '1 part', 'pages': '3 pages', 'duration': '01:26', 'views': '41,058 views'}, {'link': 'https://musescore.com/user/13878606/scores/3063081', 'score_id': '3063081', 'title': \"I Can't Help Falling In Love With You\", 'author': 'alycattp', 'parts': '1 part', 'pages': '2 pages', 'duration': '02:30', 'views': '39,867 views'}, {'link': 'https://musescore.com/user/10164691/scores/2284946', 'score_id': '2284946', 'title': 'Gravity Falls Easy Version', 'author': 'Beigehere', 'parts': '1 part', 'pages': '2 pages', 'duration': '00:39', 'views': '39,640 views'}, {'link': 'https://musescore.com/user/800471/scores/4887910', 'score_id': '4887910', 'title': 'Ed Sheeran - Perfect (for easy piano, easier key) - Piano/words', 'author': 'afsg2410', 'parts': '1 part', 'pages': '4 pages', 'duration': '03:53', 'views': '35,786 views'}, {'link': 'https://musescore.com/user/2621946/scores/1065261', 'score_id': '1065261', 'title': 'Star Wars Short Theme (Easy Piano)', 'author': 'Ronald Spoto', 'parts': '1 part', 'pages': '2 pages', 'duration': '01:08', 'views': '35,447 views'}, {'link': 'https://musescore.com/user/9847751/scores/4902520', 'score_id': '4902520', 'title': 'Easy - My Heart Will Go On Piano', 'author': 'mcmickmack', 'parts': '1 part', 'pages': '2 pages', 'duration': '02:51', 'views': '33,954 views'}, {'link': 'https://musescore.com/user/7122396/scores/1720916', 'score_id': '1720916', 'title': 'Unravel: Tokyo Ghoul (Piano - WIP)', 'author': 'The2ndSon', 'parts': '1 part', 'pages': '4 pages', 'duration': '02:52', 'views': '32,785 views'}, {'link': 'https://musescore.com/user/15363661/scores/4566186', 'score_id': '4566186', 'title': \"Moana - How Far I'll Go - easy piano\", 'author': 'EverybodyWantsToPlayThePiano', 'parts': '1 part', 'pages': '3 pages', 'duration': '02:15', 'views': '32,757 views'}, {'link': 'https://musescore.com/user/80863/scores/2887096', 'score_id': '2887096', 'title': 'Dancing Queen', 'author': 'skunt', 'parts': '1 part', 'pages': '2 pages', 'duration': '03:01', 'views': '32,630 views'}, {'link': 'https://musescore.com/user/21141496/scores/5024427', 'score_id': '5024427', 'title': 'Rewrite the Stars Easy Piano', 'author': 'alexxxx11', 'parts': '1 part', 'pages': '2 pages', 'duration': '01:07', 'views': '30,532 views'}, {'link': 'https://musescore.com/user/2466621/scores/2379221', 'score_id': '2379221', 'title': 'Eine Kleine Nachtmusik (For Beginners)', 'author': 'Torby Brand', 'parts': '1 part', 'pages': '1 page', 'duration': '00:46', 'views': '30,277 views'}, {'link': 'https://musescore.com/user/12027181/scores/4297636', 'score_id': '4297636', 'title': 'Lay Me Down - Easy (Piano)', 'author': 'George Shomali', 'parts': '1 part', 'pages': '3 pages', 'duration': '03:24', 'views': '28,864 views'}, {'link': 'https://musescore.com/user/2810131/scores/1286471', 'score_id': '1286471', 'title': 'Do Re Mi', 'author': 'elenafll', 'parts': '1 part', 'pages': '1 page', 'duration': '00:36', 'views': '28,411 views'}, {'link': 'https://musescore.com/user/800471/scores/3941351', 'score_id': '3941351', 'title': 'Metallica - Nothing else matters - Piano solo', 'author': 'afsg2410', 'parts': '1 part', 'pages': '3 pages', 'duration': '02:38', 'views': '27,419 views'}, {'link': 'https://musescore.com/user/16006641/scores/3582636', 'score_id': '3582636', 'title': 'Ed Sheeran Shape of You - Easy Piano Cover Tutorial', 'author': 'PianoChannel', 'parts': '1 part', 'pages': '4 pages', 'duration': '02:52', 'views': '26,973 views'}, {'link': 'https://musescore.com/user/8325436/scores/5193285', 'score_id': '5193285', 'title': 'Epiphany', 'author': 'CdnNightmare', 'parts': '1 part', 'pages': '2 pages', 'duration': '02:53', 'views': '26,391 views'}, {'link': 'https://musescore.com/user/19710/scores/75900', 'score_id': '75900', 'title': \"24 Préludes from Chopin's Opus 28\", 'author': 'ClassicMan', 'parts': '1 part', 'pages': '51 pages', 'duration': '36:27', 'views': '24,790 views'}, {'link': 'https://musescore.com/user/800471/scores/4822763', 'score_id': '4822763', 'title': 'Adele - Hello - Easy Piano (with words)', 'author': 'afsg2410', 'parts': '1 part', 'pages': '4 pages', 'duration': '03:15', 'views': '24,831 views'}, {'link': 'https://musescore.com/user/2718086/scores/866286', 'score_id': '866286', 'title': 'Daredevil Theme- Easy Piano', 'author': 'BlackBeauty18', 'parts': '1 part', 'pages': '1 page', 'duration': '00:40', 'views': '24,699 views'}, {'link': 'https://musescore.com/user/1162801/scores/1030911', 'score_id': '1030911', 'title': 'Crossing Field (very easy)', 'author': 'craig.zapata', 'parts': '1 part', 'pages': '3 pages', 'duration': '01:31', 'views': '24,606 views'}, {'link': 'https://musescore.com/user/253486/scores/5083664', 'score_id': '5083664', 'title': 'A Million Dreams - Easy Piano', 'author': 'sarahslabon', 'parts': '1 part', 'pages': '5 pages', 'duration': '05:20', 'views': '22,502 views'}, {'link': 'https://musescore.com/user/29453820/scores/5383183', 'score_id': '5383183', 'title': 'Shallow A star is born Lady Gaga Bradley Cooper EASY PIANO', 'author': 'Tobias Thorvaldsson', 'parts': '1 part', 'pages': '4 pages', 'duration': '02:50', 'views': '22,552 views'}, {'link': 'https://musescore.com/user/15363661/scores/4663021', 'score_id': '4663021', 'title': \"Mulan - I'll Make A Man Out Of You - easy/intermediate piano\", 'author': 'EverybodyWantsToPlayThePiano', 'parts': '1 part', 'pages': '5 pages', 'duration': '02:20', 'views': '22,407 views'}, {'link': 'https://musescore.com/user/14364061/scores/3726741', 'score_id': '3726741', 'title': 'Imagine', 'author': 'Alex O-G', 'parts': '2 parts', 'pages': '3 pages', 'duration': '01:54', 'views': '20,909 views'}, {'link': 'https://musescore.com/user/463671/scores/2918151', 'score_id': '2918151', 'title': 'Fur Elise (easy)', 'author': 'Riley Granger', 'parts': '1 part', 'pages': '1 page', 'duration': '00:32', 'views': '20,203 views'}, {'link': 'https://musescore.com/user/4098361/scores/1172671', 'score_id': '1172671', 'title': 'Edvard Grieg - In The Hall Of The Mountain King', 'author': 'Tokarevskaya', 'parts': '1 part', 'pages': '2 pages', 'duration': '01:06', 'views': '18,880 views'}, {'link': 'https://musescore.com/user/8900886/scores/4326891', 'score_id': '4326891', 'title': \"You've Got A Friend In Me Easy Piano Sheet Music\", 'author': 'Megan Harper', 'parts': '1 part', 'pages': '1 page', 'duration': '00:24', 'views': '18,424 views'}, {'link': 'https://musescore.com/user/16006641/scores/3459786', 'score_id': '3459786', 'title': 'THE X-FILES THEME TUNE - Easy Piano Tutorial', 'author': 'PianoChannel', 'parts': '1 part', 'pages': '4 pages', 'duration': '03:22', 'views': '17,709 views'}, {'link': 'https://musescore.com/user/21141496/scores/5079220', 'score_id': '5079220', 'title': 'The Greatest Showman This is Me Easy Piano', 'author': 'alexxxx11', 'parts': '1 part', 'pages': '1 page', 'duration': '01:04', 'views': '17,308 views'}, {'link': 'https://musescore.com/user/8121111/scores/4686801', 'score_id': '4686801', 'title': 'Eye of the Tiger Piano Accompaniment', 'author': 'Teacher Tauche', 'parts': '1 part', 'pages': '3 pages', 'duration': '03:02', 'views': '16,568 views'}, {'link': 'https://musescore.com/user/7043101/scores/1906081', 'score_id': '1906081', 'title': 'My Chemical Romance (Easy Piano)', 'author': 'perksofafangirl', 'parts': '1 part', 'pages': '8 pages', 'duration': '07:51', 'views': '16,310 views'}, {'link': 'https://musescore.com/user/26952258/scores/4992196', 'score_id': '4992196', 'title': 'SEVENTEEN (세븐틴) - Thanks (고맙다) Piano Sheet', 'author': 'Elizabeth Greenep', 'parts': '1 part', 'pages': '5 pages', 'duration': '04:14', 'views': '16,261 views'}, {'link': 'https://musescore.com/user/24655541/scores/4814038', 'score_id': '4814038', 'title': 'Feliz Navidad easy piano', 'author': 'nutsobrain', 'parts': '1 part', 'pages': '2 pages', 'duration': '01:04', 'views': '15,857 views'}, {'link': 'https://musescore.com/user/3119766/scores/1255291', 'score_id': '1255291', 'title': 'ECHO Piano Adaptation [Gumi] (Easy version)', 'author': 'jazzermazzer99', 'parts': '1 part', 'pages': '7 pages', 'duration': '03:36', 'views': '14,445 views'}, {'link': 'https://musescore.com/user/7602746/scores/2834521', 'score_id': '2834521', 'title': \"Tag, you're it - Melanie Martinez, Easy Piano Version\", 'author': 'neldr', 'parts': '1 part', 'pages': '4 pages', 'duration': '03', 'views': '14,072 views'}, {'link': 'https://musescore.com/user/8264266/scores/3285851', 'score_id': '3285851', 'title': 'Screen - Twenty One Pilots', 'author': 'Elephantlyre', 'parts': '1 part', 'pages': '1 page', 'duration': '00:48', 'views': '13,679 views'}, {'link': 'https://musescore.com/user/10813951/scores/2367736', 'score_id': '2367736', 'title': 'Forbidden Friendship (How to Train your Dragon) - Easy Piano', 'author': 'rekjazzblues462', 'parts': '1 part', 'pages': '4 pages', 'duration': '02:50', 'views': '13,617 views'}, {'link': 'https://musescore.com/user/1218931/scores/742741', 'score_id': '742741', 'title': \"Ukyo's melody - Amnesia Anime Easy Version\", 'author': 'Darkummy', 'parts': '1 part', 'pages': '1 page', 'duration': '01:22', 'views': '13,274 views'}, {'link': 'https://musescore.com/user/10479591/scores/2291201', 'score_id': '2291201', 'title': 'Undertale- His theme Solo', 'author': 'SkiftyKitty', 'parts': '1 part', 'pages': '2 pages', 'duration': '01:52', 'views': '12,866 views'}, {'link': 'https://musescore.com/user/4201621/scores/2057971', 'score_id': '2057971', 'title': \"Rey's Theme (easy piano) from Star Wars: The Force Awakens\", 'author': 'thistof', 'parts': '1 part', 'pages': '1 page', 'duration': '00:52', 'views': '11,817 views'}, {'link': 'https://musescore.com/user/16006641/scores/3582441', 'score_id': '3582441', 'title': 'Taboo Main Theme Tune - Easy Piano Cover Tutorial', 'author': 'PianoChannel', 'parts': '1 part', 'pages': '2 pages', 'duration': '01:58', 'views': '11,690 views'}, {'link': 'https://musescore.com/user/2466621/scores/2886681', 'score_id': '2886681', 'title': 'Super Mario Bros. 3 Medley', 'author': 'Torby Brand', 'parts': '1 part', 'pages': '3 pages', 'duration': '02:55', 'views': '11,607 views'}, {'link': 'https://musescore.com/user/204621/scores/264596', 'score_id': '264596', 'title': 'A Love Story', 'author': 'Rivergrove', 'parts': '1 part', 'pages': '2 pages', 'duration': '02:07', 'views': '11,455 views'}, {'link': 'https://musescore.com/user/18793396/scores/4143521', 'score_id': '4143521', 'title': 'Lit. Koe no Katachi-Piano Solo Easy', 'author': 'Uhara', 'parts': '1 part', 'pages': '2 pages', 'duration': '02:20', 'views': '11,320 views'}, {'link': 'https://musescore.com/user/28954080/scores/5128232', 'score_id': '5128232', 'title': 'Easy Partition Piano Titanic - My Heart Will Go on', 'author': 'sim10', 'parts': '1 part', 'pages': '3 pages', 'duration': '03:31', 'views': '10,744 views'}, {'link': 'https://musescore.com/user/7929296/scores/5016450', 'score_id': '5016450', 'title': 'Perfect Ed Sheeran Easy Piano', 'author': 'Nicki_Allan', 'parts': '1 part', 'pages': '1 page', 'duration': '00:52', 'views': '10,590 views'}, {'link': 'https://musescore.com/user/28999399/scores/5131987', 'score_id': '5131987', 'title': 'Faded Alan Walker Piano EASY Pablo', 'author': 'Mora288', 'parts': '1 part', 'pages': '3 pages', 'duration': '03:15', 'views': '10,380 views'}, {'link': 'https://musescore.com/user/28374139/scores/5135672', 'score_id': '5135672', 'title': 'Thriller piano easy', 'author': 'Javier Anton Quintillan', 'parts': '1 part', 'pages': '2 pages', 'duration': '01', 'views': '10,348 views'}, {'link': 'https://musescore.com/user/8555491/scores/5033022', 'score_id': '5033022', 'title': 'Harry Potter Theme Hedwigs Theme', 'author': 'bourniplus', 'parts': '1 part', 'pages': '1 page', 'duration': '00:50', 'views': '10,316 views'}, {'link': 'https://musescore.com/user/3164761/scores/5043896', 'score_id': '5043896', 'title': 'Ed Sheeran - Perfect (easy piano version with chord symbols)', 'author': 'Pferseer', 'parts': '1 part', 'pages': '3 pages', 'duration': '01:20', 'views': '9,897 views'}, {'link': 'https://musescore.com/user/27705818/scores/4912156', 'score_id': '4912156', 'title': 'City of Stars (from \"La La Land\")', 'author': 'Ignacio Hernández 2', 'parts': '1 part', 'pages': '3 pages', 'duration': '02:02', 'views': '9,615 views'}, {'link': 'https://musescore.com/user/4098361/scores/1152851', 'score_id': '1152851', 'title': 'Pennywise`s Theme', 'author': 'Tokarevskaya', 'parts': '1 part', 'pages': '2 pages', 'duration': '00:58', 'views': '9,449 views'}, {'link': 'https://musescore.com/user/5947726/scores/1631766', 'score_id': '1631766', 'title': 'Inside Out Main Theme (Easy Piano)', 'author': 'pixarfan2003', 'parts': '1 part', 'pages': '1 page', 'duration': '00:36', 'views': '9,337 views'}, {'link': 'https://musescore.com/user/8789831/scores/5024549', 'score_id': '5024549', 'title': 'Sad Song We The Kings (easy piano, C Major)', 'author': 'Chieh-Han Chen', 'parts': '1 part', 'pages': '3 pages', 'duration': '02:33', 'views': '9,156 views'}, {'link': 'https://musescore.com/user/8101086/scores/2652266', 'score_id': '2652266', 'title': 'Prélude - Cello Suite No.1 in G Major (BWV 1007) J.S.Bach - Transcribed for Easy Piano', 'author': 'FAW', 'parts': '1 part', 'pages': '2 pages', 'duration': '01:48', 'views': '9,112 views'}, {'link': 'https://musescore.com/user/24701816/scores/5096471', 'score_id': '5096471', 'title': 'Hit the Road Jack (easy piano)', 'author': 'SvetlanaZemlyanaya', 'parts': '1 part', 'pages': '2 pages', 'duration': '01:29', 'views': '9,102 views'}, {'link': 'https://musescore.com/user/800471/scores/3212196', 'score_id': '3212196', 'title': 'Laurent Aknin - Le choix du Coeur - Easy Piano solo', 'author': 'afsg2410', 'parts': '1 part', 'pages': '3 pages', 'duration': '03:05', 'views': '9,017 views'}, {'link': 'https://musescore.com/user/12492311/scores/3059706', 'score_id': '3059706', 'title': 'Deck the Halls!', 'author': 'daisyfrodo99', 'parts': '1 part', 'pages': '1 page', 'duration': '00:51', 'views': '8,743 views'}, {'link': 'https://musescore.com/user/4075641/scores/4226066', 'score_id': '4226066', 'title': 'North - Sleeping at Last', 'author': 'Martínez José-Daniel', 'parts': '1 part', 'pages': '4 pages', 'duration': '04:11', 'views': '8,557 views'}, {'link': 'https://musescore.com/user/6941131/scores/2369316', 'score_id': '2369316', 'title': 'Highscore | Panda Eyes and Teminite | Piano (Easy)', 'author': 'Enderman522', 'parts': '1 part', 'pages': '6 pages', 'duration': '03:58', 'views': '8,398 views'}, {'link': 'https://musescore.com/user/6323916/scores/2302591', 'score_id': '2302591', 'title': 'Proud of You', 'author': 'chrisliaclive', 'parts': '1 part', 'pages': '2 pages', 'duration': '01:20', 'views': '8,204 views'}, {'link': 'https://musescore.com/user/5040786/scores/3838601', 'score_id': '3838601', 'title': \"History Maker medium-easy piano sheet from 'YURI on Ice!!!'\", 'author': 'FlatMelon', 'parts': '1 part', 'pages': '2 pages', 'duration': '01:29', 'views': '8,011 views'}, {'link': 'https://musescore.com/user/800471/scores/5072357', 'score_id': '5072357', 'title': 'Adele - Skyfall (Piano solo/Words)', 'author': 'afsg2410', 'parts': '1 part', 'pages': '4 pages', 'duration': '03:33', 'views': '7,739 views'}, {'link': 'https://musescore.com/user/28667395/scores/5086093', 'score_id': '5086093', 'title': 'Faded - easy piano tutorial', 'author': 'Radek Šiman', 'parts': '1 part', 'pages': '3 pages', 'duration': '04:16', 'views': '7,714 views'}, {'link': 'https://musescore.com/user/29319047/scores/5186176', 'score_id': '5186176', 'title': 'Piano Man (Easy)', 'author': 'JuanM04', 'parts': '1 part', 'pages': '2 pages', 'duration': '01:03', 'views': '7,701 views'}, {'link': 'https://musescore.com/user/36278/scores/4794450', 'score_id': '4794450', 'title': 'Command & Conquer Red Alert 3 - Soviet March (easy piano solo)', 'author': 'David Charlier', 'parts': '1 part', 'pages': '4 pages', 'duration': '02:44', 'views': '7,646 views'}, {'link': 'https://musescore.com/user/22801396/scores/4437851', 'score_id': '4437851', 'title': 'Ophelia', 'author': 'lia clark', 'parts': '1 part', 'pages': '4 pages', 'duration': '02:25', 'views': '7,629 views'}, {'link': 'https://musescore.com/user/14484861/scores/3716956', 'score_id': '3716956', 'title': 'Turkish March Easy', 'author': 'ioannap004', 'parts': '1 part', 'pages': '2 pages', 'duration': '00:41', 'views': '7,491 views'}, {'link': 'https://musescore.com/user/15467216/scores/5014220', 'score_id': '5014220', 'title': 'Georgiana (Pride and Prejudice)', 'author': 'slytherinviolinist', 'parts': '1 part', 'pages': '3 pages', 'duration': '01:29', 'views': '7,268 views'}, {'link': 'https://musescore.com/user/16006641/scores/3646216', 'score_id': '3646216', 'title': 'Westworld Main Theme Tune - Easy Piano Tutorial', 'author': 'PianoChannel', 'parts': '1 part', 'pages': '2 pages', 'duration': '01:34', 'views': '7,164 views'}, {'link': 'https://musescore.com/user/12116106/scores/4185506', 'score_id': '4185506', 'title': 'Roar - Katy Perry', 'author': 'roddy1977', 'parts': '1 part', 'pages': '2 pages', 'duration': '01:54', 'views': '6,980 views'}, {'link': 'https://musescore.com/user/2368766/scores/823816', 'score_id': '823816', 'title': \"That's Christmas to me - Easy piano\", 'author': 'Katka Horáková', 'parts': '1 part', 'pages': '5 pages', 'duration': '04:22', 'views': '6,927 views'}, {'link': 'https://musescore.com/user/8236936/scores/2867946', 'score_id': '2867946', 'title': 'Technicolour Beat - Oh Wonder', 'author': 'Hellowmello', 'parts': '1 part', 'pages': '2 pages', 'duration': '03:01', 'views': '6,819 views'}, {'link': 'https://musescore.com/user/800471/scores/4296546', 'score_id': '4296546', 'title': 'Hello - Lionel Richie - Easy piano version', 'author': 'afsg2410', 'parts': '1 part', 'pages': '3 pages', 'duration': '02:15', 'views': '6,793 views'}, {'link': 'https://musescore.com/user/204621/scores/313016', 'score_id': '313016', 'title': 'Wedding March (In Bb)', 'author': 'Rivergrove', 'parts': '1 part', 'pages': '1 page', 'duration': '01:32', 'views': '6,759 views'}, {'link': 'https://musescore.com/user/15256391/scores/5164266', 'score_id': '5164266', 'title': 'Lord of the Rings (\"In Dreams\") Easy Piano', 'author': 'Elizabeth Westlund', 'parts': '1 part', 'pages': '2 pages', 'duration': '01:20', 'views': '6,695 views'}, {'link': 'https://musescore.com/user/85639/scores/379716', 'score_id': '379716', 'title': 'Read All About it , Part III', 'author': 'r.fuchs', 'parts': '1 part', 'pages': '2 pages', 'duration': '03:20', 'views': '6,378 views'}, {'link': 'https://musescore.com/user/2178006/scores/2633226', 'score_id': '2633226', 'title': 'Kygo: Firestone', 'author': 'Kickibs', 'parts': '1 part', 'pages': '3 pages', 'duration': '02:07', 'views': '6,296 views'}, {'link': 'https://musescore.com/user/7344496/scores/2895321', 'score_id': '2895321', 'title': 'Spring -easy-', 'author': 'Linh Linh awesome', 'parts': '1 part', 'pages': '1 page', 'duration': '01:22', 'views': '6,294 views'}, {'link': 'https://musescore.com/user/1030961/scores/5156181', 'score_id': '5156181', 'title': '\"River Flows In You\" - Yiruma', 'author': 'yaybirds', 'parts': '1 part', 'pages': '2 pages', 'duration': '01:56', 'views': '6,281 views'}, {'link': 'https://musescore.com/user/17953361/scores/4863113', 'score_id': '4863113', 'title': 'Remember Me( piano easy version for student )', 'author': 'Yts Chuen', 'parts': '1 part', 'pages': '1 page', 'duration': '01:07', 'views': '6,046 views'}, {'link': 'https://musescore.com/user/5998091/scores/2023281', 'score_id': '2023281', 'title': 'Scarborough fair', 'author': 'Patrick Christens', 'parts': '1 part', 'pages': '1 page', 'duration': '01:24', 'views': '5,979 views'}, {'link': 'https://musescore.com/user/7860971/scores/2198276', 'score_id': '2198276', 'title': 'A Whiter Shade of Pale', 'author': 'Alex Stevens', 'parts': '1 part', 'pages': '2 pages', 'duration': '01:24', 'views': '5,937 views'}, {'link': 'https://musescore.com/user/5947726/scores/1647976', 'score_id': '1647976', 'title': 'Where No One Goes (Easy Piano) from How to Train Your Dragon 2', 'author': 'pixarfan2003', 'parts': '1 part', 'pages': '8 pages', 'duration': '03:06', 'views': '5,733 views'}]\n"
     ]
    },
    {
     "name": "stderr",
     "output_type": "stream",
     "text": [
      "\n"
     ]
    }
   ],
   "source": [
    "if not json_file.exists():\n",
    "    links = []\n",
    "    for page in tqdm(range(1,100), total=100):\n",
    "        page = requests.get(url_default+str(page)) # https://musescore.com/hub/piano?page=1,2,3,4,5,...,10\n",
    "        tree = html.fromstring(page.content)\n",
    "\n",
    "        articles = tree.xpath(\"//article[@role='article']\")\n",
    "\n",
    "        links.extend([get_data(a) for a in articles])\n",
    "\n",
    "#         sleep(randint(1,4))\n",
    "    with open(json_file, 'w') as fp:\n",
    "        json.dump(links, fp)\n",
    "print(links[:100])"
   ]
  },
  {
   "cell_type": "markdown",
   "metadata": {},
   "source": [
    "# Scrape links found"
   ]
  },
  {
   "cell_type": "markdown",
   "metadata": {},
   "source": [
    "### Musical Music Lib"
   ]
  },
  {
   "cell_type": "code",
   "execution_count": 12,
   "metadata": {},
   "outputs": [],
   "source": [
    "\n",
    "class MuseScoreException(Exception):\n",
    "    pass\n",
    "\n",
    "class InvalidFileExtension(MuseScoreException):\n",
    "    pass\n",
    "\n",
    "class InvalidScoreID(MuseScoreException):\n",
    "    pass\n",
    "\n",
    "class InvalidCredentials(MuseScoreException):\n",
    "    pass\n",
    "\n",
    "class InvalidSearchSort(MuseScoreException):\n",
    "    pass"
   ]
  },
  {
   "cell_type": "code",
   "execution_count": 13,
   "metadata": {},
   "outputs": [],
   "source": [
    "import urllib\n",
    "import urllib.request\n",
    "\n",
    "\n",
    "import bs4\n",
    "import requests\n",
    "\n",
    "class MusicalMusic:\n",
    "    \"\"\"Musescore actions requiring an account.\"\"\"\n",
    "\n",
    "    def __init__(self, username, password):\n",
    "        self.username = username\n",
    "        url = \"https://musescore.com/user/login\"\n",
    "        r = requests.get(url)\n",
    "        soup = bs4.BeautifulSoup(r.text, \"html.parser\")\n",
    "        csrf = soup.find(\"meta\", {\"name\": \"csrf-token\"})[\"content\"]\n",
    "        url = \"https://musescore.com/user/auth/login/process\"\n",
    "        cookies = {\n",
    "            \"mu_browser_uni\": r.cookies['mu_browser_uni'],\n",
    "            \"_csrf\": r.cookies[\"_csrf\"]\n",
    "        }\n",
    "        data = {\n",
    "          \"username\": username,\n",
    "          \"password\": password,\n",
    "          \"_csrf\": csrf,\n",
    "          \"op\": \"Log in\"\n",
    "        }\n",
    "        try:\n",
    "            mu_user = requests.post(url,\n",
    "                                    data=data,\n",
    "                                    cookies=cookies,\n",
    "                                    allow_redirects=False,\n",
    "                                    ).cookies[\"mu_user_new\"]\n",
    "        except KeyError as e:\n",
    "            raise InvalidCredentials(\n",
    "                \"Please check your username and password!\") from e\n",
    "\n",
    "        mu_browser_uni = r.cookies['mu_browser_uni']\n",
    "\n",
    "        self.mu_browser_uni = mu_browser_uni\n",
    "        self.mu_user = mu_user\n",
    "\n",
    "    def retrieve(self, id, format=\"pdf\"):\n",
    "        \"\"\"Retrieves Musescore data in bytes\"\"\"\n",
    "\n",
    "        if format not in [\"mp3\", \"pdf\", \"mid\", \"mxl\", \"mscz\"]:\n",
    "            raise InvalidFileExtension(\"Must be mp3, pdf, mid, mxl, or mscz.\")\n",
    "        newlink = f\"https://musescore.com/score/{id}/download/{format}\"\n",
    "        cookies = {\"mu_browser_uni\": self.mu_browser_uni,\n",
    "                   \"mu_user_new\": self.mu_user}\n",
    "        bytes = requests.get(newlink, cookies=cookies, verify=False)\n",
    "        if bytes.status_code != 200:\n",
    "            raise InvalidScoreID(str(bytes.status_code))\n",
    "        return bytes.content\n",
    "\n",
    "    def download(self, id, filename, format=\"mp3\", proxy=None):\n",
    "        if format not in [\"mp3\", \"pdf\", \"mid\", \"mxl\", \"mscz\"]:\n",
    "            raise InvalidFileExtension(\"Must be mp3, pdf, mid, mxl, or mscz.\")\n",
    "        newlink = f\"https://musescore.com/score/{id}/download/{format}\"\n",
    "        if proxy:\n",
    "            proxy_support = urllib.request.ProxyHandler({'https' : proxy})\n",
    "            opener = urllib.request.build_opener(proxy_support)\n",
    "        else: opener = urllib.request.build_opener()\n",
    "            \n",
    "        cookieString = f\"mu_browser_uni={self.mu_browser_uni};\" \\\n",
    "                        f\"mu_user_new={self.mu_user}\"\n",
    "        opener.addheaders = [(\"cookie\", cookieString)]\n",
    "        urllib.request.install_opener(opener)\n",
    "        try:\n",
    "            urllib.request.urlretrieve(newlink, filename)\n",
    "        except urllib.error.HTTPError as e:\n",
    "            raise e\n"
   ]
  },
  {
   "cell_type": "markdown",
   "metadata": {},
   "source": [
    "### Trying proxy"
   ]
  },
  {
   "cell_type": "markdown",
   "metadata": {},
   "source": [
    "https://codelike.pro/create-a-crawler-with-rotating-ip-proxy-in-python/"
   ]
  },
  {
   "cell_type": "code",
   "execution_count": 14,
   "metadata": {},
   "outputs": [],
   "source": [
    "from urllib.request import Request, urlopen\n",
    "from bs4 import BeautifulSoup\n",
    "from fake_useragent import UserAgent\n",
    "import random\n",
    "\n",
    "ua = UserAgent() # From here we generate a random user agent\n",
    "proxies = [] # Will contain proxies [ip, port]"
   ]
  },
  {
   "cell_type": "code",
   "execution_count": 15,
   "metadata": {},
   "outputs": [],
   "source": [
    "# Main function\n",
    "  # Retrieve latest proxies\n",
    "proxies_req = Request('https://www.sslproxies.org/')\n",
    "proxies_req.add_header('User-Agent', ua.random)\n",
    "proxies_doc = urlopen(proxies_req).read().decode('utf8')\n",
    "\n",
    "soup = BeautifulSoup(proxies_doc, 'html.parser')\n",
    "proxies_table = soup.find(id='proxylisttable')\n",
    "\n",
    "# Save proxies in the array\n",
    "for row in proxies_table.tbody.find_all('tr'):\n",
    "    proxies.append({\n",
    "      'ip':   row.find_all('td')[0].string,\n",
    "      'port': row.find_all('td')[1].string\n",
    "    })"
   ]
  },
  {
   "cell_type": "markdown",
   "metadata": {},
   "source": [
    "### More proxies\n",
    "\n",
    "https://github.com/constverum/ProxyBroker"
   ]
  },
  {
   "cell_type": "code",
   "execution_count": 16,
   "metadata": {},
   "outputs": [
    {
     "name": "stdout",
     "output_type": "stream",
     "text": [
      "Found proxy: <Proxy FR 0.15s [HTTPS] 54.39.97.250:3128>\n",
      "Found proxy: <Proxy EC 0.28s [HTTPS] 186.46.220.117:80>\n",
      "Found proxy: <Proxy MX 0.32s [HTTPS] 187.216.93.20:53281>\n",
      "Found proxy: <Proxy US 0.33s [HTTPS] 173.249.0.209:3128>\n",
      "Found proxy: <Proxy DE 0.35s [HTTPS] 94.130.126.94:8008>\n",
      "Found proxy: <Proxy JP 0.36s [HTTPS] 160.16.52.185:3128>\n",
      "Found proxy: <Proxy SK 0.38s [HTTPS] 185.152.112.18:37900>\n",
      "Found proxy: <Proxy RU 0.36s [HTTPS] 94.242.59.245:1448>\n",
      "Found proxy: <Proxy PL 0.41s [HTTPS] 78.11.118.157:3128>\n",
      "Found proxy: <Proxy RU 0.38s [HTTPS] 94.242.59.135:1448>\n",
      "Found proxy: <Proxy RU 0.39s [HTTPS] 82.138.23.141:3128>\n",
      "Found proxy: <Proxy BR 0.40s [HTTPS] 200.255.122.170:8080>\n",
      "Found proxy: <Proxy SE 0.43s [HTTPS] 46.246.38.90:3128>\n",
      "Found proxy: <Proxy RU 0.44s [HTTPS] 185.41.112.29:57190>\n",
      "Found proxy: <Proxy PL 0.45s [HTTPS] 91.218.63.196:53281>\n",
      "Found proxy: <Proxy -- 0.45s [HTTPS] 85.209.163.68:8080>\n",
      "Found proxy: <Proxy US 0.48s [HTTPS] 68.183.180.184:8080>\n",
      "Found proxy: <Proxy UA 0.45s [HTTPS] 5.58.243.194:44007>\n",
      "Found proxy: <Proxy US 0.48s [HTTPS] 157.230.33.37:1111>\n",
      "Found proxy: <Proxy CN 0.49s [HTTPS] 60.10.2.78:3128>\n",
      "Found proxy: <Proxy IT 0.53s [HTTPS] 109.70.201.97:53517>\n",
      "Found proxy: <Proxy SG 0.53s [HTTPS] 128.199.168.221:31330>\n",
      "Found proxy: <Proxy ID 0.53s [HTTPS] 118.99.105.226:8080>\n",
      "Found proxy: <Proxy RU 0.50s [HTTPS] 176.32.128.247:53281>\n",
      "Found proxy: <Proxy SG 0.54s [HTTPS] 128.199.236.36:31330>\n",
      "Found proxy: <Proxy VN 0.55s [HTTPS] 117.2.165.12:8080>\n",
      "Found proxy: <Proxy HK 0.56s [HTTPS] 210.0.128.58:8080>\n",
      "Found proxy: <Proxy ID 0.59s [HTTPS] 160.19.224.51:8080>\n",
      "Found proxy: <Proxy BR 0.64s [HTTPS] 186.226.172.170:23500>\n",
      "Found proxy: <Proxy RU 0.64s [HTTPS] 95.31.252.16:57019>\n",
      "Found proxy: <Proxy EC 0.65s [HTTPS] 190.152.149.114:40589>\n",
      "Found proxy: <Proxy RU 0.65s [HTTPS] 176.196.90.135:55638>\n",
      "Found proxy: <Proxy RU 0.67s [HTTPS] 82.114.241.138:8080>\n",
      "Found proxy: <Proxy AO 0.64s [HTTPS] 197.216.2.9:8080>\n",
      "Found proxy: <Proxy RU 0.71s [HTTPS] 195.208.172.70:8080>\n",
      "Found proxy: <Proxy LV 0.71s [HTTPS] 81.198.119.241:42183>\n",
      "Found proxy: <Proxy ID 0.69s [HTTPS] 101.255.115.139:3128>\n",
      "Found proxy: <Proxy MW 0.72s [HTTPS] 41.217.219.49:52669>\n",
      "Found proxy: <Proxy CL 0.74s [HTTPS] 190.215.117.50:53281>\n",
      "Found proxy: <Proxy AL 0.74s [HTTPS] 79.106.35.253:8080>\n",
      "Found proxy: <Proxy RU 0.75s [HTTPS] 95.79.36.55:44861>\n",
      "Found proxy: <Proxy TH 0.75s [HTTPS] 1.20.100.165:61085>\n",
      "Found proxy: <Proxy ID 0.77s [HTTPS] 36.70.176.180:8080>\n",
      "Found proxy: <Proxy CN 0.80s [HTTPS] 117.186.214.74:9999>\n",
      "Found proxy: <Proxy BR 0.81s [HTTPS] 186.249.213.95:37960>\n",
      "Found proxy: <Proxy IQ 0.81s [HTTPS] 213.32.253.165:52905>\n",
      "Found proxy: <Proxy RU 0.82s [HTTPS] 194.9.26.243:38391>\n",
      "Found proxy: <Proxy TH 0.85s [HTTPS] 118.175.226.30:44552>\n",
      "Found proxy: <Proxy ID 0.85s [HTTPS] 103.31.45.169:57655>\n",
      "Found proxy: <Proxy CZ 0.87s [HTTPS] 78.156.48.10:48665>\n",
      "Found proxy: <Proxy RU 0.87s [HTTPS] 128.68.160.16:41654>\n",
      "Found proxy: <Proxy RU 0.84s [HTTPS] 46.16.226.10:8080>\n",
      "Found proxy: <Proxy KE 0.88s [HTTPS] 41.215.74.234:53666>\n",
      "Found proxy: <Proxy ID 0.88s [HTTPS] 36.91.45.10:34191>\n",
      "Found proxy: <Proxy ID 0.91s [HTTPS] 202.43.190.11:8118>\n",
      "Found proxy: <Proxy RU 0.93s [HTTPS] 145.255.28.2:55923>\n",
      "Found proxy: <Proxy BR 0.97s [HTTPS] 187.111.160.8:42579>\n",
      "Found proxy: <Proxy RU 0.98s [HTTPS] 77.232.153.248:60950>\n",
      "Found proxy: <Proxy ID 0.96s [HTTPS] 36.67.27.29:56125>\n",
      "Found proxy: <Proxy DE 1.03s [HTTPS] 95.88.12.230:3128>\n",
      "Found proxy: <Proxy UA 1.03s [HTTPS] 93.76.211.56:48374>\n",
      "Found proxy: <Proxy ID 1.01s [HTTPS] 118.99.97.54:63141>\n",
      "Found proxy: <Proxy NZ 1.04s [HTTPS] 202.49.183.168:46110>\n",
      "Found proxy: <Proxy CN 1.04s [HTTPS] 103.20.32.247:39594>\n",
      "Found proxy: <Proxy BG 1.05s [HTTPS] 31.211.130.169:23500>\n",
      "Found proxy: <Proxy TH 1.05s [HTTPS] 182.52.51.53:35885>\n",
      "Found proxy: <Proxy JP 0.96s [HTTPS] 61.118.35.94:55725>\n",
      "Found proxy: <Proxy CA 1.09s [HTTPS] 70.28.43.61:8080>\n",
      "Found proxy: <Proxy BR 1.09s [HTTPS] 200.0.46.50:37232>\n",
      "Found proxy: <Proxy IN 0.98s [HTTPS] 103.21.160.156:48710>\n",
      "Found proxy: <Proxy RU 0.59s [HTTPS] 185.129.57.126:32266>\n",
      "Found proxy: <Proxy BR 0.69s [HTTPS] 168.205.250.239:53281>\n",
      "Found proxy: <Proxy RU 1.04s [HTTPS] 46.45.19.138:53281>\n",
      "Found proxy: <Proxy IN 1.17s [HTTPS] 43.225.164.59:52480>\n",
      "Found proxy: <Proxy ID 1.17s [HTTPS] 103.30.181.187:8080>\n",
      "Found proxy: <Proxy GB 0.90s [HTTPS] 5.148.128.44:80>\n",
      "Found proxy: <Proxy MZ 1.04s [HTTPS] 196.3.97.86:23500>\n",
      "Found proxy: <Proxy ID 1.20s [HTTPS] 103.245.19.222:53281>\n",
      "Found proxy: <Proxy EC 1.23s [HTTPS] 181.112.57.34:46757>\n",
      "Found proxy: <Proxy BR 0.45s [HTTPS] 186.211.160.178:36756>\n",
      "Found proxy: <Proxy MX 1.28s [HTTPS] 189.195.132.86:43286>\n",
      "Found proxy: <Proxy ID 1.26s [HTTPS] 203.130.205.234:51424>\n",
      "Found proxy: <Proxy UA 1.29s [HTTPS] 95.215.95.126:32074>\n",
      "Found proxy: <Proxy CO 1.30s [HTTPS] 181.225.109.194:80>\n",
      "Found proxy: <Proxy TH 1.32s [HTTPS] 1.10.189.7:40518>\n",
      "Found proxy: <Proxy FR 0.21s [HTTPS] 217.182.120.165:1080>\n",
      "Found proxy: <Proxy EC 1.37s [HTTPS] 190.11.15.14:53281>\n",
      "Found proxy: <Proxy EC 1.41s [HTTPS] 186.42.252.46:57367>\n",
      "Found proxy: <Proxy AE 1.43s [HTTPS] 185.132.179.109:8080>\n",
      "Found proxy: <Proxy RU 1.25s [HTTPS] 89.189.159.214:42530>\n",
      "Found proxy: <Proxy TH 1.48s [HTTPS] 113.53.82.92:39726>\n",
      "Found proxy: <Proxy AE 1.49s [HTTPS] 185.132.178.141:8080>\n",
      "Found proxy: <Proxy -- 1.46s [HTTPS] 102.176.160.29:34588>\n",
      "Found proxy: <Proxy RU 0.47s [HTTPS] 92.255.174.56:35897>\n",
      "Found proxy: <Proxy RU 1.55s [HTTPS] 95.140.19.34:40434>\n",
      "Found proxy: <Proxy AR 1.56s [HTTPS] 131.72.205.94:59086>\n",
      "Found proxy: <Proxy TH 1.57s [HTTPS] 1.20.100.100:40734>\n",
      "Found proxy: <Proxy ID 1.58s [HTTPS] 103.3.46.12:8080>\n",
      "Found proxy: <Proxy ID 1.59s [HTTPS] 220.247.174.13:54840>\n",
      "Found proxy: <Proxy BR 0.90s [HTTPS] 177.66.255.175:57090>\n",
      "Found proxy: <Proxy KH 1.62s [HTTPS] 116.212.159.2:8080>\n",
      "Found proxy: <Proxy TH 0.97s [HTTPS] 182.52.87.191:8080>\n",
      "Found proxy: <Proxy BR 0.94s [HTTPS] 186.249.23.241:8080>\n",
      "Found proxy: <Proxy BR 0.48s [HTTPS] 187.44.177.178:41178>\n",
      "Found proxy: <Proxy ID 0.49s [HTTPS] 36.89.106.247:45302>\n",
      "Found proxy: <Proxy ID 1.76s [HTTPS] 116.193.172.237:55066>\n",
      "Found proxy: <Proxy UA 0.91s [HTTPS] 194.29.60.48:45416>\n",
      "Found proxy: <Proxy US 0.19s [HTTPS] 3.17.175.232:3128>\n",
      "Found proxy: <Proxy MX 1.80s [HTTPS] 45.5.94.161:56299>\n",
      "Found proxy: <Proxy RU 1.14s [HTTPS] 212.5.107.81:56481>\n",
      "Found proxy: <Proxy IT 1.83s [HTTPS] 185.72.41.102:60285>\n",
      "Found proxy: <Proxy BD 0.67s [HTTPS] 123.200.31.226:53281>\n",
      "Found proxy: <Proxy CO 1.05s [HTTPS] 181.129.147.26:32945>\n",
      "Found proxy: <Proxy RU 1.88s [HTTPS] 37.200.121.50:38775>\n",
      "Found proxy: <Proxy CO 0.50s [HTTPS] 190.248.68.18:8080>\n",
      "Found proxy: <Proxy FR 1.61s [HTTPS] 134.119.205.253:8080>\n",
      "Found proxy: <Proxy TH 0.99s [HTTPS] 118.174.233.66:48902>\n",
      "Found proxy: <Proxy SG 0.47s [HTTPS] 139.99.104.240:8888>\n",
      "Found proxy: <Proxy KE 0.63s [HTTPS] 41.139.159.34:51589>\n",
      "Found proxy: <Proxy LV 0.50s [HTTPS] 80.232.240.198:8080>\n",
      "Found proxy: <Proxy ID 1.91s [HTTPS] 203.24.76.57:32064>\n",
      "Found proxy: <Proxy EC 1.20s [HTTPS] 190.52.193.97:80>\n",
      "Found proxy: <Proxy BR 1.94s [HTTPS] 186.250.96.1:8080>\n",
      "Found proxy: <Proxy IN 0.89s [HTTPS] 144.48.176.38:34878>\n",
      "Found proxy: <Proxy US 0.50s [HTTPS] 35.240.224.241:3128>\n",
      "Found proxy: <Proxy ID 0.47s [HTTPS] 222.124.219.202:8080>\n",
      "Found proxy: <Proxy KE 2.04s [HTTPS] 197.254.4.130:34316>\n",
      "Found proxy: <Proxy RU 2.07s [HTTPS] 159.253.168.249:53281>\n",
      "Found proxy: <Proxy TH 1.35s [HTTPS] 182.53.197.22:46470>\n",
      "Found proxy: <Proxy ID 2.10s [HTTPS] 180.250.182.50:8080>\n",
      "Found proxy: <Proxy FR 0.22s [HTTPS] 62.210.37.107:54321>\n",
      "Found proxy: <Proxy KH 0.48s [HTTPS] 203.189.153.24:80>\n",
      "Found proxy: <Proxy PL 1.44s [HTTPS] 62.244.156.2:35540>\n",
      "Found proxy: <Proxy ID 0.88s [HTTPS] 103.80.236.109:53281>\n",
      "Found proxy: <Proxy TH 0.69s [HTTPS] 1.179.183.86:8080>\n",
      "Found proxy: <Proxy MX 0.68s [HTTPS] 187.163.36.54:8080>\n",
      "Found proxy: <Proxy US 0.40s [HTTPS] 173.249.43.105:3128>\n",
      "Found proxy: <Proxy -- 1.39s [HTTPS] 160.119.128.70:8080>\n",
      "Found proxy: <Proxy UA 1.73s [HTTPS] 46.33.253.29:53282>\n",
      "Found proxy: <Proxy BR 0.94s [HTTPS] 170.79.12.218:8080>\n",
      "Found proxy: <Proxy PL 0.35s [HTTPS] 212.182.25.89:3128>\n",
      "Found proxy: <Proxy BR 0.74s [HTTPS] 187.45.127.87:20183>\n",
      "Found proxy: <Proxy TH 1.37s [HTTPS] 1.2.169.49:36061>\n",
      "Found proxy: <Proxy BR 0.67s [HTTPS] 177.92.241.21:8080>\n"
     ]
    },
    {
     "name": "stdout",
     "output_type": "stream",
     "text": [
      "Found proxy: <Proxy BR 0.61s [HTTPS] 181.191.180.110:8080>\n",
      "Found proxy: <Proxy NL 0.28s [HTTPS] 176.56.236.158:3128>\n",
      "Found proxy: <Proxy ES 2.39s [HTTPS] 178.60.28.98:9999>\n",
      "Found proxy: <Proxy MX 2.41s [HTTPS] 200.66.94.147:8080>\n",
      "Found proxy: <Proxy PL 0.27s [HTTPS] 145.239.87.173:3128>\n",
      "Found proxy: <Proxy ID 0.48s [HTTPS] 139.255.25.83:3128>\n",
      "Found proxy: <Proxy -- 0.39s [HTTPS] 45.71.38.77:999>\n",
      "Found proxy: <Proxy CZ 2.50s [HTTPS] 85.207.44.10:53038>\n",
      "Found proxy: <Proxy ID 0.66s [HTTPS] 103.228.117.244:8080>\n",
      "Found proxy: <Proxy BR 0.69s [HTTPS] 138.219.223.166:3128>\n",
      "Found proxy: <Proxy IN 0.98s [HTTPS] 45.250.226.10:8080>\n",
      "Found proxy: <Proxy RU 2.15s [HTTPS] 176.196.84.138:51336>\n",
      "Found proxy: <Proxy TH 0.59s [HTTPS] 202.28.17.5:8080>\n",
      "Found proxy: <Proxy TH 2.58s [HTTPS] 180.180.156.35:37463>\n",
      "Found proxy: <Proxy RU 1.72s [HTTPS] 185.5.19.234:52975>\n",
      "Found proxy: <Proxy ID 1.45s [HTTPS] 103.76.15.138:47847>\n",
      "Found proxy: <Proxy BY 0.38s [HTTPS] 86.57.219.179:23500>\n",
      "Found proxy: <Proxy FR 2.66s [HTTPS] 178.32.80.234:8080>\n",
      "Found proxy: <Proxy KH 1.10s [HTTPS] 36.37.134.3:8080>\n",
      "Found proxy: <Proxy BR 2.66s [HTTPS] 177.10.249.230:57440>\n",
      "Found proxy: <Proxy RU 0.61s [HTTPS] 94.230.243.6:8080>\n",
      "Found proxy: <Proxy RU 2.20s [HTTPS] 92.38.45.56:57387>\n",
      "Found proxy: <Proxy BR 1.10s [HTTPS] 177.185.114.89:53281>\n",
      "Found proxy: <Proxy IN 0.57s [HTTPS] 103.39.246.210:3128>\n",
      "Found proxy: <Proxy PL 2.71s [HTTPS] 217.73.177.132:37641>\n",
      "Found proxy: <Proxy US 0.53s [HTTPS] 206.201.6.117:8080>\n",
      "Found proxy: <Proxy IN 1.10s [HTTPS] 117.254.217.238:8080>\n",
      "Found proxy: <Proxy BR 0.76s [HTTPS] 170.233.48.13:53281>\n",
      "Found proxy: <Proxy CL 0.49s [HTTPS] 200.111.182.6:443>\n",
      "Found proxy: <Proxy LT 0.29s [HTTPS] 45.125.66.131:54321>\n",
      "Found proxy: <Proxy BG 1.12s [HTTPS] 94.236.200.152:8080>\n",
      "Found proxy: <Proxy AL 1.41s [HTTPS] 185.186.81.50:8080>\n",
      "Found proxy: <Proxy US 0.18s [HTTPS] 184.105.143.66:3128>\n",
      "Found proxy: <Proxy RU 2.86s [HTTPS] 90.150.185.83:57771>\n",
      "Found proxy: <Proxy IT 0.25s [HTTPS] 80.211.147.181:3128>\n",
      "Found proxy: <Proxy US 0.47s [HTTPS] 47.75.229.228:3128>\n",
      "Found proxy: <Proxy RS 0.84s [HTTPS] 195.178.56.37:8080>\n",
      "Found proxy: <Proxy AT 0.96s [HTTPS] 212.186.133.22:80>\n",
      "Found proxy: <Proxy PS 0.63s [HTTPS] 213.6.77.118:8080>\n",
      "Found proxy: <Proxy IN 0.63s [HTTPS] 103.89.253.246:3128>\n",
      "Found proxy: <Proxy TH 0.91s [HTTPS] 1.179.181.149:8080>\n",
      "Found proxy: <Proxy DE 0.22s [HTTPS] 88.99.242.188:3128>\n",
      "Found proxy: <Proxy US 0.19s [HTTPS] 68.183.121.154:8080>\n",
      "Found proxy: <Proxy RU 1.62s [HTTPS] 91.103.214.106:53281>\n",
      "Found proxy: <Proxy TH 1.97s [HTTPS] 118.175.93.112:52693>\n",
      "Found proxy: <Proxy AL 1.11s [HTTPS] 178.132.220.241:8080>\n",
      "Found proxy: <Proxy BR 1.56s [HTTPS] 170.84.68.69:8080>\n",
      "Found proxy: <Proxy ID 3.05s [HTTPS] 115.124.89.36:8080>\n",
      "Found proxy: <Proxy AZ 0.46s [HTTPS] 134.19.218.94:3129>\n",
      "Found proxy: <Proxy ID 3.03s [HTTPS] 202.169.252.131:23500>\n",
      "Found proxy: <Proxy US 0.45s [HTTPS] 67.60.137.219:35979>\n",
      "Found proxy: <Proxy US 0.43s [HTTPS] 104.248.158.130:8080>\n",
      "Found proxy: <Proxy UA 2.02s [HTTPS] 193.16.247.132:53281>\n",
      "Found proxy: <Proxy NI 0.58s [HTTPS] 170.246.152.82:8080>\n",
      "Found proxy: <Proxy ID 0.59s [HTTPS] 202.169.239.66:8080>\n",
      "Found proxy: <Proxy BD 1.75s [HTTPS] 27.147.146.78:52220>\n"
     ]
    }
   ],
   "source": [
    "import asyncio\n",
    "from proxybroker import Broker\n",
    "\n",
    "more_proxies = []\n",
    "\n",
    "async def show(proxy_queue):\n",
    "    while True:\n",
    "        proxy = await proxy_queue.get()\n",
    "        if proxy is None: break\n",
    "        print('Found proxy: %s' % proxy)\n",
    "        more_proxies.append({ 'ip': proxy.host, 'port': proxy.port })\n",
    "\n",
    "proxy_queue = asyncio.Queue()\n",
    "broker = Broker(proxy_queue)\n",
    "tasks = await asyncio.gather(\n",
    "    broker.find(types=['HTTPS'], limit=200),\n",
    "    show(proxy_queue))"
   ]
  },
  {
   "cell_type": "markdown",
   "metadata": {},
   "source": [
    "### Random proxy"
   ]
  },
  {
   "cell_type": "code",
   "execution_count": 17,
   "metadata": {},
   "outputs": [],
   "source": [
    "all_proxies = proxies + more_proxies\n",
    "# all_proxies = more_proxies\n",
    "# Retrieve a random index proxy (we need the index to delete it if not working)\n",
    "def random_proxy():\n",
    "    return random.randint(0, len(all_proxies) - 1)\n",
    "\n",
    "proxy = None\n",
    "# # Choose a random proxy\n",
    "# proxy_index = random_proxy()\n",
    "# proxy = all_proxies[proxy_index]\n",
    "# proxy_url = proxy['ip'] + ':' + str(proxy['port']); proxy_url"
   ]
  },
  {
   "cell_type": "markdown",
   "metadata": {},
   "source": [
    "## Actual scraping"
   ]
  },
  {
   "cell_type": "code",
   "execution_count": 18,
   "metadata": {},
   "outputs": [],
   "source": [
    "invalid_ids = []"
   ]
  },
  {
   "cell_type": "code",
   "execution_count": 19,
   "metadata": {},
   "outputs": [],
   "source": [
    "deleted_proxies = []"
   ]
  },
  {
   "cell_type": "code",
   "execution_count": 20,
   "metadata": {},
   "outputs": [],
   "source": [
    "with open('accounts.json', 'r') as fp:\n",
    "    accounts = json.load(fp)\n",
    "\n",
    "instances = [MusicalMusic(username, password) for (username, password) in accounts]\n",
    "instance = None"
   ]
  },
  {
   "cell_type": "code",
   "execution_count": 37,
   "metadata": {},
   "outputs": [
    {
     "name": "stderr",
     "output_type": "stream",
     "text": [
      "\n",
      "\n",
      "\n",
      "\n",
      "\n",
      "\n",
      "  0%|          | 0/762 [00:00<?, ?it/s]\u001b[A\u001b[A\u001b[A\u001b[A\u001b[A\u001b[A"
     ]
    },
    {
     "name": "stdout",
     "output_type": "stream",
     "text": [
      "Downloading score id: 2109666\n"
     ]
    },
    {
     "name": "stderr",
     "output_type": "stream",
     "text": [
      "\n",
      "\n",
      "\n",
      "\n",
      "\n",
      "\n",
      " 73%|███████▎  | 553/762 [00:02<00:00, 254.34it/s]\u001b[A\u001b[A\u001b[A\u001b[A\u001b[A\u001b[A"
     ]
    },
    {
     "name": "stdout",
     "output_type": "stream",
     "text": [
      "Downloading score id: 1900301\n",
      "Downloading score id: 1826561\n",
      "Downloading score id: 5392562\n",
      "Downloading score id: 1839176\n",
      "Downloading score id: 5118647\n"
     ]
    },
    {
     "name": "stderr",
     "output_type": "stream",
     "text": [
      "\n",
      "\n",
      "\n",
      "\n",
      "\n",
      "\n",
      " 73%|███████▎  | 553/762 [00:13<00:00, 254.34it/s]\u001b[A\u001b[A\u001b[A\u001b[A\u001b[A\u001b[A\n",
      "\n",
      "\n",
      "\n",
      "\n",
      "\n",
      " 73%|███████▎  | 558/762 [00:16<02:50,  1.19it/s] \u001b[A\u001b[A\u001b[A\u001b[A\u001b[A\u001b[A"
     ]
    },
    {
     "name": "stdout",
     "output_type": "stream",
     "text": [
      "Downloading score id: 5006323\n"
     ]
    },
    {
     "name": "stderr",
     "output_type": "stream",
     "text": [
      "\n",
      "\n",
      "\n",
      "\n",
      "\n",
      "\n",
      " 73%|███████▎  | 559/762 [00:18<04:51,  1.43s/it]\u001b[A\u001b[A\u001b[A\u001b[A\u001b[A\u001b[A"
     ]
    },
    {
     "name": "stdout",
     "output_type": "stream",
     "text": [
      "Downloading score id: 5007206\n"
     ]
    },
    {
     "name": "stderr",
     "output_type": "stream",
     "text": [
      "\n",
      "\n",
      "\n",
      "\n",
      "\n",
      "\n",
      " 73%|███████▎  | 560/762 [00:20<05:01,  1.49s/it]\u001b[A\u001b[A\u001b[A\u001b[A\u001b[A\u001b[A"
     ]
    },
    {
     "name": "stdout",
     "output_type": "stream",
     "text": [
      "Downloading score id: 4928589\n"
     ]
    },
    {
     "name": "stderr",
     "output_type": "stream",
     "text": [
      "\n",
      "\n",
      "\n",
      "\n",
      "\n",
      "\n",
      " 74%|███████▎  | 561/762 [00:23<06:18,  1.88s/it]\u001b[A\u001b[A\u001b[A\u001b[A\u001b[A\u001b[A"
     ]
    },
    {
     "name": "stdout",
     "output_type": "stream",
     "text": [
      "Downloading score id: 5158849\n"
     ]
    },
    {
     "name": "stderr",
     "output_type": "stream",
     "text": [
      "\n",
      "\n",
      "\n",
      "\n",
      "\n",
      "\n",
      " 74%|███████▍  | 562/762 [00:26<07:04,  2.12s/it]\u001b[A\u001b[A\u001b[A\u001b[A\u001b[A\u001b[A"
     ]
    },
    {
     "name": "stdout",
     "output_type": "stream",
     "text": [
      "Downloading score id: 1573661\n"
     ]
    },
    {
     "name": "stderr",
     "output_type": "stream",
     "text": [
      "\n",
      "\n",
      "\n",
      "\n",
      "\n",
      "\n",
      " 74%|███████▍  | 563/762 [00:28<07:35,  2.29s/it]\u001b[A\u001b[A\u001b[A\u001b[A\u001b[A\u001b[A"
     ]
    },
    {
     "name": "stdout",
     "output_type": "stream",
     "text": [
      "Downloading score id: 1071121\n"
     ]
    },
    {
     "name": "stderr",
     "output_type": "stream",
     "text": [
      "\n",
      "\n",
      "\n",
      "\n",
      "\n",
      "\n",
      " 74%|███████▍  | 564/762 [00:31<08:24,  2.55s/it]\u001b[A\u001b[A\u001b[A\u001b[A\u001b[A\u001b[A"
     ]
    },
    {
     "name": "stdout",
     "output_type": "stream",
     "text": [
      "Downloading score id: 5363593\n"
     ]
    },
    {
     "name": "stderr",
     "output_type": "stream",
     "text": [
      "\n",
      "\n",
      "\n",
      "\n",
      "\n",
      "\n",
      " 74%|███████▍  | 565/762 [00:34<08:32,  2.60s/it]\u001b[A\u001b[A\u001b[A\u001b[A\u001b[A\u001b[A"
     ]
    },
    {
     "name": "stdout",
     "output_type": "stream",
     "text": [
      "Downloading score id: 5458574\n"
     ]
    },
    {
     "name": "stderr",
     "output_type": "stream",
     "text": [
      "\n",
      "\n",
      "\n",
      "\n",
      "\n",
      "\n",
      " 74%|███████▍  | 566/762 [00:38<10:00,  3.06s/it]\u001b[A\u001b[A\u001b[A\u001b[A\u001b[A\u001b[A"
     ]
    },
    {
     "name": "stdout",
     "output_type": "stream",
     "text": [
      "Downloading score id: 5172806\n"
     ]
    },
    {
     "name": "stderr",
     "output_type": "stream",
     "text": [
      "\n",
      "\n",
      "\n",
      "\n",
      "\n",
      "\n",
      " 74%|███████▍  | 567/762 [00:40<08:56,  2.75s/it]\u001b[A\u001b[A\u001b[A\u001b[A\u001b[A\u001b[A"
     ]
    },
    {
     "name": "stdout",
     "output_type": "stream",
     "text": [
      "Downloading score id: 4418816\n"
     ]
    },
    {
     "name": "stderr",
     "output_type": "stream",
     "text": [
      "\n",
      "\n",
      "\n",
      "\n",
      "\n",
      "\n",
      " 75%|███████▍  | 568/762 [00:42<07:53,  2.44s/it]\u001b[A\u001b[A\u001b[A\u001b[A\u001b[A\u001b[A"
     ]
    },
    {
     "name": "stdout",
     "output_type": "stream",
     "text": [
      "Downloading score id: 4362441\n"
     ]
    },
    {
     "name": "stderr",
     "output_type": "stream",
     "text": [
      "\n",
      "\n",
      "\n",
      "\n",
      "\n",
      "\n",
      " 75%|███████▍  | 569/762 [00:45<08:04,  2.51s/it]\u001b[A\u001b[A\u001b[A\u001b[A\u001b[A\u001b[A"
     ]
    },
    {
     "name": "stdout",
     "output_type": "stream",
     "text": [
      "Downloading score id: 4878452\n"
     ]
    },
    {
     "name": "stderr",
     "output_type": "stream",
     "text": [
      "\n",
      "\n",
      "\n",
      "\n",
      "\n",
      "\n",
      " 75%|███████▍  | 570/762 [00:46<07:23,  2.31s/it]\u001b[A\u001b[A\u001b[A\u001b[A\u001b[A\u001b[A"
     ]
    },
    {
     "name": "stdout",
     "output_type": "stream",
     "text": [
      "Downloading score id: 5250937\n"
     ]
    },
    {
     "name": "stderr",
     "output_type": "stream",
     "text": [
      "\n",
      "\n",
      "\n",
      "\n",
      "\n",
      "\n",
      " 75%|███████▍  | 571/762 [00:49<07:12,  2.27s/it]\u001b[A\u001b[A\u001b[A\u001b[A\u001b[A\u001b[A"
     ]
    },
    {
     "name": "stdout",
     "output_type": "stream",
     "text": [
      "Downloading score id: 3494796\n"
     ]
    },
    {
     "name": "stderr",
     "output_type": "stream",
     "text": [
      "\n",
      "\n",
      "\n",
      "\n",
      "\n",
      "\n",
      " 75%|███████▌  | 572/762 [00:52<08:00,  2.53s/it]\u001b[A\u001b[A\u001b[A\u001b[A\u001b[A\u001b[A"
     ]
    },
    {
     "name": "stdout",
     "output_type": "stream",
     "text": [
      "Downloading score id: 5239384\n"
     ]
    },
    {
     "name": "stderr",
     "output_type": "stream",
     "text": [
      "\n",
      "\n",
      "\n",
      "\n",
      "\n",
      "\n",
      " 75%|███████▌  | 573/762 [00:55<09:04,  2.88s/it]\u001b[A\u001b[A\u001b[A\u001b[A\u001b[A\u001b[A"
     ]
    },
    {
     "name": "stdout",
     "output_type": "stream",
     "text": [
      "Downloading score id: 5494920\n"
     ]
    },
    {
     "name": "stderr",
     "output_type": "stream",
     "text": [
      "\n",
      "\n",
      "\n",
      "\n",
      "\n",
      "\n",
      " 75%|███████▌  | 574/762 [00:58<08:20,  2.66s/it]\u001b[A\u001b[A\u001b[A\u001b[A\u001b[A\u001b[A"
     ]
    },
    {
     "name": "stdout",
     "output_type": "stream",
     "text": [
      "Downloading score id: 5181465\n"
     ]
    },
    {
     "name": "stderr",
     "output_type": "stream",
     "text": [
      "\n",
      "\n",
      "\n",
      "\n",
      "\n",
      "\n",
      " 75%|███████▌  | 575/762 [00:59<07:23,  2.37s/it]\u001b[A\u001b[A\u001b[A\u001b[A\u001b[A\u001b[A"
     ]
    },
    {
     "name": "stdout",
     "output_type": "stream",
     "text": [
      "Downloading score id: 910916\n"
     ]
    },
    {
     "name": "stderr",
     "output_type": "stream",
     "text": [
      "\n",
      "\n",
      "\n",
      "\n",
      "\n",
      "\n",
      " 76%|███████▌  | 576/762 [01:01<06:40,  2.15s/it]\u001b[A\u001b[A\u001b[A\u001b[A\u001b[A\u001b[A"
     ]
    },
    {
     "name": "stdout",
     "output_type": "stream",
     "text": [
      "Downloading score id: 5387107\n"
     ]
    },
    {
     "name": "stderr",
     "output_type": "stream",
     "text": [
      "\n",
      "\n",
      "\n",
      "\n",
      "\n",
      "\n",
      " 76%|███████▌  | 577/762 [01:05<08:03,  2.62s/it]\u001b[A\u001b[A\u001b[A\u001b[A\u001b[A\u001b[A"
     ]
    },
    {
     "name": "stdout",
     "output_type": "stream",
     "text": [
      "Downloading score id: 4536821\n"
     ]
    },
    {
     "name": "stderr",
     "output_type": "stream",
     "text": [
      "\n",
      "\n",
      "\n",
      "\n",
      "\n",
      "\n",
      " 76%|███████▌  | 578/762 [01:06<07:06,  2.32s/it]\u001b[A\u001b[A\u001b[A\u001b[A\u001b[A\u001b[A"
     ]
    },
    {
     "name": "stdout",
     "output_type": "stream",
     "text": [
      "Downloading score id: 1578381\n"
     ]
    },
    {
     "name": "stderr",
     "output_type": "stream",
     "text": [
      "\n",
      "\n",
      "\n",
      "\n",
      "\n",
      "\n",
      " 76%|███████▌  | 579/762 [01:08<06:54,  2.27s/it]\u001b[A\u001b[A\u001b[A\u001b[A\u001b[A\u001b[A"
     ]
    },
    {
     "name": "stdout",
     "output_type": "stream",
     "text": [
      "Downloading score id: 2820751\n"
     ]
    },
    {
     "name": "stderr",
     "output_type": "stream",
     "text": [
      "\n",
      "\n",
      "\n",
      "\n",
      "\n",
      "\n",
      " 76%|███████▌  | 580/762 [01:10<06:19,  2.08s/it]\u001b[A\u001b[A\u001b[A\u001b[A\u001b[A\u001b[A"
     ]
    },
    {
     "name": "stdout",
     "output_type": "stream",
     "text": [
      "Downloading score id: 3752566\n"
     ]
    },
    {
     "name": "stderr",
     "output_type": "stream",
     "text": [
      "\n",
      "\n",
      "\n",
      "\n",
      "\n",
      "\n",
      " 76%|███████▌  | 581/762 [01:13<06:49,  2.26s/it]\u001b[A\u001b[A\u001b[A\u001b[A\u001b[A\u001b[A"
     ]
    },
    {
     "name": "stdout",
     "output_type": "stream",
     "text": [
      "Downloading score id: 2837776\n"
     ]
    },
    {
     "name": "stderr",
     "output_type": "stream",
     "text": [
      "\n",
      "\n",
      "\n",
      "\n",
      "\n",
      "\n",
      " 76%|███████▋  | 582/762 [01:14<06:12,  2.07s/it]\u001b[A\u001b[A\u001b[A\u001b[A\u001b[A\u001b[A"
     ]
    },
    {
     "name": "stdout",
     "output_type": "stream",
     "text": [
      "Downloading score id: 5327585\n"
     ]
    },
    {
     "name": "stderr",
     "output_type": "stream",
     "text": [
      "\n",
      "\n",
      "\n",
      "\n",
      "\n",
      "\n",
      " 77%|███████▋  | 583/762 [01:16<05:48,  1.95s/it]\u001b[A\u001b[A\u001b[A\u001b[A\u001b[A\u001b[A"
     ]
    },
    {
     "name": "stdout",
     "output_type": "stream",
     "text": [
      "Downloading score id: 1822636\n"
     ]
    },
    {
     "name": "stderr",
     "output_type": "stream",
     "text": [
      "\n",
      "\n",
      "\n",
      "\n",
      "\n",
      "\n",
      " 77%|███████▋  | 584/762 [01:19<06:24,  2.16s/it]\u001b[A\u001b[A\u001b[A\u001b[A\u001b[A\u001b[A"
     ]
    },
    {
     "name": "stdout",
     "output_type": "stream",
     "text": [
      "Downloading score id: 851971\n"
     ]
    },
    {
     "name": "stderr",
     "output_type": "stream",
     "text": [
      "\n",
      "\n",
      "\n",
      "\n",
      "\n",
      "\n",
      " 77%|███████▋  | 585/762 [01:20<06:01,  2.04s/it]\u001b[A\u001b[A\u001b[A\u001b[A\u001b[A\u001b[A"
     ]
    },
    {
     "name": "stdout",
     "output_type": "stream",
     "text": [
      "Downloading score id: 5500093\n"
     ]
    },
    {
     "name": "stderr",
     "output_type": "stream",
     "text": [
      "\n",
      "\n",
      "\n",
      "\n",
      "\n",
      "\n",
      " 77%|███████▋  | 586/762 [01:24<06:57,  2.37s/it]\u001b[A\u001b[A\u001b[A\u001b[A\u001b[A\u001b[A"
     ]
    },
    {
     "name": "stdout",
     "output_type": "stream",
     "text": [
      "Downloading score id: 2911066\n"
     ]
    },
    {
     "name": "stderr",
     "output_type": "stream",
     "text": [
      "\n",
      "\n",
      "\n",
      "\n",
      "\n",
      "\n",
      " 77%|███████▋  | 588/762 [01:25<05:33,  1.92s/it]\u001b[A\u001b[A\u001b[A\u001b[A\u001b[A\u001b[A"
     ]
    },
    {
     "name": "stdout",
     "output_type": "stream",
     "text": [
      "Downloading score id: 1379901\n"
     ]
    },
    {
     "name": "stderr",
     "output_type": "stream",
     "text": [
      "\n",
      "\n",
      "\n",
      "\n",
      "\n",
      "\n",
      " 77%|███████▋  | 589/762 [01:28<06:11,  2.15s/it]\u001b[A\u001b[A\u001b[A\u001b[A\u001b[A\u001b[A"
     ]
    },
    {
     "name": "stdout",
     "output_type": "stream",
     "text": [
      "Downloading score id: 5352597\n"
     ]
    },
    {
     "name": "stderr",
     "output_type": "stream",
     "text": [
      "\n",
      "\n",
      "\n",
      "\n",
      "\n",
      "\n",
      " 78%|███████▊  | 591/762 [01:30<04:59,  1.75s/it]\u001b[A\u001b[A\u001b[A\u001b[A\u001b[A\u001b[A"
     ]
    },
    {
     "name": "stdout",
     "output_type": "stream",
     "text": [
      "Downloading score id: 193837\n"
     ]
    },
    {
     "name": "stderr",
     "output_type": "stream",
     "text": [
      "\n",
      "\n",
      "\n",
      "\n",
      "\n",
      "\n",
      " 78%|███████▊  | 592/762 [01:32<05:45,  2.03s/it]\u001b[A\u001b[A\u001b[A\u001b[A\u001b[A\u001b[A"
     ]
    },
    {
     "name": "stdout",
     "output_type": "stream",
     "text": [
      "Downloading score id: 5232646\n"
     ]
    },
    {
     "name": "stderr",
     "output_type": "stream",
     "text": [
      "\n",
      "\n",
      "\n",
      "\n",
      "\n",
      "\n",
      " 78%|███████▊  | 593/762 [01:34<05:24,  1.92s/it]\u001b[A\u001b[A\u001b[A\u001b[A\u001b[A\u001b[A"
     ]
    },
    {
     "name": "stdout",
     "output_type": "stream",
     "text": [
      "Downloading score id: 4481046\n"
     ]
    },
    {
     "name": "stderr",
     "output_type": "stream",
     "text": [
      "\n",
      "\n",
      "\n",
      "\n",
      "\n",
      "\n",
      " 78%|███████▊  | 594/762 [01:36<05:08,  1.84s/it]\u001b[A\u001b[A\u001b[A\u001b[A\u001b[A\u001b[A"
     ]
    },
    {
     "name": "stdout",
     "output_type": "stream",
     "text": [
      "Downloading score id: 5438400\n"
     ]
    },
    {
     "name": "stderr",
     "output_type": "stream",
     "text": [
      "\n",
      "\n",
      "\n",
      "\n",
      "\n",
      "\n",
      " 78%|███████▊  | 595/762 [01:37<04:57,  1.78s/it]\u001b[A\u001b[A\u001b[A\u001b[A\u001b[A\u001b[A"
     ]
    },
    {
     "name": "stdout",
     "output_type": "stream",
     "text": [
      "Downloading score id: 4602211\n"
     ]
    },
    {
     "name": "stderr",
     "output_type": "stream",
     "text": [
      "\n",
      "\n",
      "\n",
      "\n",
      "\n",
      "\n",
      " 78%|███████▊  | 596/762 [01:39<04:47,  1.73s/it]\u001b[A\u001b[A\u001b[A\u001b[A\u001b[A\u001b[A"
     ]
    },
    {
     "name": "stdout",
     "output_type": "stream",
     "text": [
      "Downloading score id: 5500100\n"
     ]
    },
    {
     "name": "stderr",
     "output_type": "stream",
     "text": [
      "\n",
      "\n",
      "\n",
      "\n",
      "\n",
      "\n",
      " 78%|███████▊  | 597/762 [01:43<06:20,  2.31s/it]\u001b[A\u001b[A\u001b[A\u001b[A\u001b[A\u001b[A"
     ]
    },
    {
     "name": "stdout",
     "output_type": "stream",
     "text": [
      "Downloading score id: 2461436\n"
     ]
    },
    {
     "name": "stderr",
     "output_type": "stream",
     "text": [
      "\n",
      "\n",
      "\n",
      "\n",
      "\n",
      "\n",
      " 78%|███████▊  | 598/762 [01:46<06:59,  2.56s/it]\u001b[A\u001b[A\u001b[A\u001b[A\u001b[A\u001b[A"
     ]
    },
    {
     "name": "stdout",
     "output_type": "stream",
     "text": [
      "Downloading score id: 5319389\n"
     ]
    },
    {
     "name": "stderr",
     "output_type": "stream",
     "text": [
      "\n",
      "\n",
      "\n",
      "\n",
      "\n",
      "\n",
      " 79%|███████▊  | 599/762 [01:48<06:35,  2.43s/it]\u001b[A\u001b[A\u001b[A\u001b[A\u001b[A\u001b[A"
     ]
    },
    {
     "name": "stdout",
     "output_type": "stream",
     "text": [
      "Downloading score id: 191909\n"
     ]
    },
    {
     "name": "stderr",
     "output_type": "stream",
     "text": [
      "\n",
      "\n",
      "\n",
      "\n",
      "\n",
      "\n",
      " 79%|███████▊  | 600/762 [01:52<07:57,  2.94s/it]\u001b[A\u001b[A\u001b[A\u001b[A\u001b[A\u001b[A"
     ]
    },
    {
     "name": "stdout",
     "output_type": "stream",
     "text": [
      "Downloading score id: 5452273\n"
     ]
    },
    {
     "name": "stderr",
     "output_type": "stream",
     "text": [
      "\n",
      "\n",
      "\n",
      "\n",
      "\n",
      "\n",
      " 79%|███████▉  | 601/762 [01:55<07:41,  2.87s/it]\u001b[A\u001b[A\u001b[A\u001b[A\u001b[A\u001b[A"
     ]
    },
    {
     "name": "stdout",
     "output_type": "stream",
     "text": [
      "Downloading score id: 586036\n"
     ]
    },
    {
     "name": "stderr",
     "output_type": "stream",
     "text": [
      "\n",
      "\n",
      "\n",
      "\n",
      "\n",
      "\n",
      " 79%|███████▉  | 602/762 [01:57<07:04,  2.65s/it]\u001b[A\u001b[A\u001b[A\u001b[A\u001b[A\u001b[A"
     ]
    },
    {
     "name": "stdout",
     "output_type": "stream",
     "text": [
      "Downloading score id: 4295881\n"
     ]
    },
    {
     "name": "stderr",
     "output_type": "stream",
     "text": [
      "\n",
      "\n",
      "\n",
      "\n",
      "\n",
      "\n",
      " 79%|███████▉  | 603/762 [01:59<06:20,  2.39s/it]\u001b[A\u001b[A\u001b[A\u001b[A\u001b[A\u001b[A"
     ]
    },
    {
     "name": "stdout",
     "output_type": "stream",
     "text": [
      "Downloading score id: 5410643\n"
     ]
    },
    {
     "name": "stderr",
     "output_type": "stream",
     "text": [
      "\n",
      "\n",
      "\n",
      "\n",
      "\n",
      "\n",
      " 79%|███████▉  | 604/762 [02:00<05:43,  2.17s/it]\u001b[A\u001b[A\u001b[A\u001b[A\u001b[A\u001b[A"
     ]
    },
    {
     "name": "stdout",
     "output_type": "stream",
     "text": [
      "Downloading score id: 4832971\n"
     ]
    },
    {
     "name": "stderr",
     "output_type": "stream",
     "text": [
      "\n",
      "\n",
      "\n",
      "\n",
      "\n",
      "\n",
      " 79%|███████▉  | 605/762 [02:02<05:15,  2.01s/it]\u001b[A\u001b[A\u001b[A\u001b[A\u001b[A\u001b[A"
     ]
    },
    {
     "name": "stdout",
     "output_type": "stream",
     "text": [
      "Downloading score id: 4146106\n"
     ]
    },
    {
     "name": "stderr",
     "output_type": "stream",
     "text": [
      "\n",
      "\n",
      "\n",
      "\n",
      "\n",
      "\n",
      " 80%|███████▉  | 606/762 [02:05<05:43,  2.20s/it]\u001b[A\u001b[A\u001b[A\u001b[A\u001b[A\u001b[A"
     ]
    },
    {
     "name": "stdout",
     "output_type": "stream",
     "text": [
      "Downloading score id: 4229476\n"
     ]
    },
    {
     "name": "stderr",
     "output_type": "stream",
     "text": [
      "\n",
      "\n",
      "\n",
      "\n",
      "\n",
      "\n",
      " 80%|███████▉  | 607/762 [02:07<05:39,  2.19s/it]\u001b[A\u001b[A\u001b[A\u001b[A\u001b[A\u001b[A"
     ]
    },
    {
     "name": "stdout",
     "output_type": "stream",
     "text": [
      "Downloading score id: 1612716\n"
     ]
    },
    {
     "name": "stderr",
     "output_type": "stream",
     "text": [
      "\n",
      "\n",
      "\n",
      "\n",
      "\n",
      "\n",
      " 80%|███████▉  | 608/762 [02:10<06:22,  2.48s/it]\u001b[A\u001b[A\u001b[A\u001b[A\u001b[A\u001b[A"
     ]
    },
    {
     "name": "stdout",
     "output_type": "stream",
     "text": [
      "Downloading score id: 4041641\n"
     ]
    },
    {
     "name": "stderr",
     "output_type": "stream",
     "text": [
      "\n",
      "\n",
      "\n",
      "\n",
      "\n",
      "\n",
      " 80%|███████▉  | 609/762 [02:15<08:29,  3.33s/it]\u001b[A\u001b[A\u001b[A\u001b[A\u001b[A\u001b[A"
     ]
    },
    {
     "name": "stdout",
     "output_type": "stream",
     "text": [
      "Downloading score id: 2635441\n"
     ]
    },
    {
     "name": "stderr",
     "output_type": "stream",
     "text": [
      "\n",
      "\n",
      "\n",
      "\n",
      "\n",
      "\n",
      " 80%|████████  | 610/762 [02:18<07:53,  3.12s/it]\u001b[A\u001b[A\u001b[A\u001b[A\u001b[A\u001b[A"
     ]
    },
    {
     "name": "stdout",
     "output_type": "stream",
     "text": [
      "Downloading score id: 3982866\n"
     ]
    },
    {
     "name": "stderr",
     "output_type": "stream",
     "text": [
      "\n",
      "\n",
      "\n",
      "\n",
      "\n",
      "\n",
      " 80%|████████  | 612/762 [02:19<06:05,  2.43s/it]\u001b[A\u001b[A\u001b[A\u001b[A\u001b[A\u001b[A"
     ]
    },
    {
     "name": "stdout",
     "output_type": "stream",
     "text": [
      "Downloading score id: 2454721\n"
     ]
    },
    {
     "name": "stderr",
     "output_type": "stream",
     "text": [
      "\n",
      "\n",
      "\n",
      "\n",
      "\n",
      "\n",
      " 80%|████████  | 613/762 [02:22<06:12,  2.50s/it]\u001b[A\u001b[A\u001b[A\u001b[A\u001b[A\u001b[A"
     ]
    },
    {
     "name": "stdout",
     "output_type": "stream",
     "text": [
      "Downloading score id: 5132885\n"
     ]
    },
    {
     "name": "stderr",
     "output_type": "stream",
     "text": [
      "\n",
      "\n",
      "\n",
      "\n",
      "\n",
      "\n",
      " 81%|████████  | 614/762 [02:24<05:53,  2.39s/it]\u001b[A\u001b[A\u001b[A\u001b[A\u001b[A\u001b[A"
     ]
    },
    {
     "name": "stdout",
     "output_type": "stream",
     "text": [
      "Downloading score id: 5512267\n"
     ]
    },
    {
     "name": "stderr",
     "output_type": "stream",
     "text": [
      "\n",
      "\n",
      "\n",
      "\n",
      "\n",
      "\n",
      " 81%|████████  | 615/762 [02:28<06:49,  2.79s/it]\u001b[A\u001b[A\u001b[A\u001b[A\u001b[A\u001b[A"
     ]
    },
    {
     "name": "stdout",
     "output_type": "stream",
     "text": [
      "Downloading score id: 3995671\n"
     ]
    },
    {
     "name": "stderr",
     "output_type": "stream",
     "text": [
      "\n",
      "\n",
      "\n",
      "\n",
      "\n",
      "\n",
      " 81%|████████  | 616/762 [02:30<06:17,  2.59s/it]\u001b[A\u001b[A\u001b[A\u001b[A\u001b[A\u001b[A"
     ]
    },
    {
     "name": "stdout",
     "output_type": "stream",
     "text": [
      "Downloading score id: 1376411\n"
     ]
    },
    {
     "name": "stderr",
     "output_type": "stream",
     "text": [
      "\n",
      "\n",
      "\n",
      "\n",
      "\n",
      "\n",
      " 81%|████████  | 617/762 [02:33<06:37,  2.74s/it]\u001b[A\u001b[A\u001b[A\u001b[A\u001b[A\u001b[A"
     ]
    },
    {
     "name": "stdout",
     "output_type": "stream",
     "text": [
      "Downloading score id: 667316\n"
     ]
    },
    {
     "name": "stderr",
     "output_type": "stream",
     "text": [
      "\n",
      "\n",
      "\n",
      "\n",
      "\n",
      "\n",
      " 81%|████████  | 618/762 [02:36<06:32,  2.72s/it]\u001b[A\u001b[A\u001b[A\u001b[A\u001b[A\u001b[A"
     ]
    },
    {
     "name": "stdout",
     "output_type": "stream",
     "text": [
      "Downloading score id: 5365561\n"
     ]
    },
    {
     "name": "stderr",
     "output_type": "stream",
     "text": [
      "\n",
      "\n",
      "\n",
      "\n",
      "\n",
      "\n",
      " 81%|████████  | 619/762 [02:38<05:43,  2.40s/it]\u001b[A\u001b[A\u001b[A\u001b[A\u001b[A\u001b[A"
     ]
    },
    {
     "name": "stdout",
     "output_type": "stream",
     "text": [
      "Downloading score id: 5392150\n"
     ]
    },
    {
     "name": "stderr",
     "output_type": "stream",
     "text": [
      "\n",
      "\n",
      "\n",
      "\n",
      "\n",
      "\n",
      " 81%|████████▏ | 620/762 [02:39<05:10,  2.19s/it]\u001b[A\u001b[A\u001b[A\u001b[A\u001b[A\u001b[A"
     ]
    },
    {
     "name": "stdout",
     "output_type": "stream",
     "text": [
      "Downloading score id: 1581716\n"
     ]
    },
    {
     "name": "stderr",
     "output_type": "stream",
     "text": [
      "\n",
      "\n",
      "\n",
      "\n",
      "\n",
      "\n",
      " 81%|████████▏ | 621/762 [02:41<05:05,  2.16s/it]\u001b[A\u001b[A\u001b[A\u001b[A\u001b[A\u001b[A"
     ]
    },
    {
     "name": "stdout",
     "output_type": "stream",
     "text": [
      "Downloading score id: 3703041\n"
     ]
    },
    {
     "name": "stderr",
     "output_type": "stream",
     "text": [
      "\n",
      "\n",
      "\n",
      "\n",
      "\n",
      "\n",
      " 82%|████████▏ | 622/762 [02:45<05:45,  2.46s/it]\u001b[A\u001b[A\u001b[A\u001b[A\u001b[A\u001b[A"
     ]
    },
    {
     "name": "stdout",
     "output_type": "stream",
     "text": [
      "Downloading score id: 5484393\n"
     ]
    },
    {
     "name": "stderr",
     "output_type": "stream",
     "text": [
      "\n",
      "\n",
      "\n",
      "\n",
      "\n",
      "\n",
      " 82%|████████▏ | 623/762 [02:46<05:15,  2.27s/it]\u001b[A\u001b[A\u001b[A\u001b[A\u001b[A\u001b[A"
     ]
    },
    {
     "name": "stdout",
     "output_type": "stream",
     "text": [
      "Downloading score id: 5275558\n"
     ]
    },
    {
     "name": "stderr",
     "output_type": "stream",
     "text": [
      "\n",
      "\n",
      "\n",
      "\n",
      "\n",
      "\n",
      " 82%|████████▏ | 624/762 [02:48<04:46,  2.08s/it]\u001b[A\u001b[A\u001b[A\u001b[A\u001b[A\u001b[A"
     ]
    },
    {
     "name": "stdout",
     "output_type": "stream",
     "text": [
      "Downloading score id: 4165286\n"
     ]
    },
    {
     "name": "stderr",
     "output_type": "stream",
     "text": [
      "\n",
      "\n",
      "\n",
      "\n",
      "\n",
      "\n",
      " 82%|████████▏ | 625/762 [02:50<04:36,  2.02s/it]\u001b[A\u001b[A\u001b[A\u001b[A\u001b[A\u001b[A"
     ]
    },
    {
     "name": "stdout",
     "output_type": "stream",
     "text": [
      "Downloading score id: 5425643\n"
     ]
    },
    {
     "name": "stderr",
     "output_type": "stream",
     "text": [
      "\n",
      "\n",
      "\n",
      "\n",
      "\n",
      "\n",
      " 82%|████████▏ | 626/762 [02:52<04:59,  2.20s/it]\u001b[A\u001b[A\u001b[A\u001b[A\u001b[A\u001b[A"
     ]
    },
    {
     "name": "stdout",
     "output_type": "stream",
     "text": [
      "Downloading score id: 5484091\n"
     ]
    },
    {
     "name": "stderr",
     "output_type": "stream",
     "text": [
      "\n",
      "\n",
      "\n",
      "\n",
      "\n",
      "\n",
      " 82%|████████▏ | 627/762 [02:55<05:14,  2.33s/it]\u001b[A\u001b[A\u001b[A\u001b[A\u001b[A\u001b[A"
     ]
    },
    {
     "name": "stdout",
     "output_type": "stream",
     "text": [
      "Downloading score id: 5370025\n"
     ]
    },
    {
     "name": "stderr",
     "output_type": "stream",
     "text": [
      "\n",
      "\n",
      "\n",
      "\n",
      "\n",
      "\n",
      " 82%|████████▏ | 628/762 [03:00<06:49,  3.06s/it]\u001b[A\u001b[A\u001b[A\u001b[A\u001b[A\u001b[A"
     ]
    },
    {
     "name": "stdout",
     "output_type": "stream",
     "text": [
      "Downloading score id: 4808174\n"
     ]
    },
    {
     "name": "stderr",
     "output_type": "stream",
     "text": [
      "\n",
      "\n",
      "\n",
      "\n",
      "\n",
      "\n",
      " 83%|████████▎ | 629/762 [03:02<05:58,  2.70s/it]\u001b[A\u001b[A\u001b[A\u001b[A\u001b[A\u001b[A"
     ]
    },
    {
     "name": "stdout",
     "output_type": "stream",
     "text": [
      "Downloading score id: 5117305\n"
     ]
    },
    {
     "name": "stderr",
     "output_type": "stream",
     "text": [
      "\n",
      "\n",
      "\n",
      "\n",
      "\n",
      "\n",
      " 83%|████████▎ | 630/762 [03:04<05:34,  2.54s/it]\u001b[A\u001b[A\u001b[A\u001b[A\u001b[A\u001b[A"
     ]
    },
    {
     "name": "stdout",
     "output_type": "stream",
     "text": [
      "Downloading score id: 5180187\n"
     ]
    },
    {
     "name": "stderr",
     "output_type": "stream",
     "text": [
      "\n",
      "\n",
      "\n",
      "\n",
      "\n",
      "\n",
      " 83%|████████▎ | 631/762 [03:07<06:06,  2.80s/it]\u001b[A\u001b[A\u001b[A\u001b[A\u001b[A\u001b[A"
     ]
    },
    {
     "name": "stdout",
     "output_type": "stream",
     "text": [
      "Downloading score id: 5350730\n"
     ]
    },
    {
     "name": "stderr",
     "output_type": "stream",
     "text": [
      "\n",
      "\n",
      "\n",
      "\n",
      "\n",
      "\n",
      " 83%|████████▎ | 632/762 [03:09<05:26,  2.51s/it]\u001b[A\u001b[A\u001b[A\u001b[A\u001b[A\u001b[A"
     ]
    },
    {
     "name": "stdout",
     "output_type": "stream",
     "text": [
      "Downloading score id: 5151376\n"
     ]
    },
    {
     "name": "stderr",
     "output_type": "stream",
     "text": [
      "\n",
      "\n",
      "\n",
      "\n",
      "\n",
      "\n",
      " 83%|████████▎ | 634/762 [03:11<04:26,  2.08s/it]\u001b[A\u001b[A\u001b[A\u001b[A\u001b[A\u001b[A"
     ]
    },
    {
     "name": "stdout",
     "output_type": "stream",
     "text": [
      "Downloading score id: 4128786\n"
     ]
    },
    {
     "name": "stderr",
     "output_type": "stream",
     "text": [
      "\n",
      "\n",
      "\n",
      "\n",
      "\n",
      "\n",
      " 83%|████████▎ | 635/762 [03:14<04:44,  2.24s/it]\u001b[A\u001b[A\u001b[A\u001b[A\u001b[A\u001b[A"
     ]
    },
    {
     "name": "stdout",
     "output_type": "stream",
     "text": [
      "Downloading score id: 5176017\n"
     ]
    },
    {
     "name": "stderr",
     "output_type": "stream",
     "text": [
      "\n",
      "\n",
      "\n",
      "\n",
      "\n",
      "\n",
      " 83%|████████▎ | 636/762 [03:17<04:59,  2.38s/it]\u001b[A\u001b[A\u001b[A\u001b[A\u001b[A\u001b[A"
     ]
    },
    {
     "name": "stdout",
     "output_type": "stream",
     "text": [
      "Downloading score id: 2450036\n"
     ]
    },
    {
     "name": "stderr",
     "output_type": "stream",
     "text": [
      "\n",
      "\n",
      "\n",
      "\n",
      "\n",
      "\n",
      " 84%|████████▎ | 637/762 [03:20<05:25,  2.61s/it]\u001b[A\u001b[A\u001b[A\u001b[A\u001b[A\u001b[A"
     ]
    },
    {
     "name": "stdout",
     "output_type": "stream",
     "text": [
      "Downloading score id: 5173283\n"
     ]
    },
    {
     "name": "stderr",
     "output_type": "stream",
     "text": [
      "\n",
      "\n",
      "\n",
      "\n",
      "\n",
      "\n",
      " 84%|████████▎ | 638/762 [03:23<05:34,  2.70s/it]\u001b[A\u001b[A\u001b[A\u001b[A\u001b[A\u001b[A"
     ]
    },
    {
     "name": "stdout",
     "output_type": "stream",
     "text": [
      "Downloading score id: 4832468\n"
     ]
    },
    {
     "name": "stderr",
     "output_type": "stream",
     "text": [
      "\n",
      "\n",
      "\n",
      "\n",
      "\n",
      "\n",
      " 84%|████████▍ | 639/762 [03:25<05:30,  2.68s/it]\u001b[A\u001b[A\u001b[A\u001b[A\u001b[A\u001b[A"
     ]
    },
    {
     "name": "stdout",
     "output_type": "stream",
     "text": [
      "Downloading score id: 2869466\n"
     ]
    },
    {
     "name": "stderr",
     "output_type": "stream",
     "text": [
      "\n",
      "\n",
      "\n",
      "\n",
      "\n",
      "\n",
      " 84%|████████▍ | 640/762 [03:28<05:27,  2.68s/it]\u001b[A\u001b[A\u001b[A\u001b[A\u001b[A\u001b[A"
     ]
    },
    {
     "name": "stdout",
     "output_type": "stream",
     "text": [
      "Downloading score id: 5116307\n"
     ]
    },
    {
     "name": "stderr",
     "output_type": "stream",
     "text": [
      "\n",
      "\n",
      "\n",
      "\n",
      "\n",
      "\n",
      " 84%|████████▍ | 641/762 [03:30<04:46,  2.36s/it]\u001b[A\u001b[A\u001b[A\u001b[A\u001b[A\u001b[A"
     ]
    },
    {
     "name": "stdout",
     "output_type": "stream",
     "text": [
      "Downloading score id: 5361249\n"
     ]
    },
    {
     "name": "stderr",
     "output_type": "stream",
     "text": [
      "\n",
      "\n",
      "\n",
      "\n",
      "\n",
      "\n",
      " 84%|████████▍ | 642/762 [03:31<04:18,  2.16s/it]\u001b[A\u001b[A\u001b[A\u001b[A\u001b[A\u001b[A"
     ]
    },
    {
     "name": "stdout",
     "output_type": "stream",
     "text": [
      "Downloading score id: 4122961\n"
     ]
    },
    {
     "name": "stderr",
     "output_type": "stream",
     "text": [
      "\n",
      "\n",
      "\n",
      "\n",
      "\n",
      "\n",
      " 84%|████████▍ | 643/762 [03:34<04:37,  2.33s/it]\u001b[A\u001b[A\u001b[A\u001b[A\u001b[A\u001b[A"
     ]
    },
    {
     "name": "stdout",
     "output_type": "stream",
     "text": [
      "Downloading score id: 5304492\n"
     ]
    },
    {
     "name": "stderr",
     "output_type": "stream",
     "text": [
      "\n",
      "\n",
      "\n",
      "\n",
      "\n",
      "\n",
      " 85%|████████▍ | 644/762 [03:37<04:46,  2.42s/it]\u001b[A\u001b[A\u001b[A\u001b[A\u001b[A\u001b[A"
     ]
    },
    {
     "name": "stdout",
     "output_type": "stream",
     "text": [
      "Downloading score id: 5474979\n"
     ]
    },
    {
     "name": "stderr",
     "output_type": "stream",
     "text": [
      "\n",
      "\n",
      "\n",
      "\n",
      "\n",
      "\n",
      " 85%|████████▍ | 645/762 [03:40<05:10,  2.66s/it]\u001b[A\u001b[A\u001b[A\u001b[A\u001b[A\u001b[A"
     ]
    },
    {
     "name": "stdout",
     "output_type": "stream",
     "text": [
      "Downloading score id: 5196966\n"
     ]
    },
    {
     "name": "stderr",
     "output_type": "stream",
     "text": [
      "\n",
      "\n",
      "\n",
      "\n",
      "\n",
      "\n",
      " 85%|████████▍ | 646/762 [03:43<05:18,  2.74s/it]\u001b[A\u001b[A\u001b[A\u001b[A\u001b[A\u001b[A"
     ]
    },
    {
     "name": "stdout",
     "output_type": "stream",
     "text": [
      "Downloading score id: 5483273\n"
     ]
    },
    {
     "name": "stderr",
     "output_type": "stream",
     "text": [
      "\n",
      "\n",
      "\n",
      "\n",
      "\n",
      "\n",
      " 85%|████████▍ | 647/762 [03:45<04:43,  2.46s/it]\u001b[A\u001b[A\u001b[A\u001b[A\u001b[A\u001b[A"
     ]
    },
    {
     "name": "stdout",
     "output_type": "stream",
     "text": [
      "Downloading score id: 5483925\n"
     ]
    },
    {
     "name": "stderr",
     "output_type": "stream",
     "text": [
      "\n",
      "\n",
      "\n",
      "\n",
      "\n",
      "\n",
      " 85%|████████▌ | 648/762 [03:48<05:20,  2.81s/it]\u001b[A\u001b[A\u001b[A\u001b[A\u001b[A\u001b[A"
     ]
    },
    {
     "name": "stdout",
     "output_type": "stream",
     "text": [
      "Downloading score id: 5179400\n"
     ]
    },
    {
     "name": "stderr",
     "output_type": "stream",
     "text": [
      "\n",
      "\n",
      "\n",
      "\n",
      "\n",
      "\n",
      " 85%|████████▌ | 649/762 [03:52<06:02,  3.20s/it]\u001b[A\u001b[A\u001b[A\u001b[A\u001b[A\u001b[A"
     ]
    },
    {
     "name": "stdout",
     "output_type": "stream",
     "text": [
      "Downloading score id: 5032987\n"
     ]
    },
    {
     "name": "stderr",
     "output_type": "stream",
     "text": [
      "\n",
      "\n",
      "\n",
      "\n",
      "\n",
      "\n",
      " 85%|████████▌ | 650/762 [03:54<05:05,  2.73s/it]\u001b[A\u001b[A\u001b[A\u001b[A\u001b[A\u001b[A"
     ]
    },
    {
     "name": "stdout",
     "output_type": "stream",
     "text": [
      "Downloading score id: 5440592\n"
     ]
    },
    {
     "name": "stderr",
     "output_type": "stream",
     "text": [
      "\n",
      "\n",
      "\n",
      "\n",
      "\n",
      "\n",
      " 85%|████████▌ | 651/762 [03:57<05:08,  2.78s/it]\u001b[A\u001b[A\u001b[A\u001b[A\u001b[A\u001b[A"
     ]
    },
    {
     "name": "stdout",
     "output_type": "stream",
     "text": [
      "Downloading score id: 5306545\n"
     ]
    },
    {
     "name": "stderr",
     "output_type": "stream",
     "text": [
      "\n",
      "\n",
      "\n",
      "\n",
      "\n",
      "\n",
      " 86%|████████▌ | 652/762 [03:59<05:00,  2.74s/it]\u001b[A\u001b[A\u001b[A\u001b[A\u001b[A\u001b[A"
     ]
    },
    {
     "name": "stdout",
     "output_type": "stream",
     "text": [
      "Downloading score id: 4986692\n"
     ]
    },
    {
     "name": "stderr",
     "output_type": "stream",
     "text": [
      "\n",
      "\n",
      "\n",
      "\n",
      "\n",
      "\n",
      " 86%|████████▌ | 653/762 [04:02<04:54,  2.71s/it]\u001b[A\u001b[A\u001b[A\u001b[A\u001b[A\u001b[A"
     ]
    },
    {
     "name": "stdout",
     "output_type": "stream",
     "text": [
      "Downloading score id: 5185109\n"
     ]
    },
    {
     "name": "stderr",
     "output_type": "stream",
     "text": [
      "\n",
      "\n",
      "\n",
      "\n",
      "\n",
      "\n",
      " 86%|████████▌ | 655/762 [04:05<04:04,  2.29s/it]\u001b[A\u001b[A\u001b[A\u001b[A\u001b[A\u001b[A"
     ]
    },
    {
     "name": "stdout",
     "output_type": "stream",
     "text": [
      "Downloading score id: 5396568\n"
     ]
    },
    {
     "name": "stderr",
     "output_type": "stream",
     "text": [
      "\n",
      "\n",
      "\n",
      "\n",
      "\n",
      "\n",
      " 86%|████████▌ | 656/762 [04:07<03:59,  2.26s/it]\u001b[A\u001b[A\u001b[A\u001b[A\u001b[A\u001b[A"
     ]
    },
    {
     "name": "stdout",
     "output_type": "stream",
     "text": [
      "Downloading score id: 5219243\n"
     ]
    },
    {
     "name": "stderr",
     "output_type": "stream",
     "text": [
      "\n",
      "\n",
      "\n",
      "\n",
      "\n",
      "\n",
      " 86%|████████▌ | 657/762 [04:09<03:36,  2.06s/it]\u001b[A\u001b[A\u001b[A\u001b[A\u001b[A\u001b[A"
     ]
    },
    {
     "name": "stdout",
     "output_type": "stream",
     "text": [
      "Downloading score id: 5290496\n"
     ]
    },
    {
     "name": "stderr",
     "output_type": "stream",
     "text": [
      "\n",
      "\n",
      "\n",
      "\n",
      "\n",
      "\n",
      " 86%|████████▋ | 658/762 [04:10<03:20,  1.93s/it]\u001b[A\u001b[A\u001b[A\u001b[A\u001b[A\u001b[A"
     ]
    },
    {
     "name": "stdout",
     "output_type": "stream",
     "text": [
      "Downloading score id: 5102623\n"
     ]
    },
    {
     "name": "stderr",
     "output_type": "stream",
     "text": [
      "\n",
      "\n",
      "\n",
      "\n",
      "\n",
      "\n",
      " 86%|████████▋ | 659/762 [04:14<04:26,  2.59s/it]\u001b[A\u001b[A\u001b[A\u001b[A\u001b[A\u001b[A"
     ]
    },
    {
     "name": "stdout",
     "output_type": "stream",
     "text": [
      "Downloading score id: 4163671\n"
     ]
    },
    {
     "name": "stderr",
     "output_type": "stream",
     "text": [
      "\n",
      "\n",
      "\n",
      "\n",
      "\n",
      "\n",
      " 87%|████████▋ | 660/762 [04:16<04:09,  2.44s/it]\u001b[A\u001b[A\u001b[A\u001b[A\u001b[A\u001b[A"
     ]
    },
    {
     "name": "stdout",
     "output_type": "stream",
     "text": [
      "Downloading score id: 5380829\n"
     ]
    },
    {
     "name": "stderr",
     "output_type": "stream",
     "text": [
      "\n",
      "\n",
      "\n",
      "\n",
      "\n",
      "\n",
      " 87%|████████▋ | 661/762 [04:19<04:14,  2.52s/it]\u001b[A\u001b[A\u001b[A\u001b[A\u001b[A\u001b[A"
     ]
    },
    {
     "name": "stdout",
     "output_type": "stream",
     "text": [
      "Downloading score id: 3589816\n"
     ]
    },
    {
     "name": "stderr",
     "output_type": "stream",
     "text": [
      "\n",
      "\n",
      "\n",
      "\n",
      "\n",
      "\n",
      " 87%|████████▋ | 662/762 [04:22<04:30,  2.71s/it]\u001b[A\u001b[A\u001b[A\u001b[A\u001b[A\u001b[A"
     ]
    },
    {
     "name": "stdout",
     "output_type": "stream",
     "text": [
      "Downloading score id: 5350732\n"
     ]
    },
    {
     "name": "stderr",
     "output_type": "stream",
     "text": [
      "\n",
      "\n",
      "\n",
      "\n",
      "\n",
      "\n",
      " 87%|████████▋ | 663/762 [04:24<04:12,  2.55s/it]\u001b[A\u001b[A\u001b[A\u001b[A\u001b[A\u001b[A"
     ]
    },
    {
     "name": "stdout",
     "output_type": "stream",
     "text": [
      "Downloading score id: 5467317\n"
     ]
    },
    {
     "name": "stderr",
     "output_type": "stream",
     "text": [
      "\n",
      "\n",
      "\n",
      "\n",
      "\n",
      "\n",
      " 87%|████████▋ | 664/762 [04:27<04:02,  2.48s/it]\u001b[A\u001b[A\u001b[A\u001b[A\u001b[A\u001b[A"
     ]
    },
    {
     "name": "stdout",
     "output_type": "stream",
     "text": [
      "Downloading score id: 3435361\n"
     ]
    },
    {
     "name": "stderr",
     "output_type": "stream",
     "text": [
      "\n",
      "\n",
      "\n",
      "\n",
      "\n",
      "\n",
      " 87%|████████▋ | 665/762 [04:31<04:41,  2.90s/it]\u001b[A\u001b[A\u001b[A\u001b[A\u001b[A\u001b[A"
     ]
    },
    {
     "name": "stdout",
     "output_type": "stream",
     "text": [
      "Downloading score id: 5142677\n"
     ]
    },
    {
     "name": "stderr",
     "output_type": "stream",
     "text": [
      "\n",
      "\n",
      "\n",
      "\n",
      "\n",
      "\n",
      " 87%|████████▋ | 666/762 [04:35<05:20,  3.34s/it]\u001b[A\u001b[A\u001b[A\u001b[A\u001b[A\u001b[A"
     ]
    },
    {
     "name": "stdout",
     "output_type": "stream",
     "text": [
      "Downloading score id: 5483784\n"
     ]
    },
    {
     "name": "stderr",
     "output_type": "stream",
     "text": [
      "\n",
      "\n",
      "\n",
      "\n",
      "\n",
      "\n",
      " 88%|████████▊ | 667/762 [04:38<05:02,  3.19s/it]\u001b[A\u001b[A\u001b[A\u001b[A\u001b[A\u001b[A"
     ]
    },
    {
     "name": "stdout",
     "output_type": "stream",
     "text": [
      "Downloading score id: 3404566\n"
     ]
    },
    {
     "name": "stderr",
     "output_type": "stream",
     "text": [
      "\n",
      "\n",
      "\n",
      "\n",
      "\n",
      "\n",
      " 88%|████████▊ | 668/762 [04:40<04:43,  3.02s/it]\u001b[A\u001b[A\u001b[A\u001b[A\u001b[A\u001b[A"
     ]
    },
    {
     "name": "stdout",
     "output_type": "stream",
     "text": [
      "Downloading score id: 4610611\n"
     ]
    },
    {
     "name": "stderr",
     "output_type": "stream",
     "text": [
      "\n",
      "\n",
      "\n",
      "\n",
      "\n",
      "\n",
      " 88%|████████▊ | 669/762 [04:42<04:01,  2.60s/it]\u001b[A\u001b[A\u001b[A\u001b[A\u001b[A\u001b[A"
     ]
    },
    {
     "name": "stdout",
     "output_type": "stream",
     "text": [
      "Downloading score id: 5209966\n"
     ]
    },
    {
     "name": "stderr",
     "output_type": "stream",
     "text": [
      "\n",
      "\n",
      "\n",
      "\n",
      "\n",
      "\n",
      " 88%|████████▊ | 670/762 [04:44<03:32,  2.31s/it]\u001b[A\u001b[A\u001b[A\u001b[A\u001b[A\u001b[A"
     ]
    },
    {
     "name": "stdout",
     "output_type": "stream",
     "text": [
      "Downloading score id: 5383138\n"
     ]
    },
    {
     "name": "stderr",
     "output_type": "stream",
     "text": [
      "\n",
      "\n",
      "\n",
      "\n",
      "\n",
      "\n",
      " 88%|████████▊ | 671/762 [04:47<04:10,  2.76s/it]\u001b[A\u001b[A\u001b[A\u001b[A\u001b[A\u001b[A"
     ]
    },
    {
     "name": "stdout",
     "output_type": "stream",
     "text": [
      "Downloading score id: 5353461\n"
     ]
    },
    {
     "name": "stderr",
     "output_type": "stream",
     "text": [
      "\n",
      "\n",
      "\n",
      "\n",
      "\n",
      "\n",
      " 88%|████████▊ | 672/762 [04:52<04:49,  3.22s/it]\u001b[A\u001b[A\u001b[A\u001b[A\u001b[A\u001b[A"
     ]
    },
    {
     "name": "stdout",
     "output_type": "stream",
     "text": [
      "Downloading score id: 5350743\n"
     ]
    },
    {
     "name": "stderr",
     "output_type": "stream",
     "text": [
      "\n",
      "\n",
      "\n",
      "\n",
      "\n",
      "\n",
      " 88%|████████▊ | 673/762 [04:53<04:05,  2.75s/it]\u001b[A\u001b[A\u001b[A\u001b[A\u001b[A\u001b[A"
     ]
    },
    {
     "name": "stdout",
     "output_type": "stream",
     "text": [
      "Downloading score id: 5294240\n"
     ]
    },
    {
     "name": "stderr",
     "output_type": "stream",
     "text": [
      "\n",
      "\n",
      "\n",
      "\n",
      "\n",
      "\n",
      " 88%|████████▊ | 674/762 [04:55<03:33,  2.43s/it]\u001b[A\u001b[A\u001b[A\u001b[A\u001b[A\u001b[A"
     ]
    },
    {
     "name": "stdout",
     "output_type": "stream",
     "text": [
      "Downloading score id: 5232429\n"
     ]
    },
    {
     "name": "stderr",
     "output_type": "stream",
     "text": [
      "\n",
      "\n",
      "\n",
      "\n",
      "\n",
      "\n",
      " 89%|████████▊ | 675/762 [04:58<03:36,  2.49s/it]\u001b[A\u001b[A\u001b[A\u001b[A\u001b[A\u001b[A"
     ]
    },
    {
     "name": "stdout",
     "output_type": "stream",
     "text": [
      "Downloading score id: 5377933\n"
     ]
    },
    {
     "name": "stderr",
     "output_type": "stream",
     "text": [
      "\n",
      "\n",
      "\n",
      "\n",
      "\n",
      "\n",
      " 89%|████████▊ | 676/762 [05:00<03:24,  2.38s/it]\u001b[A\u001b[A\u001b[A\u001b[A\u001b[A\u001b[A"
     ]
    },
    {
     "name": "stdout",
     "output_type": "stream",
     "text": [
      "Downloading score id: 5032993\n"
     ]
    },
    {
     "name": "stderr",
     "output_type": "stream",
     "text": [
      "\n",
      "\n",
      "\n",
      "\n",
      "\n",
      "\n",
      " 89%|████████▉ | 677/762 [05:02<03:05,  2.18s/it]\u001b[A\u001b[A\u001b[A\u001b[A\u001b[A\u001b[A"
     ]
    },
    {
     "name": "stdout",
     "output_type": "stream",
     "text": [
      "Downloading score id: 5391964\n"
     ]
    },
    {
     "name": "stderr",
     "output_type": "stream",
     "text": [
      "\n",
      "\n",
      "\n",
      "\n",
      "\n",
      "\n",
      " 89%|████████▉ | 678/762 [05:04<03:15,  2.33s/it]\u001b[A\u001b[A\u001b[A\u001b[A\u001b[A\u001b[A"
     ]
    },
    {
     "name": "stdout",
     "output_type": "stream",
     "text": [
      "Downloading score id: 4992697\n"
     ]
    },
    {
     "name": "stderr",
     "output_type": "stream",
     "text": [
      "\n",
      "\n",
      "\n",
      "\n",
      "\n",
      "\n",
      " 89%|████████▉ | 679/762 [05:07<03:20,  2.42s/it]\u001b[A\u001b[A\u001b[A\u001b[A\u001b[A\u001b[A"
     ]
    },
    {
     "name": "stdout",
     "output_type": "stream",
     "text": [
      "Downloading score id: 4867308\n"
     ]
    },
    {
     "name": "stderr",
     "output_type": "stream",
     "text": [
      "\n",
      "\n",
      "\n",
      "\n",
      "\n",
      "\n",
      " 89%|████████▉ | 680/762 [05:11<03:48,  2.79s/it]\u001b[A\u001b[A\u001b[A\u001b[A\u001b[A\u001b[A"
     ]
    },
    {
     "name": "stdout",
     "output_type": "stream",
     "text": [
      "Downloading score id: 5465859\n"
     ]
    },
    {
     "name": "stderr",
     "output_type": "stream",
     "text": [
      "\n",
      "\n",
      "\n",
      "\n",
      "\n",
      "\n",
      " 89%|████████▉ | 681/762 [05:13<03:42,  2.74s/it]\u001b[A\u001b[A\u001b[A\u001b[A\u001b[A\u001b[A"
     ]
    },
    {
     "name": "stdout",
     "output_type": "stream",
     "text": [
      "Downloading score id: 5446680\n"
     ]
    },
    {
     "name": "stderr",
     "output_type": "stream",
     "text": [
      "\n",
      "\n",
      "\n",
      "\n",
      "\n",
      "\n",
      " 90%|████████▉ | 682/762 [05:15<03:14,  2.43s/it]\u001b[A\u001b[A\u001b[A\u001b[A\u001b[A\u001b[A"
     ]
    },
    {
     "name": "stdout",
     "output_type": "stream",
     "text": [
      "Downloading score id: 4284511\n"
     ]
    },
    {
     "name": "stderr",
     "output_type": "stream",
     "text": [
      "\n",
      "\n",
      "\n",
      "\n",
      "\n",
      "\n",
      " 90%|████████▉ | 683/762 [05:18<03:17,  2.50s/it]\u001b[A\u001b[A\u001b[A\u001b[A\u001b[A\u001b[A"
     ]
    },
    {
     "name": "stdout",
     "output_type": "stream",
     "text": [
      "Downloading score id: 5502289\n"
     ]
    },
    {
     "name": "stderr",
     "output_type": "stream",
     "text": [
      "\n",
      "\n",
      "\n",
      "\n",
      "\n",
      "\n",
      " 90%|████████▉ | 684/762 [05:21<03:29,  2.69s/it]\u001b[A\u001b[A\u001b[A\u001b[A\u001b[A\u001b[A"
     ]
    },
    {
     "name": "stdout",
     "output_type": "stream",
     "text": [
      "Downloading score id: 5456413\n"
     ]
    },
    {
     "name": "stderr",
     "output_type": "stream",
     "text": [
      "\n",
      "\n",
      "\n",
      "\n",
      "\n",
      "\n",
      " 90%|████████▉ | 685/762 [05:22<03:02,  2.37s/it]\u001b[A\u001b[A\u001b[A\u001b[A\u001b[A\u001b[A"
     ]
    },
    {
     "name": "stdout",
     "output_type": "stream",
     "text": [
      "Downloading score id: 5090283\n"
     ]
    },
    {
     "name": "stderr",
     "output_type": "stream",
     "text": [
      "\n",
      "\n",
      "\n",
      "\n",
      "\n",
      "\n",
      " 90%|█████████ | 686/762 [05:25<03:06,  2.45s/it]\u001b[A\u001b[A\u001b[A\u001b[A\u001b[A\u001b[A"
     ]
    },
    {
     "name": "stdout",
     "output_type": "stream",
     "text": [
      "Downloading score id: 5502013\n"
     ]
    },
    {
     "name": "stderr",
     "output_type": "stream",
     "text": [
      "\n",
      "\n",
      "\n",
      "\n",
      "\n",
      "\n",
      " 90%|█████████ | 687/762 [05:28<03:08,  2.51s/it]\u001b[A\u001b[A\u001b[A\u001b[A\u001b[A\u001b[A"
     ]
    },
    {
     "name": "stdout",
     "output_type": "stream",
     "text": [
      "Downloading score id: 5510946\n"
     ]
    },
    {
     "name": "stderr",
     "output_type": "stream",
     "text": [
      "\n",
      "\n",
      "\n",
      "\n",
      "\n",
      "\n",
      " 90%|█████████ | 688/762 [05:30<03:10,  2.57s/it]\u001b[A\u001b[A\u001b[A\u001b[A\u001b[A\u001b[A"
     ]
    },
    {
     "name": "stdout",
     "output_type": "stream",
     "text": [
      "Downloading score id: 5452558\n"
     ]
    },
    {
     "name": "stderr",
     "output_type": "stream",
     "text": [
      "\n",
      "\n",
      "\n",
      "\n",
      "\n",
      "\n",
      " 91%|█████████ | 690/762 [05:34<02:54,  2.42s/it]\u001b[A\u001b[A\u001b[A\u001b[A\u001b[A\u001b[A"
     ]
    },
    {
     "name": "stdout",
     "output_type": "stream",
     "text": [
      "Downloading score id: 5169993\n"
     ]
    },
    {
     "name": "stderr",
     "output_type": "stream",
     "text": [
      "\n",
      "\n",
      "\n",
      "\n",
      "\n",
      "\n",
      " 91%|█████████ | 691/762 [05:37<02:45,  2.34s/it]\u001b[A\u001b[A\u001b[A\u001b[A\u001b[A\u001b[A"
     ]
    },
    {
     "name": "stdout",
     "output_type": "stream",
     "text": [
      "Downloading score id: 5352426\n"
     ]
    },
    {
     "name": "stderr",
     "output_type": "stream",
     "text": [
      "\n",
      "\n",
      "\n",
      "\n",
      "\n",
      "\n",
      " 91%|█████████ | 692/762 [05:39<02:51,  2.45s/it]\u001b[A\u001b[A\u001b[A\u001b[A\u001b[A\u001b[A"
     ]
    },
    {
     "name": "stdout",
     "output_type": "stream",
     "text": [
      "Downloading score id: 5350745\n"
     ]
    },
    {
     "name": "stderr",
     "output_type": "stream",
     "text": [
      "\n",
      "\n",
      "\n",
      "\n",
      "\n",
      "\n",
      " 91%|█████████ | 693/762 [05:42<02:54,  2.53s/it]\u001b[A\u001b[A\u001b[A\u001b[A\u001b[A\u001b[A"
     ]
    },
    {
     "name": "stdout",
     "output_type": "stream",
     "text": [
      "Downloading score id: 5471266\n"
     ]
    },
    {
     "name": "stderr",
     "output_type": "stream",
     "text": [
      "\n",
      "\n",
      "\n",
      "\n",
      "\n",
      "\n",
      " 91%|█████████ | 694/762 [05:45<02:54,  2.56s/it]\u001b[A\u001b[A\u001b[A\u001b[A\u001b[A\u001b[A"
     ]
    },
    {
     "name": "stdout",
     "output_type": "stream",
     "text": [
      "Downloading score id: 1368811\n"
     ]
    },
    {
     "name": "stderr",
     "output_type": "stream",
     "text": [
      "\n",
      "\n",
      "\n",
      "\n",
      "\n",
      "\n",
      " 91%|█████████ | 695/762 [05:46<02:33,  2.29s/it]\u001b[A\u001b[A\u001b[A\u001b[A\u001b[A\u001b[A"
     ]
    },
    {
     "name": "stdout",
     "output_type": "stream",
     "text": [
      "Downloading score id: 3205021\n"
     ]
    },
    {
     "name": "stderr",
     "output_type": "stream",
     "text": [
      "\n",
      "\n",
      "\n",
      "\n",
      "\n",
      "\n",
      " 91%|█████████▏| 696/762 [05:49<02:47,  2.54s/it]\u001b[A\u001b[A\u001b[A\u001b[A\u001b[A\u001b[A"
     ]
    },
    {
     "name": "stdout",
     "output_type": "stream",
     "text": [
      "Downloading score id: 5484954\n"
     ]
    },
    {
     "name": "stderr",
     "output_type": "stream",
     "text": [
      "\n",
      "\n",
      "\n",
      "\n",
      "\n",
      "\n",
      " 91%|█████████▏| 697/762 [05:52<02:37,  2.42s/it]\u001b[A\u001b[A\u001b[A\u001b[A\u001b[A\u001b[A"
     ]
    },
    {
     "name": "stdout",
     "output_type": "stream",
     "text": [
      "Downloading score id: 5378683\n"
     ]
    },
    {
     "name": "stderr",
     "output_type": "stream",
     "text": [
      "\n",
      "\n",
      "\n",
      "\n",
      "\n",
      "\n",
      " 92%|█████████▏| 698/762 [05:55<02:47,  2.61s/it]\u001b[A\u001b[A\u001b[A\u001b[A\u001b[A\u001b[A"
     ]
    },
    {
     "name": "stdout",
     "output_type": "stream",
     "text": [
      "Downloading score id: 5489856\n"
     ]
    },
    {
     "name": "stderr",
     "output_type": "stream",
     "text": [
      "\n",
      "\n",
      "\n",
      "\n",
      "\n",
      "\n",
      " 92%|█████████▏| 699/762 [05:57<02:47,  2.65s/it]\u001b[A\u001b[A\u001b[A\u001b[A\u001b[A\u001b[A"
     ]
    },
    {
     "name": "stdout",
     "output_type": "stream",
     "text": [
      "Downloading score id: 5350728\n"
     ]
    },
    {
     "name": "stderr",
     "output_type": "stream",
     "text": [
      "\n",
      "\n",
      "\n",
      "\n",
      "\n",
      "\n",
      " 92%|█████████▏| 700/762 [06:01<02:58,  2.87s/it]\u001b[A\u001b[A\u001b[A\u001b[A\u001b[A\u001b[A"
     ]
    },
    {
     "name": "stdout",
     "output_type": "stream",
     "text": [
      "Downloading score id: 5311316\n"
     ]
    },
    {
     "name": "stderr",
     "output_type": "stream",
     "text": [
      "\n",
      "\n",
      "\n",
      "\n",
      "\n",
      "\n",
      " 92%|█████████▏| 701/762 [06:03<02:51,  2.81s/it]\u001b[A\u001b[A\u001b[A\u001b[A\u001b[A\u001b[A"
     ]
    },
    {
     "name": "stdout",
     "output_type": "stream",
     "text": [
      "Downloading score id: 5349423\n"
     ]
    },
    {
     "name": "stderr",
     "output_type": "stream",
     "text": [
      "\n",
      "\n",
      "\n",
      "\n",
      "\n",
      "\n",
      " 92%|█████████▏| 702/762 [06:06<02:46,  2.77s/it]\u001b[A\u001b[A\u001b[A\u001b[A\u001b[A\u001b[A"
     ]
    },
    {
     "name": "stdout",
     "output_type": "stream",
     "text": [
      "Downloading score id: 5402473\n"
     ]
    },
    {
     "name": "stderr",
     "output_type": "stream",
     "text": [
      "\n",
      "\n",
      "\n",
      "\n",
      "\n",
      "\n",
      " 92%|█████████▏| 703/762 [06:09<02:50,  2.89s/it]\u001b[A\u001b[A\u001b[A\u001b[A\u001b[A\u001b[A"
     ]
    },
    {
     "name": "stdout",
     "output_type": "stream",
     "text": [
      "Downloading score id: 5142671\n"
     ]
    },
    {
     "name": "stderr",
     "output_type": "stream",
     "text": [
      "\n",
      "\n",
      "\n",
      "\n",
      "\n",
      "\n",
      " 92%|█████████▏| 704/762 [06:12<02:44,  2.83s/it]\u001b[A\u001b[A\u001b[A\u001b[A\u001b[A\u001b[A"
     ]
    },
    {
     "name": "stdout",
     "output_type": "stream",
     "text": [
      "Downloading score id: 5102488\n"
     ]
    },
    {
     "name": "stderr",
     "output_type": "stream",
     "text": [
      "\n",
      "\n",
      "\n",
      "\n",
      "\n",
      "\n",
      " 93%|█████████▎| 705/762 [06:15<02:46,  2.93s/it]\u001b[A\u001b[A\u001b[A\u001b[A\u001b[A\u001b[A"
     ]
    },
    {
     "name": "stdout",
     "output_type": "stream",
     "text": [
      "Downloading score id: 5364881\n"
     ]
    },
    {
     "name": "stderr",
     "output_type": "stream",
     "text": [
      "\n",
      "\n",
      "\n",
      "\n",
      "\n",
      "\n",
      " 93%|█████████▎| 706/762 [06:19<02:56,  3.15s/it]\u001b[A\u001b[A\u001b[A\u001b[A\u001b[A\u001b[A"
     ]
    },
    {
     "name": "stdout",
     "output_type": "stream",
     "text": [
      "Downloading score id: 5372813\n"
     ]
    },
    {
     "name": "stderr",
     "output_type": "stream",
     "text": [
      "\n",
      "\n",
      "\n",
      "\n",
      "\n",
      "\n",
      " 93%|█████████▎| 707/762 [06:22<02:53,  3.15s/it]\u001b[A\u001b[A\u001b[A\u001b[A\u001b[A\u001b[A"
     ]
    },
    {
     "name": "stdout",
     "output_type": "stream",
     "text": [
      "Downloading score id: 5365395\n"
     ]
    },
    {
     "name": "stderr",
     "output_type": "stream",
     "text": [
      "\n",
      "\n",
      "\n",
      "\n",
      "\n",
      "\n",
      " 93%|█████████▎| 708/762 [06:25<02:44,  3.05s/it]\u001b[A\u001b[A\u001b[A\u001b[A\u001b[A\u001b[A"
     ]
    },
    {
     "name": "stdout",
     "output_type": "stream",
     "text": [
      "Downloading score id: 5141366\n"
     ]
    },
    {
     "name": "stderr",
     "output_type": "stream",
     "text": [
      "\n",
      "\n",
      "\n",
      "\n",
      "\n",
      "\n",
      " 93%|█████████▎| 709/762 [06:27<02:28,  2.79s/it]\u001b[A\u001b[A\u001b[A\u001b[A\u001b[A\u001b[A"
     ]
    },
    {
     "name": "stdout",
     "output_type": "stream",
     "text": [
      "Downloading score id: 5335480\n"
     ]
    },
    {
     "name": "stderr",
     "output_type": "stream",
     "text": [
      "\n",
      "\n",
      "\n",
      "\n",
      "\n",
      "\n",
      " 93%|█████████▎| 710/762 [06:29<02:08,  2.46s/it]\u001b[A\u001b[A\u001b[A\u001b[A\u001b[A\u001b[A"
     ]
    },
    {
     "name": "stdout",
     "output_type": "stream",
     "text": [
      "Downloading score id: 5479087\n"
     ]
    },
    {
     "name": "stderr",
     "output_type": "stream",
     "text": [
      "\n",
      "\n",
      "\n",
      "\n",
      "\n",
      "\n",
      " 93%|█████████▎| 711/762 [06:31<02:01,  2.39s/it]\u001b[A\u001b[A\u001b[A\u001b[A\u001b[A\u001b[A"
     ]
    },
    {
     "name": "stdout",
     "output_type": "stream",
     "text": [
      "Downloading score id: 5372870\n"
     ]
    },
    {
     "name": "stderr",
     "output_type": "stream",
     "text": [
      "\n",
      "\n",
      "\n",
      "\n",
      "\n",
      "\n",
      " 93%|█████████▎| 712/762 [06:34<02:11,  2.62s/it]\u001b[A\u001b[A\u001b[A\u001b[A\u001b[A\u001b[A"
     ]
    },
    {
     "name": "stdout",
     "output_type": "stream",
     "text": [
      "Downloading score id: 5045490\n"
     ]
    },
    {
     "name": "stderr",
     "output_type": "stream",
     "text": [
      "\n",
      "\n",
      "\n",
      "\n",
      "\n",
      "\n",
      " 94%|█████████▎| 713/762 [06:36<02:02,  2.49s/it]\u001b[A\u001b[A\u001b[A\u001b[A\u001b[A\u001b[A"
     ]
    },
    {
     "name": "stdout",
     "output_type": "stream",
     "text": [
      "Downloading score id: 5396565\n"
     ]
    },
    {
     "name": "stderr",
     "output_type": "stream",
     "text": [
      "\n",
      "\n",
      "\n",
      "\n",
      "\n",
      "\n",
      " 94%|█████████▎| 714/762 [06:38<01:47,  2.25s/it]\u001b[A\u001b[A\u001b[A\u001b[A\u001b[A\u001b[A"
     ]
    },
    {
     "name": "stdout",
     "output_type": "stream",
     "text": [
      "Downloading score id: 5313405\n"
     ]
    },
    {
     "name": "stderr",
     "output_type": "stream",
     "text": [
      "\n",
      "\n",
      "\n",
      "\n",
      "\n",
      "\n",
      " 94%|█████████▍| 715/762 [06:40<01:44,  2.21s/it]\u001b[A\u001b[A\u001b[A\u001b[A\u001b[A\u001b[A"
     ]
    },
    {
     "name": "stdout",
     "output_type": "stream",
     "text": [
      "Downloading score id: 5486905\n"
     ]
    },
    {
     "name": "stderr",
     "output_type": "stream",
     "text": [
      "\n",
      "\n",
      "\n",
      "\n",
      "\n",
      "\n",
      " 94%|█████████▍| 716/762 [06:44<02:01,  2.64s/it]\u001b[A\u001b[A\u001b[A\u001b[A\u001b[A\u001b[A"
     ]
    },
    {
     "name": "stdout",
     "output_type": "stream",
     "text": [
      "Downloading score id: 5410425\n"
     ]
    },
    {
     "name": "stderr",
     "output_type": "stream",
     "text": [
      "\n",
      "\n",
      "\n",
      "\n",
      "\n",
      "\n",
      " 94%|█████████▍| 717/762 [06:46<01:59,  2.65s/it]\u001b[A\u001b[A\u001b[A\u001b[A\u001b[A\u001b[A"
     ]
    },
    {
     "name": "stdout",
     "output_type": "stream",
     "text": [
      "Downloading score id: 5084226\n"
     ]
    },
    {
     "name": "stderr",
     "output_type": "stream",
     "text": [
      "\n",
      "\n",
      "\n",
      "\n",
      "\n",
      "\n",
      " 94%|█████████▍| 718/762 [06:48<01:43,  2.34s/it]\u001b[A\u001b[A\u001b[A\u001b[A\u001b[A\u001b[A"
     ]
    },
    {
     "name": "stdout",
     "output_type": "stream",
     "text": [
      "Downloading score id: 5398553\n"
     ]
    },
    {
     "name": "stderr",
     "output_type": "stream",
     "text": [
      "\n",
      "\n",
      "\n",
      "\n",
      "\n",
      "\n",
      " 94%|█████████▍| 719/762 [06:51<01:51,  2.60s/it]\u001b[A\u001b[A\u001b[A\u001b[A\u001b[A\u001b[A"
     ]
    },
    {
     "name": "stdout",
     "output_type": "stream",
     "text": [
      "Downloading score id: 5485234\n"
     ]
    },
    {
     "name": "stderr",
     "output_type": "stream",
     "text": [
      "\n",
      "\n",
      "\n",
      "\n",
      "\n",
      "\n",
      " 94%|█████████▍| 720/762 [06:53<01:44,  2.48s/it]\u001b[A\u001b[A\u001b[A\u001b[A\u001b[A\u001b[A"
     ]
    },
    {
     "name": "stdout",
     "output_type": "stream",
     "text": [
      "Downloading score id: 5501668\n"
     ]
    },
    {
     "name": "stderr",
     "output_type": "stream",
     "text": [
      "\n",
      "\n",
      "\n",
      "\n",
      "\n",
      "\n",
      " 95%|█████████▍| 721/762 [06:57<01:51,  2.72s/it]\u001b[A\u001b[A\u001b[A\u001b[A\u001b[A\u001b[A"
     ]
    },
    {
     "name": "stdout",
     "output_type": "stream",
     "text": [
      "Downloading score id: 5299238\n"
     ]
    },
    {
     "name": "stderr",
     "output_type": "stream",
     "text": [
      "\n",
      "\n",
      "\n",
      "\n",
      "\n",
      "\n",
      " 95%|█████████▍| 722/762 [06:58<01:37,  2.45s/it]\u001b[A\u001b[A\u001b[A\u001b[A\u001b[A\u001b[A"
     ]
    },
    {
     "name": "stdout",
     "output_type": "stream",
     "text": [
      "Downloading score id: 5492915\n"
     ]
    },
    {
     "name": "stderr",
     "output_type": "stream",
     "text": [
      "\n",
      "\n",
      "\n",
      "\n",
      "\n",
      "\n",
      " 95%|█████████▍| 723/762 [07:00<01:26,  2.22s/it]\u001b[A\u001b[A\u001b[A\u001b[A\u001b[A\u001b[A"
     ]
    },
    {
     "name": "stdout",
     "output_type": "stream",
     "text": [
      "Downloading score id: 5519552\n"
     ]
    },
    {
     "name": "stderr",
     "output_type": "stream",
     "text": [
      "\n",
      "\n",
      "\n",
      "\n",
      "\n",
      "\n",
      " 95%|█████████▌| 724/762 [07:04<01:46,  2.80s/it]\u001b[A\u001b[A\u001b[A\u001b[A\u001b[A\u001b[A"
     ]
    },
    {
     "name": "stdout",
     "output_type": "stream",
     "text": [
      "Downloading score id: 5446399\n"
     ]
    },
    {
     "name": "stderr",
     "output_type": "stream",
     "text": [
      "\n",
      "\n",
      "\n",
      "\n",
      "\n",
      "\n",
      " 95%|█████████▌| 725/762 [07:07<01:42,  2.77s/it]\u001b[A\u001b[A\u001b[A\u001b[A\u001b[A\u001b[A"
     ]
    },
    {
     "name": "stdout",
     "output_type": "stream",
     "text": [
      "Downloading score id: 5500282\n"
     ]
    },
    {
     "name": "stderr",
     "output_type": "stream",
     "text": [
      "\n",
      "\n",
      "\n",
      "\n",
      "\n",
      "\n",
      " 95%|█████████▌| 726/762 [07:10<01:40,  2.80s/it]\u001b[A\u001b[A\u001b[A\u001b[A\u001b[A\u001b[A"
     ]
    },
    {
     "name": "stdout",
     "output_type": "stream",
     "text": [
      "Downloading score id: 5142661\n"
     ]
    },
    {
     "name": "stderr",
     "output_type": "stream",
     "text": [
      "\n",
      "\n",
      "\n",
      "\n",
      "\n",
      "\n",
      " 95%|█████████▌| 727/762 [07:11<01:25,  2.45s/it]\u001b[A\u001b[A\u001b[A\u001b[A\u001b[A\u001b[A"
     ]
    },
    {
     "name": "stdout",
     "output_type": "stream",
     "text": [
      "Downloading score id: 5392388\n"
     ]
    },
    {
     "name": "stderr",
     "output_type": "stream",
     "text": [
      "\n",
      "\n",
      "\n",
      "\n",
      "\n",
      "\n",
      " 96%|█████████▌| 728/762 [07:14<01:25,  2.52s/it]\u001b[A\u001b[A\u001b[A\u001b[A\u001b[A\u001b[A"
     ]
    },
    {
     "name": "stdout",
     "output_type": "stream",
     "text": [
      "Downloading score id: 5046084\n"
     ]
    },
    {
     "name": "stderr",
     "output_type": "stream",
     "text": [
      "\n",
      "\n",
      "\n",
      "\n",
      "\n",
      "\n",
      " 96%|█████████▌| 729/762 [07:17<01:25,  2.60s/it]\u001b[A\u001b[A\u001b[A\u001b[A\u001b[A\u001b[A"
     ]
    },
    {
     "name": "stdout",
     "output_type": "stream",
     "text": [
      "Downloading score id: 5501907\n"
     ]
    },
    {
     "name": "stderr",
     "output_type": "stream",
     "text": [
      "\n",
      "\n",
      "\n",
      "\n",
      "\n",
      "\n",
      " 96%|█████████▌| 730/762 [07:19<01:22,  2.57s/it]\u001b[A\u001b[A\u001b[A\u001b[A\u001b[A\u001b[A"
     ]
    },
    {
     "name": "stdout",
     "output_type": "stream",
     "text": [
      "Downloading score id: 5215968\n"
     ]
    },
    {
     "name": "stderr",
     "output_type": "stream",
     "text": [
      "\n",
      "\n",
      "\n",
      "\n",
      "\n",
      "\n",
      " 96%|█████████▌| 731/762 [07:22<01:17,  2.50s/it]\u001b[A\u001b[A\u001b[A\u001b[A\u001b[A\u001b[A"
     ]
    },
    {
     "name": "stdout",
     "output_type": "stream",
     "text": [
      "Downloading score id: 5512292\n"
     ]
    },
    {
     "name": "stderr",
     "output_type": "stream",
     "text": [
      "\n",
      "\n",
      "\n",
      "\n",
      "\n",
      "\n",
      " 96%|█████████▌| 732/762 [07:24<01:16,  2.54s/it]\u001b[A\u001b[A\u001b[A\u001b[A\u001b[A\u001b[A"
     ]
    },
    {
     "name": "stdout",
     "output_type": "stream",
     "text": [
      "Downloading score id: 5495183\n"
     ]
    },
    {
     "name": "stderr",
     "output_type": "stream",
     "text": [
      "\n",
      "\n",
      "\n",
      "\n",
      "\n",
      "\n",
      " 96%|█████████▌| 733/762 [07:26<01:06,  2.28s/it]\u001b[A\u001b[A\u001b[A\u001b[A\u001b[A\u001b[A"
     ]
    },
    {
     "name": "stdout",
     "output_type": "stream",
     "text": [
      "Downloading score id: 5482006\n"
     ]
    },
    {
     "name": "stderr",
     "output_type": "stream",
     "text": [
      "\n",
      "\n",
      "\n",
      "\n",
      "\n",
      "\n",
      " 96%|█████████▋| 734/762 [07:29<01:10,  2.54s/it]\u001b[A\u001b[A\u001b[A\u001b[A\u001b[A\u001b[A"
     ]
    },
    {
     "name": "stdout",
     "output_type": "stream",
     "text": [
      "Downloading score id: 5500103\n"
     ]
    },
    {
     "name": "stderr",
     "output_type": "stream",
     "text": [
      "\n",
      "\n",
      "\n",
      "\n",
      "\n",
      "\n",
      " 96%|█████████▋| 735/762 [07:31<01:00,  2.26s/it]\u001b[A\u001b[A\u001b[A\u001b[A\u001b[A\u001b[A"
     ]
    },
    {
     "name": "stdout",
     "output_type": "stream",
     "text": [
      "Downloading score id: 5476269\n"
     ]
    },
    {
     "name": "stderr",
     "output_type": "stream",
     "text": [
      "\n",
      "\n",
      "\n",
      "\n",
      "\n",
      "\n",
      " 97%|█████████▋| 736/762 [07:34<01:05,  2.54s/it]\u001b[A\u001b[A\u001b[A\u001b[A\u001b[A\u001b[A"
     ]
    },
    {
     "name": "stdout",
     "output_type": "stream",
     "text": [
      "Downloading score id: 5508596\n"
     ]
    },
    {
     "name": "stderr",
     "output_type": "stream",
     "text": [
      "\n",
      "\n",
      "\n",
      "\n",
      "\n",
      "\n",
      " 97%|█████████▋| 737/762 [07:37<01:04,  2.57s/it]\u001b[A\u001b[A\u001b[A\u001b[A\u001b[A\u001b[A"
     ]
    },
    {
     "name": "stdout",
     "output_type": "stream",
     "text": [
      "Downloading score id: 5509826\n"
     ]
    },
    {
     "name": "stderr",
     "output_type": "stream",
     "text": [
      "\n",
      "\n",
      "\n",
      "\n",
      "\n",
      "\n",
      " 97%|█████████▋| 738/762 [07:39<01:02,  2.59s/it]\u001b[A\u001b[A\u001b[A\u001b[A\u001b[A\u001b[A"
     ]
    },
    {
     "name": "stdout",
     "output_type": "stream",
     "text": [
      "Downloading score id: 5474344\n"
     ]
    },
    {
     "name": "stderr",
     "output_type": "stream",
     "text": [
      "\n",
      "\n",
      "\n",
      "\n",
      "\n",
      "\n",
      " 97%|█████████▋| 739/762 [07:42<01:03,  2.75s/it]\u001b[A\u001b[A\u001b[A\u001b[A\u001b[A\u001b[A"
     ]
    },
    {
     "name": "stdout",
     "output_type": "stream",
     "text": [
      "Downloading score id: 5450692\n"
     ]
    },
    {
     "name": "stderr",
     "output_type": "stream",
     "text": [
      "\n",
      "\n",
      "\n",
      "\n",
      "\n",
      "\n",
      " 97%|█████████▋| 740/762 [07:44<00:53,  2.44s/it]\u001b[A\u001b[A\u001b[A\u001b[A\u001b[A\u001b[A"
     ]
    },
    {
     "name": "stdout",
     "output_type": "stream",
     "text": [
      "Downloading score id: 5252689\n"
     ]
    },
    {
     "name": "stderr",
     "output_type": "stream",
     "text": [
      "\n",
      "\n",
      "\n",
      "\n",
      "\n",
      "\n",
      " 97%|█████████▋| 741/762 [07:47<00:52,  2.50s/it]\u001b[A\u001b[A\u001b[A\u001b[A\u001b[A\u001b[A"
     ]
    },
    {
     "name": "stdout",
     "output_type": "stream",
     "text": [
      "Downloading score id: 5489197\n"
     ]
    },
    {
     "name": "stderr",
     "output_type": "stream",
     "text": [
      "\n",
      "\n",
      "\n",
      "\n",
      "\n",
      "\n",
      " 97%|█████████▋| 742/762 [07:49<00:51,  2.55s/it]\u001b[A\u001b[A\u001b[A\u001b[A\u001b[A\u001b[A"
     ]
    },
    {
     "name": "stdout",
     "output_type": "stream",
     "text": [
      "Downloading score id: 5453541\n"
     ]
    },
    {
     "name": "stderr",
     "output_type": "stream",
     "text": [
      "\n",
      "\n",
      "\n",
      "\n",
      "\n",
      "\n",
      " 98%|█████████▊| 743/762 [07:51<00:43,  2.29s/it]\u001b[A\u001b[A\u001b[A\u001b[A\u001b[A\u001b[A"
     ]
    },
    {
     "name": "stdout",
     "output_type": "stream",
     "text": [
      "Downloading score id: 5520888\n"
     ]
    },
    {
     "name": "stderr",
     "output_type": "stream",
     "text": [
      "\n",
      "\n",
      "\n",
      "\n",
      "\n",
      "\n",
      " 98%|█████████▊| 744/762 [07:54<00:43,  2.40s/it]\u001b[A\u001b[A\u001b[A\u001b[A\u001b[A\u001b[A"
     ]
    },
    {
     "name": "stdout",
     "output_type": "stream",
     "text": [
      "Downloading score id: 5416048\n"
     ]
    },
    {
     "name": "stderr",
     "output_type": "stream",
     "text": [
      "\n",
      "\n",
      "\n",
      "\n",
      "\n",
      "\n",
      " 98%|█████████▊| 745/762 [07:56<00:42,  2.48s/it]\u001b[A\u001b[A\u001b[A\u001b[A\u001b[A\u001b[A"
     ]
    },
    {
     "name": "stdout",
     "output_type": "stream",
     "text": [
      "Downloading score id: 5476284\n"
     ]
    },
    {
     "name": "stderr",
     "output_type": "stream",
     "text": [
      "\n",
      "\n",
      "\n",
      "\n",
      "\n",
      "\n",
      " 98%|█████████▊| 746/762 [07:58<00:35,  2.22s/it]\u001b[A\u001b[A\u001b[A\u001b[A\u001b[A\u001b[A"
     ]
    },
    {
     "name": "stdout",
     "output_type": "stream",
     "text": [
      "Downloading score id: 5508035\n"
     ]
    },
    {
     "name": "stderr",
     "output_type": "stream",
     "text": [
      "\n",
      "\n",
      "\n",
      "\n",
      "\n",
      "\n",
      " 98%|█████████▊| 747/762 [08:01<00:35,  2.35s/it]\u001b[A\u001b[A\u001b[A\u001b[A\u001b[A\u001b[A"
     ]
    },
    {
     "name": "stdout",
     "output_type": "stream",
     "text": [
      "Downloading score id: 5522112\n"
     ]
    },
    {
     "name": "stderr",
     "output_type": "stream",
     "text": [
      "\n",
      "\n",
      "\n",
      "\n",
      "\n",
      "\n",
      " 98%|█████████▊| 748/762 [08:03<00:33,  2.39s/it]\u001b[A\u001b[A\u001b[A\u001b[A\u001b[A\u001b[A"
     ]
    },
    {
     "name": "stdout",
     "output_type": "stream",
     "text": [
      "Downloading score id: 5522878\n"
     ]
    },
    {
     "name": "stderr",
     "output_type": "stream",
     "text": [
      "\n",
      "\n",
      "\n",
      "\n",
      "\n",
      "\n",
      " 98%|█████████▊| 749/762 [08:06<00:32,  2.47s/it]\u001b[A\u001b[A\u001b[A\u001b[A\u001b[A\u001b[A"
     ]
    },
    {
     "name": "stdout",
     "output_type": "stream",
     "text": [
      "Downloading score id: 5351084\n"
     ]
    },
    {
     "name": "stderr",
     "output_type": "stream",
     "text": [
      "\n",
      "\n",
      "\n",
      "\n",
      "\n",
      "\n",
      " 98%|█████████▊| 750/762 [08:09<00:30,  2.54s/it]\u001b[A\u001b[A\u001b[A\u001b[A\u001b[A\u001b[A"
     ]
    },
    {
     "name": "stdout",
     "output_type": "stream",
     "text": [
      "Downloading score id: 5323733\n"
     ]
    },
    {
     "name": "stderr",
     "output_type": "stream",
     "text": [
      "\n",
      "\n",
      "\n",
      "\n",
      "\n",
      "\n",
      " 99%|█████████▊| 751/762 [08:12<00:29,  2.72s/it]\u001b[A\u001b[A\u001b[A\u001b[A\u001b[A\u001b[A"
     ]
    },
    {
     "name": "stdout",
     "output_type": "stream",
     "text": [
      "Downloading score id: 5518661\n"
     ]
    },
    {
     "name": "stderr",
     "output_type": "stream",
     "text": [
      "\n",
      "\n",
      "\n",
      "\n",
      "\n",
      "\n",
      " 99%|█████████▊| 752/762 [08:14<00:27,  2.70s/it]\u001b[A\u001b[A\u001b[A\u001b[A\u001b[A\u001b[A"
     ]
    },
    {
     "name": "stdout",
     "output_type": "stream",
     "text": [
      "Downloading score id: 5424772\n"
     ]
    },
    {
     "name": "stderr",
     "output_type": "stream",
     "text": [
      "\n",
      "\n",
      "\n",
      "\n",
      "\n",
      "\n",
      " 99%|█████████▉| 753/762 [08:17<00:24,  2.71s/it]\u001b[A\u001b[A\u001b[A\u001b[A\u001b[A\u001b[A"
     ]
    },
    {
     "name": "stdout",
     "output_type": "stream",
     "text": [
      "Downloading score id: 5523808\n"
     ]
    },
    {
     "name": "stderr",
     "output_type": "stream",
     "text": [
      "\n",
      "\n",
      "\n",
      "\n",
      "\n",
      "\n",
      " 99%|█████████▉| 754/762 [08:19<00:19,  2.40s/it]\u001b[A\u001b[A\u001b[A\u001b[A\u001b[A\u001b[A"
     ]
    },
    {
     "name": "stdout",
     "output_type": "stream",
     "text": [
      "Downloading score id: 5495174\n"
     ]
    },
    {
     "name": "stderr",
     "output_type": "stream",
     "text": [
      "\n",
      "\n",
      "\n",
      "\n",
      "\n",
      "\n",
      " 99%|█████████▉| 755/762 [08:20<00:15,  2.17s/it]\u001b[A\u001b[A\u001b[A\u001b[A\u001b[A\u001b[A"
     ]
    },
    {
     "name": "stdout",
     "output_type": "stream",
     "text": [
      "Downloading score id: 5515546\n"
     ]
    },
    {
     "name": "stderr",
     "output_type": "stream",
     "text": [
      "\n",
      "\n",
      "\n",
      "\n",
      "\n",
      "\n",
      " 99%|█████████▉| 756/762 [08:23<00:14,  2.35s/it]\u001b[A\u001b[A\u001b[A\u001b[A\u001b[A\u001b[A"
     ]
    },
    {
     "name": "stdout",
     "output_type": "stream",
     "text": [
      "Downloading score id: 5505919\n"
     ]
    },
    {
     "name": "stderr",
     "output_type": "stream",
     "text": [
      "\n",
      "\n",
      "\n",
      "\n",
      "\n",
      "\n",
      " 99%|█████████▉| 757/762 [08:25<00:10,  2.13s/it]\u001b[A\u001b[A\u001b[A\u001b[A\u001b[A\u001b[A"
     ]
    },
    {
     "name": "stdout",
     "output_type": "stream",
     "text": [
      "Downloading score id: 5421063\n"
     ]
    },
    {
     "name": "stderr",
     "output_type": "stream",
     "text": [
      "\n",
      "\n",
      "\n",
      "\n",
      "\n",
      "\n",
      " 99%|█████████▉| 758/762 [08:29<00:11,  2.81s/it]\u001b[A\u001b[A\u001b[A\u001b[A\u001b[A\u001b[A"
     ]
    },
    {
     "name": "stdout",
     "output_type": "stream",
     "text": [
      "Downloading score id: 5522116\n"
     ]
    },
    {
     "name": "stderr",
     "output_type": "stream",
     "text": [
      "\n",
      "\n",
      "\n",
      "\n",
      "\n",
      "\n",
      "100%|█████████▉| 759/762 [08:31<00:07,  2.60s/it]\u001b[A\u001b[A\u001b[A\u001b[A\u001b[A\u001b[A"
     ]
    },
    {
     "name": "stdout",
     "output_type": "stream",
     "text": [
      "Downloading score id: 5522121\n"
     ]
    },
    {
     "name": "stderr",
     "output_type": "stream",
     "text": [
      "\n",
      "\n",
      "\n",
      "\n",
      "\n",
      "\n",
      "100%|█████████▉| 760/762 [08:34<00:05,  2.60s/it]\u001b[A\u001b[A\u001b[A\u001b[A\u001b[A\u001b[A"
     ]
    },
    {
     "name": "stdout",
     "output_type": "stream",
     "text": [
      "Downloading score id: 5518526\n"
     ]
    },
    {
     "name": "stderr",
     "output_type": "stream",
     "text": [
      "\n",
      "\n",
      "\n",
      "\n",
      "\n",
      "\n",
      "100%|█████████▉| 761/762 [08:37<00:02,  2.78s/it]\u001b[A\u001b[A\u001b[A\u001b[A\u001b[A\u001b[A"
     ]
    },
    {
     "name": "stdout",
     "output_type": "stream",
     "text": [
      "Downloading score id: 5524548\n"
     ]
    },
    {
     "name": "stderr",
     "output_type": "stream",
     "text": [
      "\n",
      "\n",
      "\n",
      "\n",
      "\n",
      "\n",
      "100%|██████████| 762/762 [08:39<00:00,  2.43s/it]\u001b[A\u001b[A\u001b[A\u001b[A\u001b[A\u001b[A\n",
      "\n",
      "\n",
      "\n",
      "\n",
      "\n",
      "\u001b[A\u001b[A\u001b[A\u001b[A\u001b[A\u001b[A"
     ]
    }
   ],
   "source": [
    "for idx,link in enumerate(tqdm(links, total=len(links))):\n",
    "    score_id = link['score_id']\n",
    "    out_file = f\"data/{score_id}.mxl\"\n",
    "    if Path(out_file).exists() or score_id in invalid_ids: continue\n",
    "    # Every 10 requests, generate a new proxy\n",
    "    if idx % 10 == 0 or instance is None:\n",
    "        instance_index = random.randint(0, len(instances) - 1)\n",
    "        instance = instances[instance_index]\n",
    "    try:\n",
    "        print('Downloading score id:', score_id)\n",
    "        instance.download(score_id, out_file, format='mxl')\n",
    "    except Exception as e:\n",
    "        print('Could not download id:', score_id)\n",
    "        instance = None\n",
    "    sleep(randint(1,2))\n",
    "    "
   ]
  },
  {
   "cell_type": "code",
   "execution_count": 21,
   "metadata": {},
   "outputs": [
    {
     "data": {
      "text/plain": [
       "300"
      ]
     },
     "execution_count": 21,
     "metadata": {},
     "output_type": "execute_result"
    }
   ],
   "source": [
    "len(all_proxies)"
   ]
  },
  {
   "cell_type": "code",
   "execution_count": 35,
   "metadata": {},
   "outputs": [],
   "source": [
    "\n",
    "# del all_proxies[proxy_index]\n",
    "# proxy = None"
   ]
  },
  {
   "cell_type": "code",
   "execution_count": 36,
   "metadata": {},
   "outputs": [
    {
     "name": "stderr",
     "output_type": "stream",
     "text": [
      "\n",
      "\n",
      "\n",
      "\n",
      "\n",
      "  0%|          | 0/762 [00:00<?, ?it/s]\u001b[A\u001b[A\u001b[A\u001b[A\u001b[A"
     ]
    },
    {
     "name": "stdout",
     "output_type": "stream",
     "text": [
      "Downloading score id: 2109666\n"
     ]
    },
    {
     "ename": "KeyboardInterrupt",
     "evalue": "",
     "output_type": "error",
     "traceback": [
      "\u001b[0;31m---------------------------------------------------------------------------\u001b[0m",
      "\u001b[0;31mKeyboardInterrupt\u001b[0m                         Traceback (most recent call last)",
      "\u001b[0;32m<ipython-input-36-da0c0c035603>\u001b[0m in \u001b[0;36m<module>\u001b[0;34m\u001b[0m\n\u001b[1;32m     14\u001b[0m \u001b[0;34m\u001b[0m\u001b[0m\n\u001b[1;32m     15\u001b[0m         \u001b[0mstart\u001b[0m \u001b[0;34m=\u001b[0m \u001b[0mtime\u001b[0m\u001b[0;34m.\u001b[0m\u001b[0mtime\u001b[0m\u001b[0;34m(\u001b[0m\u001b[0;34m)\u001b[0m\u001b[0;34m\u001b[0m\u001b[0;34m\u001b[0m\u001b[0m\n\u001b[0;32m---> 16\u001b[0;31m         \u001b[0minstance\u001b[0m\u001b[0;34m.\u001b[0m\u001b[0mdownload\u001b[0m\u001b[0;34m(\u001b[0m\u001b[0mscore_id\u001b[0m\u001b[0;34m,\u001b[0m \u001b[0mout_file\u001b[0m\u001b[0;34m,\u001b[0m \u001b[0mformat\u001b[0m\u001b[0;34m=\u001b[0m\u001b[0;34m'mxl'\u001b[0m\u001b[0;34m,\u001b[0m \u001b[0mproxy\u001b[0m\u001b[0;34m=\u001b[0m\u001b[0mproxy_url\u001b[0m\u001b[0;34m)\u001b[0m\u001b[0;34m\u001b[0m\u001b[0;34m\u001b[0m\u001b[0m\n\u001b[0m\u001b[1;32m     17\u001b[0m         \u001b[0mend\u001b[0m \u001b[0;34m=\u001b[0m \u001b[0mtime\u001b[0m\u001b[0;34m.\u001b[0m\u001b[0mtime\u001b[0m\u001b[0;34m(\u001b[0m\u001b[0;34m)\u001b[0m\u001b[0;34m\u001b[0m\u001b[0;34m\u001b[0m\u001b[0m\n\u001b[1;32m     18\u001b[0m         \u001b[0;32mif\u001b[0m \u001b[0;34m(\u001b[0m\u001b[0mend\u001b[0m \u001b[0;34m-\u001b[0m \u001b[0mstart\u001b[0m\u001b[0;34m)\u001b[0m \u001b[0;34m>\u001b[0m \u001b[0;36m15\u001b[0m\u001b[0;34m:\u001b[0m \u001b[0;32mraise\u001b[0m \u001b[0mException\u001b[0m\u001b[0;34m(\u001b[0m\u001b[0;34m'Took too long to download'\u001b[0m\u001b[0;34m)\u001b[0m\u001b[0;34m\u001b[0m\u001b[0;34m\u001b[0m\u001b[0m\n",
      "\u001b[0;32m<ipython-input-13-e941c227e77d>\u001b[0m in \u001b[0;36mdownload\u001b[0;34m(self, id, filename, format, proxy)\u001b[0m\n\u001b[1;32m     68\u001b[0m         \u001b[0murllib\u001b[0m\u001b[0;34m.\u001b[0m\u001b[0mrequest\u001b[0m\u001b[0;34m.\u001b[0m\u001b[0minstall_opener\u001b[0m\u001b[0;34m(\u001b[0m\u001b[0mopener\u001b[0m\u001b[0;34m)\u001b[0m\u001b[0;34m\u001b[0m\u001b[0;34m\u001b[0m\u001b[0m\n\u001b[1;32m     69\u001b[0m         \u001b[0;32mtry\u001b[0m\u001b[0;34m:\u001b[0m\u001b[0;34m\u001b[0m\u001b[0;34m\u001b[0m\u001b[0m\n\u001b[0;32m---> 70\u001b[0;31m             \u001b[0murllib\u001b[0m\u001b[0;34m.\u001b[0m\u001b[0mrequest\u001b[0m\u001b[0;34m.\u001b[0m\u001b[0murlretrieve\u001b[0m\u001b[0;34m(\u001b[0m\u001b[0mnewlink\u001b[0m\u001b[0;34m,\u001b[0m \u001b[0mfilename\u001b[0m\u001b[0;34m)\u001b[0m\u001b[0;34m\u001b[0m\u001b[0;34m\u001b[0m\u001b[0m\n\u001b[0m\u001b[1;32m     71\u001b[0m         \u001b[0;32mexcept\u001b[0m \u001b[0murllib\u001b[0m\u001b[0;34m.\u001b[0m\u001b[0merror\u001b[0m\u001b[0;34m.\u001b[0m\u001b[0mHTTPError\u001b[0m \u001b[0;32mas\u001b[0m \u001b[0me\u001b[0m\u001b[0;34m:\u001b[0m\u001b[0;34m\u001b[0m\u001b[0;34m\u001b[0m\u001b[0m\n\u001b[1;32m     72\u001b[0m             \u001b[0;32mraise\u001b[0m \u001b[0me\u001b[0m\u001b[0;34m\u001b[0m\u001b[0;34m\u001b[0m\u001b[0m\n",
      "\u001b[0;32m~/anaconda3/envs/midi/lib/python3.7/urllib/request.py\u001b[0m in \u001b[0;36murlretrieve\u001b[0;34m(url, filename, reporthook, data)\u001b[0m\n\u001b[1;32m    245\u001b[0m     \u001b[0murl_type\u001b[0m\u001b[0;34m,\u001b[0m \u001b[0mpath\u001b[0m \u001b[0;34m=\u001b[0m \u001b[0msplittype\u001b[0m\u001b[0;34m(\u001b[0m\u001b[0murl\u001b[0m\u001b[0;34m)\u001b[0m\u001b[0;34m\u001b[0m\u001b[0;34m\u001b[0m\u001b[0m\n\u001b[1;32m    246\u001b[0m \u001b[0;34m\u001b[0m\u001b[0m\n\u001b[0;32m--> 247\u001b[0;31m     \u001b[0;32mwith\u001b[0m \u001b[0mcontextlib\u001b[0m\u001b[0;34m.\u001b[0m\u001b[0mclosing\u001b[0m\u001b[0;34m(\u001b[0m\u001b[0murlopen\u001b[0m\u001b[0;34m(\u001b[0m\u001b[0murl\u001b[0m\u001b[0;34m,\u001b[0m \u001b[0mdata\u001b[0m\u001b[0;34m)\u001b[0m\u001b[0;34m)\u001b[0m \u001b[0;32mas\u001b[0m \u001b[0mfp\u001b[0m\u001b[0;34m:\u001b[0m\u001b[0;34m\u001b[0m\u001b[0;34m\u001b[0m\u001b[0m\n\u001b[0m\u001b[1;32m    248\u001b[0m         \u001b[0mheaders\u001b[0m \u001b[0;34m=\u001b[0m \u001b[0mfp\u001b[0m\u001b[0;34m.\u001b[0m\u001b[0minfo\u001b[0m\u001b[0;34m(\u001b[0m\u001b[0;34m)\u001b[0m\u001b[0;34m\u001b[0m\u001b[0;34m\u001b[0m\u001b[0m\n\u001b[1;32m    249\u001b[0m \u001b[0;34m\u001b[0m\u001b[0m\n",
      "\u001b[0;32m~/anaconda3/envs/midi/lib/python3.7/urllib/request.py\u001b[0m in \u001b[0;36murlopen\u001b[0;34m(url, data, timeout, cafile, capath, cadefault, context)\u001b[0m\n\u001b[1;32m    220\u001b[0m     \u001b[0;32melse\u001b[0m\u001b[0;34m:\u001b[0m\u001b[0;34m\u001b[0m\u001b[0;34m\u001b[0m\u001b[0m\n\u001b[1;32m    221\u001b[0m         \u001b[0mopener\u001b[0m \u001b[0;34m=\u001b[0m \u001b[0m_opener\u001b[0m\u001b[0;34m\u001b[0m\u001b[0;34m\u001b[0m\u001b[0m\n\u001b[0;32m--> 222\u001b[0;31m     \u001b[0;32mreturn\u001b[0m \u001b[0mopener\u001b[0m\u001b[0;34m.\u001b[0m\u001b[0mopen\u001b[0m\u001b[0;34m(\u001b[0m\u001b[0murl\u001b[0m\u001b[0;34m,\u001b[0m \u001b[0mdata\u001b[0m\u001b[0;34m,\u001b[0m \u001b[0mtimeout\u001b[0m\u001b[0;34m)\u001b[0m\u001b[0;34m\u001b[0m\u001b[0;34m\u001b[0m\u001b[0m\n\u001b[0m\u001b[1;32m    223\u001b[0m \u001b[0;34m\u001b[0m\u001b[0m\n\u001b[1;32m    224\u001b[0m \u001b[0;32mdef\u001b[0m \u001b[0minstall_opener\u001b[0m\u001b[0;34m(\u001b[0m\u001b[0mopener\u001b[0m\u001b[0;34m)\u001b[0m\u001b[0;34m:\u001b[0m\u001b[0;34m\u001b[0m\u001b[0;34m\u001b[0m\u001b[0m\n",
      "\u001b[0;32m~/anaconda3/envs/midi/lib/python3.7/urllib/request.py\u001b[0m in \u001b[0;36mopen\u001b[0;34m(self, fullurl, data, timeout)\u001b[0m\n\u001b[1;32m    529\u001b[0m         \u001b[0;32mfor\u001b[0m \u001b[0mprocessor\u001b[0m \u001b[0;32min\u001b[0m \u001b[0mself\u001b[0m\u001b[0;34m.\u001b[0m\u001b[0mprocess_response\u001b[0m\u001b[0;34m.\u001b[0m\u001b[0mget\u001b[0m\u001b[0;34m(\u001b[0m\u001b[0mprotocol\u001b[0m\u001b[0;34m,\u001b[0m \u001b[0;34m[\u001b[0m\u001b[0;34m]\u001b[0m\u001b[0;34m)\u001b[0m\u001b[0;34m:\u001b[0m\u001b[0;34m\u001b[0m\u001b[0;34m\u001b[0m\u001b[0m\n\u001b[1;32m    530\u001b[0m             \u001b[0mmeth\u001b[0m \u001b[0;34m=\u001b[0m \u001b[0mgetattr\u001b[0m\u001b[0;34m(\u001b[0m\u001b[0mprocessor\u001b[0m\u001b[0;34m,\u001b[0m \u001b[0mmeth_name\u001b[0m\u001b[0;34m)\u001b[0m\u001b[0;34m\u001b[0m\u001b[0;34m\u001b[0m\u001b[0m\n\u001b[0;32m--> 531\u001b[0;31m             \u001b[0mresponse\u001b[0m \u001b[0;34m=\u001b[0m \u001b[0mmeth\u001b[0m\u001b[0;34m(\u001b[0m\u001b[0mreq\u001b[0m\u001b[0;34m,\u001b[0m \u001b[0mresponse\u001b[0m\u001b[0;34m)\u001b[0m\u001b[0;34m\u001b[0m\u001b[0;34m\u001b[0m\u001b[0m\n\u001b[0m\u001b[1;32m    532\u001b[0m \u001b[0;34m\u001b[0m\u001b[0m\n\u001b[1;32m    533\u001b[0m         \u001b[0;32mreturn\u001b[0m \u001b[0mresponse\u001b[0m\u001b[0;34m\u001b[0m\u001b[0;34m\u001b[0m\u001b[0m\n",
      "\u001b[0;32m~/anaconda3/envs/midi/lib/python3.7/urllib/request.py\u001b[0m in \u001b[0;36mhttp_response\u001b[0;34m(self, request, response)\u001b[0m\n\u001b[1;32m    639\u001b[0m         \u001b[0;32mif\u001b[0m \u001b[0;32mnot\u001b[0m \u001b[0;34m(\u001b[0m\u001b[0;36m200\u001b[0m \u001b[0;34m<=\u001b[0m \u001b[0mcode\u001b[0m \u001b[0;34m<\u001b[0m \u001b[0;36m300\u001b[0m\u001b[0;34m)\u001b[0m\u001b[0;34m:\u001b[0m\u001b[0;34m\u001b[0m\u001b[0;34m\u001b[0m\u001b[0m\n\u001b[1;32m    640\u001b[0m             response = self.parent.error(\n\u001b[0;32m--> 641\u001b[0;31m                 'http', request, response, code, msg, hdrs)\n\u001b[0m\u001b[1;32m    642\u001b[0m \u001b[0;34m\u001b[0m\u001b[0m\n\u001b[1;32m    643\u001b[0m         \u001b[0;32mreturn\u001b[0m \u001b[0mresponse\u001b[0m\u001b[0;34m\u001b[0m\u001b[0;34m\u001b[0m\u001b[0m\n",
      "\u001b[0;32m~/anaconda3/envs/midi/lib/python3.7/urllib/request.py\u001b[0m in \u001b[0;36merror\u001b[0;34m(self, proto, *args)\u001b[0m\n\u001b[1;32m    561\u001b[0m             \u001b[0mhttp_err\u001b[0m \u001b[0;34m=\u001b[0m \u001b[0;36m0\u001b[0m\u001b[0;34m\u001b[0m\u001b[0;34m\u001b[0m\u001b[0m\n\u001b[1;32m    562\u001b[0m         \u001b[0margs\u001b[0m \u001b[0;34m=\u001b[0m \u001b[0;34m(\u001b[0m\u001b[0mdict\u001b[0m\u001b[0;34m,\u001b[0m \u001b[0mproto\u001b[0m\u001b[0;34m,\u001b[0m \u001b[0mmeth_name\u001b[0m\u001b[0;34m)\u001b[0m \u001b[0;34m+\u001b[0m \u001b[0margs\u001b[0m\u001b[0;34m\u001b[0m\u001b[0;34m\u001b[0m\u001b[0m\n\u001b[0;32m--> 563\u001b[0;31m         \u001b[0mresult\u001b[0m \u001b[0;34m=\u001b[0m \u001b[0mself\u001b[0m\u001b[0;34m.\u001b[0m\u001b[0m_call_chain\u001b[0m\u001b[0;34m(\u001b[0m\u001b[0;34m*\u001b[0m\u001b[0margs\u001b[0m\u001b[0;34m)\u001b[0m\u001b[0;34m\u001b[0m\u001b[0;34m\u001b[0m\u001b[0m\n\u001b[0m\u001b[1;32m    564\u001b[0m         \u001b[0;32mif\u001b[0m \u001b[0mresult\u001b[0m\u001b[0;34m:\u001b[0m\u001b[0;34m\u001b[0m\u001b[0;34m\u001b[0m\u001b[0m\n\u001b[1;32m    565\u001b[0m             \u001b[0;32mreturn\u001b[0m \u001b[0mresult\u001b[0m\u001b[0;34m\u001b[0m\u001b[0;34m\u001b[0m\u001b[0m\n",
      "\u001b[0;32m~/anaconda3/envs/midi/lib/python3.7/urllib/request.py\u001b[0m in \u001b[0;36m_call_chain\u001b[0;34m(self, chain, kind, meth_name, *args)\u001b[0m\n\u001b[1;32m    501\u001b[0m         \u001b[0;32mfor\u001b[0m \u001b[0mhandler\u001b[0m \u001b[0;32min\u001b[0m \u001b[0mhandlers\u001b[0m\u001b[0;34m:\u001b[0m\u001b[0;34m\u001b[0m\u001b[0;34m\u001b[0m\u001b[0m\n\u001b[1;32m    502\u001b[0m             \u001b[0mfunc\u001b[0m \u001b[0;34m=\u001b[0m \u001b[0mgetattr\u001b[0m\u001b[0;34m(\u001b[0m\u001b[0mhandler\u001b[0m\u001b[0;34m,\u001b[0m \u001b[0mmeth_name\u001b[0m\u001b[0;34m)\u001b[0m\u001b[0;34m\u001b[0m\u001b[0;34m\u001b[0m\u001b[0m\n\u001b[0;32m--> 503\u001b[0;31m             \u001b[0mresult\u001b[0m \u001b[0;34m=\u001b[0m \u001b[0mfunc\u001b[0m\u001b[0;34m(\u001b[0m\u001b[0;34m*\u001b[0m\u001b[0margs\u001b[0m\u001b[0;34m)\u001b[0m\u001b[0;34m\u001b[0m\u001b[0;34m\u001b[0m\u001b[0m\n\u001b[0m\u001b[1;32m    504\u001b[0m             \u001b[0;32mif\u001b[0m \u001b[0mresult\u001b[0m \u001b[0;32mis\u001b[0m \u001b[0;32mnot\u001b[0m \u001b[0;32mNone\u001b[0m\u001b[0;34m:\u001b[0m\u001b[0;34m\u001b[0m\u001b[0;34m\u001b[0m\u001b[0m\n\u001b[1;32m    505\u001b[0m                 \u001b[0;32mreturn\u001b[0m \u001b[0mresult\u001b[0m\u001b[0;34m\u001b[0m\u001b[0;34m\u001b[0m\u001b[0m\n",
      "\u001b[0;32m~/anaconda3/envs/midi/lib/python3.7/urllib/request.py\u001b[0m in \u001b[0;36mhttp_error_302\u001b[0;34m(self, req, fp, code, msg, headers)\u001b[0m\n\u001b[1;32m    753\u001b[0m         \u001b[0mfp\u001b[0m\u001b[0;34m.\u001b[0m\u001b[0mclose\u001b[0m\u001b[0;34m(\u001b[0m\u001b[0;34m)\u001b[0m\u001b[0;34m\u001b[0m\u001b[0;34m\u001b[0m\u001b[0m\n\u001b[1;32m    754\u001b[0m \u001b[0;34m\u001b[0m\u001b[0m\n\u001b[0;32m--> 755\u001b[0;31m         \u001b[0;32mreturn\u001b[0m \u001b[0mself\u001b[0m\u001b[0;34m.\u001b[0m\u001b[0mparent\u001b[0m\u001b[0;34m.\u001b[0m\u001b[0mopen\u001b[0m\u001b[0;34m(\u001b[0m\u001b[0mnew\u001b[0m\u001b[0;34m,\u001b[0m \u001b[0mtimeout\u001b[0m\u001b[0;34m=\u001b[0m\u001b[0mreq\u001b[0m\u001b[0;34m.\u001b[0m\u001b[0mtimeout\u001b[0m\u001b[0;34m)\u001b[0m\u001b[0;34m\u001b[0m\u001b[0;34m\u001b[0m\u001b[0m\n\u001b[0m\u001b[1;32m    756\u001b[0m \u001b[0;34m\u001b[0m\u001b[0m\n\u001b[1;32m    757\u001b[0m     \u001b[0mhttp_error_301\u001b[0m \u001b[0;34m=\u001b[0m \u001b[0mhttp_error_303\u001b[0m \u001b[0;34m=\u001b[0m \u001b[0mhttp_error_307\u001b[0m \u001b[0;34m=\u001b[0m \u001b[0mhttp_error_302\u001b[0m\u001b[0;34m\u001b[0m\u001b[0;34m\u001b[0m\u001b[0m\n",
      "\u001b[0;32m~/anaconda3/envs/midi/lib/python3.7/urllib/request.py\u001b[0m in \u001b[0;36mopen\u001b[0;34m(self, fullurl, data, timeout)\u001b[0m\n\u001b[1;32m    523\u001b[0m             \u001b[0mreq\u001b[0m \u001b[0;34m=\u001b[0m \u001b[0mmeth\u001b[0m\u001b[0;34m(\u001b[0m\u001b[0mreq\u001b[0m\u001b[0;34m)\u001b[0m\u001b[0;34m\u001b[0m\u001b[0;34m\u001b[0m\u001b[0m\n\u001b[1;32m    524\u001b[0m \u001b[0;34m\u001b[0m\u001b[0m\n\u001b[0;32m--> 525\u001b[0;31m         \u001b[0mresponse\u001b[0m \u001b[0;34m=\u001b[0m \u001b[0mself\u001b[0m\u001b[0;34m.\u001b[0m\u001b[0m_open\u001b[0m\u001b[0;34m(\u001b[0m\u001b[0mreq\u001b[0m\u001b[0;34m,\u001b[0m \u001b[0mdata\u001b[0m\u001b[0;34m)\u001b[0m\u001b[0;34m\u001b[0m\u001b[0;34m\u001b[0m\u001b[0m\n\u001b[0m\u001b[1;32m    526\u001b[0m \u001b[0;34m\u001b[0m\u001b[0m\n\u001b[1;32m    527\u001b[0m         \u001b[0;31m# post-process response\u001b[0m\u001b[0;34m\u001b[0m\u001b[0;34m\u001b[0m\u001b[0;34m\u001b[0m\u001b[0m\n",
      "\u001b[0;32m~/anaconda3/envs/midi/lib/python3.7/urllib/request.py\u001b[0m in \u001b[0;36m_open\u001b[0;34m(self, req, data)\u001b[0m\n\u001b[1;32m    541\u001b[0m         \u001b[0mprotocol\u001b[0m \u001b[0;34m=\u001b[0m \u001b[0mreq\u001b[0m\u001b[0;34m.\u001b[0m\u001b[0mtype\u001b[0m\u001b[0;34m\u001b[0m\u001b[0;34m\u001b[0m\u001b[0m\n\u001b[1;32m    542\u001b[0m         result = self._call_chain(self.handle_open, protocol, protocol +\n\u001b[0;32m--> 543\u001b[0;31m                                   '_open', req)\n\u001b[0m\u001b[1;32m    544\u001b[0m         \u001b[0;32mif\u001b[0m \u001b[0mresult\u001b[0m\u001b[0;34m:\u001b[0m\u001b[0;34m\u001b[0m\u001b[0;34m\u001b[0m\u001b[0m\n\u001b[1;32m    545\u001b[0m             \u001b[0;32mreturn\u001b[0m \u001b[0mresult\u001b[0m\u001b[0;34m\u001b[0m\u001b[0;34m\u001b[0m\u001b[0m\n",
      "\u001b[0;32m~/anaconda3/envs/midi/lib/python3.7/urllib/request.py\u001b[0m in \u001b[0;36m_call_chain\u001b[0;34m(self, chain, kind, meth_name, *args)\u001b[0m\n\u001b[1;32m    501\u001b[0m         \u001b[0;32mfor\u001b[0m \u001b[0mhandler\u001b[0m \u001b[0;32min\u001b[0m \u001b[0mhandlers\u001b[0m\u001b[0;34m:\u001b[0m\u001b[0;34m\u001b[0m\u001b[0;34m\u001b[0m\u001b[0m\n\u001b[1;32m    502\u001b[0m             \u001b[0mfunc\u001b[0m \u001b[0;34m=\u001b[0m \u001b[0mgetattr\u001b[0m\u001b[0;34m(\u001b[0m\u001b[0mhandler\u001b[0m\u001b[0;34m,\u001b[0m \u001b[0mmeth_name\u001b[0m\u001b[0;34m)\u001b[0m\u001b[0;34m\u001b[0m\u001b[0;34m\u001b[0m\u001b[0m\n\u001b[0;32m--> 503\u001b[0;31m             \u001b[0mresult\u001b[0m \u001b[0;34m=\u001b[0m \u001b[0mfunc\u001b[0m\u001b[0;34m(\u001b[0m\u001b[0;34m*\u001b[0m\u001b[0margs\u001b[0m\u001b[0;34m)\u001b[0m\u001b[0;34m\u001b[0m\u001b[0;34m\u001b[0m\u001b[0m\n\u001b[0m\u001b[1;32m    504\u001b[0m             \u001b[0;32mif\u001b[0m \u001b[0mresult\u001b[0m \u001b[0;32mis\u001b[0m \u001b[0;32mnot\u001b[0m \u001b[0;32mNone\u001b[0m\u001b[0;34m:\u001b[0m\u001b[0;34m\u001b[0m\u001b[0;34m\u001b[0m\u001b[0m\n\u001b[1;32m    505\u001b[0m                 \u001b[0;32mreturn\u001b[0m \u001b[0mresult\u001b[0m\u001b[0;34m\u001b[0m\u001b[0;34m\u001b[0m\u001b[0m\n",
      "\u001b[0;32m~/anaconda3/envs/midi/lib/python3.7/urllib/request.py\u001b[0m in \u001b[0;36mhttps_open\u001b[0;34m(self, req)\u001b[0m\n\u001b[1;32m   1358\u001b[0m         \u001b[0;32mdef\u001b[0m \u001b[0mhttps_open\u001b[0m\u001b[0;34m(\u001b[0m\u001b[0mself\u001b[0m\u001b[0;34m,\u001b[0m \u001b[0mreq\u001b[0m\u001b[0;34m)\u001b[0m\u001b[0;34m:\u001b[0m\u001b[0;34m\u001b[0m\u001b[0;34m\u001b[0m\u001b[0m\n\u001b[1;32m   1359\u001b[0m             return self.do_open(http.client.HTTPSConnection, req,\n\u001b[0;32m-> 1360\u001b[0;31m                 context=self._context, check_hostname=self._check_hostname)\n\u001b[0m\u001b[1;32m   1361\u001b[0m \u001b[0;34m\u001b[0m\u001b[0m\n\u001b[1;32m   1362\u001b[0m         \u001b[0mhttps_request\u001b[0m \u001b[0;34m=\u001b[0m \u001b[0mAbstractHTTPHandler\u001b[0m\u001b[0;34m.\u001b[0m\u001b[0mdo_request_\u001b[0m\u001b[0;34m\u001b[0m\u001b[0;34m\u001b[0m\u001b[0m\n",
      "\u001b[0;32m~/anaconda3/envs/midi/lib/python3.7/urllib/request.py\u001b[0m in \u001b[0;36mdo_open\u001b[0;34m(self, http_class, req, **http_conn_args)\u001b[0m\n\u001b[1;32m   1315\u001b[0m             \u001b[0;32mtry\u001b[0m\u001b[0;34m:\u001b[0m\u001b[0;34m\u001b[0m\u001b[0;34m\u001b[0m\u001b[0m\n\u001b[1;32m   1316\u001b[0m                 h.request(req.get_method(), req.selector, req.data, headers,\n\u001b[0;32m-> 1317\u001b[0;31m                           encode_chunked=req.has_header('Transfer-encoding'))\n\u001b[0m\u001b[1;32m   1318\u001b[0m             \u001b[0;32mexcept\u001b[0m \u001b[0mOSError\u001b[0m \u001b[0;32mas\u001b[0m \u001b[0merr\u001b[0m\u001b[0;34m:\u001b[0m \u001b[0;31m# timeout error\u001b[0m\u001b[0;34m\u001b[0m\u001b[0;34m\u001b[0m\u001b[0m\n\u001b[1;32m   1319\u001b[0m                 \u001b[0;32mraise\u001b[0m \u001b[0mURLError\u001b[0m\u001b[0;34m(\u001b[0m\u001b[0merr\u001b[0m\u001b[0;34m)\u001b[0m\u001b[0;34m\u001b[0m\u001b[0;34m\u001b[0m\u001b[0m\n",
      "\u001b[0;32m~/anaconda3/envs/midi/lib/python3.7/http/client.py\u001b[0m in \u001b[0;36mrequest\u001b[0;34m(self, method, url, body, headers, encode_chunked)\u001b[0m\n\u001b[1;32m   1227\u001b[0m                 encode_chunked=False):\n\u001b[1;32m   1228\u001b[0m         \u001b[0;34m\"\"\"Send a complete request to the server.\"\"\"\u001b[0m\u001b[0;34m\u001b[0m\u001b[0;34m\u001b[0m\u001b[0m\n\u001b[0;32m-> 1229\u001b[0;31m         \u001b[0mself\u001b[0m\u001b[0;34m.\u001b[0m\u001b[0m_send_request\u001b[0m\u001b[0;34m(\u001b[0m\u001b[0mmethod\u001b[0m\u001b[0;34m,\u001b[0m \u001b[0murl\u001b[0m\u001b[0;34m,\u001b[0m \u001b[0mbody\u001b[0m\u001b[0;34m,\u001b[0m \u001b[0mheaders\u001b[0m\u001b[0;34m,\u001b[0m \u001b[0mencode_chunked\u001b[0m\u001b[0;34m)\u001b[0m\u001b[0;34m\u001b[0m\u001b[0;34m\u001b[0m\u001b[0m\n\u001b[0m\u001b[1;32m   1230\u001b[0m \u001b[0;34m\u001b[0m\u001b[0m\n\u001b[1;32m   1231\u001b[0m     \u001b[0;32mdef\u001b[0m \u001b[0m_send_request\u001b[0m\u001b[0;34m(\u001b[0m\u001b[0mself\u001b[0m\u001b[0;34m,\u001b[0m \u001b[0mmethod\u001b[0m\u001b[0;34m,\u001b[0m \u001b[0murl\u001b[0m\u001b[0;34m,\u001b[0m \u001b[0mbody\u001b[0m\u001b[0;34m,\u001b[0m \u001b[0mheaders\u001b[0m\u001b[0;34m,\u001b[0m \u001b[0mencode_chunked\u001b[0m\u001b[0;34m)\u001b[0m\u001b[0;34m:\u001b[0m\u001b[0;34m\u001b[0m\u001b[0;34m\u001b[0m\u001b[0m\n",
      "\u001b[0;32m~/anaconda3/envs/midi/lib/python3.7/http/client.py\u001b[0m in \u001b[0;36m_send_request\u001b[0;34m(self, method, url, body, headers, encode_chunked)\u001b[0m\n\u001b[1;32m   1273\u001b[0m             \u001b[0;31m# default charset of iso-8859-1.\u001b[0m\u001b[0;34m\u001b[0m\u001b[0;34m\u001b[0m\u001b[0;34m\u001b[0m\u001b[0m\n\u001b[1;32m   1274\u001b[0m             \u001b[0mbody\u001b[0m \u001b[0;34m=\u001b[0m \u001b[0m_encode\u001b[0m\u001b[0;34m(\u001b[0m\u001b[0mbody\u001b[0m\u001b[0;34m,\u001b[0m \u001b[0;34m'body'\u001b[0m\u001b[0;34m)\u001b[0m\u001b[0;34m\u001b[0m\u001b[0;34m\u001b[0m\u001b[0m\n\u001b[0;32m-> 1275\u001b[0;31m         \u001b[0mself\u001b[0m\u001b[0;34m.\u001b[0m\u001b[0mendheaders\u001b[0m\u001b[0;34m(\u001b[0m\u001b[0mbody\u001b[0m\u001b[0;34m,\u001b[0m \u001b[0mencode_chunked\u001b[0m\u001b[0;34m=\u001b[0m\u001b[0mencode_chunked\u001b[0m\u001b[0;34m)\u001b[0m\u001b[0;34m\u001b[0m\u001b[0;34m\u001b[0m\u001b[0m\n\u001b[0m\u001b[1;32m   1276\u001b[0m \u001b[0;34m\u001b[0m\u001b[0m\n\u001b[1;32m   1277\u001b[0m     \u001b[0;32mdef\u001b[0m \u001b[0mgetresponse\u001b[0m\u001b[0;34m(\u001b[0m\u001b[0mself\u001b[0m\u001b[0;34m)\u001b[0m\u001b[0;34m:\u001b[0m\u001b[0;34m\u001b[0m\u001b[0;34m\u001b[0m\u001b[0m\n",
      "\u001b[0;32m~/anaconda3/envs/midi/lib/python3.7/http/client.py\u001b[0m in \u001b[0;36mendheaders\u001b[0;34m(self, message_body, encode_chunked)\u001b[0m\n\u001b[1;32m   1222\u001b[0m         \u001b[0;32melse\u001b[0m\u001b[0;34m:\u001b[0m\u001b[0;34m\u001b[0m\u001b[0;34m\u001b[0m\u001b[0m\n\u001b[1;32m   1223\u001b[0m             \u001b[0;32mraise\u001b[0m \u001b[0mCannotSendHeader\u001b[0m\u001b[0;34m(\u001b[0m\u001b[0;34m)\u001b[0m\u001b[0;34m\u001b[0m\u001b[0;34m\u001b[0m\u001b[0m\n\u001b[0;32m-> 1224\u001b[0;31m         \u001b[0mself\u001b[0m\u001b[0;34m.\u001b[0m\u001b[0m_send_output\u001b[0m\u001b[0;34m(\u001b[0m\u001b[0mmessage_body\u001b[0m\u001b[0;34m,\u001b[0m \u001b[0mencode_chunked\u001b[0m\u001b[0;34m=\u001b[0m\u001b[0mencode_chunked\u001b[0m\u001b[0;34m)\u001b[0m\u001b[0;34m\u001b[0m\u001b[0;34m\u001b[0m\u001b[0m\n\u001b[0m\u001b[1;32m   1225\u001b[0m \u001b[0;34m\u001b[0m\u001b[0m\n\u001b[1;32m   1226\u001b[0m     def request(self, method, url, body=None, headers={}, *,\n",
      "\u001b[0;32m~/anaconda3/envs/midi/lib/python3.7/http/client.py\u001b[0m in \u001b[0;36m_send_output\u001b[0;34m(self, message_body, encode_chunked)\u001b[0m\n\u001b[1;32m   1014\u001b[0m         \u001b[0mmsg\u001b[0m \u001b[0;34m=\u001b[0m \u001b[0;34mb\"\\r\\n\"\u001b[0m\u001b[0;34m.\u001b[0m\u001b[0mjoin\u001b[0m\u001b[0;34m(\u001b[0m\u001b[0mself\u001b[0m\u001b[0;34m.\u001b[0m\u001b[0m_buffer\u001b[0m\u001b[0;34m)\u001b[0m\u001b[0;34m\u001b[0m\u001b[0;34m\u001b[0m\u001b[0m\n\u001b[1;32m   1015\u001b[0m         \u001b[0;32mdel\u001b[0m \u001b[0mself\u001b[0m\u001b[0;34m.\u001b[0m\u001b[0m_buffer\u001b[0m\u001b[0;34m[\u001b[0m\u001b[0;34m:\u001b[0m\u001b[0;34m]\u001b[0m\u001b[0;34m\u001b[0m\u001b[0;34m\u001b[0m\u001b[0m\n\u001b[0;32m-> 1016\u001b[0;31m         \u001b[0mself\u001b[0m\u001b[0;34m.\u001b[0m\u001b[0msend\u001b[0m\u001b[0;34m(\u001b[0m\u001b[0mmsg\u001b[0m\u001b[0;34m)\u001b[0m\u001b[0;34m\u001b[0m\u001b[0;34m\u001b[0m\u001b[0m\n\u001b[0m\u001b[1;32m   1017\u001b[0m \u001b[0;34m\u001b[0m\u001b[0m\n\u001b[1;32m   1018\u001b[0m         \u001b[0;32mif\u001b[0m \u001b[0mmessage_body\u001b[0m \u001b[0;32mis\u001b[0m \u001b[0;32mnot\u001b[0m \u001b[0;32mNone\u001b[0m\u001b[0;34m:\u001b[0m\u001b[0;34m\u001b[0m\u001b[0;34m\u001b[0m\u001b[0m\n",
      "\u001b[0;32m~/anaconda3/envs/midi/lib/python3.7/http/client.py\u001b[0m in \u001b[0;36msend\u001b[0;34m(self, data)\u001b[0m\n\u001b[1;32m    954\u001b[0m         \u001b[0;32mif\u001b[0m \u001b[0mself\u001b[0m\u001b[0;34m.\u001b[0m\u001b[0msock\u001b[0m \u001b[0;32mis\u001b[0m \u001b[0;32mNone\u001b[0m\u001b[0;34m:\u001b[0m\u001b[0;34m\u001b[0m\u001b[0;34m\u001b[0m\u001b[0m\n\u001b[1;32m    955\u001b[0m             \u001b[0;32mif\u001b[0m \u001b[0mself\u001b[0m\u001b[0;34m.\u001b[0m\u001b[0mauto_open\u001b[0m\u001b[0;34m:\u001b[0m\u001b[0;34m\u001b[0m\u001b[0;34m\u001b[0m\u001b[0m\n\u001b[0;32m--> 956\u001b[0;31m                 \u001b[0mself\u001b[0m\u001b[0;34m.\u001b[0m\u001b[0mconnect\u001b[0m\u001b[0;34m(\u001b[0m\u001b[0;34m)\u001b[0m\u001b[0;34m\u001b[0m\u001b[0;34m\u001b[0m\u001b[0m\n\u001b[0m\u001b[1;32m    957\u001b[0m             \u001b[0;32melse\u001b[0m\u001b[0;34m:\u001b[0m\u001b[0;34m\u001b[0m\u001b[0;34m\u001b[0m\u001b[0m\n\u001b[1;32m    958\u001b[0m                 \u001b[0;32mraise\u001b[0m \u001b[0mNotConnected\u001b[0m\u001b[0;34m(\u001b[0m\u001b[0;34m)\u001b[0m\u001b[0;34m\u001b[0m\u001b[0;34m\u001b[0m\u001b[0m\n",
      "\u001b[0;32m~/anaconda3/envs/midi/lib/python3.7/http/client.py\u001b[0m in \u001b[0;36mconnect\u001b[0;34m(self)\u001b[0m\n\u001b[1;32m   1390\u001b[0m \u001b[0;34m\u001b[0m\u001b[0m\n\u001b[1;32m   1391\u001b[0m             self.sock = self._context.wrap_socket(self.sock,\n\u001b[0;32m-> 1392\u001b[0;31m                                                   server_hostname=server_hostname)\n\u001b[0m\u001b[1;32m   1393\u001b[0m \u001b[0;34m\u001b[0m\u001b[0m\n\u001b[1;32m   1394\u001b[0m     \u001b[0m__all__\u001b[0m\u001b[0;34m.\u001b[0m\u001b[0mappend\u001b[0m\u001b[0;34m(\u001b[0m\u001b[0;34m\"HTTPSConnection\"\u001b[0m\u001b[0;34m)\u001b[0m\u001b[0;34m\u001b[0m\u001b[0;34m\u001b[0m\u001b[0m\n",
      "\u001b[0;32m~/anaconda3/envs/midi/lib/python3.7/ssl.py\u001b[0m in \u001b[0;36mwrap_socket\u001b[0;34m(self, sock, server_side, do_handshake_on_connect, suppress_ragged_eofs, server_hostname, session)\u001b[0m\n\u001b[1;32m    410\u001b[0m             \u001b[0mserver_hostname\u001b[0m\u001b[0;34m=\u001b[0m\u001b[0mserver_hostname\u001b[0m\u001b[0;34m,\u001b[0m\u001b[0;34m\u001b[0m\u001b[0;34m\u001b[0m\u001b[0m\n\u001b[1;32m    411\u001b[0m             \u001b[0mcontext\u001b[0m\u001b[0;34m=\u001b[0m\u001b[0mself\u001b[0m\u001b[0;34m,\u001b[0m\u001b[0;34m\u001b[0m\u001b[0;34m\u001b[0m\u001b[0m\n\u001b[0;32m--> 412\u001b[0;31m             \u001b[0msession\u001b[0m\u001b[0;34m=\u001b[0m\u001b[0msession\u001b[0m\u001b[0;34m\u001b[0m\u001b[0;34m\u001b[0m\u001b[0m\n\u001b[0m\u001b[1;32m    413\u001b[0m         )\n\u001b[1;32m    414\u001b[0m \u001b[0;34m\u001b[0m\u001b[0m\n",
      "\u001b[0;32m~/anaconda3/envs/midi/lib/python3.7/ssl.py\u001b[0m in \u001b[0;36m_create\u001b[0;34m(cls, sock, server_side, do_handshake_on_connect, suppress_ragged_eofs, server_hostname, context, session)\u001b[0m\n\u001b[1;32m    851\u001b[0m                         \u001b[0;31m# non-blocking\u001b[0m\u001b[0;34m\u001b[0m\u001b[0;34m\u001b[0m\u001b[0;34m\u001b[0m\u001b[0m\n\u001b[1;32m    852\u001b[0m                         \u001b[0;32mraise\u001b[0m \u001b[0mValueError\u001b[0m\u001b[0;34m(\u001b[0m\u001b[0;34m\"do_handshake_on_connect should not be specified for non-blocking sockets\"\u001b[0m\u001b[0;34m)\u001b[0m\u001b[0;34m\u001b[0m\u001b[0;34m\u001b[0m\u001b[0m\n\u001b[0;32m--> 853\u001b[0;31m                     \u001b[0mself\u001b[0m\u001b[0;34m.\u001b[0m\u001b[0mdo_handshake\u001b[0m\u001b[0;34m(\u001b[0m\u001b[0;34m)\u001b[0m\u001b[0;34m\u001b[0m\u001b[0;34m\u001b[0m\u001b[0m\n\u001b[0m\u001b[1;32m    854\u001b[0m             \u001b[0;32mexcept\u001b[0m \u001b[0;34m(\u001b[0m\u001b[0mOSError\u001b[0m\u001b[0;34m,\u001b[0m \u001b[0mValueError\u001b[0m\u001b[0;34m)\u001b[0m\u001b[0;34m:\u001b[0m\u001b[0;34m\u001b[0m\u001b[0;34m\u001b[0m\u001b[0m\n\u001b[1;32m    855\u001b[0m                 \u001b[0mself\u001b[0m\u001b[0;34m.\u001b[0m\u001b[0mclose\u001b[0m\u001b[0;34m(\u001b[0m\u001b[0;34m)\u001b[0m\u001b[0;34m\u001b[0m\u001b[0;34m\u001b[0m\u001b[0m\n",
      "\u001b[0;32m~/anaconda3/envs/midi/lib/python3.7/ssl.py\u001b[0m in \u001b[0;36mdo_handshake\u001b[0;34m(self, block)\u001b[0m\n\u001b[1;32m   1115\u001b[0m             \u001b[0;32mif\u001b[0m \u001b[0mtimeout\u001b[0m \u001b[0;34m==\u001b[0m \u001b[0;36m0.0\u001b[0m \u001b[0;32mand\u001b[0m \u001b[0mblock\u001b[0m\u001b[0;34m:\u001b[0m\u001b[0;34m\u001b[0m\u001b[0;34m\u001b[0m\u001b[0m\n\u001b[1;32m   1116\u001b[0m                 \u001b[0mself\u001b[0m\u001b[0;34m.\u001b[0m\u001b[0msettimeout\u001b[0m\u001b[0;34m(\u001b[0m\u001b[0;32mNone\u001b[0m\u001b[0;34m)\u001b[0m\u001b[0;34m\u001b[0m\u001b[0;34m\u001b[0m\u001b[0m\n\u001b[0;32m-> 1117\u001b[0;31m             \u001b[0mself\u001b[0m\u001b[0;34m.\u001b[0m\u001b[0m_sslobj\u001b[0m\u001b[0;34m.\u001b[0m\u001b[0mdo_handshake\u001b[0m\u001b[0;34m(\u001b[0m\u001b[0;34m)\u001b[0m\u001b[0;34m\u001b[0m\u001b[0;34m\u001b[0m\u001b[0m\n\u001b[0m\u001b[1;32m   1118\u001b[0m         \u001b[0;32mfinally\u001b[0m\u001b[0;34m:\u001b[0m\u001b[0;34m\u001b[0m\u001b[0;34m\u001b[0m\u001b[0m\n\u001b[1;32m   1119\u001b[0m             \u001b[0mself\u001b[0m\u001b[0;34m.\u001b[0m\u001b[0msettimeout\u001b[0m\u001b[0;34m(\u001b[0m\u001b[0mtimeout\u001b[0m\u001b[0;34m)\u001b[0m\u001b[0;34m\u001b[0m\u001b[0;34m\u001b[0m\u001b[0m\n",
      "\u001b[0;31mKeyboardInterrupt\u001b[0m: "
     ]
    }
   ],
   "source": [
    "for idx,link in enumerate(tqdm(links, total=len(links))):\n",
    "    score_id = link['score_id']\n",
    "    out_file = f\"data/{score_id}.mxl\"\n",
    "    if Path(out_file).exists() or score_id in invalid_ids: continue\n",
    "    # Every 10 requests, generate a new proxy\n",
    "    if idx % 10 == 0 or proxy is None or instance is None:\n",
    "        proxy_index = random.randint(0, len(all_proxies) - 1)\n",
    "        proxy = all_proxies[proxy_index]\n",
    "        proxy_url = proxy['ip'] + ':' + str(proxy['port']); proxy_url\n",
    "        instance_index = random.randint(0, len(instances) - 1)\n",
    "        instance = instances[instance_index]\n",
    "    try:\n",
    "        print('Downloading score id:', score_id)\n",
    "        \n",
    "        start = time.time()\n",
    "        instance.download(score_id, out_file, format='mxl', proxy=proxy_url)\n",
    "        end = time.time()\n",
    "        if (end - start) > 15: raise Exception('Took too long to download')\n",
    "    except Exception as e:\n",
    "        print('Could not download id:', score_id)\n",
    "        print('Error:', e)\n",
    "        invalid_ids.append(score_id)\n",
    "        deleted_proxies.append(all_proxies[proxy_index])\n",
    "        del all_proxies[proxy_index]\n",
    "        print('Proxy ' + proxy['ip'] + ':' + str(proxy['port']) + ' deleted.')\n",
    "        print(instance.username)\n",
    "        proxy = None\n",
    "        instance = None\n",
    "    "
   ]
  },
  {
   "cell_type": "markdown",
   "metadata": {},
   "source": [
    "### Second run"
   ]
  },
  {
   "cell_type": "code",
   "execution_count": 23,
   "metadata": {},
   "outputs": [
    {
     "ename": "HTTPError",
     "evalue": "HTTP Error 403: Forbidden",
     "output_type": "error",
     "traceback": [
      "\u001b[0;31m---------------------------------------------------------------------------\u001b[0m",
      "\u001b[0;31mHTTPError\u001b[0m                                 Traceback (most recent call last)",
      "\u001b[0;32m<ipython-input-23-da16705abe2b>\u001b[0m in \u001b[0;36m<module>\u001b[0;34m\u001b[0m\n\u001b[1;32m      3\u001b[0m \u001b[0mproxies_req\u001b[0m \u001b[0;34m=\u001b[0m \u001b[0mRequest\u001b[0m\u001b[0;34m(\u001b[0m\u001b[0;34m'https://www.sslproxies.org/'\u001b[0m\u001b[0;34m)\u001b[0m\u001b[0;34m\u001b[0m\u001b[0;34m\u001b[0m\u001b[0m\n\u001b[1;32m      4\u001b[0m \u001b[0mproxies_req\u001b[0m\u001b[0;34m.\u001b[0m\u001b[0madd_header\u001b[0m\u001b[0;34m(\u001b[0m\u001b[0;34m'User-Agent'\u001b[0m\u001b[0;34m,\u001b[0m \u001b[0mua\u001b[0m\u001b[0;34m.\u001b[0m\u001b[0mrandom\u001b[0m\u001b[0;34m)\u001b[0m\u001b[0;34m\u001b[0m\u001b[0;34m\u001b[0m\u001b[0m\n\u001b[0;32m----> 5\u001b[0;31m \u001b[0mproxies_doc\u001b[0m \u001b[0;34m=\u001b[0m \u001b[0murlopen\u001b[0m\u001b[0;34m(\u001b[0m\u001b[0mproxies_req\u001b[0m\u001b[0;34m)\u001b[0m\u001b[0;34m.\u001b[0m\u001b[0mread\u001b[0m\u001b[0;34m(\u001b[0m\u001b[0;34m)\u001b[0m\u001b[0;34m.\u001b[0m\u001b[0mdecode\u001b[0m\u001b[0;34m(\u001b[0m\u001b[0;34m'utf8'\u001b[0m\u001b[0;34m)\u001b[0m\u001b[0;34m\u001b[0m\u001b[0;34m\u001b[0m\u001b[0m\n\u001b[0m\u001b[1;32m      6\u001b[0m \u001b[0;34m\u001b[0m\u001b[0m\n\u001b[1;32m      7\u001b[0m \u001b[0msoup\u001b[0m \u001b[0;34m=\u001b[0m \u001b[0mBeautifulSoup\u001b[0m\u001b[0;34m(\u001b[0m\u001b[0mproxies_doc\u001b[0m\u001b[0;34m,\u001b[0m \u001b[0;34m'html.parser'\u001b[0m\u001b[0;34m)\u001b[0m\u001b[0;34m\u001b[0m\u001b[0;34m\u001b[0m\u001b[0m\n",
      "\u001b[0;32m~/anaconda3/envs/midi/lib/python3.7/urllib/request.py\u001b[0m in \u001b[0;36murlopen\u001b[0;34m(url, data, timeout, cafile, capath, cadefault, context)\u001b[0m\n\u001b[1;32m    220\u001b[0m     \u001b[0;32melse\u001b[0m\u001b[0;34m:\u001b[0m\u001b[0;34m\u001b[0m\u001b[0;34m\u001b[0m\u001b[0m\n\u001b[1;32m    221\u001b[0m         \u001b[0mopener\u001b[0m \u001b[0;34m=\u001b[0m \u001b[0m_opener\u001b[0m\u001b[0;34m\u001b[0m\u001b[0;34m\u001b[0m\u001b[0m\n\u001b[0;32m--> 222\u001b[0;31m     \u001b[0;32mreturn\u001b[0m \u001b[0mopener\u001b[0m\u001b[0;34m.\u001b[0m\u001b[0mopen\u001b[0m\u001b[0;34m(\u001b[0m\u001b[0murl\u001b[0m\u001b[0;34m,\u001b[0m \u001b[0mdata\u001b[0m\u001b[0;34m,\u001b[0m \u001b[0mtimeout\u001b[0m\u001b[0;34m)\u001b[0m\u001b[0;34m\u001b[0m\u001b[0;34m\u001b[0m\u001b[0m\n\u001b[0m\u001b[1;32m    223\u001b[0m \u001b[0;34m\u001b[0m\u001b[0m\n\u001b[1;32m    224\u001b[0m \u001b[0;32mdef\u001b[0m \u001b[0minstall_opener\u001b[0m\u001b[0;34m(\u001b[0m\u001b[0mopener\u001b[0m\u001b[0;34m)\u001b[0m\u001b[0;34m:\u001b[0m\u001b[0;34m\u001b[0m\u001b[0;34m\u001b[0m\u001b[0m\n",
      "\u001b[0;32m~/anaconda3/envs/midi/lib/python3.7/urllib/request.py\u001b[0m in \u001b[0;36mopen\u001b[0;34m(self, fullurl, data, timeout)\u001b[0m\n\u001b[1;32m    529\u001b[0m         \u001b[0;32mfor\u001b[0m \u001b[0mprocessor\u001b[0m \u001b[0;32min\u001b[0m \u001b[0mself\u001b[0m\u001b[0;34m.\u001b[0m\u001b[0mprocess_response\u001b[0m\u001b[0;34m.\u001b[0m\u001b[0mget\u001b[0m\u001b[0;34m(\u001b[0m\u001b[0mprotocol\u001b[0m\u001b[0;34m,\u001b[0m \u001b[0;34m[\u001b[0m\u001b[0;34m]\u001b[0m\u001b[0;34m)\u001b[0m\u001b[0;34m:\u001b[0m\u001b[0;34m\u001b[0m\u001b[0;34m\u001b[0m\u001b[0m\n\u001b[1;32m    530\u001b[0m             \u001b[0mmeth\u001b[0m \u001b[0;34m=\u001b[0m \u001b[0mgetattr\u001b[0m\u001b[0;34m(\u001b[0m\u001b[0mprocessor\u001b[0m\u001b[0;34m,\u001b[0m \u001b[0mmeth_name\u001b[0m\u001b[0;34m)\u001b[0m\u001b[0;34m\u001b[0m\u001b[0;34m\u001b[0m\u001b[0m\n\u001b[0;32m--> 531\u001b[0;31m             \u001b[0mresponse\u001b[0m \u001b[0;34m=\u001b[0m \u001b[0mmeth\u001b[0m\u001b[0;34m(\u001b[0m\u001b[0mreq\u001b[0m\u001b[0;34m,\u001b[0m \u001b[0mresponse\u001b[0m\u001b[0;34m)\u001b[0m\u001b[0;34m\u001b[0m\u001b[0;34m\u001b[0m\u001b[0m\n\u001b[0m\u001b[1;32m    532\u001b[0m \u001b[0;34m\u001b[0m\u001b[0m\n\u001b[1;32m    533\u001b[0m         \u001b[0;32mreturn\u001b[0m \u001b[0mresponse\u001b[0m\u001b[0;34m\u001b[0m\u001b[0;34m\u001b[0m\u001b[0m\n",
      "\u001b[0;32m~/anaconda3/envs/midi/lib/python3.7/urllib/request.py\u001b[0m in \u001b[0;36mhttp_response\u001b[0;34m(self, request, response)\u001b[0m\n\u001b[1;32m    639\u001b[0m         \u001b[0;32mif\u001b[0m \u001b[0;32mnot\u001b[0m \u001b[0;34m(\u001b[0m\u001b[0;36m200\u001b[0m \u001b[0;34m<=\u001b[0m \u001b[0mcode\u001b[0m \u001b[0;34m<\u001b[0m \u001b[0;36m300\u001b[0m\u001b[0;34m)\u001b[0m\u001b[0;34m:\u001b[0m\u001b[0;34m\u001b[0m\u001b[0;34m\u001b[0m\u001b[0m\n\u001b[1;32m    640\u001b[0m             response = self.parent.error(\n\u001b[0;32m--> 641\u001b[0;31m                 'http', request, response, code, msg, hdrs)\n\u001b[0m\u001b[1;32m    642\u001b[0m \u001b[0;34m\u001b[0m\u001b[0m\n\u001b[1;32m    643\u001b[0m         \u001b[0;32mreturn\u001b[0m \u001b[0mresponse\u001b[0m\u001b[0;34m\u001b[0m\u001b[0;34m\u001b[0m\u001b[0m\n",
      "\u001b[0;32m~/anaconda3/envs/midi/lib/python3.7/urllib/request.py\u001b[0m in \u001b[0;36merror\u001b[0;34m(self, proto, *args)\u001b[0m\n\u001b[1;32m    567\u001b[0m         \u001b[0;32mif\u001b[0m \u001b[0mhttp_err\u001b[0m\u001b[0;34m:\u001b[0m\u001b[0;34m\u001b[0m\u001b[0;34m\u001b[0m\u001b[0m\n\u001b[1;32m    568\u001b[0m             \u001b[0margs\u001b[0m \u001b[0;34m=\u001b[0m \u001b[0;34m(\u001b[0m\u001b[0mdict\u001b[0m\u001b[0;34m,\u001b[0m \u001b[0;34m'default'\u001b[0m\u001b[0;34m,\u001b[0m \u001b[0;34m'http_error_default'\u001b[0m\u001b[0;34m)\u001b[0m \u001b[0;34m+\u001b[0m \u001b[0morig_args\u001b[0m\u001b[0;34m\u001b[0m\u001b[0;34m\u001b[0m\u001b[0m\n\u001b[0;32m--> 569\u001b[0;31m             \u001b[0;32mreturn\u001b[0m \u001b[0mself\u001b[0m\u001b[0;34m.\u001b[0m\u001b[0m_call_chain\u001b[0m\u001b[0;34m(\u001b[0m\u001b[0;34m*\u001b[0m\u001b[0margs\u001b[0m\u001b[0;34m)\u001b[0m\u001b[0;34m\u001b[0m\u001b[0;34m\u001b[0m\u001b[0m\n\u001b[0m\u001b[1;32m    570\u001b[0m \u001b[0;34m\u001b[0m\u001b[0m\n\u001b[1;32m    571\u001b[0m \u001b[0;31m# XXX probably also want an abstract factory that knows when it makes\u001b[0m\u001b[0;34m\u001b[0m\u001b[0;34m\u001b[0m\u001b[0;34m\u001b[0m\u001b[0m\n",
      "\u001b[0;32m~/anaconda3/envs/midi/lib/python3.7/urllib/request.py\u001b[0m in \u001b[0;36m_call_chain\u001b[0;34m(self, chain, kind, meth_name, *args)\u001b[0m\n\u001b[1;32m    501\u001b[0m         \u001b[0;32mfor\u001b[0m \u001b[0mhandler\u001b[0m \u001b[0;32min\u001b[0m \u001b[0mhandlers\u001b[0m\u001b[0;34m:\u001b[0m\u001b[0;34m\u001b[0m\u001b[0;34m\u001b[0m\u001b[0m\n\u001b[1;32m    502\u001b[0m             \u001b[0mfunc\u001b[0m \u001b[0;34m=\u001b[0m \u001b[0mgetattr\u001b[0m\u001b[0;34m(\u001b[0m\u001b[0mhandler\u001b[0m\u001b[0;34m,\u001b[0m \u001b[0mmeth_name\u001b[0m\u001b[0;34m)\u001b[0m\u001b[0;34m\u001b[0m\u001b[0;34m\u001b[0m\u001b[0m\n\u001b[0;32m--> 503\u001b[0;31m             \u001b[0mresult\u001b[0m \u001b[0;34m=\u001b[0m \u001b[0mfunc\u001b[0m\u001b[0;34m(\u001b[0m\u001b[0;34m*\u001b[0m\u001b[0margs\u001b[0m\u001b[0;34m)\u001b[0m\u001b[0;34m\u001b[0m\u001b[0;34m\u001b[0m\u001b[0m\n\u001b[0m\u001b[1;32m    504\u001b[0m             \u001b[0;32mif\u001b[0m \u001b[0mresult\u001b[0m \u001b[0;32mis\u001b[0m \u001b[0;32mnot\u001b[0m \u001b[0;32mNone\u001b[0m\u001b[0;34m:\u001b[0m\u001b[0;34m\u001b[0m\u001b[0;34m\u001b[0m\u001b[0m\n\u001b[1;32m    505\u001b[0m                 \u001b[0;32mreturn\u001b[0m \u001b[0mresult\u001b[0m\u001b[0;34m\u001b[0m\u001b[0;34m\u001b[0m\u001b[0m\n",
      "\u001b[0;32m~/anaconda3/envs/midi/lib/python3.7/urllib/request.py\u001b[0m in \u001b[0;36mhttp_error_default\u001b[0;34m(self, req, fp, code, msg, hdrs)\u001b[0m\n\u001b[1;32m    647\u001b[0m \u001b[0;32mclass\u001b[0m \u001b[0mHTTPDefaultErrorHandler\u001b[0m\u001b[0;34m(\u001b[0m\u001b[0mBaseHandler\u001b[0m\u001b[0;34m)\u001b[0m\u001b[0;34m:\u001b[0m\u001b[0;34m\u001b[0m\u001b[0;34m\u001b[0m\u001b[0m\n\u001b[1;32m    648\u001b[0m     \u001b[0;32mdef\u001b[0m \u001b[0mhttp_error_default\u001b[0m\u001b[0;34m(\u001b[0m\u001b[0mself\u001b[0m\u001b[0;34m,\u001b[0m \u001b[0mreq\u001b[0m\u001b[0;34m,\u001b[0m \u001b[0mfp\u001b[0m\u001b[0;34m,\u001b[0m \u001b[0mcode\u001b[0m\u001b[0;34m,\u001b[0m \u001b[0mmsg\u001b[0m\u001b[0;34m,\u001b[0m \u001b[0mhdrs\u001b[0m\u001b[0;34m)\u001b[0m\u001b[0;34m:\u001b[0m\u001b[0;34m\u001b[0m\u001b[0;34m\u001b[0m\u001b[0m\n\u001b[0;32m--> 649\u001b[0;31m         \u001b[0;32mraise\u001b[0m \u001b[0mHTTPError\u001b[0m\u001b[0;34m(\u001b[0m\u001b[0mreq\u001b[0m\u001b[0;34m.\u001b[0m\u001b[0mfull_url\u001b[0m\u001b[0;34m,\u001b[0m \u001b[0mcode\u001b[0m\u001b[0;34m,\u001b[0m \u001b[0mmsg\u001b[0m\u001b[0;34m,\u001b[0m \u001b[0mhdrs\u001b[0m\u001b[0;34m,\u001b[0m \u001b[0mfp\u001b[0m\u001b[0;34m)\u001b[0m\u001b[0;34m\u001b[0m\u001b[0;34m\u001b[0m\u001b[0m\n\u001b[0m\u001b[1;32m    650\u001b[0m \u001b[0;34m\u001b[0m\u001b[0m\n\u001b[1;32m    651\u001b[0m \u001b[0;32mclass\u001b[0m \u001b[0mHTTPRedirectHandler\u001b[0m\u001b[0;34m(\u001b[0m\u001b[0mBaseHandler\u001b[0m\u001b[0;34m)\u001b[0m\u001b[0;34m:\u001b[0m\u001b[0;34m\u001b[0m\u001b[0;34m\u001b[0m\u001b[0m\n",
      "\u001b[0;31mHTTPError\u001b[0m: HTTP Error 403: Forbidden"
     ]
    }
   ],
   "source": [
    "# Main function\n",
    "  # Retrieve latest proxies\n",
    "proxies_req = Request('https://www.sslproxies.org/')\n",
    "proxies_req.add_header('User-Agent', ua.random)\n",
    "proxies_doc = urlopen(proxies_req).read().decode('utf8')\n",
    "\n",
    "soup = BeautifulSoup(proxies_doc, 'html.parser')\n",
    "proxies_table = soup.find(id='proxylisttable')\n",
    "\n",
    "# Save proxies in the array\n",
    "for row in proxies_table.tbody.find_all('tr'):\n",
    "    proxies.append({\n",
    "      'ip':   row.find_all('td')[0].string,\n",
    "      'port': row.find_all('td')[1].string\n",
    "    })"
   ]
  },
  {
   "cell_type": "code",
   "execution_count": null,
   "metadata": {},
   "outputs": [],
   "source": [
    "import asyncio\n",
    "from proxybroker import Broker\n",
    "\n",
    "more_proxies = []\n",
    "\n",
    "async def show(proxy_queue):\n",
    "    while True:\n",
    "        proxy = await proxy_queue.get()\n",
    "        if proxy is None: break\n",
    "        print('Found proxy: %s' % proxy)\n",
    "        more_proxies.append({ 'ip': proxy.host, 'port': proxy.port })\n",
    "\n",
    "proxy_queue = asyncio.Queue()\n",
    "broker = Broker(proxy_queue)\n",
    "tasks = await asyncio.gather(\n",
    "    broker.find(types=['HTTP', 'HTTPS'], limit=400),\n",
    "    show(proxy_queue))"
   ]
  },
  {
   "cell_type": "code",
   "execution_count": null,
   "metadata": {},
   "outputs": [],
   "source": [
    "all_proxies = proxies + more_proxies\n",
    "# Retrieve a random index proxy (we need the index to delete it if not working)\n",
    "def random_proxy():\n",
    "    return random.randint(0, len(all_proxies) - 1)\n",
    "\n",
    "proxy = None\n",
    "# # Choose a random proxy\n",
    "# proxy_index = random_proxy()\n",
    "# proxy = all_proxies[proxy_index]\n",
    "# proxy_url = proxy['ip'] + ':' + str(proxy['port']); proxy_url"
   ]
  },
  {
   "cell_type": "code",
   "execution_count": null,
   "metadata": {},
   "outputs": [],
   "source": [
    "json_file = Path('musescore_movie.json')"
   ]
  },
  {
   "cell_type": "code",
   "execution_count": null,
   "metadata": {},
   "outputs": [],
   "source": [
    "if json_file.exists():\n",
    "    with open(json_file, 'r') as fp:\n",
    "        links = json.load(fp)\n",
    "        "
   ]
  },
  {
   "cell_type": "code",
   "execution_count": null,
   "metadata": {},
   "outputs": [],
   "source": [
    "for idx,link in enumerate(tqdm(links, total=len(links))):\n",
    "    score_id = link['score_id']\n",
    "    out_file = f\"data/{score_id}.mxl\"\n",
    "    if Path(out_file).exists() or score_id in invalid_ids: continue\n",
    "    # Every 10 requests, generate a new proxy\n",
    "    if idx % 10 == 0 or proxy is None or instance is None:\n",
    "        proxy_index = random.randint(0, len(all_proxies) - 1)\n",
    "        proxy = all_proxies[proxy_index]\n",
    "        proxy_url = proxy['ip'] + ':' + str(proxy['port']); proxy_url\n",
    "        instance_index = random.randint(0, len(instances) - 1)\n",
    "        instance = instances[instance_index]\n",
    "    try:\n",
    "        print('Downloading score id:', score_id)\n",
    "        instance.download(score_id, out_file, format='mxl', proxy=proxy_url)\n",
    "    except Exception as e:\n",
    "        print('Could not download id:', score_id)\n",
    "        print('Error:', e)\n",
    "        invalid_ids.append(score_id)\n",
    "        deleted_proxies.append(all_proxies[proxy_index])\n",
    "        del all_proxies[proxy_index]\n",
    "        print('Proxy ' + proxy['ip'] + ':' + str(proxy['port']) + ' deleted.')\n",
    "        print(instance.username)\n",
    "        proxy = None\n",
    "        instance = None\n",
    "    sleep(randint(1,2))\n",
    "    "
   ]
  },
  {
   "cell_type": "code",
   "execution_count": null,
   "metadata": {},
   "outputs": [],
   "source": []
  }
 ],
 "metadata": {
  "kernelspec": {
   "display_name": "Python 3",
   "language": "python",
   "name": "python3"
  },
  "language_info": {
   "codemirror_mode": {
    "name": "ipython",
    "version": 3
   },
   "file_extension": ".py",
   "mimetype": "text/x-python",
   "name": "python",
   "nbconvert_exporter": "python",
   "pygments_lexer": "ipython3",
   "version": "3.7.1"
  }
 },
 "nbformat": 4,
 "nbformat_minor": 2
}
