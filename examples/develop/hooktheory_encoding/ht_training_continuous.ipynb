{
 "cells": [
  {
   "cell_type": "markdown",
   "metadata": {},
   "source": [
    "# Attention Architecture"
   ]
  },
  {
   "cell_type": "code",
   "execution_count": 1,
   "metadata": {},
   "outputs": [],
   "source": [
    "%reload_ext autoreload\n",
    "%autoreload 2\n",
    "%matplotlib inline"
   ]
  },
  {
   "cell_type": "code",
   "execution_count": 2,
   "metadata": {},
   "outputs": [],
   "source": [
    "import music21"
   ]
  },
  {
   "cell_type": "code",
   "execution_count": 3,
   "metadata": {},
   "outputs": [],
   "source": [
    "from fastai.text import *\n",
    "from transformer_xl.default_txl import get_default_model\n",
    "from enum import Enum\n",
    "import torch\n",
    "from fastai.text.models.awd_lstm import *\n",
    "from fastai.text.models.transformer import *"
   ]
  },
  {
   "cell_type": "code",
   "execution_count": 4,
   "metadata": {},
   "outputs": [],
   "source": [
    "from fastai_data import *"
   ]
  },
  {
   "cell_type": "code",
   "execution_count": 5,
   "metadata": {},
   "outputs": [],
   "source": [
    "import numpy as np\n",
    "import torch.nn as nn"
   ]
  },
  {
   "cell_type": "code",
   "execution_count": 6,
   "metadata": {},
   "outputs": [],
   "source": [
    "from ht_encode import *\n",
    "import ht_encode"
   ]
  },
  {
   "cell_type": "code",
   "execution_count": 7,
   "metadata": {},
   "outputs": [],
   "source": [
    "# bs=4\n",
    "# bptt=64\n",
    "\n",
    "bs=8\n",
    "bptt=256"
   ]
  },
  {
   "cell_type": "code",
   "execution_count": 8,
   "metadata": {},
   "outputs": [],
   "source": [
    "import fastai_data\n",
    "fastai_data.Y_OFFSET=16"
   ]
  },
  {
   "cell_type": "code",
   "execution_count": 9,
   "metadata": {},
   "outputs": [],
   "source": [
    "path = Path('data/midi/v7/midi_encode/np/hook_cont/')\n",
    "ht_encode.config.continuous=True\n",
    "data = LMNPDataBunch.load(path, bs=bs, bptt=bptt, cache_name='tmp/all')"
   ]
  },
  {
   "cell_type": "code",
   "execution_count": 10,
   "metadata": {},
   "outputs": [],
   "source": [
    "# loss_func = CrossEntropy with parts"
   ]
  },
  {
   "cell_type": "code",
   "execution_count": 11,
   "metadata": {},
   "outputs": [],
   "source": [
    "class TransformerEmbed(nn.Module):\n",
    "    def __init__(self, vocab_map, vocab_sizes, emb_dims, d_model, embed_p:float=0.1, **kwargs):\n",
    "        super().__init__()\n",
    "        # note, octave, duration, instrument\n",
    "#         assert(sum(emb_dims) == d_model)\n",
    "        self.vocab_map = vocab_map\n",
    "        embeddings = []\n",
    "        for in_d, out_d in zip(vocab_sizes, emb_dims):\n",
    "            embeddings.append(nn.Embedding(in_d, out_d, padding_idx=PAD_IDX))\n",
    "        self.embeddings = nn.ModuleList(embeddings)\n",
    "        self.drop_emb = nn.Dropout(embed_p)\n",
    "        \n",
    "    def forward(self, x):\n",
    "        # batch x bptt x (n,o,d,i)\n",
    "        embs = []\n",
    "        for i in range(x.shape[-1]):\n",
    "            emb_idx = self.vocab_map[i]\n",
    "            embs.append(self.embeddings[emb_idx](x[:,:,i]))\n",
    "        emb = torch.cat(embs, dim=-1)\n",
    "#         return emb\n",
    "        return self.drop_emb(emb)"
   ]
  },
  {
   "cell_type": "code",
   "execution_count": 12,
   "metadata": {},
   "outputs": [],
   "source": [
    "class TXLLinearDecoder(nn.Module):\n",
    "    \"To go on top of a RNNCore module and create a Language Model.\"\n",
    "    initrange=0.1\n",
    "\n",
    "    def __init__(self, n_out:int, n_hid:int, tie_encoder:nn.Module=None, bias:bool=True):\n",
    "        super().__init__()\n",
    "        self.decoder = nn.Linear(n_hid, n_out, bias=bias)\n",
    "        self.decoder.weight.data.uniform_(-self.initrange, self.initrange)\n",
    "        if bias: self.decoder.bias.data.zero_()\n",
    "        if tie_encoder: self.decoder.weight = tie_encoder.weight\n",
    "\n",
    "    def forward(self, input):\n",
    "        return self.decoder(input)"
   ]
  },
  {
   "cell_type": "code",
   "execution_count": 13,
   "metadata": {},
   "outputs": [],
   "source": [
    "class TransformerDec(nn.Module):\n",
    "    def __init__(self, txl_emb, vocab_map, output_p=0.0, out_bias=True, **kwargs):\n",
    "        super().__init__()\n",
    "        self.output_dp = RNNDropout(output_p)\n",
    "        \n",
    "        start_range = 0\n",
    "        self.ranges = []\n",
    "        decoders = []\n",
    "        for i in range(len(vocab_map)):\n",
    "            emb = txl_emb.embeddings[vocab_map[i]]\n",
    "            decoder = TXLLinearDecoder(emb.num_embeddings, emb.embedding_dim, tie_encoder=emb, bias=out_bias)\n",
    "            decoders.append(decoder)\n",
    "            end_range = start_range+emb.embedding_dim\n",
    "            self.ranges.append([start_range, end_range])\n",
    "            start_range = end_range\n",
    "            \n",
    "        self.decoders = nn.ModuleList(decoders)\n",
    "        \n",
    "    def forward(self, input):\n",
    "        raw_outputs, outputs = input\n",
    "        output = self.output_dp(outputs[-1])\n",
    "        res = []\n",
    "        for dec,(start,end) in zip(self.decoders, self.ranges):\n",
    "            res.append(dec(output[:,:,start:end]))\n",
    "        return res, raw_outputs, outputs"
   ]
  },
  {
   "cell_type": "code",
   "execution_count": 14,
   "metadata": {},
   "outputs": [],
   "source": [
    "\n",
    "class LMNPTransformerXL(nn.Module):\n",
    "    \"TransformerXL model: https://arxiv.org/abs/1901.02860.\"\n",
    "    def __init__(self, encoder, ctx_len:int, n_layers:int, n_heads:int, d_model:int, d_head:int, d_inner:int, \n",
    "                 resid_p:float=0., attn_p:float=0., ff_p:float=0., embed_p:float=0., bias:bool=False, scale:bool=True,\n",
    "                 act:Activation=Activation.ReLU, double_drop:bool=True, attn_cls:Callable=MultiHeadRelativeAttention,\n",
    "                 learned_pos_enc:bool=False, mask:bool=True, mem_len:int=0, **kwargs):\n",
    "        super().__init__()\n",
    "        self.encoder = encoder\n",
    "        self.pos_enc = nn.Embedding(ctx_len, d_model) if learned_pos_enc else PositionalEncoding(d_model)\n",
    "        self.u = nn.Parameter(torch.Tensor(n_heads, 1, d_head)) #Remove 1 for einsum implementation of attention\n",
    "        self.v = nn.Parameter(torch.Tensor(n_heads, 1, d_head)) #Remove 1 for einsum implementation of attention\n",
    "        self.mem_len,self.n_layers,self.d_model,self.mask = mem_len,n_layers,d_model,mask\n",
    "        if self.mem_len > 0: self.reset()\n",
    "        self.layers = nn.ModuleList([DecoderLayer(n_heads, d_model, d_head, d_inner, resid_p=resid_p, attn_p=attn_p,\n",
    "                      ff_p=ff_p, bias=bias, scale=scale, act=act, double_drop=double_drop, \n",
    "                      attn_cls=attn_cls) for k in range(n_layers)])\n",
    "    \n",
    "    def reset(self):\n",
    "        \"Reset the internal memory.\"\n",
    "        self.hidden = [next(self.parameters()).data.new(0) for i in range(self.n_layers+1)]\n",
    "#         self.hidden = [next(self.parameters()).data.new(0).cuda() for i in range(self.n_layers+1)]\n",
    "\n",
    "    def _update_mems(self, hids):\n",
    "        if not getattr(self, 'hidden', False): return None\n",
    "        assert len(hids) == len(self.hidden), 'len(hids) != len(self.hidden)'\n",
    "        with torch.no_grad():\n",
    "            for i in range(len(hids)):\n",
    "                cat = torch.cat([self.hidden[i], hids[i]], dim=1)\n",
    "                self.hidden[i] = cat[:,-self.mem_len:].detach()\n",
    "    \n",
    "    def select_hidden(self, idxs): self.hidden = [h[idxs] for h in self.hidden]\n",
    "    \n",
    "    def forward(self, x):\n",
    "        bs,x_len,_ = x.size()\n",
    "        inp = self.encoder(x)\n",
    "        m_len = self.hidden[0].size(1) if hasattr(self, 'hidden') and len(self.hidden[0].size()) > 1 else 0\n",
    "        seq_len = m_len + x_len\n",
    "        mask = torch.triu(x.new_ones(x_len, seq_len), diagonal=1+m_len).byte()[None,None] if self.mask else None\n",
    "        #[None,:,:None] for einsum implementation of attention\n",
    "        hids = []\n",
    "        pos = torch.arange(seq_len-1, -1, -1, device=inp.device, dtype=inp.dtype)\n",
    "        pos_enc = self.pos_enc(pos)\n",
    "        hids.append(inp)\n",
    "        for i, layer in enumerate(self.layers):\n",
    "            mem = self.hidden[i] if self.mem_len > 0 else None\n",
    "            inp = layer(inp, r=pos_enc, u=self.u, v=self.v, mask=mask, mem=mem)\n",
    "            hids.append(inp)\n",
    "        core_out = inp[:,-x_len:]\n",
    "        if self.mem_len > 0 : self._update_mems(hids)\n",
    "        return (self.hidden if self.mem_len > 0 else [core_out]),[core_out]"
   ]
  },
  {
   "cell_type": "code",
   "execution_count": 15,
   "metadata": {},
   "outputs": [],
   "source": [
    "config = tfmerXL_lm_config"
   ]
  },
  {
   "cell_type": "code",
   "execution_count": 16,
   "metadata": {},
   "outputs": [],
   "source": [
    "PAD_IDX=ht_encode.config.pad_idx+ht_encode.config.enc_offset\n",
    "# must remember to add 1 to tensors"
   ]
  },
  {
   "cell_type": "code",
   "execution_count": 17,
   "metadata": {},
   "outputs": [
    {
     "data": {
      "text/plain": [
       "[15, 13, 5, 15, 15, 15, 15, 5, 7, 12]"
      ]
     },
     "execution_count": 17,
     "metadata": {},
     "output_type": "execute_result"
    }
   ],
   "source": [
    "train_ids_file = path/'tmp/all/train_ids.npy'\n",
    "all_ids = np.load(train_ids_file)\n",
    "id_cat = np.concatenate(all_ids); id_cat.shape\n",
    "max_vocab = id_cat.max(axis=0)\n",
    "max_vocab = (max_vocab+1).tolist(); max_vocab"
   ]
  },
  {
   "cell_type": "code",
   "execution_count": 18,
   "metadata": {},
   "outputs": [
    {
     "data": {
      "text/plain": [
       "array([1, 0, 0, 1, 0, 0, 0, 0, 0, 0])"
      ]
     },
     "execution_count": 18,
     "metadata": {},
     "output_type": "execute_result"
    }
   ],
   "source": [
    "min_vocab = id_cat.min(axis=0); min_vocab"
   ]
  },
  {
   "cell_type": "code",
   "execution_count": 19,
   "metadata": {},
   "outputs": [],
   "source": [
    "idx2embidx = {\n",
    "    0:0,1:1,2:2,\n",
    "    3:0,4:0,5:0,6:0,7:2,\n",
    "    8:3,\n",
    "    9:4\n",
    "}"
   ]
  },
  {
   "cell_type": "code",
   "execution_count": 20,
   "metadata": {},
   "outputs": [],
   "source": [
    "max_vocab_sizes = [max_vocab[i] for i in [0,1,2,8,9]]"
   ]
  },
  {
   "cell_type": "code",
   "execution_count": 21,
   "metadata": {},
   "outputs": [],
   "source": [
    "emb_dims = [100,100,100,20,20]"
   ]
  },
  {
   "cell_type": "code",
   "execution_count": 22,
   "metadata": {},
   "outputs": [
    {
     "data": {
      "text/plain": [
       "{0: (15, 100),\n",
       " 1: (13, 100),\n",
       " 2: (5, 100),\n",
       " 3: (15, 100),\n",
       " 4: (15, 100),\n",
       " 5: (15, 100),\n",
       " 6: (15, 100),\n",
       " 7: (5, 100),\n",
       " 8: (7, 20),\n",
       " 9: (12, 20)}"
      ]
     },
     "execution_count": 22,
     "metadata": {},
     "output_type": "execute_result"
    }
   ],
   "source": [
    "idx2dims = {k:(max_vocab_sizes[v],emb_dims[v]) for k,v in idx2embidx.items()}; idx2dims"
   ]
  },
  {
   "cell_type": "code",
   "execution_count": 23,
   "metadata": {},
   "outputs": [],
   "source": [
    "config['vocab_sizes'] = max_vocab_sizes\n",
    "config['vocab_map'] = idx2embidx"
   ]
  },
  {
   "cell_type": "code",
   "execution_count": 24,
   "metadata": {},
   "outputs": [],
   "source": [
    "config['emb_dims'] = emb_dims\n",
    "total_embs = sum([i[1] for i in  idx2dims.values()])\n",
    "config['d_model'] = total_embs"
   ]
  },
  {
   "cell_type": "code",
   "execution_count": 25,
   "metadata": {},
   "outputs": [],
   "source": [
    "config['ctx_len'] = 0\n",
    "config['mem_len'] = 256\n",
    "config['d_inner'] = 1024"
   ]
  },
  {
   "cell_type": "code",
   "execution_count": 26,
   "metadata": {},
   "outputs": [],
   "source": [
    "# config['mem_len'] = 0\n",
    "# config['d_inner'] = 512"
   ]
  },
  {
   "cell_type": "code",
   "execution_count": 27,
   "metadata": {},
   "outputs": [
    {
     "data": {
      "text/plain": [
       "{'ctx_len': 0,\n",
       " 'n_layers': 12,\n",
       " 'n_heads': 10,\n",
       " 'd_model': 840,\n",
       " 'd_head': 41,\n",
       " 'd_inner': 1024,\n",
       " 'resid_p': 0.1,\n",
       " 'attn_p': 0.1,\n",
       " 'ff_p': 0.1,\n",
       " 'embed_p': 0.1,\n",
       " 'output_p': 0.1,\n",
       " 'bias': False,\n",
       " 'scale': True,\n",
       " 'act': <Activation.ReLU: 1>,\n",
       " 'double_drop': True,\n",
       " 'tie_weights': True,\n",
       " 'out_bias': True,\n",
       " 'init': <function fastai.text.models.transformer.init_transformer(m)>,\n",
       " 'mem_len': 256,\n",
       " 'mask': True,\n",
       " 'vocab_sizes': [15, 13, 5, 7, 12],\n",
       " 'vocab_map': {0: 0, 1: 1, 2: 2, 3: 0, 4: 0, 5: 0, 6: 0, 7: 2, 8: 3, 9: 4},\n",
       " 'emb_dims': [100, 100, 100, 20, 20]}"
      ]
     },
     "execution_count": 27,
     "metadata": {},
     "output_type": "execute_result"
    }
   ],
   "source": [
    "config"
   ]
  },
  {
   "cell_type": "code",
   "execution_count": 28,
   "metadata": {},
   "outputs": [],
   "source": [
    "def get_language_model(config:dict=None, drop_mult:float=1.):\n",
    "    \"Create a language model from `arch` and its `config`, maybe `pretrained`.\"\n",
    "    for k in config.keys(): \n",
    "        if k.endswith('_p'): config[k] *= drop_mult\n",
    "    init = config.pop('init') if 'init' in config else None\n",
    "    \n",
    "    embed = TransformerEmbed(**config)\n",
    "    txl = LMNPTransformerXL(embed, **config)\n",
    "    decoder = TransformerDec(embed, **config)\n",
    "    model = SequentialRNN(txl, decoder).cuda()\n",
    "    \n",
    "    return model if init is None else model.apply(init)\n",
    "\n",
    "\n",
    "def language_model_learner(data:DataBunch, config:dict=None, drop_mult:float=1., pretrained:bool=True,\n",
    "                           **learn_kwargs) -> 'LanguageLearner':\n",
    "    \"Create a `Learner` with a language model from `data` and `arch`.\"\n",
    "    model = get_language_model(config=config, drop_mult=drop_mult)\n",
    "    learn = LanguageLearner(data, model, split_func=tfmer_lm_split, **learn_kwargs)\n",
    "    return learn"
   ]
  },
  {
   "cell_type": "code",
   "execution_count": 29,
   "metadata": {},
   "outputs": [],
   "source": [
    "\n",
    "class LMNPLoss(nn.Module):\n",
    "    \"Same as `func`, but flattens input and target.\"\n",
    "    def __init__(self):\n",
    "        super().__init__()\n",
    "        self.fn = nn.CrossEntropyLoss(ignore_index=PAD_IDX) \n",
    "        # not using func otherwise _loss_func_name2activ uses this attribute to get cross entropy loss\n",
    "\n",
    "    def __repr__(self): return f\"numpyenc loss of {self.fn}\"\n",
    "\n",
    "    def forward(self, inputs:Tensor, target:Tensor, **kwargs)->Rank0Tensor:\n",
    "        losses = []\n",
    "        for idx,input in enumerate(inputs):\n",
    "            if idx in BIDX_ALL: continue\n",
    "            t = target[:,:,idx]\n",
    "            input = input.view(-1,input.shape[-1])\n",
    "            losses.append(self.fn(input, t.view(-1)))\n",
    "        return sum(losses)"
   ]
  },
  {
   "cell_type": "code",
   "execution_count": 30,
   "metadata": {},
   "outputs": [],
   "source": [
    "test = []\n",
    "accs = []\n",
    "inps = []\n",
    "tgs = []"
   ]
  },
  {
   "cell_type": "code",
   "execution_count": 31,
   "metadata": {},
   "outputs": [],
   "source": [
    "def lmnp_accuracy(inputs:Tensor, target:Tensor)->Rank0Tensor:\n",
    "    \"Compute accuracy with `targs` when `input` is bs * n_classes.\"\n",
    "    target = target[:,:,:-2]\n",
    "    inputs = [i.argmax(dim=-1).unsqueeze(dim=-1) for i in inputs[:-2]]\n",
    "    input_cat = torch.cat(inputs, dim=-1).cpu().numpy()\n",
    "    target = target.cpu().numpy()\n",
    "    acc = (input_cat==target).astype(float)\n",
    "    acc[target==PAD_IDX] = np.nan\n",
    "#     test.append(np.nanmean(acc, dtype=float, axis=(0,1)))\n",
    "#     accs.append(acc)\n",
    "#     inps.append(input_cat)\n",
    "#     tgs.append(target)\n",
    "    return torch.tensor(np.nanmean(acc, dtype=float))"
   ]
  },
  {
   "cell_type": "code",
   "execution_count": 33,
   "metadata": {},
   "outputs": [],
   "source": [
    "# learn.validate()"
   ]
  },
  {
   "cell_type": "code",
   "execution_count": 34,
   "metadata": {},
   "outputs": [],
   "source": [
    "learn = language_model_learner(data, config, clip=0.25, loss_func=LMNPLoss(), metrics=[lmnp_accuracy])"
   ]
  },
  {
   "cell_type": "code",
   "execution_count": 35,
   "metadata": {},
   "outputs": [],
   "source": [
    "# clip = 0.5\n",
    "# learn.lr_find(num_it=300)\n",
    "# learn.recorder.plot()# "
   ]
  },
  {
   "cell_type": "code",
   "execution_count": 36,
   "metadata": {},
   "outputs": [
    {
     "data": {
      "text/html": [
       "Total time: 39:06 <p><table style='width:300px; margin-bottom:10px'>\n",
       "  <tr>\n",
       "    <th>epoch</th>\n",
       "    <th>train_loss</th>\n",
       "    <th>valid_loss</th>\n",
       "    <th>lmnp_accuracy</th>\n",
       "  </tr>\n",
       "  <tr>\n",
       "    <th>1</th>\n",
       "    <th>10.870396</th>\n",
       "    <th>10.676178</th>\n",
       "    <th>0.559446</th>\n",
       "  </tr>\n",
       "  <tr>\n",
       "    <th>2</th>\n",
       "    <th>9.037024</th>\n",
       "    <th>9.024712</th>\n",
       "    <th>0.633703</th>\n",
       "  </tr>\n",
       "  <tr>\n",
       "    <th>3</th>\n",
       "    <th>8.667953</th>\n",
       "    <th>8.585174</th>\n",
       "    <th>0.655611</th>\n",
       "  </tr>\n",
       "  <tr>\n",
       "    <th>4</th>\n",
       "    <th>8.340823</th>\n",
       "    <th>8.320344</th>\n",
       "    <th>0.665299</th>\n",
       "  </tr>\n",
       "  <tr>\n",
       "    <th>5</th>\n",
       "    <th>7.973134</th>\n",
       "    <th>8.114388</th>\n",
       "    <th>0.674027</th>\n",
       "  </tr>\n",
       "  <tr>\n",
       "    <th>6</th>\n",
       "    <th>7.891608</th>\n",
       "    <th>7.999819</th>\n",
       "    <th>0.676713</th>\n",
       "  </tr>\n",
       "  <tr>\n",
       "    <th>7</th>\n",
       "    <th>7.488433</th>\n",
       "    <th>7.917306</th>\n",
       "    <th>0.679658</th>\n",
       "  </tr>\n",
       "  <tr>\n",
       "    <th>8</th>\n",
       "    <th>7.196436</th>\n",
       "    <th>7.881710</th>\n",
       "    <th>0.681492</th>\n",
       "  </tr>\n",
       "  <tr>\n",
       "    <th>9</th>\n",
       "    <th>7.009666</th>\n",
       "    <th>7.909926</th>\n",
       "    <th>0.682549</th>\n",
       "  </tr>\n",
       "  <tr>\n",
       "    <th>10</th>\n",
       "    <th>6.991349</th>\n",
       "    <th>7.892411</th>\n",
       "    <th>0.682930</th>\n",
       "  </tr>\n",
       "</table>\n"
      ],
      "text/plain": [
       "<IPython.core.display.HTML object>"
      ]
     },
     "metadata": {},
     "output_type": "display_data"
    }
   ],
   "source": [
    "learn.fit_one_cycle(10, 1e-4)"
   ]
  },
  {
   "cell_type": "code",
   "execution_count": 37,
   "metadata": {},
   "outputs": [],
   "source": [
    "learn.save('predict_n16')"
   ]
  },
  {
   "cell_type": "code",
   "execution_count": 38,
   "metadata": {},
   "outputs": [],
   "source": [
    "from fastai import basic_train"
   ]
  },
  {
   "cell_type": "code",
   "execution_count": 39,
   "metadata": {},
   "outputs": [],
   "source": [
    "def predict_func(parts): return [F.softmax(p, dim=-1) for p in parts]"
   ]
  },
  {
   "cell_type": "code",
   "execution_count": 40,
   "metadata": {},
   "outputs": [
    {
     "data": {
      "text/plain": [
       "<function __main__.predict_func(parts)>"
      ]
     },
     "execution_count": 40,
     "metadata": {},
     "output_type": "execute_result"
    }
   ],
   "source": [
    "loss_func_name = camel2snake(learn.loss_func.__class__.__name__)\n",
    "basic_train.loss_func_name2activ[loss_func_name] = predict_func\n",
    "basic_train._loss_func2activ(learn.loss_func)"
   ]
  },
  {
   "cell_type": "code",
   "execution_count": 49,
   "metadata": {},
   "outputs": [],
   "source": [
    "tsteps = fastai_data.Y_OFFSET"
   ]
  },
  {
   "cell_type": "code",
   "execution_count": 66,
   "metadata": {},
   "outputs": [],
   "source": [
    "def predict(self, xb, n_words:int=1, no_unk:bool=True, temperature:float=1., min_p:float=None, sep:str=' ',\n",
    "            decoder=decode_spec_tokens):\n",
    "    \"Return the `n_words` that come after `text`.\"\n",
    "    ds = self.data.single_dl.dataset\n",
    "    self.model.reset()\n",
    "    if xb.shape[0] > 1: xb = xb[0][None]\n",
    "    yb = torch.ones_like(xb)\n",
    "    new_idx = []\n",
    "    for _ in range(n_words): #progress_bar(range(n_words), leave=False):\n",
    "        block = []\n",
    "        outputs = learn.pred_batch(batch=(xb,yb))\n",
    "        for item in outputs: #progress_bar(range(n_words), leave=False):\n",
    "            timesteps = []\n",
    "            last_n = item[0][-tsteps:]\n",
    "            for res in last_n:\n",
    "                if min_p is not None: \n",
    "                    if (res >= min_p).float().sum() == 0:\n",
    "                        warn(f\"There is no item with probability >= {min_p}, try a lower value.\")\n",
    "                    else: res[res < min_p] = 0.\n",
    "                if temperature != 1.: res.pow_(1 / temperature)\n",
    "                idx = torch.multinomial(res, 1).item()\n",
    "                timesteps.append(idx)\n",
    "            block.append(timesteps)\n",
    "        new_idx.append(np.array(block).transpose())\n",
    "        xb = xb.new_tensor(block).view(1,tsteps,-1)\n",
    "    return new_idx\n"
   ]
  },
  {
   "cell_type": "code",
   "execution_count": 67,
   "metadata": {},
   "outputs": [],
   "source": [
    "xb,yb = learn.data.one_batch(cpu=False)"
   ]
  },
  {
   "cell_type": "code",
   "execution_count": 68,
   "metadata": {},
   "outputs": [
    {
     "ename": "RuntimeError",
     "evalue": "cuda runtime error (59) : device-side assert triggered at /pytorch/aten/src/THC/generic/THCTensorMath.cu:14",
     "output_type": "error",
     "traceback": [
      "\u001b[0;31m---------------------------------------------------------------------------\u001b[0m",
      "\u001b[0;31mRuntimeError\u001b[0m                              Traceback (most recent call last)",
      "\u001b[0;32m<ipython-input-68-3b99b8e6a182>\u001b[0m in \u001b[0;36m<module>\u001b[0;34m\u001b[0m\n\u001b[0;32m----> 1\u001b[0;31m \u001b[0mout\u001b[0m \u001b[0;34m=\u001b[0m \u001b[0mpredict\u001b[0m\u001b[0;34m(\u001b[0m\u001b[0mlearn\u001b[0m\u001b[0;34m,\u001b[0m \u001b[0mxb\u001b[0m\u001b[0;34m,\u001b[0m \u001b[0mn_words\u001b[0m\u001b[0;34m=\u001b[0m\u001b[0;36m5\u001b[0m\u001b[0;34m)\u001b[0m\u001b[0;34m\u001b[0m\u001b[0;34m\u001b[0m\u001b[0m\n\u001b[0m",
      "\u001b[0;32m<ipython-input-66-37b0bf3d7fdb>\u001b[0m in \u001b[0;36mpredict\u001b[0;34m(self, xb, n_words, no_unk, temperature, min_p, sep, decoder)\u001b[0m\n\u001b[1;32m      9\u001b[0m     \u001b[0;32mfor\u001b[0m \u001b[0m_\u001b[0m \u001b[0;32min\u001b[0m \u001b[0mrange\u001b[0m\u001b[0;34m(\u001b[0m\u001b[0mn_words\u001b[0m\u001b[0;34m)\u001b[0m\u001b[0;34m:\u001b[0m \u001b[0;31m#progress_bar(range(n_words), leave=False):\u001b[0m\u001b[0;34m\u001b[0m\u001b[0;34m\u001b[0m\u001b[0m\n\u001b[1;32m     10\u001b[0m         \u001b[0mblock\u001b[0m \u001b[0;34m=\u001b[0m \u001b[0;34m[\u001b[0m\u001b[0;34m]\u001b[0m\u001b[0;34m\u001b[0m\u001b[0;34m\u001b[0m\u001b[0m\n\u001b[0;32m---> 11\u001b[0;31m         \u001b[0moutputs\u001b[0m \u001b[0;34m=\u001b[0m \u001b[0mlearn\u001b[0m\u001b[0;34m.\u001b[0m\u001b[0mpred_batch\u001b[0m\u001b[0;34m(\u001b[0m\u001b[0mbatch\u001b[0m\u001b[0;34m=\u001b[0m\u001b[0;34m(\u001b[0m\u001b[0mxb\u001b[0m\u001b[0;34m,\u001b[0m\u001b[0myb\u001b[0m\u001b[0;34m)\u001b[0m\u001b[0;34m)\u001b[0m\u001b[0;34m\u001b[0m\u001b[0;34m\u001b[0m\u001b[0m\n\u001b[0m\u001b[1;32m     12\u001b[0m         \u001b[0;32mfor\u001b[0m \u001b[0mitem\u001b[0m \u001b[0;32min\u001b[0m \u001b[0moutputs\u001b[0m\u001b[0;34m:\u001b[0m \u001b[0;31m#progress_bar(range(n_words), leave=False):\u001b[0m\u001b[0;34m\u001b[0m\u001b[0;34m\u001b[0m\u001b[0m\n\u001b[1;32m     13\u001b[0m             \u001b[0mtimesteps\u001b[0m \u001b[0;34m=\u001b[0m \u001b[0;34m[\u001b[0m\u001b[0;34m]\u001b[0m\u001b[0;34m\u001b[0m\u001b[0;34m\u001b[0m\u001b[0m\n",
      "\u001b[0;32m~/fastai/fastai/basic_train.py\u001b[0m in \u001b[0;36mpred_batch\u001b[0;34m(self, ds_type, batch, reconstruct)\u001b[0m\n\u001b[1;32m    284\u001b[0m         \u001b[0mcb_handler\u001b[0m \u001b[0;34m=\u001b[0m \u001b[0mCallbackHandler\u001b[0m\u001b[0;34m(\u001b[0m\u001b[0mself\u001b[0m\u001b[0;34m.\u001b[0m\u001b[0mcallbacks\u001b[0m\u001b[0;34m)\u001b[0m\u001b[0;34m\u001b[0m\u001b[0;34m\u001b[0m\u001b[0m\n\u001b[1;32m    285\u001b[0m         \u001b[0mxb\u001b[0m\u001b[0;34m,\u001b[0m\u001b[0myb\u001b[0m \u001b[0;34m=\u001b[0m \u001b[0mcb_handler\u001b[0m\u001b[0;34m.\u001b[0m\u001b[0mon_batch_begin\u001b[0m\u001b[0;34m(\u001b[0m\u001b[0mxb\u001b[0m\u001b[0;34m,\u001b[0m\u001b[0myb\u001b[0m\u001b[0;34m,\u001b[0m \u001b[0mtrain\u001b[0m\u001b[0;34m=\u001b[0m\u001b[0;32mFalse\u001b[0m\u001b[0;34m)\u001b[0m\u001b[0;34m\u001b[0m\u001b[0;34m\u001b[0m\u001b[0m\n\u001b[0;32m--> 286\u001b[0;31m         \u001b[0mpreds\u001b[0m \u001b[0;34m=\u001b[0m \u001b[0mloss_batch\u001b[0m\u001b[0;34m(\u001b[0m\u001b[0mself\u001b[0m\u001b[0;34m.\u001b[0m\u001b[0mmodel\u001b[0m\u001b[0;34m.\u001b[0m\u001b[0meval\u001b[0m\u001b[0;34m(\u001b[0m\u001b[0;34m)\u001b[0m\u001b[0;34m,\u001b[0m \u001b[0mxb\u001b[0m\u001b[0;34m,\u001b[0m \u001b[0myb\u001b[0m\u001b[0;34m,\u001b[0m \u001b[0mcb_handler\u001b[0m\u001b[0;34m=\u001b[0m\u001b[0mcb_handler\u001b[0m\u001b[0;34m)\u001b[0m\u001b[0;34m\u001b[0m\u001b[0;34m\u001b[0m\u001b[0m\n\u001b[0m\u001b[1;32m    287\u001b[0m         \u001b[0mres\u001b[0m \u001b[0;34m=\u001b[0m \u001b[0m_loss_func2activ\u001b[0m\u001b[0;34m(\u001b[0m\u001b[0mself\u001b[0m\u001b[0;34m.\u001b[0m\u001b[0mloss_func\u001b[0m\u001b[0;34m)\u001b[0m\u001b[0;34m(\u001b[0m\u001b[0mpreds\u001b[0m\u001b[0;34m[\u001b[0m\u001b[0;36m0\u001b[0m\u001b[0;34m]\u001b[0m\u001b[0;34m)\u001b[0m\u001b[0;34m\u001b[0m\u001b[0;34m\u001b[0m\u001b[0m\n\u001b[1;32m    288\u001b[0m         \u001b[0;32mif\u001b[0m \u001b[0;32mnot\u001b[0m \u001b[0mreconstruct\u001b[0m\u001b[0;34m:\u001b[0m \u001b[0;32mreturn\u001b[0m \u001b[0mres\u001b[0m\u001b[0;34m\u001b[0m\u001b[0;34m\u001b[0m\u001b[0m\n",
      "\u001b[0;32m~/fastai/fastai/basic_train.py\u001b[0m in \u001b[0;36mloss_batch\u001b[0;34m(model, xb, yb, loss_func, opt, cb_handler)\u001b[0m\n\u001b[1;32m     18\u001b[0m     \u001b[0;32mif\u001b[0m \u001b[0;32mnot\u001b[0m \u001b[0mis_listy\u001b[0m\u001b[0;34m(\u001b[0m\u001b[0mxb\u001b[0m\u001b[0;34m)\u001b[0m\u001b[0;34m:\u001b[0m \u001b[0mxb\u001b[0m \u001b[0;34m=\u001b[0m \u001b[0;34m[\u001b[0m\u001b[0mxb\u001b[0m\u001b[0;34m]\u001b[0m\u001b[0;34m\u001b[0m\u001b[0;34m\u001b[0m\u001b[0m\n\u001b[1;32m     19\u001b[0m     \u001b[0;32mif\u001b[0m \u001b[0;32mnot\u001b[0m \u001b[0mis_listy\u001b[0m\u001b[0;34m(\u001b[0m\u001b[0myb\u001b[0m\u001b[0;34m)\u001b[0m\u001b[0;34m:\u001b[0m \u001b[0myb\u001b[0m \u001b[0;34m=\u001b[0m \u001b[0;34m[\u001b[0m\u001b[0myb\u001b[0m\u001b[0;34m]\u001b[0m\u001b[0;34m\u001b[0m\u001b[0;34m\u001b[0m\u001b[0m\n\u001b[0;32m---> 20\u001b[0;31m     \u001b[0mout\u001b[0m \u001b[0;34m=\u001b[0m \u001b[0mmodel\u001b[0m\u001b[0;34m(\u001b[0m\u001b[0;34m*\u001b[0m\u001b[0mxb\u001b[0m\u001b[0;34m)\u001b[0m\u001b[0;34m\u001b[0m\u001b[0;34m\u001b[0m\u001b[0m\n\u001b[0m\u001b[1;32m     21\u001b[0m     \u001b[0mout\u001b[0m \u001b[0;34m=\u001b[0m \u001b[0mcb_handler\u001b[0m\u001b[0;34m.\u001b[0m\u001b[0mon_loss_begin\u001b[0m\u001b[0;34m(\u001b[0m\u001b[0mout\u001b[0m\u001b[0;34m)\u001b[0m\u001b[0;34m\u001b[0m\u001b[0;34m\u001b[0m\u001b[0m\n\u001b[1;32m     22\u001b[0m \u001b[0;34m\u001b[0m\u001b[0m\n",
      "\u001b[0;32m~/anaconda3/envs/midi/lib/python3.7/site-packages/torch/nn/modules/module.py\u001b[0m in \u001b[0;36m__call__\u001b[0;34m(self, *input, **kwargs)\u001b[0m\n\u001b[1;32m    487\u001b[0m             \u001b[0mresult\u001b[0m \u001b[0;34m=\u001b[0m \u001b[0mself\u001b[0m\u001b[0;34m.\u001b[0m\u001b[0m_slow_forward\u001b[0m\u001b[0;34m(\u001b[0m\u001b[0;34m*\u001b[0m\u001b[0minput\u001b[0m\u001b[0;34m,\u001b[0m \u001b[0;34m**\u001b[0m\u001b[0mkwargs\u001b[0m\u001b[0;34m)\u001b[0m\u001b[0;34m\u001b[0m\u001b[0;34m\u001b[0m\u001b[0m\n\u001b[1;32m    488\u001b[0m         \u001b[0;32melse\u001b[0m\u001b[0;34m:\u001b[0m\u001b[0;34m\u001b[0m\u001b[0;34m\u001b[0m\u001b[0m\n\u001b[0;32m--> 489\u001b[0;31m             \u001b[0mresult\u001b[0m \u001b[0;34m=\u001b[0m \u001b[0mself\u001b[0m\u001b[0;34m.\u001b[0m\u001b[0mforward\u001b[0m\u001b[0;34m(\u001b[0m\u001b[0;34m*\u001b[0m\u001b[0minput\u001b[0m\u001b[0;34m,\u001b[0m \u001b[0;34m**\u001b[0m\u001b[0mkwargs\u001b[0m\u001b[0;34m)\u001b[0m\u001b[0;34m\u001b[0m\u001b[0;34m\u001b[0m\u001b[0m\n\u001b[0m\u001b[1;32m    490\u001b[0m         \u001b[0;32mfor\u001b[0m \u001b[0mhook\u001b[0m \u001b[0;32min\u001b[0m \u001b[0mself\u001b[0m\u001b[0;34m.\u001b[0m\u001b[0m_forward_hooks\u001b[0m\u001b[0;34m.\u001b[0m\u001b[0mvalues\u001b[0m\u001b[0;34m(\u001b[0m\u001b[0;34m)\u001b[0m\u001b[0;34m:\u001b[0m\u001b[0;34m\u001b[0m\u001b[0;34m\u001b[0m\u001b[0m\n\u001b[1;32m    491\u001b[0m             \u001b[0mhook_result\u001b[0m \u001b[0;34m=\u001b[0m \u001b[0mhook\u001b[0m\u001b[0;34m(\u001b[0m\u001b[0mself\u001b[0m\u001b[0;34m,\u001b[0m \u001b[0minput\u001b[0m\u001b[0;34m,\u001b[0m \u001b[0mresult\u001b[0m\u001b[0;34m)\u001b[0m\u001b[0;34m\u001b[0m\u001b[0;34m\u001b[0m\u001b[0m\n",
      "\u001b[0;32m~/anaconda3/envs/midi/lib/python3.7/site-packages/torch/nn/modules/container.py\u001b[0m in \u001b[0;36mforward\u001b[0;34m(self, input)\u001b[0m\n\u001b[1;32m     90\u001b[0m     \u001b[0;32mdef\u001b[0m \u001b[0mforward\u001b[0m\u001b[0;34m(\u001b[0m\u001b[0mself\u001b[0m\u001b[0;34m,\u001b[0m \u001b[0minput\u001b[0m\u001b[0;34m)\u001b[0m\u001b[0;34m:\u001b[0m\u001b[0;34m\u001b[0m\u001b[0;34m\u001b[0m\u001b[0m\n\u001b[1;32m     91\u001b[0m         \u001b[0;32mfor\u001b[0m \u001b[0mmodule\u001b[0m \u001b[0;32min\u001b[0m \u001b[0mself\u001b[0m\u001b[0;34m.\u001b[0m\u001b[0m_modules\u001b[0m\u001b[0;34m.\u001b[0m\u001b[0mvalues\u001b[0m\u001b[0;34m(\u001b[0m\u001b[0;34m)\u001b[0m\u001b[0;34m:\u001b[0m\u001b[0;34m\u001b[0m\u001b[0;34m\u001b[0m\u001b[0m\n\u001b[0;32m---> 92\u001b[0;31m             \u001b[0minput\u001b[0m \u001b[0;34m=\u001b[0m \u001b[0mmodule\u001b[0m\u001b[0;34m(\u001b[0m\u001b[0minput\u001b[0m\u001b[0;34m)\u001b[0m\u001b[0;34m\u001b[0m\u001b[0;34m\u001b[0m\u001b[0m\n\u001b[0m\u001b[1;32m     93\u001b[0m         \u001b[0;32mreturn\u001b[0m \u001b[0minput\u001b[0m\u001b[0;34m\u001b[0m\u001b[0;34m\u001b[0m\u001b[0m\n\u001b[1;32m     94\u001b[0m \u001b[0;34m\u001b[0m\u001b[0m\n",
      "\u001b[0;32m~/anaconda3/envs/midi/lib/python3.7/site-packages/torch/nn/modules/module.py\u001b[0m in \u001b[0;36m__call__\u001b[0;34m(self, *input, **kwargs)\u001b[0m\n\u001b[1;32m    487\u001b[0m             \u001b[0mresult\u001b[0m \u001b[0;34m=\u001b[0m \u001b[0mself\u001b[0m\u001b[0;34m.\u001b[0m\u001b[0m_slow_forward\u001b[0m\u001b[0;34m(\u001b[0m\u001b[0;34m*\u001b[0m\u001b[0minput\u001b[0m\u001b[0;34m,\u001b[0m \u001b[0;34m**\u001b[0m\u001b[0mkwargs\u001b[0m\u001b[0;34m)\u001b[0m\u001b[0;34m\u001b[0m\u001b[0;34m\u001b[0m\u001b[0m\n\u001b[1;32m    488\u001b[0m         \u001b[0;32melse\u001b[0m\u001b[0;34m:\u001b[0m\u001b[0;34m\u001b[0m\u001b[0;34m\u001b[0m\u001b[0m\n\u001b[0;32m--> 489\u001b[0;31m             \u001b[0mresult\u001b[0m \u001b[0;34m=\u001b[0m \u001b[0mself\u001b[0m\u001b[0;34m.\u001b[0m\u001b[0mforward\u001b[0m\u001b[0;34m(\u001b[0m\u001b[0;34m*\u001b[0m\u001b[0minput\u001b[0m\u001b[0;34m,\u001b[0m \u001b[0;34m**\u001b[0m\u001b[0mkwargs\u001b[0m\u001b[0;34m)\u001b[0m\u001b[0;34m\u001b[0m\u001b[0;34m\u001b[0m\u001b[0m\n\u001b[0m\u001b[1;32m    490\u001b[0m         \u001b[0;32mfor\u001b[0m \u001b[0mhook\u001b[0m \u001b[0;32min\u001b[0m \u001b[0mself\u001b[0m\u001b[0;34m.\u001b[0m\u001b[0m_forward_hooks\u001b[0m\u001b[0;34m.\u001b[0m\u001b[0mvalues\u001b[0m\u001b[0;34m(\u001b[0m\u001b[0;34m)\u001b[0m\u001b[0;34m:\u001b[0m\u001b[0;34m\u001b[0m\u001b[0;34m\u001b[0m\u001b[0m\n\u001b[1;32m    491\u001b[0m             \u001b[0mhook_result\u001b[0m \u001b[0;34m=\u001b[0m \u001b[0mhook\u001b[0m\u001b[0;34m(\u001b[0m\u001b[0mself\u001b[0m\u001b[0;34m,\u001b[0m \u001b[0minput\u001b[0m\u001b[0;34m,\u001b[0m \u001b[0mresult\u001b[0m\u001b[0;34m)\u001b[0m\u001b[0;34m\u001b[0m\u001b[0;34m\u001b[0m\u001b[0m\n",
      "\u001b[0;32m<ipython-input-14-859cfa1607f0>\u001b[0m in \u001b[0;36mforward\u001b[0;34m(self, x)\u001b[0m\n\u001b[1;32m     37\u001b[0m         \u001b[0mm_len\u001b[0m \u001b[0;34m=\u001b[0m \u001b[0mself\u001b[0m\u001b[0;34m.\u001b[0m\u001b[0mhidden\u001b[0m\u001b[0;34m[\u001b[0m\u001b[0;36m0\u001b[0m\u001b[0;34m]\u001b[0m\u001b[0;34m.\u001b[0m\u001b[0msize\u001b[0m\u001b[0;34m(\u001b[0m\u001b[0;36m1\u001b[0m\u001b[0;34m)\u001b[0m \u001b[0;32mif\u001b[0m \u001b[0mhasattr\u001b[0m\u001b[0;34m(\u001b[0m\u001b[0mself\u001b[0m\u001b[0;34m,\u001b[0m \u001b[0;34m'hidden'\u001b[0m\u001b[0;34m)\u001b[0m \u001b[0;32mand\u001b[0m \u001b[0mlen\u001b[0m\u001b[0;34m(\u001b[0m\u001b[0mself\u001b[0m\u001b[0;34m.\u001b[0m\u001b[0mhidden\u001b[0m\u001b[0;34m[\u001b[0m\u001b[0;36m0\u001b[0m\u001b[0;34m]\u001b[0m\u001b[0;34m.\u001b[0m\u001b[0msize\u001b[0m\u001b[0;34m(\u001b[0m\u001b[0;34m)\u001b[0m\u001b[0;34m)\u001b[0m \u001b[0;34m>\u001b[0m \u001b[0;36m1\u001b[0m \u001b[0;32melse\u001b[0m \u001b[0;36m0\u001b[0m\u001b[0;34m\u001b[0m\u001b[0;34m\u001b[0m\u001b[0m\n\u001b[1;32m     38\u001b[0m         \u001b[0mseq_len\u001b[0m \u001b[0;34m=\u001b[0m \u001b[0mm_len\u001b[0m \u001b[0;34m+\u001b[0m \u001b[0mx_len\u001b[0m\u001b[0;34m\u001b[0m\u001b[0;34m\u001b[0m\u001b[0m\n\u001b[0;32m---> 39\u001b[0;31m         \u001b[0mmask\u001b[0m \u001b[0;34m=\u001b[0m \u001b[0mtorch\u001b[0m\u001b[0;34m.\u001b[0m\u001b[0mtriu\u001b[0m\u001b[0;34m(\u001b[0m\u001b[0mx\u001b[0m\u001b[0;34m.\u001b[0m\u001b[0mnew_ones\u001b[0m\u001b[0;34m(\u001b[0m\u001b[0mx_len\u001b[0m\u001b[0;34m,\u001b[0m \u001b[0mseq_len\u001b[0m\u001b[0;34m)\u001b[0m\u001b[0;34m,\u001b[0m \u001b[0mdiagonal\u001b[0m\u001b[0;34m=\u001b[0m\u001b[0;36m1\u001b[0m\u001b[0;34m+\u001b[0m\u001b[0mm_len\u001b[0m\u001b[0;34m)\u001b[0m\u001b[0;34m.\u001b[0m\u001b[0mbyte\u001b[0m\u001b[0;34m(\u001b[0m\u001b[0;34m)\u001b[0m\u001b[0;34m[\u001b[0m\u001b[0;32mNone\u001b[0m\u001b[0;34m,\u001b[0m\u001b[0;32mNone\u001b[0m\u001b[0;34m]\u001b[0m \u001b[0;32mif\u001b[0m \u001b[0mself\u001b[0m\u001b[0;34m.\u001b[0m\u001b[0mmask\u001b[0m \u001b[0;32melse\u001b[0m \u001b[0;32mNone\u001b[0m\u001b[0;34m\u001b[0m\u001b[0;34m\u001b[0m\u001b[0m\n\u001b[0m\u001b[1;32m     40\u001b[0m         \u001b[0;31m#[None,:,:None] for einsum implementation of attention\u001b[0m\u001b[0;34m\u001b[0m\u001b[0;34m\u001b[0m\u001b[0;34m\u001b[0m\u001b[0m\n\u001b[1;32m     41\u001b[0m         \u001b[0mhids\u001b[0m \u001b[0;34m=\u001b[0m \u001b[0;34m[\u001b[0m\u001b[0;34m]\u001b[0m\u001b[0;34m\u001b[0m\u001b[0;34m\u001b[0m\u001b[0m\n",
      "\u001b[0;31mRuntimeError\u001b[0m: cuda runtime error (59) : device-side assert triggered at /pytorch/aten/src/THC/generic/THCTensorMath.cu:14"
     ]
    }
   ],
   "source": [
    "out = predict(learn, xb, n_words=5)"
   ]
  },
  {
   "cell_type": "code",
   "execution_count": 64,
   "metadata": {},
   "outputs": [
    {
     "data": {
      "text/plain": [
       "array([[[12,  9,  4,  3, ...,  7,  4,  3,  4],\n",
       "        [ 8,  7,  3,  8, ...,  3,  4,  6,  8],\n",
       "        [ 8,  7,  4,  8, ...,  7,  4,  4,  8],\n",
       "        [10,  7,  3,  8, ...,  3,  4,  3, 10],\n",
       "        ...,\n",
       "        [ 7,  7,  4,  3, ..., 14,  4,  0,  2],\n",
       "        [ 3,  7,  4, 14, ...,  5,  4,  3,  8],\n",
       "        [14,  9,  4,  7, ..., 12,  4,  4, 10],\n",
       "        [ 1,  8,  3, 10, ...,  3,  3,  5,  9]]])"
      ]
     },
     "execution_count": 64,
     "metadata": {},
     "output_type": "execute_result"
    }
   ],
   "source": [
    "np.array(out)"
   ]
  },
  {
   "cell_type": "code",
   "execution_count": 44,
   "metadata": {},
   "outputs": [
    {
     "name": "stdout",
     "output_type": "stream",
     "text": [
      "Broken encoding. Sustained note with out a hit. Removing all\n",
      "Broken encoding. Sustained note with out a hit. Removing all\n",
      "Broken encoding. Sustained note with out a hit. Removing all\n",
      "Broken encoding. Sustained note with out a hit. Removing all\n",
      "Broken encoding. Sustained note with out a hit. Removing all\n",
      "Broken encoding. Sustained note with out a hit. Removing all\n",
      "Broken encoding. Sustained note with out a hit. Removing all\n",
      "Broken encoding. Sustained note with out a hit. Removing all\n",
      "Broken encoding. Sustained note with out a hit. Removing all\n",
      "Broken encoding. Sustained note with out a hit. Removing all\n",
      "Broken encoding. Sustained note with out a hit. Removing all\n",
      "Broken encoding. Sustained note with out a hit. Removing all\n",
      "Broken encoding. Sustained note with out a hit. Removing all\n",
      "Broken encoding. Sustained note with out a hit. Removing all\n",
      "Broken encoding. Sustained note with out a hit. Removing all\n",
      "Broken encoding. Sustained note with out a hit. Removing all\n",
      "Broken encoding. Sustained note with out a hit. Removing all\n",
      "Broken encoding. Sustained note with out a hit. Removing all\n",
      "Broken encoding. Sustained note with out a hit. Removing all\n",
      "Broken encoding. Sustained note with out a hit. Removing all\n",
      "Broken encoding. Sustained note with out a hit. Removing all\n",
      "Broken encoding. Sustained note with out a hit. Removing all\n",
      "Broken encoding. Sustained note with out a hit. Removing all\n",
      "Broken encoding. Sustained note with out a hit. Removing all\n",
      "Broken encoding. Sustained note with out a hit. Removing all\n",
      "Broken encoding. Sustained note with out a hit. Removing all\n",
      "Broken encoding. Sustained note with out a hit. Removing all\n",
      "Broken encoding. Sustained note with out a hit. Removing all\n",
      "Broken encoding. Sustained note with out a hit. Removing all\n",
      "Broken encoding. Sustained note with out a hit. Removing all\n",
      "Broken encoding. Sustained note with out a hit. Removing all\n",
      "Broken encoding. Sustained note with out a hit. Removing all\n",
      "Broken encoding. Sustained note with out a hit. Removing all\n",
      "Broken encoding. Sustained note with out a hit. Removing all\n",
      "Broken encoding. Sustained note with out a hit. Removing all\n",
      "Broken encoding. Sustained note with out a hit. Removing all\n",
      "Broken encoding. Sustained note with out a hit. Removing all\n",
      "Broken encoding. Sustained note with out a hit. Removing all\n",
      "Broken encoding. Sustained note with out a hit. Removing all\n",
      "Broken encoding. Sustained note with out a hit. Removing all\n",
      "Broken encoding. Sustained note with out a hit. Removing all\n",
      "Broken encoding. Sustained note with out a hit. Removing all\n",
      "Broken encoding. Sustained note with out a hit. Removing all\n",
      "Broken encoding. Sustained note with out a hit. Removing all\n",
      "Broken encoding. Sustained note with out a hit. Removing all\n",
      "Broken encoding. Sustained note with out a hit. Removing all\n",
      "Broken encoding. Sustained note with out a hit. Removing all\n",
      "Broken encoding. Sustained note with out a hit. Removing all\n",
      "Broken encoding. Sustained note with out a hit. Removing all\n",
      "Broken encoding. Sustained note with out a hit. Removing all\n",
      "Broken encoding. Sustained note with out a hit. Removing all\n",
      "Broken encoding. Sustained note with out a hit. Removing all\n",
      "Broken encoding. Sustained chord with out a hit\n",
      "Broken encoding. Sustained chord with out a hit\n",
      "Broken encoding. Sustained chord with out a hit\n",
      "Broken encoding. Sustained chord with out a hit\n",
      "Broken encoding. Sustained chord with out a hit\n",
      "Broken encoding. Sustained chord with out a hit\n",
      "Broken encoding. Sustained chord with out a hit\n",
      "Broken encoding. Sustained chord with out a hit\n",
      "Broken encoding. Sustained chord with out a hit\n",
      "Broken encoding. Sustained chord with out a hit\n",
      "Broken encoding. Sustained chord with out a hit\n",
      "Broken encoding. Sustained chord with out a hit\n",
      "Broken encoding. Sustained chord with out a hit\n",
      "Broken encoding. Sustained chord with out a hit\n",
      "Broken encoding. Sustained chord with out a hit\n",
      "Broken encoding. Sustained chord with out a hit\n",
      "Broken encoding. Sustained chord with out a hit\n",
      "Broken encoding. Sustained chord with out a hit\n",
      "Broken encoding. Sustained chord with out a hit\n",
      "Broken encoding. Sustained chord with out a hit\n",
      "Broken encoding. Sustained chord with out a hit\n",
      "Broken encoding. Sustained chord with out a hit\n",
      "Broken encoding. Sustained chord with out a hit\n",
      "Broken encoding. Sustained chord with out a hit\n",
      "Broken encoding. Sustained chord with out a hit\n",
      "Broken encoding. Sustained chord with out a hit\n",
      "Broken encoding. Sustained chord with out a hit\n",
      "Broken encoding. Sustained chord with out a hit\n",
      "Broken encoding. Sustained chord with out a hit\n",
      "Broken encoding. Sustained chord with out a hit\n",
      "Broken encoding. Sustained chord with out a hit\n",
      "Broken encoding. Sustained chord with out a hit\n",
      "Broken encoding. Sustained chord with out a hit\n",
      "Broken encoding. Sustained chord with out a hit\n",
      "Broken encoding. Sustained chord with out a hit\n",
      "Broken encoding. Sustained chord with out a hit\n",
      "Broken encoding. Sustained chord with out a hit\n",
      "Broken encoding. Sustained chord with out a hit\n",
      "Broken encoding. Sustained chord with out a hit\n",
      "Broken encoding. Sustained chord with out a hit\n",
      "Broken encoding. Sustained chord with out a hit\n",
      "Broken encoding. Sustained chord with out a hit\n",
      "Broken encoding. Sustained chord with out a hit\n",
      "Broken encoding. Sustained chord with out a hit\n",
      "Broken encoding. Sustained chord with out a hit\n",
      "Broken encoding. Sustained chord with out a hit\n",
      "Broken encoding. Sustained chord with out a hit\n"
     ]
    },
    {
     "data": {
      "text/plain": [
       "Part[0]:\n",
       "[Chords]:\n",
       "B(abs=0.25:dur=0.5) C([[sd=6:oct=0, sd=1:oct=1, sd=4:oct=1, sd=5:oct=1]])\n",
       "B(abs=3.75:dur=2.5) C([[sd=6:oct=0, sd=1:oct=1, sd=4:oct=1, sd=5:oct=1]])\n",
       "B(abs=8.0:dur=0.25) C([[sd=6:oct=0, sd=2:oct=1, sd=3:oct=1, sd=5#:oct=1]])\n",
       "\n",
       "[Notes]:\n",
       "B(abs=1.5:dur=0.25) P(sd=5:oct=6)\n",
       "B(abs=2.25:dur=0.25) P(sd=6:oct=6)\n",
       "B(abs=7.0:dur=0.25) P(sd=6:oct=5)\n",
       "B(abs=8.0:dur=0.25) P(sd=6:oct=5)\n",
       "B(abs=11.25:dur=0.5) P(sd=2:oct=6)\n",
       "B(abs=13.5:dur=0.25) P(sd=6:oct=6)\n",
       "B(abs=13.75:dur=0.25) P(sd=4#:oct=3)\n",
       "\n",
       "\n",
       "\n",
       "HMetadata(title='decoded', BPM='120', beats_in_measure='4', key='C', mode='1')"
      ]
     },
     "execution_count": 44,
     "metadata": {},
     "output_type": "execute_result"
    }
   ],
   "source": [
    "song = dec_arr(np.array(out)); song"
   ]
  },
  {
   "cell_type": "code",
   "execution_count": 45,
   "metadata": {},
   "outputs": [],
   "source": [
    "stream = song.to_stream()"
   ]
  },
  {
   "cell_type": "code",
   "execution_count": 46,
   "metadata": {},
   "outputs": [
    {
     "name": "stdout",
     "output_type": "stream",
     "text": [
      "{0.0} <music21.instrument.Piano Piano>\n",
      "{0.0} <music21.stream.Part 0x7f2d0c6a4dd8>\n",
      "    {0.0} <music21.stream.Part 0x7f2d0c6a4cf8>\n",
      "        {1.5} <music21.note.Note G>\n",
      "        {2.25} <music21.note.Note A>\n",
      "        {7.0} <music21.note.Note A>\n",
      "        {8.0} <music21.note.Note A>\n",
      "        {11.25} <music21.note.Note D>\n",
      "        {13.5} <music21.note.Note A>\n",
      "        {13.75} <music21.note.Note F#>\n",
      "{0.0} <music21.stream.Part 0x7f2d0c6a4da0>\n",
      "    {0.0} <music21.stream.Part 0x7f2d0c6a4358>\n",
      "        {0.25} <music21.chord.Chord A2 C3 F3 G3>\n",
      "        {3.75} <music21.chord.Chord A2 C3 F3 G3>\n",
      "        {8.0} <music21.chord.Chord A2 D3 E3 G#3>\n",
      "{0.0} <music21.tempo.MetronomeMark animato Quarter=120>\n",
      "{0.0} <music21.key.Key of C major>\n",
      "{0.0} <music21.meter.TimeSignature 4/4>\n"
     ]
    }
   ],
   "source": [
    "stream.show('text')"
   ]
  },
  {
   "cell_type": "code",
   "execution_count": 47,
   "metadata": {},
   "outputs": [
    {
     "data": {
      "image/png": "[encoded data removed]",
      "text/plain": [
       "<IPython.core.display.Image object>"
      ]
     },
     "metadata": {
      "image/png": {
       "height": 150,
       "width": 748
      }
     },
     "output_type": "display_data"
    }
   ],
   "source": [
    "stream.show()"
   ]
  },
  {
   "cell_type": "code",
   "execution_count": 48,
   "metadata": {},
   "outputs": [
    {
     "data": {
      "text/html": [
       "\n",
       "                <div id='midiPlayerDiv508'></div>\n",
       "                <link rel=\"stylesheet\" href=\"//cuthbertLab.github.io/music21j/css/m21.css\"\n",
       "                    type=\"text/css\" />\n",
       "                <script>\n",
       "                require.config({\n",
       "                    paths: {'music21': '//cuthbertLab.github.io/music21j/src/music21'}\n",
       "                });\n",
       "                require(['music21'], function() {\n",
       "                               mp = new music21.miditools.MidiPlayer();\n",
       "                               mp.addPlayer('#midiPlayerDiv508');\n",
       "                               mp.base64Load('data:audio/midi;base64,TVRoZAAAAAYAAQACBABNVHJrAAAAWQD/AwAA4ABAAP9RAwehIIwAkE9aggCATwCEAJBRWoIAgFEApACQRVqCAIBFAIYAkEVaggCARQCYAJBKWoQAgEoAjgCQUVqCAIBRAACQKlqCAIAqAIgA/y8ATVRyawAAAHMA/wMAAOAAQIIAkC1aAJAwWgCQNVoAkDdahACALQAAgDAAAIA1AACANwCYAJAtWgCQMFoAkDVaAJA3WpQAgC0AAIAwAACANQAAgDcAjgCQLVoAkDJaAJA0WgCQOFqCAIAtAACAMgAAgDQAAIA4AIgA/y8A');\n",
       "                        });\n",
       "                </script>"
      ],
      "text/plain": [
       "<IPython.core.display.HTML object>"
      ]
     },
     "metadata": {},
     "output_type": "display_data"
    }
   ],
   "source": [
    "stream.show('midi')"
   ]
  },
  {
   "cell_type": "code",
   "execution_count": null,
   "metadata": {},
   "outputs": [],
   "source": []
  }
 ],
 "metadata": {
  "kernelspec": {
   "display_name": "Python 3",
   "language": "python",
   "name": "python3"
  },
  "language_info": {
   "codemirror_mode": {
    "name": "ipython",
    "version": 3
   },
   "file_extension": ".py",
   "mimetype": "text/x-python",
   "name": "python",
   "nbconvert_exporter": "python",
   "pygments_lexer": "ipython3",
   "version": "3.7.1"
  }
 },
 "nbformat": 4,
 "nbformat_minor": 2
}
