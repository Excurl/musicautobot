{
 "cells": [
  {
   "cell_type": "markdown",
   "metadata": {},
   "source": [
    "# Tokenize and save data"
   ]
  },
  {
   "cell_type": "code",
   "execution_count": 1,
   "metadata": {},
   "outputs": [],
   "source": [
    "%reload_ext autoreload\n",
    "%autoreload 2\n",
    "%matplotlib inline"
   ]
  },
  {
   "cell_type": "code",
   "execution_count": 2,
   "metadata": {},
   "outputs": [],
   "source": [
    "import os\n",
    "os.chdir('../../../')"
   ]
  },
  {
   "cell_type": "code",
   "execution_count": 3,
   "metadata": {},
   "outputs": [],
   "source": [
    "from musicautobot.numpy_encode import *\n",
    "from musicautobot.utils.file_processing import process_all, process_file\n",
    "from musicautobot.config import *\n",
    "from musicautobot.music_transformer import *"
   ]
  },
  {
   "cell_type": "code",
   "execution_count": 4,
   "metadata": {},
   "outputs": [],
   "source": [
    "# from fastai.text import *"
   ]
  },
  {
   "cell_type": "markdown",
   "metadata": {},
   "source": [
    "## Preparing the data"
   ]
  },
  {
   "cell_type": "code",
   "execution_count": 5,
   "metadata": {},
   "outputs": [],
   "source": [
    "version = 'v20'\n",
    "data_path = Path('data/midi')\n",
    "version_path = data_path/version"
   ]
  },
  {
   "cell_type": "code",
   "execution_count": 6,
   "metadata": {},
   "outputs": [
    {
     "data": {
      "text/plain": [
       "[PosixPath('data/midi/v20/metadata'),\n",
       " PosixPath('data/midi/v20/midi_sources'),\n",
       " PosixPath('data/midi/v20/piano_duet'),\n",
       " PosixPath('data/midi/v20/s2s_encode')]"
      ]
     },
     "execution_count": 6,
     "metadata": {},
     "output_type": "execute_result"
    }
   ],
   "source": [
    "source_dir = 'piano_duet'\n",
    "# source_dir = 'midi_encode'\n",
    "out_path = version_path/source_dir\n",
    "csv_path = out_path/f'{source_dir}.csv'\n",
    "version_path.ls()"
   ]
  },
  {
   "cell_type": "code",
   "execution_count": 7,
   "metadata": {},
   "outputs": [
    {
     "name": "stderr",
     "output_type": "stream",
     "text": [
      "/home/ubuntu/anaconda3/envs/musicautobot/lib/python3.7/site-packages/IPython/core/interactiveshell.py:3058: DtypeWarning: Columns (0,3,4,7,12,15) have mixed types. Specify dtype option on import or set low_memory=False.\n",
      "  interactivity=interactivity, compiler=compiler, result=result)\n"
     ]
    }
   ],
   "source": [
    "csv = pd.read_csv(csv_path)"
   ]
  },
  {
   "cell_type": "code",
   "execution_count": 8,
   "metadata": {},
   "outputs": [],
   "source": [
    "csv = csv.loc[csv['numpy'].notna()];"
   ]
  },
  {
   "cell_type": "code",
   "execution_count": 9,
   "metadata": {},
   "outputs": [],
   "source": [
    "def create_databunch(files, data_save_name, path=out_path):\n",
    "    save_file = path/data_save_name\n",
    "    if save_file.exists():\n",
    "        data = load_data(path, data_save_name)\n",
    "    else:\n",
    "        save_file.parent.mkdir(exist_ok=True, parents=True)\n",
    "        vocab = MusicVocab.create()\n",
    "        processors = [OpenNPFileProcessor(), MusicItemProcessor()]\n",
    "\n",
    "        data = MusicDataBunch.from_files(files, path, processors=processors, encode_position=True)\n",
    "        data.save(data_save_name)\n",
    "    return data"
   ]
  },
  {
   "cell_type": "code",
   "execution_count": 10,
   "metadata": {},
   "outputs": [],
   "source": [
    "def get_files(csv):\n",
    "    files = csv['numpy']\n",
    "    flist = [Path(version_path/f) for f in files.values if isinstance(f, str)]\n",
    "    flist = [f for f in flist if f.exists()]\n",
    "    return flist"
   ]
  },
  {
   "cell_type": "code",
   "execution_count": 11,
   "metadata": {},
   "outputs": [
    {
     "data": {
      "text/plain": [
       "PosixPath('data/midi/v20')"
      ]
     },
     "execution_count": 11,
     "metadata": {},
     "output_type": "execute_result"
    }
   ],
   "source": [
    "version_path"
   ]
  },
  {
   "cell_type": "markdown",
   "metadata": {},
   "source": [
    "### Create All Dataset"
   ]
  },
  {
   "cell_type": "code",
   "execution_count": 12,
   "metadata": {},
   "outputs": [
    {
     "data": {
      "text/html": [
       "<div>\n",
       "<style scoped>\n",
       "    .dataframe tbody tr th:only-of-type {\n",
       "        vertical-align: middle;\n",
       "    }\n",
       "\n",
       "    .dataframe tbody tr th {\n",
       "        vertical-align: top;\n",
       "    }\n",
       "\n",
       "    .dataframe thead th {\n",
       "        text-align: right;\n",
       "    }\n",
       "</style>\n",
       "<table border=\"1\" class=\"dataframe\">\n",
       "  <thead>\n",
       "    <tr style=\"text-align: right;\">\n",
       "      <th></th>\n",
       "      <th>parts</th>\n",
       "      <th>ht_time_signature</th>\n",
       "      <th>midi</th>\n",
       "      <th>section</th>\n",
       "      <th>midi_title</th>\n",
       "      <th>title</th>\n",
       "      <th>numpy</th>\n",
       "      <th>mxl</th>\n",
       "      <th>ht_bpm</th>\n",
       "      <th>md5</th>\n",
       "      <th>source</th>\n",
       "      <th>artist</th>\n",
       "      <th>ht_key</th>\n",
       "      <th>ht_mode</th>\n",
       "      <th>genres</th>\n",
       "      <th>song_url</th>\n",
       "    </tr>\n",
       "  </thead>\n",
       "  <tbody>\n",
       "    <tr>\n",
       "      <th>0</th>\n",
       "      <td>intro,chorus</td>\n",
       "      <td>4.0</td>\n",
       "      <td>midi_sources/hooktheory/pianoroll/w/wayne-shar...</td>\n",
       "      <td>chorus</td>\n",
       "      <td>yu-gi-oh3</td>\n",
       "      <td>yu-gi-oh-theme-song</td>\n",
       "      <td>piano_duet/hooktheory/pianoroll/w/wayne-sharpe...</td>\n",
       "      <td>NaN</td>\n",
       "      <td>128.0</td>\n",
       "      <td>bf1f29e5ff84e3e93e37fb873bfb590e</td>\n",
       "      <td>hooktheory</td>\n",
       "      <td>wayne-sharpe</td>\n",
       "      <td>C</td>\n",
       "      <td>1.0</td>\n",
       "      <td>NaN</td>\n",
       "      <td>https://www.hooktheory.com/theorytab/view/wayn...</td>\n",
       "    </tr>\n",
       "    <tr>\n",
       "      <th>1</th>\n",
       "      <td>intro,chorus</td>\n",
       "      <td>3.0</td>\n",
       "      <td>midi_sources/hooktheory/pianoroll/w/wayne-shar...</td>\n",
       "      <td>intro</td>\n",
       "      <td>yu-gi-oh</td>\n",
       "      <td>yu-gi-oh-theme-song</td>\n",
       "      <td>piano_duet/hooktheory/pianoroll/w/wayne-sharpe...</td>\n",
       "      <td>NaN</td>\n",
       "      <td>85.0</td>\n",
       "      <td>055f80ad67f64edb14a85ca8fbfe8c29</td>\n",
       "      <td>hooktheory</td>\n",
       "      <td>wayne-sharpe</td>\n",
       "      <td>C</td>\n",
       "      <td>1.0</td>\n",
       "      <td>NaN</td>\n",
       "      <td>https://www.hooktheory.com/theorytab/view/wayn...</td>\n",
       "    </tr>\n",
       "    <tr>\n",
       "      <th>2</th>\n",
       "      <td>chorus</td>\n",
       "      <td>4.0</td>\n",
       "      <td>midi_sources/hooktheory/pianoroll/w/what-a-day...</td>\n",
       "      <td>chorus</td>\n",
       "      <td>kiefer</td>\n",
       "      <td>kiefer</td>\n",
       "      <td>piano_duet/hooktheory/pianoroll/w/what-a-day/k...</td>\n",
       "      <td>NaN</td>\n",
       "      <td>96.0</td>\n",
       "      <td>197f96f5d181f6ce1e2c5ab04ac1ff87</td>\n",
       "      <td>hooktheory</td>\n",
       "      <td>what-a-day</td>\n",
       "      <td>D</td>\n",
       "      <td>6.0</td>\n",
       "      <td>Jazz</td>\n",
       "      <td>https://www.hooktheory.com/theorytab/view/what...</td>\n",
       "    </tr>\n",
       "    <tr>\n",
       "      <th>3</th>\n",
       "      <td>verse,pre-chorus,chorus</td>\n",
       "      <td>4.0</td>\n",
       "      <td>midi_sources/hooktheory/pianoroll/w/whiteflame...</td>\n",
       "      <td>pre-chorus</td>\n",
       "      <td>senbonzakura - pre-Pre-Chorus</td>\n",
       "      <td>senbonzakura</td>\n",
       "      <td>piano_duet/hooktheory/pianoroll/w/whiteflame/s...</td>\n",
       "      <td>NaN</td>\n",
       "      <td>152.0</td>\n",
       "      <td>9e7ce13a35f1314423a9a6d5a5287a4a</td>\n",
       "      <td>hooktheory</td>\n",
       "      <td>whiteflame</td>\n",
       "      <td>D</td>\n",
       "      <td>6.0</td>\n",
       "      <td>J-Pop,Pop</td>\n",
       "      <td>https://www.hooktheory.com/theorytab/view/whit...</td>\n",
       "    </tr>\n",
       "    <tr>\n",
       "      <th>4</th>\n",
       "      <td>verse,pre-chorus,chorus</td>\n",
       "      <td>4.0</td>\n",
       "      <td>midi_sources/hooktheory/pianoroll/w/whiteflame...</td>\n",
       "      <td>verse</td>\n",
       "      <td>Senbonzakura</td>\n",
       "      <td>senbonzakura</td>\n",
       "      <td>piano_duet/hooktheory/pianoroll/w/whiteflame/s...</td>\n",
       "      <td>NaN</td>\n",
       "      <td>152.0</td>\n",
       "      <td>d5aaf79d0989222f1362f9f46c540a27</td>\n",
       "      <td>hooktheory</td>\n",
       "      <td>whiteflame</td>\n",
       "      <td>D</td>\n",
       "      <td>6.0</td>\n",
       "      <td>J-Pop,Pop</td>\n",
       "      <td>https://www.hooktheory.com/theorytab/view/whit...</td>\n",
       "    </tr>\n",
       "  </tbody>\n",
       "</table>\n",
       "</div>"
      ],
      "text/plain": [
       "                     parts  ht_time_signature  \\\n",
       "0             intro,chorus                4.0   \n",
       "1             intro,chorus                3.0   \n",
       "2                   chorus                4.0   \n",
       "3  verse,pre-chorus,chorus                4.0   \n",
       "4  verse,pre-chorus,chorus                4.0   \n",
       "\n",
       "                                                midi     section  \\\n",
       "0  midi_sources/hooktheory/pianoroll/w/wayne-shar...      chorus   \n",
       "1  midi_sources/hooktheory/pianoroll/w/wayne-shar...       intro   \n",
       "2  midi_sources/hooktheory/pianoroll/w/what-a-day...      chorus   \n",
       "3  midi_sources/hooktheory/pianoroll/w/whiteflame...  pre-chorus   \n",
       "4  midi_sources/hooktheory/pianoroll/w/whiteflame...       verse   \n",
       "\n",
       "                      midi_title                title  \\\n",
       "0                      yu-gi-oh3  yu-gi-oh-theme-song   \n",
       "1                       yu-gi-oh  yu-gi-oh-theme-song   \n",
       "2                         kiefer               kiefer   \n",
       "3  senbonzakura - pre-Pre-Chorus         senbonzakura   \n",
       "4                   Senbonzakura         senbonzakura   \n",
       "\n",
       "                                               numpy  mxl  ht_bpm  \\\n",
       "0  piano_duet/hooktheory/pianoroll/w/wayne-sharpe...  NaN   128.0   \n",
       "1  piano_duet/hooktheory/pianoroll/w/wayne-sharpe...  NaN    85.0   \n",
       "2  piano_duet/hooktheory/pianoroll/w/what-a-day/k...  NaN    96.0   \n",
       "3  piano_duet/hooktheory/pianoroll/w/whiteflame/s...  NaN   152.0   \n",
       "4  piano_duet/hooktheory/pianoroll/w/whiteflame/s...  NaN   152.0   \n",
       "\n",
       "                                md5      source        artist ht_key  ht_mode  \\\n",
       "0  bf1f29e5ff84e3e93e37fb873bfb590e  hooktheory  wayne-sharpe      C      1.0   \n",
       "1  055f80ad67f64edb14a85ca8fbfe8c29  hooktheory  wayne-sharpe      C      1.0   \n",
       "2  197f96f5d181f6ce1e2c5ab04ac1ff87  hooktheory    what-a-day      D      6.0   \n",
       "3  9e7ce13a35f1314423a9a6d5a5287a4a  hooktheory    whiteflame      D      6.0   \n",
       "4  d5aaf79d0989222f1362f9f46c540a27  hooktheory    whiteflame      D      6.0   \n",
       "\n",
       "      genres                                           song_url  \n",
       "0        NaN  https://www.hooktheory.com/theorytab/view/wayn...  \n",
       "1        NaN  https://www.hooktheory.com/theorytab/view/wayn...  \n",
       "2       Jazz  https://www.hooktheory.com/theorytab/view/what...  \n",
       "3  J-Pop,Pop  https://www.hooktheory.com/theorytab/view/whit...  \n",
       "4  J-Pop,Pop  https://www.hooktheory.com/theorytab/view/whit...  "
      ]
     },
     "execution_count": 12,
     "metadata": {},
     "output_type": "execute_result"
    }
   ],
   "source": [
    "csv.head()"
   ]
  },
  {
   "cell_type": "code",
   "execution_count": 13,
   "metadata": {},
   "outputs": [
    {
     "data": {
      "text/plain": [
       "113111"
      ]
     },
     "execution_count": 13,
     "metadata": {},
     "output_type": "execute_result"
    }
   ],
   "source": [
    "all_files = get_files(csv); len(all_files)"
   ]
  },
  {
   "cell_type": "markdown",
   "metadata": {},
   "source": [
    "## Testing"
   ]
  },
  {
   "cell_type": "code",
   "execution_count": 14,
   "metadata": {},
   "outputs": [],
   "source": [
    "import random\n",
    "# sample_data = create_databunch(random.sample(all_files, 1000), data_save_name='cached/sample.pkl')"
   ]
  },
  {
   "cell_type": "code",
   "execution_count": 15,
   "metadata": {},
   "outputs": [
    {
     "data": {
      "text/plain": [
       "PosixPath('data/midi/v20/piano_duet/130k_reddit/W/W/withlove.npy')"
      ]
     },
     "execution_count": 15,
     "metadata": {},
     "output_type": "execute_result"
    }
   ],
   "source": [
    "files = random.sample(all_files, 1000)\n",
    "path = out_path\n",
    "\n",
    "vocab = MusicVocab.create()\n",
    "processors = [OpenNPFileProcessor(), MusicItemProcessor()]\n",
    "\n",
    "data = MusicDataBunch.from_files(files, path, processors=processors, encode_position=True)\n",
    "\n",
    "item = data.train_dl.dataset.x[0]\n",
    "\n",
    "type(item)\n",
    "\n",
    "item.data\n",
    "\n",
    "a = np.load(files[0])\n",
    "\n",
    "a\n",
    "\n",
    "files[0]"
   ]
  },
  {
   "cell_type": "code",
   "execution_count": 16,
   "metadata": {},
   "outputs": [
    {
     "data": {
      "text/plain": [
       "array([[71,  4],\n",
       "       [71,  7],\n",
       "       [67,  4],\n",
       "       [67,  7],\n",
       "       ...,\n",
       "       [69,  1],\n",
       "       [64,  4],\n",
       "       [61,  4],\n",
       "       [57,  1]])"
      ]
     },
     "execution_count": 16,
     "metadata": {},
     "output_type": "execute_result"
    }
   ],
   "source": [
    "np.load('data/midi/v20/piano_duet/130k_reddit/M/M/Maxime.npy')"
   ]
  },
  {
   "cell_type": "code",
   "execution_count": 17,
   "metadata": {},
   "outputs": [
    {
     "data": {
      "text/plain": [
       "array([  0,   0,   0,   0, ..., 586, 586, 587, 587])"
      ]
     },
     "execution_count": 17,
     "metadata": {},
     "output_type": "execute_result"
    }
   ],
   "source": [
    "item.position"
   ]
  },
  {
   "cell_type": "code",
   "execution_count": 18,
   "metadata": {},
   "outputs": [
    {
     "data": {
      "text/plain": [
       "array([  0,   0,   0,   0, ..., 586, 586, 587, 587])"
      ]
     },
     "execution_count": 18,
     "metadata": {},
     "output_type": "execute_result"
    }
   ],
   "source": [
    "item.position"
   ]
  },
  {
   "cell_type": "markdown",
   "metadata": {},
   "source": [
    "## End Testing"
   ]
  },
  {
   "cell_type": "code",
   "execution_count": 14,
   "metadata": {},
   "outputs": [],
   "source": [
    "all_data = create_databunch(all_files, data_save_name='cached/all.pkl')"
   ]
  },
  {
   "cell_type": "code",
   "execution_count": 15,
   "metadata": {},
   "outputs": [
    {
     "data": {
      "text/plain": [
       "(tensor([[[ 61,  32],\n",
       "          [145,  32],\n",
       "          [  8,  32],\n",
       "          ...,\n",
       "          [153, 112],\n",
       "          [ 63, 112],\n",
       "          [153, 112]],\n",
       " \n",
       "         [[ 61,  32],\n",
       "          [145,  32],\n",
       "          [  8,  32],\n",
       "          ...,\n",
       "          [153, 112],\n",
       "          [ 63, 112],\n",
       "          [153, 112]],\n",
       " \n",
       "         [[ 61,  32],\n",
       "          [145,  32],\n",
       "          [  8,  32],\n",
       "          ...,\n",
       "          [153, 112],\n",
       "          [ 63, 112],\n",
       "          [153, 112]],\n",
       " \n",
       "         ...,\n",
       " \n",
       "         [[ 61,  32],\n",
       "          [145,  32],\n",
       "          [  8,  32],\n",
       "          ...,\n",
       "          [153, 112],\n",
       "          [ 63, 112],\n",
       "          [153, 112]],\n",
       " \n",
       "         [[ 61,  32],\n",
       "          [145,  32],\n",
       "          [  8,  32],\n",
       "          ...,\n",
       "          [153, 112],\n",
       "          [ 63, 112],\n",
       "          [153, 112]],\n",
       " \n",
       "         [[ 61,  32],\n",
       "          [145,  32],\n",
       "          [  8,  32],\n",
       "          ...,\n",
       "          [153, 112],\n",
       "          [ 63, 112],\n",
       "          [153, 112]]]), tensor([[[145,  32],\n",
       "          [  8,  32],\n",
       "          [145,  32],\n",
       "          ...,\n",
       "          [ 63, 112],\n",
       "          [153, 112],\n",
       "          [ 60, 112]],\n",
       " \n",
       "         [[145,  32],\n",
       "          [  8,  32],\n",
       "          [145,  32],\n",
       "          ...,\n",
       "          [ 63, 112],\n",
       "          [153, 112],\n",
       "          [ 60, 112]],\n",
       " \n",
       "         [[145,  32],\n",
       "          [  8,  32],\n",
       "          [145,  32],\n",
       "          ...,\n",
       "          [ 63, 112],\n",
       "          [153, 112],\n",
       "          [ 60, 112]],\n",
       " \n",
       "         ...,\n",
       " \n",
       "         [[145,  32],\n",
       "          [  8,  32],\n",
       "          [145,  32],\n",
       "          ...,\n",
       "          [ 63, 112],\n",
       "          [153, 112],\n",
       "          [ 60, 112]],\n",
       " \n",
       "         [[145,  32],\n",
       "          [  8,  32],\n",
       "          [145,  32],\n",
       "          ...,\n",
       "          [ 63, 112],\n",
       "          [153, 112],\n",
       "          [ 60, 112]],\n",
       " \n",
       "         [[145,  32],\n",
       "          [  8,  32],\n",
       "          [145,  32],\n",
       "          ...,\n",
       "          [ 63, 112],\n",
       "          [153, 112],\n",
       "          [ 60, 112]]]))"
      ]
     },
     "execution_count": 15,
     "metadata": {},
     "output_type": "execute_result"
    }
   ],
   "source": [
    "all_data.one_batch()"
   ]
  },
  {
   "cell_type": "markdown",
   "metadata": {},
   "source": [
    "### Create sample"
   ]
  },
  {
   "cell_type": "code",
   "execution_count": 16,
   "metadata": {},
   "outputs": [],
   "source": [
    "import random\n",
    "sample_data = create_databunch(random.sample(all_files, 1000), data_save_name='cached/sample.pkl')"
   ]
  },
  {
   "cell_type": "markdown",
   "metadata": {},
   "source": [
    "Note: we are reusing all_vocab for the following datasets"
   ]
  },
  {
   "cell_type": "markdown",
   "metadata": {},
   "source": [
    "### Create Hooktheory Dataset"
   ]
  },
  {
   "cell_type": "code",
   "execution_count": 17,
   "metadata": {},
   "outputs": [
    {
     "data": {
      "text/plain": [
       "19874"
      ]
     },
     "execution_count": 17,
     "metadata": {},
     "output_type": "execute_result"
    }
   ],
   "source": [
    "hook_csv = csv.loc[csv.source.isin(['hooktheory'])]\n",
    "hook_files = get_files(hook_csv); len(hook_files)"
   ]
  },
  {
   "cell_type": "code",
   "execution_count": 18,
   "metadata": {},
   "outputs": [],
   "source": [
    "hook_data = create_databunch(hook_files, 'cached/hook.pkl')"
   ]
  },
  {
   "cell_type": "markdown",
   "metadata": {},
   "source": [
    "### Create Hooktheory C Dataset"
   ]
  },
  {
   "cell_type": "code",
   "execution_count": 19,
   "metadata": {},
   "outputs": [
    {
     "data": {
      "text/plain": [
       "20028"
      ]
     },
     "execution_count": 19,
     "metadata": {},
     "output_type": "execute_result"
    }
   ],
   "source": [
    "hook_csv = csv.loc[csv.source.isin(['hooktheory_c'])]\n",
    "hook_files = get_files(hook_csv); len(hook_files)"
   ]
  },
  {
   "cell_type": "code",
   "execution_count": 20,
   "metadata": {},
   "outputs": [],
   "source": [
    "hook_data = create_databunch(hook_files, 'cached/hook_c.pkl')"
   ]
  },
  {
   "cell_type": "markdown",
   "metadata": {},
   "source": [
    "## Low quality"
   ]
  },
  {
   "cell_type": "code",
   "execution_count": 21,
   "metadata": {},
   "outputs": [
    {
     "data": {
      "text/plain": [
       "64014"
      ]
     },
     "execution_count": 21,
     "metadata": {},
     "output_type": "execute_result"
    }
   ],
   "source": [
    "lq_csv = csv.loc[csv.source.isin(['reddit', 'classical_piano', 'ecomp', 'midiworld', 'freemidi', 'lmd', 'cprato', 'wikifonia', 'classical_archives'])]\n",
    "lq_files = get_files(lq_csv); len(lq_files)"
   ]
  },
  {
   "cell_type": "code",
   "execution_count": 22,
   "metadata": {},
   "outputs": [],
   "source": [
    "lq_data = create_databunch(lq_files, 'cached/lq.pkl')"
   ]
  },
  {
   "cell_type": "markdown",
   "metadata": {},
   "source": [
    "## All High quality"
   ]
  },
  {
   "cell_type": "code",
   "execution_count": 23,
   "metadata": {},
   "outputs": [
    {
     "data": {
      "text/plain": [
       "29069"
      ]
     },
     "execution_count": 23,
     "metadata": {},
     "output_type": "execute_result"
    }
   ],
   "source": [
    "hq_csv = csv.loc[csv.source.isin(['hooktheory', 'musescore'])]\n",
    "hq_files = get_files(hq_csv); len(hq_files)"
   ]
  },
  {
   "cell_type": "code",
   "execution_count": 24,
   "metadata": {},
   "outputs": [],
   "source": [
    "hq_data = create_databunch(hq_files, 'cached/hq.pkl')"
   ]
  },
  {
   "cell_type": "markdown",
   "metadata": {},
   "source": [
    "### Testing"
   ]
  },
  {
   "cell_type": "code",
   "execution_count": 30,
   "metadata": {},
   "outputs": [],
   "source": [
    "data = all_data"
   ]
  },
  {
   "cell_type": "code",
   "execution_count": 38,
   "metadata": {},
   "outputs": [
    {
     "data": {
      "text/plain": [
       "MusicItemList (100953 items)\n",
       "xxbos xxpad xxsep d1 n55 d1 xxsep d1 n54 d1 xxsep d1 n45 d1 xxsep d1 n53 d1 xxsep d1 n52 d1 xxsep d1 n45 d1 xxsep d1 n53 d1 xxsep d1 n52 d1 xxsep d1 n45 d3 xxsep d3 n55 d1 xxsep d1 n54 d1 xxsep d1 n55 d1 xxsep d1 n61 d1 xxsep d1 n59 d16 n55 d16 n52 d16 xxsep d16 n60 d8 n57 d8 n55 d8 n52 d8 xxsep d8 n59 d8 n55 d8 n52 d8 xxsep d8 n50 d24 n46 d24 n43 d24 xxsep d24 n52 d4 n48 d4 n45 d4 n43 d4 xxsep d4 n54 d4 n50 d4 n47 d4 n45 d4 xxsep d4 n55 d16 n51 d16 n48 d16 xxsep d16 n62 d8 n60 d8 n56 d8 n53 d8 xxsep d8 n55 d8 n51 d8 n48 d8 xxsep d8 n58 d16 n54 d16 n51 d16,xxbos xxpad n65 d1 xxsep d1 n67 d14 xxsep d14 n67 d1 xxsep d1 n65 d1 xxsep d1 n67 d1 xxsep d1 n65 d6 xxsep d6 n64 d24 xxsep d28 n60 d4 xxsep d4 n67 d1 xxsep d1 n65 d1 xxsep d1 n67 d1 xxsep d1 n68 d9 xxsep d9 n67 d1 xxsep d1 n68 d1 xxsep d1 n67 d24 xxsep d24 n67 d2 xxsep d2 n70 d10 xxsep d10 n69 d1 xxsep d1 n70 d1 xxsep d1 n69 d1 xxsep d1 n67 d5 xxsep d5 n68 d1 xxsep d1 n67 d1 xxsep d1 n65 d8 xxsep d8 n67 d2 xxsep d2 n63 d1 xxsep d1 n65 d1 xxsep d1 n67 d4 xxsep d4 n67 d12,xxbos xxpad n72 d1 n65 d6 n62 d6 n58 d6 n52 d6 n48 d6 xxsep d1 n69 d1 xxsep d1 n65 d2 xxsep d2 n67 d2 xxsep d2 n60 d10 n57 d10 n52 d10 n50 d10 xxsep d1 n67 d2 xxsep d2 n64 d1 xxsep d1 n60 d2 xxsep d2 n62 d2 xxsep d3 n69 d2 xxsep d1 n62 d6 n59 d6 n55 d6 n49 d6 n45 d6 xxsep d1 n66 d1 xxsep d1 n62 d2 xxsep d2 n64 d2 xxsep d2 n61 d10 n57 d10 n54 d10 n50 d10 xxsep d1 n64 d2 xxsep d2 n61 d1 xxsep d1 n57 d2 xxsep d2 n59 d2 xxsep d3 n72 d2 xxsep d1 n65 d6 n62 d6 n58 d6 n52 d6 n48 d6 xxsep d1 n69 d1 xxsep d1 n65 d2 xxsep d2 n67 d2 xxsep d2 n60 d10 n57 d10 n52 d10 n50 d10 xxsep d1 n67 d2 xxsep d2 n64 d1 xxsep d1 n60 d2 xxsep d2 n62 d2 xxsep d3 n62 d2 xxsep d1 n62 d6 n59 d6 n55 d6 n49 d6 n45 d6 xxsep d1 n59 d1 xxsep d1 n55 d2 xxsep d2 n57 d2 xxsep d2 n61 d10 n57 d10 n54 d10 n50 d10 xxsep d1 n69 d2 xxsep d2 n66 d1 xxsep d1 n62 d2 xxsep d2 n64 d2,xxbos xxpad n65 d4 n53 d16 n50 d16 n46 d16 xxsep d4 n64 d4 xxsep d4 n62 d4 xxsep d4 n60 d4 xxsep d4 n60 d2 n60 d16 n57 d16 n53 d16 xxsep d2 n62 d1 xxsep d1 n60 d1 xxsep d1 n57 d2 xxsep d2 n55 d2 xxsep d2 n57 d8 xxsep d8 n57 d2 n53 d8 n50 d8 n46 d8 xxsep d2 n60 d2 xxsep d2 n62 d4 xxsep d4 n67 d4 n55 d8 n52 d8 n48 d8 xxsep d4 n64 d4 xxsep d4 n65 d4 n60 d16 n57 d16 n53 d16 n50 d16 xxsep d4 n64 d2 xxsep d2 n60 d2 xxsep d2 n62 d8 xxsep d8 n65 d4 n53 d16 n50 d16 n46 d16 xxsep d4 n64 d4 xxsep d4 n62 d4 xxsep d4 n60 d4 xxsep d4 n60 d2 n60 d16 n57 d16 n53 d16 xxsep d2 n62 d1 xxsep d1 n60 d1 xxsep d1 n57 d2 xxsep d2 n55 d2 xxsep d2 n57 d4 xxsep d4 n57 d2 xxsep d2 n60 d2 xxsep d2 n62 d2 n53 d16 n50 d16 n47 d16 n43 d16 xxsep d2 n62 d4 xxsep d4 n62 d2 xxsep d2 n65 d4 xxsep d4 n67 d4 xxsep d4 n64 d12 n52 d10 n49 d10 n45 d10 xxsep d12 n62 d2 xxsep d2 n65 d2,xxbos xxpad n62 d4 n57 d16 n53 d16 n50 d16 xxsep d4 n62 d3 xxsep d3 n60 d1 xxsep d1 n62 d2 xxsep d2 n65 d2 xxsep d2 n65 d2 xxsep d2 n67 d2 xxsep d2 n62 d4 n53 d8 n50 d8 n46 d8 xxsep d4 n62 d3 xxsep d3 n60 d1 xxsep d1 n62 d2 n55 d8 n52 d8 n48 d8 xxsep d2 n60 d2 xxsep d2 n57 d2 xxsep d2 n60 d2 xxsep d2 n62 d4 n57 d16 n53 d16 n50 d16 xxsep d4 n62 d3 xxsep d3 n60 d1 xxsep d1 n62 d2 xxsep d2 n65 d2 xxsep d2 n67 d2 xxsep d2 n69 d2 xxsep d2 n69 d4 n53 d8 n50 d8 n46 d8 xxsep d4 n67 d2 xxsep d2 n69 d1 xxsep d1 n67 d1 xxsep d1 n65 d4 n55 d8 n53 d8 n48 d8 xxsep d4 n62 d4 xxsep d4 n62 d3 n57 d16 n53 d16 n50 d16 xxsep d3 n62 d1 xxsep d1 n62 d3 xxsep d3 n60 d1 xxsep d1 n60 d2 xxsep d2 n62 d2 xxsep d2 n65 d2 xxsep d2 n67 d2 xxsep d2 n62 d3 n53 d8 n50 d8 n46 d8 xxsep d3 n62 d3 xxsep d3 n60 d2 xxsep d2 n62 d2 n55 d4 n53 d4 n48 d4 xxsep d2 n60 d2 xxsep d2 n60 d2 n55 d4 n52 d4 n48 d4 xxsep d2 n57 d2 xxsep d2 n62 d3 n57 d16 n53 d16 n50 d16 xxsep d3 n62 d1 xxsep d1 n62 d2 xxsep d2 n60 d2 xxsep d2 n60 d2 xxsep d2 n62 d2 xxsep d2 n65 d2 xxsep d2 n67 d2 xxsep d2 n69 d4 n53 d8 n50 d8 n46 d8 xxsep d4 n67 d2 xxsep d2 n69 d1 xxsep d1 n67 d1 xxsep d1 n65 d4 n55 d8 n52 d8 n48 d8 xxsep d4 n62 d4\n",
       "Path: data/midi/v19/piano_duet"
      ]
     },
     "execution_count": 38,
     "metadata": {},
     "output_type": "execute_result"
    }
   ],
   "source": [
    "data.train_ds.x"
   ]
  },
  {
   "cell_type": "code",
   "execution_count": null,
   "metadata": {},
   "outputs": [],
   "source": []
  },
  {
   "cell_type": "code",
   "execution_count": null,
   "metadata": {},
   "outputs": [],
   "source": [
    "# train_ids_file = out_path/'tmp/all/train_ids.npy'\n",
    "# all_ids = np.load(train_ids_file)\n",
    "# id_cat = np.concatenate(all_ids); id_cat.shape\n",
    "# ax = tuple(range(len(id_cat.shape)-1))\n",
    "# max_vocab = id_cat.max(axis=ax)\n",
    "# max_vocab = (max_vocab+1).tolist(); max_vocab"
   ]
  },
  {
   "cell_type": "code",
   "execution_count": null,
   "metadata": {},
   "outputs": [],
   "source": [
    "npenc2stream(data.train_ds.x[10]).show()"
   ]
  },
  {
   "cell_type": "code",
   "execution_count": null,
   "metadata": {},
   "outputs": [],
   "source": []
  }
 ],
 "metadata": {
  "kernelspec": {
   "display_name": "Python 3",
   "language": "python",
   "name": "python3"
  },
  "language_info": {
   "codemirror_mode": {
    "name": "ipython",
    "version": 3
   },
   "file_extension": ".py",
   "mimetype": "text/x-python",
   "name": "python",
   "nbconvert_exporter": "python",
   "pygments_lexer": "ipython3",
   "version": "3.7.4"
  }
 },
 "nbformat": 4,
 "nbformat_minor": 2
}
