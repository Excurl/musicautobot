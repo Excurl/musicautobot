{
 "cells": [
  {
   "cell_type": "markdown",
   "metadata": {},
   "source": [
    "### Create CSV from midi sources"
   ]
  },
  {
   "cell_type": "code",
   "execution_count": 1,
   "metadata": {},
   "outputs": [],
   "source": [
    "%reload_ext autoreload\n",
    "%autoreload 2\n",
    "%matplotlib inline"
   ]
  },
  {
   "cell_type": "code",
   "execution_count": 2,
   "metadata": {},
   "outputs": [],
   "source": [
    "import glob\n",
    "import os\n",
    "from tqdm import tqdm\n",
    "from IPython.display import Image, Audio\n",
    "import traceback\n",
    "import json"
   ]
  },
  {
   "cell_type": "code",
   "execution_count": 3,
   "metadata": {},
   "outputs": [],
   "source": [
    "import pandas as pd\n",
    "from fastai.data_block import get_files"
   ]
  },
  {
   "cell_type": "code",
   "execution_count": 4,
   "metadata": {},
   "outputs": [],
   "source": [
    "# parallel\n",
    "from functools import partial\n",
    "from pathlib import Path"
   ]
  },
  {
   "cell_type": "code",
   "execution_count": 5,
   "metadata": {},
   "outputs": [],
   "source": [
    "import os\n",
    "os.chdir('../../../')"
   ]
  },
  {
   "cell_type": "code",
   "execution_count": 6,
   "metadata": {},
   "outputs": [],
   "source": [
    "# from musicautobot import *\n",
    "from musicautobot.utils.file_processing import *"
   ]
  },
  {
   "cell_type": "code",
   "execution_count": 7,
   "metadata": {},
   "outputs": [],
   "source": [
    "version = 'v20'\n",
    "data_path = Path('data/midi')\n",
    "version_path = data_path/version\n",
    "orig_path = version_path/'midi_sources'\n",
    "metapath = version_path/'metadata'\n",
    "combined_csv = metapath/'combined.csv'\n",
    "all_csv = metapath/'midi_sources.csv'\n",
    "metapath.mkdir(parents=True, exist_ok=True)"
   ]
  },
  {
   "cell_type": "code",
   "execution_count": 8,
   "metadata": {},
   "outputs": [],
   "source": [
    "def create_paths(dirname):\n",
    "    \"Standardize midi_source paths\"\n",
    "    dir_path = orig_path/dirname\n",
    "    csv_path = metapath/f'{dirname}_metadata.csv'\n",
    "    return dir_path, csv_path"
   ]
  },
  {
   "cell_type": "code",
   "execution_count": 9,
   "metadata": {},
   "outputs": [],
   "source": [
    "sources = ['hooktheory', 'hooktheory_c', 'freemidi', 'midiworld', 'ecomp', 'cprato', 'classic_piano', 'classical_archives', 'musescore', 'wikifonia', 'lmd_clean', '130k_reddit']"
   ]
  },
  {
   "cell_type": "code",
   "execution_count": 10,
   "metadata": {},
   "outputs": [
    {
     "data": {
      "text/plain": [
       "PosixPath('v20')"
      ]
     },
     "execution_count": 10,
     "metadata": {},
     "output_type": "execute_result"
    }
   ],
   "source": [
    "version_path.relative_to(data_path)"
   ]
  },
  {
   "cell_type": "code",
   "execution_count": 11,
   "metadata": {},
   "outputs": [],
   "source": [
    "def relative_path(filepath):\n",
    "    return str(Path(filepath).relative_to(version_path))"
   ]
  },
  {
   "cell_type": "markdown",
   "metadata": {},
   "source": [
    "### Remove corrupted file - this causes deadlock with music21 processing"
   ]
  },
  {
   "cell_type": "code",
   "execution_count": 12,
   "metadata": {},
   "outputs": [],
   "source": [
    "corrupted_files = [\n",
    "    'midiworld/named_midi/NITRO_BRO_-_IT_WONT_DIE.mid',\n",
    "    'ecomp/2004/MORET02.mid',\n",
    "    'ecomp/2006/Mordvinov9.MID',\n",
    "    'ecomp/2006/Na06.MID',\n",
    "    'ecomp/2008/Cui01.MID',\n",
    "    'ecomp/2008/Cui02.MID',\n",
    "    'ecomp/2008/Cui03.MID',\n",
    "    'ecomp/2008/Cui04.MID',\n",
    "    'ecomp/2008/Cui05.MID',\n",
    "    'ecomp/2008/Cui06.MID',\n",
    "    'ecomp/2008/Cui07.MID',\n",
    "    'ecomp/2008/Cui08.MID',\n",
    "    'ecomp/2008/Tan01.MID',\n",
    "    'ecomp/2008/Tan02.MID',\n",
    "    'ecomp/2008/Tan03.MID',\n",
    "    'ecomp/2018/KaszoS14.MID',\n",
    "    'midiworld/named_midi/Rob_Zombie_-_Demonoid_Phenomenon.mid',\n",
    "    'midiworld/named_midi/Rob_Zombie_-_Demonoid_Phenomenon.mxl',\n",
    "]\n",
    "for f in corrupted_files:\n",
    "    fp = orig_path/f\n",
    "    if fp.exists(): fp.unlink()"
   ]
  },
  {
   "cell_type": "code",
   "execution_count": 13,
   "metadata": {},
   "outputs": [],
   "source": [
    "import hashlib"
   ]
  },
  {
   "cell_type": "code",
   "execution_count": 14,
   "metadata": {},
   "outputs": [],
   "source": [
    "\n",
    "def directory2csv(files, meta_func, csv_path):\n",
    "    \"Iterate through midi_source dir and map file to metadata\"\n",
    "    \n",
    "    def get_meta(fp):\n",
    "        # over 350mb takes crazy long to analyze\n",
    "        size = fp.stat().st_size/1000\n",
    "        if fp.suffix == 'mid' and size > 350: \n",
    "#             print('Removing mid over 350mb', fp, dixr)\n",
    "            return None\n",
    "        if fp.suffix == 'mxl' and size > 420: \n",
    "#             print('Removing mxl over 420mb', fp, size)\n",
    "            return None\n",
    "#         try:\n",
    "        m = meta_func(fp)\n",
    "        if m: m['md5'] = hashlib.md5(open(fp,'rb').read()).hexdigest()\n",
    "        return m\n",
    "#         except Exception as e:\n",
    "#             print('Error:', fp, e)\n",
    "#         return None\n",
    "    \n",
    "    mlist = [get_meta(fp) for fp in files]\n",
    "    mlist = [x for x in mlist if x is not None]\n",
    "    arr2csv(mlist, csv_path)\n",
    "    return mlist"
   ]
  },
  {
   "cell_type": "markdown",
   "metadata": {},
   "source": [
    "### Hooktheory"
   ]
  },
  {
   "cell_type": "code",
   "execution_count": 15,
   "metadata": {},
   "outputs": [
    {
     "data": {
      "text/plain": [
       "20745"
      ]
     },
     "execution_count": 15,
     "metadata": {},
     "output_type": "execute_result"
    }
   ],
   "source": [
    "ht_cat = 'hooktheory'\n",
    "ht_path, ht_csv = create_paths(ht_cat)\n",
    "ht_midi_list = list((ht_path/'pianoroll').glob('*/*/*/*_key_original.mid')); \n",
    "len(ht_midi_list)"
   ]
  },
  {
   "cell_type": "code",
   "execution_count": 15,
   "metadata": {},
   "outputs": [
    {
     "data": {
      "text/plain": [
       "20745"
      ]
     },
     "execution_count": 15,
     "metadata": {},
     "output_type": "execute_result"
    }
   ],
   "source": [
    "ht_cat = 'hooktheory_c'\n",
    "ht_path, ht_csv = create_paths(ht_cat)\n",
    "ht_path = ht_path.with_name('hooktheory')\n",
    "ht_midi_list = list((ht_path/'pianoroll').glob('*/*/*/*_key_cmajor.mid'));\n",
    "len(ht_midi_list)"
   ]
  },
  {
   "cell_type": "code",
   "execution_count": 16,
   "metadata": {},
   "outputs": [],
   "source": [
    "ht_song_list = metapath/'hooktheory_key2info.json'"
   ]
  },
  {
   "cell_type": "code",
   "execution_count": 17,
   "metadata": {},
   "outputs": [],
   "source": [
    "def song_key(s): return '_'.join(s.parts[-3:-1])"
   ]
  },
  {
   "cell_type": "code",
   "execution_count": 18,
   "metadata": {},
   "outputs": [
    {
     "data": {
      "text/plain": [
       "12346"
      ]
     },
     "execution_count": 18,
     "metadata": {},
     "output_type": "execute_result"
    }
   ],
   "source": [
    "if ht_song_list.exists():\n",
    "    ht_key2info = json.load(open(ht_song_list, 'r'))\n",
    "else:\n",
    "    song_info = list((ht_path/'xml').glob('*/*/*/*.json'))\n",
    "    ht_key2info = {song_key(s):json.load(open(s, 'r')) for s in song_info}\n",
    "    with open(ht_song_list, 'w') as f: json.dump(ht_key2info, f)\n",
    "len(ht_key2info)"
   ]
  },
  {
   "cell_type": "code",
   "execution_count": 19,
   "metadata": {},
   "outputs": [],
   "source": [
    "# ht_midi_list = list((ht_path/'pianoroll').glob('*/*/*/*_key_cmajor.mid')); "
   ]
  },
  {
   "cell_type": "code",
   "execution_count": 20,
   "metadata": {},
   "outputs": [],
   "source": [
    "def get_ht_jsonfile(midi_file): # using json instead of midi for metadata\n",
    "    return str(midi_file.with_suffix('.json')).replace('pianoroll', 'event').replace('_key', '_symbol_key')"
   ]
  },
  {
   "cell_type": "code",
   "execution_count": 21,
   "metadata": {},
   "outputs": [],
   "source": [
    "def get_hooktheory_attr(fp):\n",
    "    song_info = ht_key2info[song_key(fp)]\n",
    "    song_json = json.load(open(get_ht_jsonfile(fp), 'r'))\n",
    "    metadata = song_json['metadata']\n",
    "    artist = fp.parts[-3]\n",
    "    title = fp.parts[-2]\n",
    "    section = fp.name.split('_')[0]\n",
    "    \n",
    "    ht_key = metadata['key']\n",
    "    ht_mode = metadata['mode']\n",
    "    if ht_mode is None: ht_mode = 'major'\n",
    "    \n",
    "    # convert stream here\n",
    "    return {\n",
    "        'artist': artist,\n",
    "        'title': title,\n",
    "        'midi': relative_path(fp),\n",
    "        'section': section,\n",
    "        'parts': song_info['section'],\n",
    "        'song_url': song_info['song_url'],\n",
    "        'genres': song_info['genres'],\n",
    "        'midi_title': metadata['title'],\n",
    "        'source': ht_cat,\n",
    "        'ht_bpm': metadata['BPM'],\n",
    "        'ht_mode': metadata['mode'],\n",
    "        'ht_key': metadata['key'],\n",
    "        'ht_time_signature': metadata['beats_in_measure']\n",
    "    }"
   ]
  },
  {
   "cell_type": "code",
   "execution_count": 22,
   "metadata": {},
   "outputs": [],
   "source": [
    "# sanity check\n",
    "# hook_out = get_hooktheory_attr(song_json[1000]); hook_out"
   ]
  },
  {
   "cell_type": "code",
   "execution_count": 23,
   "metadata": {},
   "outputs": [
    {
     "data": {
      "text/html": [
       "<div>\n",
       "<style scoped>\n",
       "    .dataframe tbody tr th:only-of-type {\n",
       "        vertical-align: middle;\n",
       "    }\n",
       "\n",
       "    .dataframe tbody tr th {\n",
       "        vertical-align: top;\n",
       "    }\n",
       "\n",
       "    .dataframe thead th {\n",
       "        text-align: right;\n",
       "    }\n",
       "</style>\n",
       "<table border=\"1\" class=\"dataframe\">\n",
       "  <thead>\n",
       "    <tr style=\"text-align: right;\">\n",
       "      <th></th>\n",
       "      <th>title</th>\n",
       "      <th>midi</th>\n",
       "      <th>source</th>\n",
       "      <th>parts</th>\n",
       "      <th>ht_time_signature</th>\n",
       "      <th>midi_title</th>\n",
       "      <th>ht_mode</th>\n",
       "      <th>md5</th>\n",
       "      <th>song_url</th>\n",
       "      <th>genres</th>\n",
       "      <th>ht_bpm</th>\n",
       "      <th>ht_key</th>\n",
       "      <th>artist</th>\n",
       "      <th>section</th>\n",
       "    </tr>\n",
       "  </thead>\n",
       "  <tbody>\n",
       "    <tr>\n",
       "      <th>0</th>\n",
       "      <td>yu-gi-oh-theme-song</td>\n",
       "      <td>midi_sources/hooktheory/pianoroll/w/wayne-shar...</td>\n",
       "      <td>hooktheory</td>\n",
       "      <td>intro,chorus</td>\n",
       "      <td>4</td>\n",
       "      <td>yu-gi-oh3</td>\n",
       "      <td>1.0</td>\n",
       "      <td>bf1f29e5ff84e3e93e37fb873bfb590e</td>\n",
       "      <td>https://www.hooktheory.com/theorytab/view/wayn...</td>\n",
       "      <td>NaN</td>\n",
       "      <td>128</td>\n",
       "      <td>C</td>\n",
       "      <td>wayne-sharpe</td>\n",
       "      <td>chorus</td>\n",
       "    </tr>\n",
       "    <tr>\n",
       "      <th>1</th>\n",
       "      <td>yu-gi-oh-theme-song</td>\n",
       "      <td>midi_sources/hooktheory/pianoroll/w/wayne-shar...</td>\n",
       "      <td>hooktheory</td>\n",
       "      <td>intro,chorus</td>\n",
       "      <td>3</td>\n",
       "      <td>yu-gi-oh</td>\n",
       "      <td>1.0</td>\n",
       "      <td>055f80ad67f64edb14a85ca8fbfe8c29</td>\n",
       "      <td>https://www.hooktheory.com/theorytab/view/wayn...</td>\n",
       "      <td>NaN</td>\n",
       "      <td>85</td>\n",
       "      <td>C</td>\n",
       "      <td>wayne-sharpe</td>\n",
       "      <td>intro</td>\n",
       "    </tr>\n",
       "    <tr>\n",
       "      <th>2</th>\n",
       "      <td>kiefer</td>\n",
       "      <td>midi_sources/hooktheory/pianoroll/w/what-a-day...</td>\n",
       "      <td>hooktheory</td>\n",
       "      <td>chorus</td>\n",
       "      <td>4</td>\n",
       "      <td>kiefer</td>\n",
       "      <td>6.0</td>\n",
       "      <td>197f96f5d181f6ce1e2c5ab04ac1ff87</td>\n",
       "      <td>https://www.hooktheory.com/theorytab/view/what...</td>\n",
       "      <td>Jazz</td>\n",
       "      <td>96</td>\n",
       "      <td>D</td>\n",
       "      <td>what-a-day</td>\n",
       "      <td>chorus</td>\n",
       "    </tr>\n",
       "    <tr>\n",
       "      <th>3</th>\n",
       "      <td>senbonzakura</td>\n",
       "      <td>midi_sources/hooktheory/pianoroll/w/whiteflame...</td>\n",
       "      <td>hooktheory</td>\n",
       "      <td>verse,pre-chorus,chorus</td>\n",
       "      <td>4</td>\n",
       "      <td>senbonzakura - pre-Pre-Chorus</td>\n",
       "      <td>6.0</td>\n",
       "      <td>9e7ce13a35f1314423a9a6d5a5287a4a</td>\n",
       "      <td>https://www.hooktheory.com/theorytab/view/whit...</td>\n",
       "      <td>J-Pop,Pop</td>\n",
       "      <td>152</td>\n",
       "      <td>D</td>\n",
       "      <td>whiteflame</td>\n",
       "      <td>pre-chorus</td>\n",
       "    </tr>\n",
       "    <tr>\n",
       "      <th>4</th>\n",
       "      <td>senbonzakura</td>\n",
       "      <td>midi_sources/hooktheory/pianoroll/w/whiteflame...</td>\n",
       "      <td>hooktheory</td>\n",
       "      <td>verse,pre-chorus,chorus</td>\n",
       "      <td>4</td>\n",
       "      <td>Senbonzakura</td>\n",
       "      <td>6.0</td>\n",
       "      <td>d5aaf79d0989222f1362f9f46c540a27</td>\n",
       "      <td>https://www.hooktheory.com/theorytab/view/whit...</td>\n",
       "      <td>J-Pop,Pop</td>\n",
       "      <td>152</td>\n",
       "      <td>D</td>\n",
       "      <td>whiteflame</td>\n",
       "      <td>verse</td>\n",
       "    </tr>\n",
       "  </tbody>\n",
       "</table>\n",
       "</div>"
      ],
      "text/plain": [
       "                 title                                               midi  \\\n",
       "0  yu-gi-oh-theme-song  midi_sources/hooktheory/pianoroll/w/wayne-shar...   \n",
       "1  yu-gi-oh-theme-song  midi_sources/hooktheory/pianoroll/w/wayne-shar...   \n",
       "2               kiefer  midi_sources/hooktheory/pianoroll/w/what-a-day...   \n",
       "3         senbonzakura  midi_sources/hooktheory/pianoroll/w/whiteflame...   \n",
       "4         senbonzakura  midi_sources/hooktheory/pianoroll/w/whiteflame...   \n",
       "\n",
       "       source                    parts  ht_time_signature  \\\n",
       "0  hooktheory             intro,chorus                  4   \n",
       "1  hooktheory             intro,chorus                  3   \n",
       "2  hooktheory                   chorus                  4   \n",
       "3  hooktheory  verse,pre-chorus,chorus                  4   \n",
       "4  hooktheory  verse,pre-chorus,chorus                  4   \n",
       "\n",
       "                      midi_title  ht_mode                               md5  \\\n",
       "0                      yu-gi-oh3      1.0  bf1f29e5ff84e3e93e37fb873bfb590e   \n",
       "1                       yu-gi-oh      1.0  055f80ad67f64edb14a85ca8fbfe8c29   \n",
       "2                         kiefer      6.0  197f96f5d181f6ce1e2c5ab04ac1ff87   \n",
       "3  senbonzakura - pre-Pre-Chorus      6.0  9e7ce13a35f1314423a9a6d5a5287a4a   \n",
       "4                   Senbonzakura      6.0  d5aaf79d0989222f1362f9f46c540a27   \n",
       "\n",
       "                                            song_url     genres  ht_bpm  \\\n",
       "0  https://www.hooktheory.com/theorytab/view/wayn...        NaN     128   \n",
       "1  https://www.hooktheory.com/theorytab/view/wayn...        NaN      85   \n",
       "2  https://www.hooktheory.com/theorytab/view/what...       Jazz      96   \n",
       "3  https://www.hooktheory.com/theorytab/view/whit...  J-Pop,Pop     152   \n",
       "4  https://www.hooktheory.com/theorytab/view/whit...  J-Pop,Pop     152   \n",
       "\n",
       "  ht_key        artist     section  \n",
       "0      C  wayne-sharpe      chorus  \n",
       "1      C  wayne-sharpe       intro  \n",
       "2      D    what-a-day      chorus  \n",
       "3      D    whiteflame  pre-chorus  \n",
       "4      D    whiteflame       verse  "
      ]
     },
     "execution_count": 23,
     "metadata": {},
     "output_type": "execute_result"
    }
   ],
   "source": [
    "ht_metadata = directory2csv(ht_midi_list, \n",
    "                            meta_func=get_hooktheory_attr, \n",
    "                            csv_path=ht_csv)\n",
    "df = pd.read_csv(ht_csv); df.head()"
   ]
  },
  {
   "cell_type": "code",
   "execution_count": 24,
   "metadata": {},
   "outputs": [
    {
     "data": {
      "text/plain": [
       "(20745, 14)"
      ]
     },
     "execution_count": 24,
     "metadata": {},
     "output_type": "execute_result"
    }
   ],
   "source": [
    "df.shape"
   ]
  },
  {
   "cell_type": "markdown",
   "metadata": {},
   "source": [
    "## FreeMidi"
   ]
  },
  {
   "cell_type": "code",
   "execution_count": 36,
   "metadata": {},
   "outputs": [
    {
     "data": {
      "text/plain": [
       "[PosixPath('data/midi/v20/midi_sources/freemidi/genre-disco'),\n",
       " PosixPath('data/midi/v20/midi_sources/freemidi/genre-pop'),\n",
       " PosixPath('data/midi/v20/midi_sources/freemidi/genre-dance-eletric'),\n",
       " PosixPath('data/midi/v20/midi_sources/freemidi/genre-punk'),\n",
       " PosixPath('data/midi/v20/midi_sources/freemidi/genre-hip-hop-rap'),\n",
       " PosixPath('data/midi/v20/midi_sources/freemidi/genre-rock')]"
      ]
     },
     "execution_count": 36,
     "metadata": {},
     "output_type": "execute_result"
    }
   ],
   "source": [
    "fm_path, fm_csv = create_paths('freemidi')\n",
    "fm_dance_path = metapath/f'freemidi_dance_metadata.json'\n",
    "fm_pop_path = metapath/f'freemidi_pop_metadata.json'\n",
    "list(fm_path.glob('*'))"
   ]
  },
  {
   "cell_type": "code",
   "execution_count": 37,
   "metadata": {},
   "outputs": [],
   "source": [
    "def parse_freemidi_songs(fp, genres=None, source=None):\n",
    "    name = fp.with_suffix('').name.split(' - ')\n",
    "    artist = name[0]\n",
    "    title = name[-1]\n",
    "    return {\n",
    "        'artist': artist.strip(),\n",
    "        'title': title.strip(),\n",
    "        'midi': relative_path(fp),\n",
    "        'genres': genres,\n",
    "        'source': source\n",
    "    }"
   ]
  },
  {
   "cell_type": "code",
   "execution_count": 38,
   "metadata": {},
   "outputs": [],
   "source": [
    "d_parse_func = partial(parse_freemidi_songs, genres='dance', source='freemidi')\n",
    "dir_path = fm_path/'genre-dance-eletric'\n",
    "file_list = get_files(dir_path, extensions=['.mid'], recurse=True)\n",
    "fm_dance_list = directory2csv(file_list, meta_func=d_parse_func, csv_path=fm_dance_path)"
   ]
  },
  {
   "cell_type": "code",
   "execution_count": 39,
   "metadata": {},
   "outputs": [],
   "source": [
    "p_parse_func = partial(parse_freemidi_songs, genres='pop', source='freemidi')\n",
    "dir_path = fm_path/'genre-pop'\n",
    "file_list = get_files(dir_path, extensions=['.mid'], recurse=True)\n",
    "fm_pop_list = directory2csv(file_list, meta_func=p_parse_func, csv_path=fm_pop_path)"
   ]
  },
  {
   "cell_type": "code",
   "execution_count": 40,
   "metadata": {},
   "outputs": [
    {
     "data": {
      "text/html": [
       "<div>\n",
       "<style scoped>\n",
       "    .dataframe tbody tr th:only-of-type {\n",
       "        vertical-align: middle;\n",
       "    }\n",
       "\n",
       "    .dataframe tbody tr th {\n",
       "        vertical-align: top;\n",
       "    }\n",
       "\n",
       "    .dataframe thead th {\n",
       "        text-align: right;\n",
       "    }\n",
       "</style>\n",
       "<table border=\"1\" class=\"dataframe\">\n",
       "  <thead>\n",
       "    <tr style=\"text-align: right;\">\n",
       "      <th></th>\n",
       "      <th>genres</th>\n",
       "      <th>midi</th>\n",
       "      <th>source</th>\n",
       "      <th>artist</th>\n",
       "      <th>md5</th>\n",
       "      <th>title</th>\n",
       "    </tr>\n",
       "  </thead>\n",
       "  <tbody>\n",
       "    <tr>\n",
       "      <th>0</th>\n",
       "      <td>dance</td>\n",
       "      <td>midi_sources/freemidi/genre-dance-eletric/Veng...</td>\n",
       "      <td>freemidi</td>\n",
       "      <td>Vengaboys</td>\n",
       "      <td>eb504f29b1a10567814f198e7e049d15</td>\n",
       "      <td>Up And Down</td>\n",
       "    </tr>\n",
       "    <tr>\n",
       "      <th>1</th>\n",
       "      <td>dance</td>\n",
       "      <td>midi_sources/freemidi/genre-dance-eletric/ATB ...</td>\n",
       "      <td>freemidi</td>\n",
       "      <td>ATB</td>\n",
       "      <td>7c461c21684baee9946019c0ed7ce102</td>\n",
       "      <td>Dont stop</td>\n",
       "    </tr>\n",
       "    <tr>\n",
       "      <th>2</th>\n",
       "      <td>dance</td>\n",
       "      <td>midi_sources/freemidi/genre-dance-eletric/Mado...</td>\n",
       "      <td>freemidi</td>\n",
       "      <td>Madonna</td>\n",
       "      <td>ac1e447bff339c29bccbaee3deb13b24</td>\n",
       "      <td>Dress You Up</td>\n",
       "    </tr>\n",
       "    <tr>\n",
       "      <th>3</th>\n",
       "      <td>dance</td>\n",
       "      <td>midi_sources/freemidi/genre-dance-eletric/Aqua...</td>\n",
       "      <td>freemidi</td>\n",
       "      <td>Aqua</td>\n",
       "      <td>d0306034dbbb4bbc31a95e3232e5fb73</td>\n",
       "      <td>Dr Jones</td>\n",
       "    </tr>\n",
       "    <tr>\n",
       "      <th>4</th>\n",
       "      <td>dance</td>\n",
       "      <td>midi_sources/freemidi/genre-dance-eletric/Tune...</td>\n",
       "      <td>freemidi</td>\n",
       "      <td>Tune Up</td>\n",
       "      <td>996662d57a8e3236b36285c54093697e</td>\n",
       "      <td>Bounce</td>\n",
       "    </tr>\n",
       "  </tbody>\n",
       "</table>\n",
       "</div>"
      ],
      "text/plain": [
       "  genres                                               midi    source  \\\n",
       "0  dance  midi_sources/freemidi/genre-dance-eletric/Veng...  freemidi   \n",
       "1  dance  midi_sources/freemidi/genre-dance-eletric/ATB ...  freemidi   \n",
       "2  dance  midi_sources/freemidi/genre-dance-eletric/Mado...  freemidi   \n",
       "3  dance  midi_sources/freemidi/genre-dance-eletric/Aqua...  freemidi   \n",
       "4  dance  midi_sources/freemidi/genre-dance-eletric/Tune...  freemidi   \n",
       "\n",
       "      artist                               md5         title  \n",
       "0  Vengaboys  eb504f29b1a10567814f198e7e049d15   Up And Down  \n",
       "1        ATB  7c461c21684baee9946019c0ed7ce102     Dont stop  \n",
       "2    Madonna  ac1e447bff339c29bccbaee3deb13b24  Dress You Up  \n",
       "3       Aqua  d0306034dbbb4bbc31a95e3232e5fb73      Dr Jones  \n",
       "4    Tune Up  996662d57a8e3236b36285c54093697e        Bounce  "
      ]
     },
     "execution_count": 40,
     "metadata": {},
     "output_type": "execute_result"
    }
   ],
   "source": [
    "fm_all = fm_dance_list + fm_pop_list\n",
    "arr2csv(fm_all, fm_csv)\n",
    "df = pd.read_csv(fm_csv); df.head()"
   ]
  },
  {
   "cell_type": "markdown",
   "metadata": {},
   "source": [
    "### Gather Lakh Midi Dataset"
   ]
  },
  {
   "cell_type": "code",
   "execution_count": 41,
   "metadata": {},
   "outputs": [],
   "source": [
    "lmd_path, lmd_csv = create_paths('lmd_clean')"
   ]
  },
  {
   "cell_type": "code",
   "execution_count": 42,
   "metadata": {},
   "outputs": [],
   "source": [
    "def parse_lmd_songs(fp):\n",
    "    artist = fp.parts[-2]\n",
    "    title = fp.parts[-1]\n",
    "    return {\n",
    "        'artist': artist.strip(),\n",
    "        'title': title.strip(),\n",
    "        'midi': relative_path(fp),\n",
    "        'genres': 'pop,inferred',\n",
    "        'source': 'lmd'\n",
    "    }"
   ]
  },
  {
   "cell_type": "code",
   "execution_count": 43,
   "metadata": {},
   "outputs": [
    {
     "data": {
      "text/html": [
       "<div>\n",
       "<style scoped>\n",
       "    .dataframe tbody tr th:only-of-type {\n",
       "        vertical-align: middle;\n",
       "    }\n",
       "\n",
       "    .dataframe tbody tr th {\n",
       "        vertical-align: top;\n",
       "    }\n",
       "\n",
       "    .dataframe thead th {\n",
       "        text-align: right;\n",
       "    }\n",
       "</style>\n",
       "<table border=\"1\" class=\"dataframe\">\n",
       "  <thead>\n",
       "    <tr style=\"text-align: right;\">\n",
       "      <th></th>\n",
       "      <th>genres</th>\n",
       "      <th>midi</th>\n",
       "      <th>source</th>\n",
       "      <th>artist</th>\n",
       "      <th>md5</th>\n",
       "      <th>title</th>\n",
       "    </tr>\n",
       "  </thead>\n",
       "  <tbody>\n",
       "    <tr>\n",
       "      <th>0</th>\n",
       "      <td>pop,inferred</td>\n",
       "      <td>midi_sources/lmd_clean/Peter Maffay/Du.mid</td>\n",
       "      <td>lmd</td>\n",
       "      <td>Peter Maffay</td>\n",
       "      <td>6d2ac0d68f5976b161afca8ce061d376</td>\n",
       "      <td>Du.mid</td>\n",
       "    </tr>\n",
       "    <tr>\n",
       "      <th>1</th>\n",
       "      <td>pop,inferred</td>\n",
       "      <td>midi_sources/lmd_clean/Peter Maffay/Josie.mid</td>\n",
       "      <td>lmd</td>\n",
       "      <td>Peter Maffay</td>\n",
       "      <td>6ccac8947814b6faa132cb5bec7a3bdf</td>\n",
       "      <td>Josie.mid</td>\n",
       "    </tr>\n",
       "    <tr>\n",
       "      <th>2</th>\n",
       "      <td>pop,inferred</td>\n",
       "      <td>midi_sources/lmd_clean/Anne Murray/Snowbird.mid</td>\n",
       "      <td>lmd</td>\n",
       "      <td>Anne Murray</td>\n",
       "      <td>f5069f36a7e56475d7f706ed2d2f8517</td>\n",
       "      <td>Snowbird.mid</td>\n",
       "    </tr>\n",
       "    <tr>\n",
       "      <th>3</th>\n",
       "      <td>pop,inferred</td>\n",
       "      <td>midi_sources/lmd_clean/Anne Murray/You Needed ...</td>\n",
       "      <td>lmd</td>\n",
       "      <td>Anne Murray</td>\n",
       "      <td>48419c2acdc476094487157582829781</td>\n",
       "      <td>You Needed Me.mid</td>\n",
       "    </tr>\n",
       "    <tr>\n",
       "      <th>4</th>\n",
       "      <td>pop,inferred</td>\n",
       "      <td>midi_sources/lmd_clean/The Tremeloes/Silence I...</td>\n",
       "      <td>lmd</td>\n",
       "      <td>The Tremeloes</td>\n",
       "      <td>3befa396df58762e746c4288fa851f03</td>\n",
       "      <td>Silence Is Golden.mid</td>\n",
       "    </tr>\n",
       "  </tbody>\n",
       "</table>\n",
       "</div>"
      ],
      "text/plain": [
       "         genres                                               midi source  \\\n",
       "0  pop,inferred         midi_sources/lmd_clean/Peter Maffay/Du.mid    lmd   \n",
       "1  pop,inferred      midi_sources/lmd_clean/Peter Maffay/Josie.mid    lmd   \n",
       "2  pop,inferred    midi_sources/lmd_clean/Anne Murray/Snowbird.mid    lmd   \n",
       "3  pop,inferred  midi_sources/lmd_clean/Anne Murray/You Needed ...    lmd   \n",
       "4  pop,inferred  midi_sources/lmd_clean/The Tremeloes/Silence I...    lmd   \n",
       "\n",
       "          artist                               md5                  title  \n",
       "0   Peter Maffay  6d2ac0d68f5976b161afca8ce061d376                 Du.mid  \n",
       "1   Peter Maffay  6ccac8947814b6faa132cb5bec7a3bdf              Josie.mid  \n",
       "2    Anne Murray  f5069f36a7e56475d7f706ed2d2f8517           Snowbird.mid  \n",
       "3    Anne Murray  48419c2acdc476094487157582829781      You Needed Me.mid  \n",
       "4  The Tremeloes  3befa396df58762e746c4288fa851f03  Silence Is Golden.mid  "
      ]
     },
     "execution_count": 43,
     "metadata": {},
     "output_type": "execute_result"
    }
   ],
   "source": [
    "file_list = get_files(lmd_path, extensions=['.mid'], recurse=True)\n",
    "lmd_md = directory2csv(file_list, meta_func=parse_lmd_songs, csv_path=lmd_csv)\n",
    "df = pd.read_csv(lmd_csv); df.head()"
   ]
  },
  {
   "cell_type": "markdown",
   "metadata": {},
   "source": [
    "### Gather 130k Reddit"
   ]
  },
  {
   "cell_type": "code",
   "execution_count": 44,
   "metadata": {},
   "outputs": [],
   "source": [
    "reddit_path, reddit_csv = create_paths('130k_reddit')"
   ]
  },
  {
   "cell_type": "code",
   "execution_count": 45,
   "metadata": {},
   "outputs": [],
   "source": [
    "def parse_reddit_songs(fp):\n",
    "    name = fp.with_suffix('').name.replace('_', ' ').split(' - ')\n",
    "    if len(name) == 1:\n",
    "        artist = fp.parts[-1]\n",
    "        title = name[0]\n",
    "    else:\n",
    "        artist = name[0]\n",
    "        title = name[-1]\n",
    "    return {\n",
    "        'artist': artist.strip(),\n",
    "        'title': title.strip(),\n",
    "        'midi': relative_path(fp),\n",
    "        'genres': 'anything,inferred',\n",
    "        'source': 'reddit'\n",
    "    }"
   ]
  },
  {
   "cell_type": "code",
   "execution_count": 46,
   "metadata": {},
   "outputs": [
    {
     "data": {
      "text/html": [
       "<div>\n",
       "<style scoped>\n",
       "    .dataframe tbody tr th:only-of-type {\n",
       "        vertical-align: middle;\n",
       "    }\n",
       "\n",
       "    .dataframe tbody tr th {\n",
       "        vertical-align: top;\n",
       "    }\n",
       "\n",
       "    .dataframe thead th {\n",
       "        text-align: right;\n",
       "    }\n",
       "</style>\n",
       "<table border=\"1\" class=\"dataframe\">\n",
       "  <thead>\n",
       "    <tr style=\"text-align: right;\">\n",
       "      <th></th>\n",
       "      <th>genres</th>\n",
       "      <th>midi</th>\n",
       "      <th>source</th>\n",
       "      <th>artist</th>\n",
       "      <th>md5</th>\n",
       "      <th>title</th>\n",
       "    </tr>\n",
       "  </thead>\n",
       "  <tbody>\n",
       "    <tr>\n",
       "      <th>0</th>\n",
       "      <td>anything,inferred</td>\n",
       "      <td>midi_sources/130k_reddit/Jazz_www.thejazzpage....</td>\n",
       "      <td>reddit</td>\n",
       "      <td>phasedance.mid</td>\n",
       "      <td>c175323dbdff4b676588609081bf5606</td>\n",
       "      <td>phasedance</td>\n",
       "    </tr>\n",
       "    <tr>\n",
       "      <th>1</th>\n",
       "      <td>anything,inferred</td>\n",
       "      <td>midi_sources/130k_reddit/Jazz_www.thejazzpage....</td>\n",
       "      <td>reddit</td>\n",
       "      <td>IGotRhythm.MID</td>\n",
       "      <td>912b07a01ae9b81bc0d86118e3972a47</td>\n",
       "      <td>IGotRhythm</td>\n",
       "    </tr>\n",
       "    <tr>\n",
       "      <th>2</th>\n",
       "      <td>anything,inferred</td>\n",
       "      <td>midi_sources/130k_reddit/Jazz_www.thejazzpage....</td>\n",
       "      <td>reddit</td>\n",
       "      <td>Cheek_To_Cheek.mid</td>\n",
       "      <td>53136c05b1dd56a9f11367f8cdda5c2e</td>\n",
       "      <td>Cheek To Cheek</td>\n",
       "    </tr>\n",
       "    <tr>\n",
       "      <th>3</th>\n",
       "      <td>anything,inferred</td>\n",
       "      <td>midi_sources/130k_reddit/Jazz_www.thejazzpage....</td>\n",
       "      <td>reddit</td>\n",
       "      <td>16goingon17.mid</td>\n",
       "      <td>31ddfcdb86c20e4e67cbaa3363c88309</td>\n",
       "      <td>16goingon17</td>\n",
       "    </tr>\n",
       "    <tr>\n",
       "      <th>4</th>\n",
       "      <td>anything,inferred</td>\n",
       "      <td>midi_sources/130k_reddit/Jazz_www.thejazzpage....</td>\n",
       "      <td>reddit</td>\n",
       "      <td>poinciana.mid</td>\n",
       "      <td>d15dd01250feb42f3b17251c56e6721e</td>\n",
       "      <td>poinciana</td>\n",
       "    </tr>\n",
       "  </tbody>\n",
       "</table>\n",
       "</div>"
      ],
      "text/plain": [
       "              genres                                               midi  \\\n",
       "0  anything,inferred  midi_sources/130k_reddit/Jazz_www.thejazzpage....   \n",
       "1  anything,inferred  midi_sources/130k_reddit/Jazz_www.thejazzpage....   \n",
       "2  anything,inferred  midi_sources/130k_reddit/Jazz_www.thejazzpage....   \n",
       "3  anything,inferred  midi_sources/130k_reddit/Jazz_www.thejazzpage....   \n",
       "4  anything,inferred  midi_sources/130k_reddit/Jazz_www.thejazzpage....   \n",
       "\n",
       "   source              artist                               md5  \\\n",
       "0  reddit      phasedance.mid  c175323dbdff4b676588609081bf5606   \n",
       "1  reddit      IGotRhythm.MID  912b07a01ae9b81bc0d86118e3972a47   \n",
       "2  reddit  Cheek_To_Cheek.mid  53136c05b1dd56a9f11367f8cdda5c2e   \n",
       "3  reddit     16goingon17.mid  31ddfcdb86c20e4e67cbaa3363c88309   \n",
       "4  reddit       poinciana.mid  d15dd01250feb42f3b17251c56e6721e   \n",
       "\n",
       "            title  \n",
       "0      phasedance  \n",
       "1      IGotRhythm  \n",
       "2  Cheek To Cheek  \n",
       "3     16goingon17  \n",
       "4       poinciana  "
      ]
     },
     "execution_count": 46,
     "metadata": {},
     "output_type": "execute_result"
    }
   ],
   "source": [
    "file_list = get_files(reddit_path, extensions=['.mid'], recurse=True)\n",
    "file_list = [fp for fp in file_list if fp.stat().st_size/1000 < 400] # over 200mb takes crazy long to analyze\n",
    "reddit_md = directory2csv(file_list, meta_func=parse_reddit_songs, csv_path=reddit_csv)\n",
    "df = pd.read_csv(reddit_csv); df.head()"
   ]
  },
  {
   "cell_type": "markdown",
   "metadata": {},
   "source": [
    "### Gather Cprato"
   ]
  },
  {
   "cell_type": "code",
   "execution_count": 47,
   "metadata": {},
   "outputs": [],
   "source": [
    "cp_path, cp_csv = create_paths('cprato')\n",
    "# list(cp_path.glob('*'))[:5]"
   ]
  },
  {
   "cell_type": "code",
   "execution_count": 48,
   "metadata": {},
   "outputs": [],
   "source": [
    "def parse_cprato_songs(fp, genres=None, source=None):\n",
    "    name = fp.with_suffix('').name.split(' - ')\n",
    "    artist = name[0]\n",
    "    title = name[-1].replace('(midi by Carlo Prato) (www.cprato.com)', '')\n",
    "    return {\n",
    "        'artist': artist.strip(),\n",
    "        'title': title.strip(),\n",
    "        'midi': relative_path(fp),\n",
    "        'genres': genres,\n",
    "        'source': source\n",
    "    }"
   ]
  },
  {
   "cell_type": "code",
   "execution_count": 49,
   "metadata": {},
   "outputs": [
    {
     "data": {
      "text/html": [
       "<div>\n",
       "<style scoped>\n",
       "    .dataframe tbody tr th:only-of-type {\n",
       "        vertical-align: middle;\n",
       "    }\n",
       "\n",
       "    .dataframe tbody tr th {\n",
       "        vertical-align: top;\n",
       "    }\n",
       "\n",
       "    .dataframe thead th {\n",
       "        text-align: right;\n",
       "    }\n",
       "</style>\n",
       "<table border=\"1\" class=\"dataframe\">\n",
       "  <thead>\n",
       "    <tr style=\"text-align: right;\">\n",
       "      <th></th>\n",
       "      <th>genres</th>\n",
       "      <th>midi</th>\n",
       "      <th>source</th>\n",
       "      <th>artist</th>\n",
       "      <th>md5</th>\n",
       "      <th>title</th>\n",
       "    </tr>\n",
       "  </thead>\n",
       "  <tbody>\n",
       "    <tr>\n",
       "      <th>0</th>\n",
       "      <td>EDM,inferred</td>\n",
       "      <td>midi_sources/cprato/Basto - Again And Again (m...</td>\n",
       "      <td>cprato</td>\n",
       "      <td>Basto</td>\n",
       "      <td>44ea7e9b46e04ba6f4836f00b3cc50a3</td>\n",
       "      <td>Again And Again (midi By Carlo Prato) (www.cpr...</td>\n",
       "    </tr>\n",
       "    <tr>\n",
       "      <th>1</th>\n",
       "      <td>EDM,inferred</td>\n",
       "      <td>midi_sources/cprato/The Weeknd ft. Lana Del Re...</td>\n",
       "      <td>cprato</td>\n",
       "      <td>The Weeknd ft. Lana Del Rey</td>\n",
       "      <td>d67ead892ee2c92cfbb5306bd47c9a0f</td>\n",
       "      <td>Stargirl Interlude</td>\n",
       "    </tr>\n",
       "    <tr>\n",
       "      <th>2</th>\n",
       "      <td>EDM,inferred</td>\n",
       "      <td>midi_sources/cprato/Two Steps From Hell - Magi...</td>\n",
       "      <td>cprato</td>\n",
       "      <td>Two Steps From Hell</td>\n",
       "      <td>222db08d4744ab9a53ca0d9c6c6e5113</td>\n",
       "      <td>Magic of Love</td>\n",
       "    </tr>\n",
       "    <tr>\n",
       "      <th>3</th>\n",
       "      <td>EDM,inferred</td>\n",
       "      <td>midi_sources/cprato/Bermuda Loverz - My Girl (...</td>\n",
       "      <td>cprato</td>\n",
       "      <td>Bermuda Loverz</td>\n",
       "      <td>2befd21ebd0f0c779f7fb436ed828ba1</td>\n",
       "      <td>My Girl (Ladidada) (Rimini Rockaz Radio Edit) ...</td>\n",
       "    </tr>\n",
       "    <tr>\n",
       "      <th>4</th>\n",
       "      <td>EDM,inferred</td>\n",
       "      <td>midi_sources/cprato/Cascada - Everytime We Tou...</td>\n",
       "      <td>cprato</td>\n",
       "      <td>Cascada</td>\n",
       "      <td>b53bfa6f4ab72df165e44263d50a4cbd</td>\n",
       "      <td>Everytime We Touch (Midi By Carlo Prato) (www....</td>\n",
       "    </tr>\n",
       "  </tbody>\n",
       "</table>\n",
       "</div>"
      ],
      "text/plain": [
       "         genres                                               midi  source  \\\n",
       "0  EDM,inferred  midi_sources/cprato/Basto - Again And Again (m...  cprato   \n",
       "1  EDM,inferred  midi_sources/cprato/The Weeknd ft. Lana Del Re...  cprato   \n",
       "2  EDM,inferred  midi_sources/cprato/Two Steps From Hell - Magi...  cprato   \n",
       "3  EDM,inferred  midi_sources/cprato/Bermuda Loverz - My Girl (...  cprato   \n",
       "4  EDM,inferred  midi_sources/cprato/Cascada - Everytime We Tou...  cprato   \n",
       "\n",
       "                        artist                               md5  \\\n",
       "0                        Basto  44ea7e9b46e04ba6f4836f00b3cc50a3   \n",
       "1  The Weeknd ft. Lana Del Rey  d67ead892ee2c92cfbb5306bd47c9a0f   \n",
       "2          Two Steps From Hell  222db08d4744ab9a53ca0d9c6c6e5113   \n",
       "3               Bermuda Loverz  2befd21ebd0f0c779f7fb436ed828ba1   \n",
       "4                      Cascada  b53bfa6f4ab72df165e44263d50a4cbd   \n",
       "\n",
       "                                               title  \n",
       "0  Again And Again (midi By Carlo Prato) (www.cpr...  \n",
       "1                                 Stargirl Interlude  \n",
       "2                                      Magic of Love  \n",
       "3  My Girl (Ladidada) (Rimini Rockaz Radio Edit) ...  \n",
       "4  Everytime We Touch (Midi By Carlo Prato) (www....  "
      ]
     },
     "execution_count": 49,
     "metadata": {},
     "output_type": "execute_result"
    }
   ],
   "source": [
    "cp_meta = partial(parse_cprato_songs, genres='EDM,inferred', source='cprato')\n",
    "file_list = get_files(cp_path, extensions=['.mid'], recurse=True)\n",
    "cp_md = directory2csv(file_list, meta_func=cp_meta, csv_path=cp_csv)\n",
    "df = pd.read_csv(cp_csv); df.head()"
   ]
  },
  {
   "cell_type": "markdown",
   "metadata": {},
   "source": [
    "### Gather MidiWorld"
   ]
  },
  {
   "cell_type": "code",
   "execution_count": 50,
   "metadata": {},
   "outputs": [],
   "source": [
    "mw_path, mw_csv = create_paths('midiworld')"
   ]
  },
  {
   "cell_type": "code",
   "execution_count": 51,
   "metadata": {},
   "outputs": [],
   "source": [
    "def parse_midiworld_songs(fp):\n",
    "    name = fp.with_suffix('').name.replace('_', ' ').split(' - ')\n",
    "    artist = name[0]\n",
    "    title = name[-1]\n",
    "    return {\n",
    "        'artist': artist.strip(),\n",
    "        'title': title.strip(),\n",
    "        'midi': relative_path(fp),\n",
    "        'genres': 'pop,inferred',\n",
    "        'source': 'midiworld'\n",
    "    }"
   ]
  },
  {
   "cell_type": "code",
   "execution_count": 52,
   "metadata": {},
   "outputs": [
    {
     "data": {
      "text/html": [
       "<div>\n",
       "<style scoped>\n",
       "    .dataframe tbody tr th:only-of-type {\n",
       "        vertical-align: middle;\n",
       "    }\n",
       "\n",
       "    .dataframe tbody tr th {\n",
       "        vertical-align: top;\n",
       "    }\n",
       "\n",
       "    .dataframe thead th {\n",
       "        text-align: right;\n",
       "    }\n",
       "</style>\n",
       "<table border=\"1\" class=\"dataframe\">\n",
       "  <thead>\n",
       "    <tr style=\"text-align: right;\">\n",
       "      <th></th>\n",
       "      <th>genres</th>\n",
       "      <th>midi</th>\n",
       "      <th>source</th>\n",
       "      <th>artist</th>\n",
       "      <th>md5</th>\n",
       "      <th>title</th>\n",
       "    </tr>\n",
       "  </thead>\n",
       "  <tbody>\n",
       "    <tr>\n",
       "      <th>0</th>\n",
       "      <td>pop,inferred</td>\n",
       "      <td>midi_sources/midiworld/named_midi/The_Carpente...</td>\n",
       "      <td>midiworld</td>\n",
       "      <td>The Carpenters</td>\n",
       "      <td>6d6e23b4f0e44537f8b5309ffeaa1880</td>\n",
       "      <td>Rainy Days and Mondays</td>\n",
       "    </tr>\n",
       "    <tr>\n",
       "      <th>1</th>\n",
       "      <td>pop,inferred</td>\n",
       "      <td>midi_sources/midiworld/named_midi/Joan_Jett_-_...</td>\n",
       "      <td>midiworld</td>\n",
       "      <td>Joan Jett</td>\n",
       "      <td>19efd3ac590d3aede49d2e9e62209115</td>\n",
       "      <td>I Hate Myself for Loving You</td>\n",
       "    </tr>\n",
       "    <tr>\n",
       "      <th>2</th>\n",
       "      <td>pop,inferred</td>\n",
       "      <td>midi_sources/midiworld/named_midi/George_Harri...</td>\n",
       "      <td>midiworld</td>\n",
       "      <td>George Harrison</td>\n",
       "      <td>bea4eba9aa4e8154ab01108b2b808e3c</td>\n",
       "      <td>When We Was Fab</td>\n",
       "    </tr>\n",
       "    <tr>\n",
       "      <th>3</th>\n",
       "      <td>pop,inferred</td>\n",
       "      <td>midi_sources/midiworld/named_midi/Video_Game_T...</td>\n",
       "      <td>midiworld</td>\n",
       "      <td>Video Game Themes</td>\n",
       "      <td>dfbd9c523e1846767746285281d5e971</td>\n",
       "      <td>Diddy Kong</td>\n",
       "    </tr>\n",
       "    <tr>\n",
       "      <th>4</th>\n",
       "      <td>pop,inferred</td>\n",
       "      <td>midi_sources/midiworld/named_midi/The_Corrs_-_...</td>\n",
       "      <td>midiworld</td>\n",
       "      <td>The Corrs</td>\n",
       "      <td>2445fa5424432de2a40ece46cbbc853c</td>\n",
       "      <td>Someday</td>\n",
       "    </tr>\n",
       "  </tbody>\n",
       "</table>\n",
       "</div>"
      ],
      "text/plain": [
       "         genres                                               midi     source  \\\n",
       "0  pop,inferred  midi_sources/midiworld/named_midi/The_Carpente...  midiworld   \n",
       "1  pop,inferred  midi_sources/midiworld/named_midi/Joan_Jett_-_...  midiworld   \n",
       "2  pop,inferred  midi_sources/midiworld/named_midi/George_Harri...  midiworld   \n",
       "3  pop,inferred  midi_sources/midiworld/named_midi/Video_Game_T...  midiworld   \n",
       "4  pop,inferred  midi_sources/midiworld/named_midi/The_Corrs_-_...  midiworld   \n",
       "\n",
       "              artist                               md5  \\\n",
       "0     The Carpenters  6d6e23b4f0e44537f8b5309ffeaa1880   \n",
       "1          Joan Jett  19efd3ac590d3aede49d2e9e62209115   \n",
       "2    George Harrison  bea4eba9aa4e8154ab01108b2b808e3c   \n",
       "3  Video Game Themes  dfbd9c523e1846767746285281d5e971   \n",
       "4          The Corrs  2445fa5424432de2a40ece46cbbc853c   \n",
       "\n",
       "                          title  \n",
       "0        Rainy Days and Mondays  \n",
       "1  I Hate Myself for Loving You  \n",
       "2               When We Was Fab  \n",
       "3                    Diddy Kong  \n",
       "4                       Someday  "
      ]
     },
     "execution_count": 52,
     "metadata": {},
     "output_type": "execute_result"
    }
   ],
   "source": [
    "file_list = get_files(mw_path/'named_midi', extensions=['.mid'], recurse=True)\n",
    "mw_md = directory2csv(file_list, meta_func=parse_midiworld_songs, csv_path=mw_csv)\n",
    "df = pd.read_csv(mw_csv); df.head()"
   ]
  },
  {
   "cell_type": "markdown",
   "metadata": {},
   "source": [
    "### Gather Wikifonia"
   ]
  },
  {
   "cell_type": "code",
   "execution_count": 53,
   "metadata": {},
   "outputs": [],
   "source": [
    "wf_path, wf_csv = create_paths('wikifonia')"
   ]
  },
  {
   "cell_type": "code",
   "execution_count": 54,
   "metadata": {},
   "outputs": [],
   "source": [
    "def parse_wikifonia_songs(fp):\n",
    "    name = fp.with_suffix('').name.replace('_', ' ').split(' - ')\n",
    "    artist = name[0]\n",
    "    title = name[-1]\n",
    "    return {\n",
    "        'artist': artist.strip(),\n",
    "        'title': title.strip(),\n",
    "        'mxl': relative_path(fp),\n",
    "        'genres': 'pop,inferred',\n",
    "        'source': 'wikifonia'\n",
    "    }"
   ]
  },
  {
   "cell_type": "code",
   "execution_count": 55,
   "metadata": {},
   "outputs": [
    {
     "data": {
      "text/html": [
       "<div>\n",
       "<style scoped>\n",
       "    .dataframe tbody tr th:only-of-type {\n",
       "        vertical-align: middle;\n",
       "    }\n",
       "\n",
       "    .dataframe tbody tr th {\n",
       "        vertical-align: top;\n",
       "    }\n",
       "\n",
       "    .dataframe thead th {\n",
       "        text-align: right;\n",
       "    }\n",
       "</style>\n",
       "<table border=\"1\" class=\"dataframe\">\n",
       "  <thead>\n",
       "    <tr style=\"text-align: right;\">\n",
       "      <th></th>\n",
       "      <th>genres</th>\n",
       "      <th>mxl</th>\n",
       "      <th>source</th>\n",
       "      <th>artist</th>\n",
       "      <th>md5</th>\n",
       "      <th>title</th>\n",
       "    </tr>\n",
       "  </thead>\n",
       "  <tbody>\n",
       "    <tr>\n",
       "      <th>0</th>\n",
       "      <td>pop,inferred</td>\n",
       "      <td>midi_sources/wikifonia/Tommy Dorsey - Swingin'...</td>\n",
       "      <td>wikifonia</td>\n",
       "      <td>Tommy Dorsey</td>\n",
       "      <td>f3418afa104cd03604c8831123e086e4</td>\n",
       "      <td>Swingin' on Nothin'</td>\n",
       "    </tr>\n",
       "    <tr>\n",
       "      <th>1</th>\n",
       "      <td>pop,inferred</td>\n",
       "      <td>midi_sources/wikifonia/Amanda McBroom - The Ro...</td>\n",
       "      <td>wikifonia</td>\n",
       "      <td>Amanda McBroom</td>\n",
       "      <td>a01bde25baf5c5a91b9f6235bf019890</td>\n",
       "      <td>The Rose</td>\n",
       "    </tr>\n",
       "    <tr>\n",
       "      <th>2</th>\n",
       "      <td>pop,inferred</td>\n",
       "      <td>midi_sources/wikifonia/Hans Leo Hassler, From ...</td>\n",
       "      <td>wikifonia</td>\n",
       "      <td>Hans Leo Hassler, From the Latin</td>\n",
       "      <td>4beb6aafed89a87a8171da906d8b5ff8</td>\n",
       "      <td>O Sacred Head Now Wounded</td>\n",
       "    </tr>\n",
       "    <tr>\n",
       "      <th>3</th>\n",
       "      <td>pop,inferred</td>\n",
       "      <td>midi_sources/wikifonia/Arthur Siegel, June Car...</td>\n",
       "      <td>wikifonia</td>\n",
       "      <td>Arthur Siegel, June Carroll</td>\n",
       "      <td>a739908a6505fcbe8c7d9bf7b1e47492</td>\n",
       "      <td>Love Is A Simple Thing</td>\n",
       "    </tr>\n",
       "    <tr>\n",
       "      <th>4</th>\n",
       "      <td>pop,inferred</td>\n",
       "      <td>midi_sources/wikifonia/Unknow - KINDERLIEDJES ...</td>\n",
       "      <td>wikifonia</td>\n",
       "      <td>Unknow</td>\n",
       "      <td>cb2beddd4a86439dcf2d80b5fc6b4e4f</td>\n",
       "      <td>KINDERLIEDJES MEDLEY</td>\n",
       "    </tr>\n",
       "  </tbody>\n",
       "</table>\n",
       "</div>"
      ],
      "text/plain": [
       "         genres                                                mxl     source  \\\n",
       "0  pop,inferred  midi_sources/wikifonia/Tommy Dorsey - Swingin'...  wikifonia   \n",
       "1  pop,inferred  midi_sources/wikifonia/Amanda McBroom - The Ro...  wikifonia   \n",
       "2  pop,inferred  midi_sources/wikifonia/Hans Leo Hassler, From ...  wikifonia   \n",
       "3  pop,inferred  midi_sources/wikifonia/Arthur Siegel, June Car...  wikifonia   \n",
       "4  pop,inferred  midi_sources/wikifonia/Unknow - KINDERLIEDJES ...  wikifonia   \n",
       "\n",
       "                             artist                               md5  \\\n",
       "0                      Tommy Dorsey  f3418afa104cd03604c8831123e086e4   \n",
       "1                    Amanda McBroom  a01bde25baf5c5a91b9f6235bf019890   \n",
       "2  Hans Leo Hassler, From the Latin  4beb6aafed89a87a8171da906d8b5ff8   \n",
       "3       Arthur Siegel, June Carroll  a739908a6505fcbe8c7d9bf7b1e47492   \n",
       "4                            Unknow  cb2beddd4a86439dcf2d80b5fc6b4e4f   \n",
       "\n",
       "                       title  \n",
       "0        Swingin' on Nothin'  \n",
       "1                   The Rose  \n",
       "2  O Sacred Head Now Wounded  \n",
       "3     Love Is A Simple Thing  \n",
       "4       KINDERLIEDJES MEDLEY  "
      ]
     },
     "execution_count": 55,
     "metadata": {},
     "output_type": "execute_result"
    }
   ],
   "source": [
    "# Warning: if you get a deadlock: \n",
    "# PosixPath('data/midi/midi_sources/midiworld/named_midi/NITRO_BRO_-_IT_WONT_DIE.mid') is broken\n",
    "file_list = get_files(wf_path, extensions=['.mxl'], recurse=True)\n",
    "wf_md = directory2csv(file_list, meta_func=parse_wikifonia_songs, csv_path=wf_csv)\n",
    "df = pd.read_csv(wf_csv); df.head()"
   ]
  },
  {
   "cell_type": "markdown",
   "metadata": {},
   "source": [
    "### Gather Musescore"
   ]
  },
  {
   "cell_type": "code",
   "execution_count": 57,
   "metadata": {},
   "outputs": [],
   "source": [
    "ms_path, ms_csv = create_paths('musescore')\n",
    "ms_songs = json.load(open(ms_path/'song_map.json', 'r'))"
   ]
  },
  {
   "cell_type": "code",
   "execution_count": 59,
   "metadata": {},
   "outputs": [],
   "source": [
    "def get_number(num_str):\n",
    "    num_str = num_str.replace(',','').split(' ')[0]\n",
    "    return int(num_str)"
   ]
  },
  {
   "cell_type": "code",
   "execution_count": 60,
   "metadata": {},
   "outputs": [],
   "source": [
    "def parse_musescore_songs(fp):\n",
    "    score_id = fp.with_suffix('').name\n",
    "    if score_id not in ms_songs: return None\n",
    "    \n",
    "    meta = ms_songs[score_id]\n",
    "    parts = get_number(meta['parts'])\n",
    "    views = get_number(meta['views'])\n",
    "    if parts > 2 or views < 150: return None\n",
    "    \n",
    "    return {\n",
    "        'artist': meta['author'].strip(),\n",
    "        'title': meta['title'].strip(),\n",
    "        'mxl': relative_path(fp),\n",
    "        'genres': 'classical,pop,inferred',\n",
    "        'source': 'musescore'\n",
    "    }"
   ]
  },
  {
   "cell_type": "code",
   "execution_count": 61,
   "metadata": {},
   "outputs": [
    {
     "data": {
      "text/html": [
       "<div>\n",
       "<style scoped>\n",
       "    .dataframe tbody tr th:only-of-type {\n",
       "        vertical-align: middle;\n",
       "    }\n",
       "\n",
       "    .dataframe tbody tr th {\n",
       "        vertical-align: top;\n",
       "    }\n",
       "\n",
       "    .dataframe thead th {\n",
       "        text-align: right;\n",
       "    }\n",
       "</style>\n",
       "<table border=\"1\" class=\"dataframe\">\n",
       "  <thead>\n",
       "    <tr style=\"text-align: right;\">\n",
       "      <th></th>\n",
       "      <th>genres</th>\n",
       "      <th>mxl</th>\n",
       "      <th>source</th>\n",
       "      <th>artist</th>\n",
       "      <th>md5</th>\n",
       "      <th>title</th>\n",
       "    </tr>\n",
       "  </thead>\n",
       "  <tbody>\n",
       "    <tr>\n",
       "      <th>0</th>\n",
       "      <td>classical,pop,inferred</td>\n",
       "      <td>midi_sources/musescore/data/2985741.mxl</td>\n",
       "      <td>musescore</td>\n",
       "      <td>000@xn--80akgejic5ahko1h.xn--p1ai</td>\n",
       "      <td>36fb6c38927e5e025f7f8427770cf8fa</td>\n",
       "      <td>Упражнение 2</td>\n",
       "    </tr>\n",
       "    <tr>\n",
       "      <th>1</th>\n",
       "      <td>classical,pop,inferred</td>\n",
       "      <td>midi_sources/musescore/data/1425126.mxl</td>\n",
       "      <td>musescore</td>\n",
       "      <td>sam027</td>\n",
       "      <td>b666753133bc72910840a97bddb1fbf9</td>\n",
       "      <td>Place de la République - Coeur de pirate</td>\n",
       "    </tr>\n",
       "    <tr>\n",
       "      <th>2</th>\n",
       "      <td>classical,pop,inferred</td>\n",
       "      <td>midi_sources/musescore/data/5370824.mxl</td>\n",
       "      <td>musescore</td>\n",
       "      <td>CrazyClique</td>\n",
       "      <td>83de066be1fa555a986376170c467f99</td>\n",
       "      <td>Beyond The Trees - Original Composition</td>\n",
       "    </tr>\n",
       "    <tr>\n",
       "      <th>3</th>\n",
       "      <td>classical,pop,inferred</td>\n",
       "      <td>midi_sources/musescore/data/1195001.mxl</td>\n",
       "      <td>musescore</td>\n",
       "      <td>Mjmatthews51</td>\n",
       "      <td>a85e407d2427234ee6bf5aa7ae5ce5e9</td>\n",
       "      <td>Sister Sadie</td>\n",
       "    </tr>\n",
       "    <tr>\n",
       "      <th>4</th>\n",
       "      <td>classical,pop,inferred</td>\n",
       "      <td>midi_sources/musescore/data/4621586.mxl</td>\n",
       "      <td>musescore</td>\n",
       "      <td>Spencer Vanderkley</td>\n",
       "      <td>d1f72939369c106948993bba9b4fc0a9</td>\n",
       "      <td>My Top 20 Film Soundtracks Medley</td>\n",
       "    </tr>\n",
       "  </tbody>\n",
       "</table>\n",
       "</div>"
      ],
      "text/plain": [
       "                   genres                                      mxl     source  \\\n",
       "0  classical,pop,inferred  midi_sources/musescore/data/2985741.mxl  musescore   \n",
       "1  classical,pop,inferred  midi_sources/musescore/data/1425126.mxl  musescore   \n",
       "2  classical,pop,inferred  midi_sources/musescore/data/5370824.mxl  musescore   \n",
       "3  classical,pop,inferred  midi_sources/musescore/data/1195001.mxl  musescore   \n",
       "4  classical,pop,inferred  midi_sources/musescore/data/4621586.mxl  musescore   \n",
       "\n",
       "                              artist                               md5  \\\n",
       "0  000@xn--80akgejic5ahko1h.xn--p1ai  36fb6c38927e5e025f7f8427770cf8fa   \n",
       "1                             sam027  b666753133bc72910840a97bddb1fbf9   \n",
       "2                        CrazyClique  83de066be1fa555a986376170c467f99   \n",
       "3                       Mjmatthews51  a85e407d2427234ee6bf5aa7ae5ce5e9   \n",
       "4                 Spencer Vanderkley  d1f72939369c106948993bba9b4fc0a9   \n",
       "\n",
       "                                      title  \n",
       "0                              Упражнение 2  \n",
       "1  Place de la République - Coeur de pirate  \n",
       "2   Beyond The Trees - Original Composition  \n",
       "3                              Sister Sadie  \n",
       "4         My Top 20 Film Soundtracks Medley  "
      ]
     },
     "execution_count": 61,
     "metadata": {},
     "output_type": "execute_result"
    }
   ],
   "source": [
    "# Warning: if you get a deadlock: \n",
    "# PosixPath('data/midi/midi_sources/midiworld/named_midi/NITRO_BRO_-_IT_WONT_DIE.mid') is broken\n",
    "file_list = get_files(ms_path, extensions=['.mxl'], recurse=True)\n",
    "ms_list = directory2csv(file_list, meta_func=parse_musescore_songs, csv_path=ms_csv)\n",
    "df = pd.read_csv(ms_csv); df.head()"
   ]
  },
  {
   "cell_type": "markdown",
   "metadata": {},
   "source": [
    "### Yamaha - piano"
   ]
  },
  {
   "cell_type": "code",
   "execution_count": 62,
   "metadata": {},
   "outputs": [],
   "source": [
    "ec_path, ec_csv = create_paths('ecomp')\n",
    "ec_songs = json.load(open(ec_path/'song_list.json', 'r'))\n",
    "# list(ec_path.glob('*'))[:5]"
   ]
  },
  {
   "cell_type": "code",
   "execution_count": 63,
   "metadata": {},
   "outputs": [],
   "source": [
    "def parse_ecomp_songs(fp):\n",
    "    song_info = ec_songs[fp.stem]\n",
    "    return {\n",
    "        'artist': song_info['artist'],\n",
    "        'title': song_info['title'],\n",
    "        'mxl': relative_path(fp),\n",
    "        'genres': 'classical',\n",
    "        'source': 'ecomp'\n",
    "    }"
   ]
  },
  {
   "cell_type": "code",
   "execution_count": 64,
   "metadata": {},
   "outputs": [],
   "source": [
    "file_list = get_files(ec_path, extensions=['.mxl'], recurse=True)"
   ]
  },
  {
   "cell_type": "code",
   "execution_count": 65,
   "metadata": {},
   "outputs": [
    {
     "data": {
      "text/html": [
       "<div>\n",
       "<style scoped>\n",
       "    .dataframe tbody tr th:only-of-type {\n",
       "        vertical-align: middle;\n",
       "    }\n",
       "\n",
       "    .dataframe tbody tr th {\n",
       "        vertical-align: top;\n",
       "    }\n",
       "\n",
       "    .dataframe thead th {\n",
       "        text-align: right;\n",
       "    }\n",
       "</style>\n",
       "<table border=\"1\" class=\"dataframe\">\n",
       "  <thead>\n",
       "    <tr style=\"text-align: right;\">\n",
       "      <th></th>\n",
       "      <th>genres</th>\n",
       "      <th>mxl</th>\n",
       "      <th>source</th>\n",
       "      <th>artist</th>\n",
       "      <th>md5</th>\n",
       "      <th>title</th>\n",
       "    </tr>\n",
       "  </thead>\n",
       "  <tbody>\n",
       "    <tr>\n",
       "      <th>0</th>\n",
       "      <td>classical</td>\n",
       "      <td>midi_sources/ecomp/2017/SirajA01.mxl</td>\n",
       "      <td>ecomp</td>\n",
       "      <td>Johann    Sebastian Bach</td>\n",
       "      <td>39099f086fdc79c2828c13274fcd0f25</td>\n",
       "      <td>Prelude and    Fugue in E-flat Major, WTC II, ...</td>\n",
       "    </tr>\n",
       "    <tr>\n",
       "      <th>1</th>\n",
       "      <td>classical</td>\n",
       "      <td>midi_sources/ecomp/2017/LiC05.mxl</td>\n",
       "      <td>ecomp</td>\n",
       "      <td>Moritz    Moszkowski</td>\n",
       "      <td>fe22a58bcff66e8b724b71c10b5465b6</td>\n",
       "      <td>Chanson Boheme de    l'Opera \"Carmen\" by Georg...</td>\n",
       "    </tr>\n",
       "    <tr>\n",
       "      <th>2</th>\n",
       "      <td>classical</td>\n",
       "      <td>midi_sources/ecomp/2017/WangY05.mxl</td>\n",
       "      <td>ecomp</td>\n",
       "      <td>Nikolai     Kapustin</td>\n",
       "      <td>8b38131646b8d71dc10269d3e2d608d0</td>\n",
       "      <td>Concert Etude Op. 40    No. 3</td>\n",
       "    </tr>\n",
       "    <tr>\n",
       "      <th>3</th>\n",
       "      <td>classical</td>\n",
       "      <td>midi_sources/ecomp/2017/SunY05.mxl</td>\n",
       "      <td>ecomp</td>\n",
       "      <td></td>\n",
       "      <td>2637be3aec226a2fb74e86bb7a1fde81</td>\n",
       "      <td>I. Con moto agitato. Andante. Con moto agitato</td>\n",
       "    </tr>\n",
       "    <tr>\n",
       "      <th>4</th>\n",
       "      <td>classical</td>\n",
       "      <td>midi_sources/ecomp/2017/ZhangE06.mxl</td>\n",
       "      <td>ecomp</td>\n",
       "      <td>Giuseppe     Scarlatti</td>\n",
       "      <td>c154b4269f8c8cecdb5b2972e3e2d831</td>\n",
       "      <td>Sonata in G Major, K.    455</td>\n",
       "    </tr>\n",
       "  </tbody>\n",
       "</table>\n",
       "</div>"
      ],
      "text/plain": [
       "      genres                                   mxl source  \\\n",
       "0  classical  midi_sources/ecomp/2017/SirajA01.mxl  ecomp   \n",
       "1  classical     midi_sources/ecomp/2017/LiC05.mxl  ecomp   \n",
       "2  classical   midi_sources/ecomp/2017/WangY05.mxl  ecomp   \n",
       "3  classical    midi_sources/ecomp/2017/SunY05.mxl  ecomp   \n",
       "4  classical  midi_sources/ecomp/2017/ZhangE06.mxl  ecomp   \n",
       "\n",
       "                     artist                               md5  \\\n",
       "0  Johann    Sebastian Bach  39099f086fdc79c2828c13274fcd0f25   \n",
       "1      Moritz    Moszkowski  fe22a58bcff66e8b724b71c10b5465b6   \n",
       "2      Nikolai     Kapustin  8b38131646b8d71dc10269d3e2d608d0   \n",
       "3                            2637be3aec226a2fb74e86bb7a1fde81   \n",
       "4    Giuseppe     Scarlatti  c154b4269f8c8cecdb5b2972e3e2d831   \n",
       "\n",
       "                                               title  \n",
       "0  Prelude and    Fugue in E-flat Major, WTC II, ...  \n",
       "1  Chanson Boheme de    l'Opera \"Carmen\" by Georg...  \n",
       "2                      Concert Etude Op. 40    No. 3  \n",
       "3     I. Con moto agitato. Andante. Con moto agitato  \n",
       "4                       Sonata in G Major, K.    455  "
      ]
     },
     "execution_count": 65,
     "metadata": {},
     "output_type": "execute_result"
    }
   ],
   "source": [
    "ec_md = directory2csv(file_list, meta_func=parse_ecomp_songs, csv_path=ec_csv)\n",
    "df = pd.read_csv(ec_csv); df.head()"
   ]
  },
  {
   "cell_type": "markdown",
   "metadata": {},
   "source": [
    "### Classic Piano"
   ]
  },
  {
   "cell_type": "code",
   "execution_count": 66,
   "metadata": {},
   "outputs": [],
   "source": [
    "clc_path, clc_csv = create_paths('classic_piano')\n",
    "# list(clc_path.glob('*'))[:5]"
   ]
  },
  {
   "cell_type": "code",
   "execution_count": 67,
   "metadata": {},
   "outputs": [],
   "source": [
    "def parse_classic_songs(fp):\n",
    "    name = fp.with_suffix('').name.split('_')\n",
    "    artist = name[0]\n",
    "    title = ' '.join(name[1:])\n",
    "    return {\n",
    "        'artist': artist,\n",
    "        'title': title,\n",
    "        'mxl': relative_path(fp),\n",
    "        'genres': 'classical',\n",
    "        'source': 'classical_piano'\n",
    "    }"
   ]
  },
  {
   "cell_type": "code",
   "execution_count": 68,
   "metadata": {},
   "outputs": [],
   "source": [
    "file_list = get_files(clc_path, extensions=['.mxl'], recurse=True)"
   ]
  },
  {
   "cell_type": "code",
   "execution_count": 69,
   "metadata": {},
   "outputs": [
    {
     "data": {
      "text/html": [
       "<div>\n",
       "<style scoped>\n",
       "    .dataframe tbody tr th:only-of-type {\n",
       "        vertical-align: middle;\n",
       "    }\n",
       "\n",
       "    .dataframe tbody tr th {\n",
       "        vertical-align: top;\n",
       "    }\n",
       "\n",
       "    .dataframe thead th {\n",
       "        text-align: right;\n",
       "    }\n",
       "</style>\n",
       "<table border=\"1\" class=\"dataframe\">\n",
       "  <thead>\n",
       "    <tr style=\"text-align: right;\">\n",
       "      <th></th>\n",
       "      <th>genres</th>\n",
       "      <th>mxl</th>\n",
       "      <th>source</th>\n",
       "      <th>artist</th>\n",
       "      <th>md5</th>\n",
       "      <th>title</th>\n",
       "    </tr>\n",
       "  </thead>\n",
       "  <tbody>\n",
       "    <tr>\n",
       "      <th>0</th>\n",
       "      <td>classical</td>\n",
       "      <td>midi_sources/classic_piano/liz_rhap15_format0.mxl</td>\n",
       "      <td>classical_piano</td>\n",
       "      <td>liz</td>\n",
       "      <td>93d730fce9a3e2fabe1a0ea3e2cf80b6</td>\n",
       "      <td>rhap15 format0</td>\n",
       "    </tr>\n",
       "    <tr>\n",
       "      <th>1</th>\n",
       "      <td>classical</td>\n",
       "      <td>midi_sources/classic_piano/ty_september_format...</td>\n",
       "      <td>classical_piano</td>\n",
       "      <td>ty</td>\n",
       "      <td>d45bf8f2b4b0242879305a8423a3cb99</td>\n",
       "      <td>september format0</td>\n",
       "    </tr>\n",
       "    <tr>\n",
       "      <th>2</th>\n",
       "      <td>classical</td>\n",
       "      <td>midi_sources/classic_piano/schumm-3_format0.mxl</td>\n",
       "      <td>classical_piano</td>\n",
       "      <td>schumm-3</td>\n",
       "      <td>2238d47b4162b55bafee79b16af46a37</td>\n",
       "      <td>format0</td>\n",
       "    </tr>\n",
       "    <tr>\n",
       "      <th>3</th>\n",
       "      <td>classical</td>\n",
       "      <td>midi_sources/classic_piano/chpn_op33_4_format0...</td>\n",
       "      <td>classical_piano</td>\n",
       "      <td>chpn</td>\n",
       "      <td>3d5c30ba63b886de6555a5d4911cf55f</td>\n",
       "      <td>op33 4 format0</td>\n",
       "    </tr>\n",
       "    <tr>\n",
       "      <th>4</th>\n",
       "      <td>classical</td>\n",
       "      <td>midi_sources/classic_piano/grieg_spring_format...</td>\n",
       "      <td>classical_piano</td>\n",
       "      <td>grieg</td>\n",
       "      <td>51758e4fb8b37d0389148d37652b1d58</td>\n",
       "      <td>spring format0</td>\n",
       "    </tr>\n",
       "  </tbody>\n",
       "</table>\n",
       "</div>"
      ],
      "text/plain": [
       "      genres                                                mxl  \\\n",
       "0  classical  midi_sources/classic_piano/liz_rhap15_format0.mxl   \n",
       "1  classical  midi_sources/classic_piano/ty_september_format...   \n",
       "2  classical    midi_sources/classic_piano/schumm-3_format0.mxl   \n",
       "3  classical  midi_sources/classic_piano/chpn_op33_4_format0...   \n",
       "4  classical  midi_sources/classic_piano/grieg_spring_format...   \n",
       "\n",
       "            source    artist                               md5  \\\n",
       "0  classical_piano       liz  93d730fce9a3e2fabe1a0ea3e2cf80b6   \n",
       "1  classical_piano        ty  d45bf8f2b4b0242879305a8423a3cb99   \n",
       "2  classical_piano  schumm-3  2238d47b4162b55bafee79b16af46a37   \n",
       "3  classical_piano      chpn  3d5c30ba63b886de6555a5d4911cf55f   \n",
       "4  classical_piano     grieg  51758e4fb8b37d0389148d37652b1d58   \n",
       "\n",
       "               title  \n",
       "0     rhap15 format0  \n",
       "1  september format0  \n",
       "2            format0  \n",
       "3     op33 4 format0  \n",
       "4     spring format0  "
      ]
     },
     "execution_count": 69,
     "metadata": {},
     "output_type": "execute_result"
    }
   ],
   "source": [
    "clc_md = directory2csv(file_list, meta_func=parse_classic_songs, csv_path=clc_csv)\n",
    "df = pd.read_csv(clc_csv); df.head()"
   ]
  },
  {
   "cell_type": "markdown",
   "metadata": {},
   "source": [
    "### Classical Music Archives"
   ]
  },
  {
   "cell_type": "code",
   "execution_count": 70,
   "metadata": {},
   "outputs": [],
   "source": [
    "cma_path, cma_csv = create_paths('classical_archives')\n",
    "# list(cma_path.glob('*'))[:5]"
   ]
  },
  {
   "cell_type": "code",
   "execution_count": 71,
   "metadata": {},
   "outputs": [],
   "source": [
    "def parse_cma_songs(fp):\n",
    "    name = fp.with_suffix('').name\n",
    "    return {\n",
    "        'artist': name,\n",
    "        'title': name,\n",
    "        'mxl': relative_path(fp),\n",
    "        'genres': 'classical',\n",
    "        'source': 'classical_archives'\n",
    "    }"
   ]
  },
  {
   "cell_type": "code",
   "execution_count": 72,
   "metadata": {},
   "outputs": [
    {
     "data": {
      "text/plain": [
       "14671"
      ]
     },
     "execution_count": 72,
     "metadata": {},
     "output_type": "execute_result"
    }
   ],
   "source": [
    "file_list = get_files(cma_path, extensions=['.mxl'], recurse=True); len(file_list)"
   ]
  },
  {
   "cell_type": "code",
   "execution_count": 73,
   "metadata": {},
   "outputs": [
    {
     "data": {
      "text/html": [
       "<div>\n",
       "<style scoped>\n",
       "    .dataframe tbody tr th:only-of-type {\n",
       "        vertical-align: middle;\n",
       "    }\n",
       "\n",
       "    .dataframe tbody tr th {\n",
       "        vertical-align: top;\n",
       "    }\n",
       "\n",
       "    .dataframe thead th {\n",
       "        text-align: right;\n",
       "    }\n",
       "</style>\n",
       "<table border=\"1\" class=\"dataframe\">\n",
       "  <thead>\n",
       "    <tr style=\"text-align: right;\">\n",
       "      <th></th>\n",
       "      <th>genres</th>\n",
       "      <th>mxl</th>\n",
       "      <th>source</th>\n",
       "      <th>artist</th>\n",
       "      <th>md5</th>\n",
       "      <th>title</th>\n",
       "    </tr>\n",
       "  </thead>\n",
       "  <tbody>\n",
       "    <tr>\n",
       "      <th>0</th>\n",
       "      <td>classical</td>\n",
       "      <td>midi_sources/classical_archives/021/jsrjeuxd.mxl</td>\n",
       "      <td>classical_archives</td>\n",
       "      <td>jsrjeuxd</td>\n",
       "      <td>d14444f06de8a7ad6bec95c98afa566c</td>\n",
       "      <td>jsrjeuxd</td>\n",
       "    </tr>\n",
       "    <tr>\n",
       "      <th>1</th>\n",
       "      <td>classical</td>\n",
       "      <td>midi_sources/classical_archives/021/men26.mxl</td>\n",
       "      <td>classical_archives</td>\n",
       "      <td>men26</td>\n",
       "      <td>42c8738df5fa98fa5b715d058890e376</td>\n",
       "      <td>men26</td>\n",
       "    </tr>\n",
       "    <tr>\n",
       "      <th>2</th>\n",
       "      <td>classical</td>\n",
       "      <td>midi_sources/classical_archives/021/szecheny.mxl</td>\n",
       "      <td>classical_archives</td>\n",
       "      <td>szecheny</td>\n",
       "      <td>0af7005d072bc22ea2f188569adcfa9d</td>\n",
       "      <td>szecheny</td>\n",
       "    </tr>\n",
       "    <tr>\n",
       "      <th>3</th>\n",
       "      <td>classical</td>\n",
       "      <td>midi_sources/classical_archives/021/acocored.mxl</td>\n",
       "      <td>classical_archives</td>\n",
       "      <td>acocored</td>\n",
       "      <td>e8842eb5b97285673075043aaab09ca8</td>\n",
       "      <td>acocored</td>\n",
       "    </tr>\n",
       "    <tr>\n",
       "      <th>4</th>\n",
       "      <td>classical</td>\n",
       "      <td>midi_sources/classical_archives/021/op73_2_3.mxl</td>\n",
       "      <td>classical_archives</td>\n",
       "      <td>op73_2_3</td>\n",
       "      <td>be5fea22e3d87257123c98090d9f4c6c</td>\n",
       "      <td>op73_2_3</td>\n",
       "    </tr>\n",
       "  </tbody>\n",
       "</table>\n",
       "</div>"
      ],
      "text/plain": [
       "      genres                                               mxl  \\\n",
       "0  classical  midi_sources/classical_archives/021/jsrjeuxd.mxl   \n",
       "1  classical     midi_sources/classical_archives/021/men26.mxl   \n",
       "2  classical  midi_sources/classical_archives/021/szecheny.mxl   \n",
       "3  classical  midi_sources/classical_archives/021/acocored.mxl   \n",
       "4  classical  midi_sources/classical_archives/021/op73_2_3.mxl   \n",
       "\n",
       "               source    artist                               md5     title  \n",
       "0  classical_archives  jsrjeuxd  d14444f06de8a7ad6bec95c98afa566c  jsrjeuxd  \n",
       "1  classical_archives     men26  42c8738df5fa98fa5b715d058890e376     men26  \n",
       "2  classical_archives  szecheny  0af7005d072bc22ea2f188569adcfa9d  szecheny  \n",
       "3  classical_archives  acocored  e8842eb5b97285673075043aaab09ca8  acocored  \n",
       "4  classical_archives  op73_2_3  be5fea22e3d87257123c98090d9f4c6c  op73_2_3  "
      ]
     },
     "execution_count": 73,
     "metadata": {},
     "output_type": "execute_result"
    }
   ],
   "source": [
    "cma_md = directory2csv(file_list, meta_func=parse_cma_songs, csv_path=cma_csv)\n",
    "df = pd.read_csv(cma_csv); df.head()"
   ]
  },
  {
   "cell_type": "markdown",
   "metadata": {},
   "source": [
    "### Creating CSV"
   ]
  },
  {
   "cell_type": "code",
   "execution_count": 25,
   "metadata": {},
   "outputs": [],
   "source": [
    "combined_csvs = [create_paths(s)[-1] for s in sources if s != 'hooktheory_c']\n",
    "dfs = [pd.read_csv(csv) for csv in combined_csvs]"
   ]
  },
  {
   "cell_type": "code",
   "execution_count": 26,
   "metadata": {},
   "outputs": [
    {
     "data": {
      "text/html": [
       "<div>\n",
       "<style scoped>\n",
       "    .dataframe tbody tr th:only-of-type {\n",
       "        vertical-align: middle;\n",
       "    }\n",
       "\n",
       "    .dataframe tbody tr th {\n",
       "        vertical-align: top;\n",
       "    }\n",
       "\n",
       "    .dataframe thead th {\n",
       "        text-align: right;\n",
       "    }\n",
       "</style>\n",
       "<table border=\"1\" class=\"dataframe\">\n",
       "  <thead>\n",
       "    <tr style=\"text-align: right;\">\n",
       "      <th></th>\n",
       "      <th>title</th>\n",
       "      <th>midi</th>\n",
       "      <th>source</th>\n",
       "      <th>parts</th>\n",
       "      <th>ht_time_signature</th>\n",
       "      <th>midi_title</th>\n",
       "      <th>ht_mode</th>\n",
       "      <th>md5</th>\n",
       "      <th>song_url</th>\n",
       "      <th>genres</th>\n",
       "      <th>ht_bpm</th>\n",
       "      <th>ht_key</th>\n",
       "      <th>artist</th>\n",
       "      <th>section</th>\n",
       "      <th>mxl</th>\n",
       "    </tr>\n",
       "  </thead>\n",
       "  <tbody>\n",
       "    <tr>\n",
       "      <th>0</th>\n",
       "      <td>yu-gi-oh-theme-song</td>\n",
       "      <td>midi_sources/hooktheory/pianoroll/w/wayne-shar...</td>\n",
       "      <td>hooktheory</td>\n",
       "      <td>intro,chorus</td>\n",
       "      <td>4.0</td>\n",
       "      <td>yu-gi-oh3</td>\n",
       "      <td>1.0</td>\n",
       "      <td>bf1f29e5ff84e3e93e37fb873bfb590e</td>\n",
       "      <td>https://www.hooktheory.com/theorytab/view/wayn...</td>\n",
       "      <td>NaN</td>\n",
       "      <td>128.0</td>\n",
       "      <td>C</td>\n",
       "      <td>wayne-sharpe</td>\n",
       "      <td>chorus</td>\n",
       "      <td>NaN</td>\n",
       "    </tr>\n",
       "    <tr>\n",
       "      <th>1</th>\n",
       "      <td>yu-gi-oh-theme-song</td>\n",
       "      <td>midi_sources/hooktheory/pianoroll/w/wayne-shar...</td>\n",
       "      <td>hooktheory</td>\n",
       "      <td>intro,chorus</td>\n",
       "      <td>3.0</td>\n",
       "      <td>yu-gi-oh</td>\n",
       "      <td>1.0</td>\n",
       "      <td>055f80ad67f64edb14a85ca8fbfe8c29</td>\n",
       "      <td>https://www.hooktheory.com/theorytab/view/wayn...</td>\n",
       "      <td>NaN</td>\n",
       "      <td>85.0</td>\n",
       "      <td>C</td>\n",
       "      <td>wayne-sharpe</td>\n",
       "      <td>intro</td>\n",
       "      <td>NaN</td>\n",
       "    </tr>\n",
       "    <tr>\n",
       "      <th>2</th>\n",
       "      <td>kiefer</td>\n",
       "      <td>midi_sources/hooktheory/pianoroll/w/what-a-day...</td>\n",
       "      <td>hooktheory</td>\n",
       "      <td>chorus</td>\n",
       "      <td>4.0</td>\n",
       "      <td>kiefer</td>\n",
       "      <td>6.0</td>\n",
       "      <td>197f96f5d181f6ce1e2c5ab04ac1ff87</td>\n",
       "      <td>https://www.hooktheory.com/theorytab/view/what...</td>\n",
       "      <td>Jazz</td>\n",
       "      <td>96.0</td>\n",
       "      <td>D</td>\n",
       "      <td>what-a-day</td>\n",
       "      <td>chorus</td>\n",
       "      <td>NaN</td>\n",
       "    </tr>\n",
       "    <tr>\n",
       "      <th>3</th>\n",
       "      <td>senbonzakura</td>\n",
       "      <td>midi_sources/hooktheory/pianoroll/w/whiteflame...</td>\n",
       "      <td>hooktheory</td>\n",
       "      <td>verse,pre-chorus,chorus</td>\n",
       "      <td>4.0</td>\n",
       "      <td>senbonzakura - pre-Pre-Chorus</td>\n",
       "      <td>6.0</td>\n",
       "      <td>9e7ce13a35f1314423a9a6d5a5287a4a</td>\n",
       "      <td>https://www.hooktheory.com/theorytab/view/whit...</td>\n",
       "      <td>J-Pop,Pop</td>\n",
       "      <td>152.0</td>\n",
       "      <td>D</td>\n",
       "      <td>whiteflame</td>\n",
       "      <td>pre-chorus</td>\n",
       "      <td>NaN</td>\n",
       "    </tr>\n",
       "    <tr>\n",
       "      <th>4</th>\n",
       "      <td>senbonzakura</td>\n",
       "      <td>midi_sources/hooktheory/pianoroll/w/whiteflame...</td>\n",
       "      <td>hooktheory</td>\n",
       "      <td>verse,pre-chorus,chorus</td>\n",
       "      <td>4.0</td>\n",
       "      <td>Senbonzakura</td>\n",
       "      <td>6.0</td>\n",
       "      <td>d5aaf79d0989222f1362f9f46c540a27</td>\n",
       "      <td>https://www.hooktheory.com/theorytab/view/whit...</td>\n",
       "      <td>J-Pop,Pop</td>\n",
       "      <td>152.0</td>\n",
       "      <td>D</td>\n",
       "      <td>whiteflame</td>\n",
       "      <td>verse</td>\n",
       "      <td>NaN</td>\n",
       "    </tr>\n",
       "  </tbody>\n",
       "</table>\n",
       "</div>"
      ],
      "text/plain": [
       "                 title                                               midi  \\\n",
       "0  yu-gi-oh-theme-song  midi_sources/hooktheory/pianoroll/w/wayne-shar...   \n",
       "1  yu-gi-oh-theme-song  midi_sources/hooktheory/pianoroll/w/wayne-shar...   \n",
       "2               kiefer  midi_sources/hooktheory/pianoroll/w/what-a-day...   \n",
       "3         senbonzakura  midi_sources/hooktheory/pianoroll/w/whiteflame...   \n",
       "4         senbonzakura  midi_sources/hooktheory/pianoroll/w/whiteflame...   \n",
       "\n",
       "       source                    parts  ht_time_signature  \\\n",
       "0  hooktheory             intro,chorus                4.0   \n",
       "1  hooktheory             intro,chorus                3.0   \n",
       "2  hooktheory                   chorus                4.0   \n",
       "3  hooktheory  verse,pre-chorus,chorus                4.0   \n",
       "4  hooktheory  verse,pre-chorus,chorus                4.0   \n",
       "\n",
       "                      midi_title  ht_mode                               md5  \\\n",
       "0                      yu-gi-oh3      1.0  bf1f29e5ff84e3e93e37fb873bfb590e   \n",
       "1                       yu-gi-oh      1.0  055f80ad67f64edb14a85ca8fbfe8c29   \n",
       "2                         kiefer      6.0  197f96f5d181f6ce1e2c5ab04ac1ff87   \n",
       "3  senbonzakura - pre-Pre-Chorus      6.0  9e7ce13a35f1314423a9a6d5a5287a4a   \n",
       "4                   Senbonzakura      6.0  d5aaf79d0989222f1362f9f46c540a27   \n",
       "\n",
       "                                            song_url     genres  ht_bpm  \\\n",
       "0  https://www.hooktheory.com/theorytab/view/wayn...        NaN   128.0   \n",
       "1  https://www.hooktheory.com/theorytab/view/wayn...        NaN    85.0   \n",
       "2  https://www.hooktheory.com/theorytab/view/what...       Jazz    96.0   \n",
       "3  https://www.hooktheory.com/theorytab/view/whit...  J-Pop,Pop   152.0   \n",
       "4  https://www.hooktheory.com/theorytab/view/whit...  J-Pop,Pop   152.0   \n",
       "\n",
       "  ht_key        artist     section  mxl  \n",
       "0      C  wayne-sharpe      chorus  NaN  \n",
       "1      C  wayne-sharpe       intro  NaN  \n",
       "2      D    what-a-day      chorus  NaN  \n",
       "3      D    whiteflame  pre-chorus  NaN  \n",
       "4      D    whiteflame       verse  NaN  "
      ]
     },
     "execution_count": 26,
     "metadata": {},
     "output_type": "execute_result"
    }
   ],
   "source": [
    "combined_df = pd.concat(dfs, sort=False)\n",
    "combined_df = combined_df.reset_index(drop=True); combined_df.head()"
   ]
  },
  {
   "cell_type": "code",
   "execution_count": 27,
   "metadata": {},
   "outputs": [],
   "source": [
    "deduped_df = combined_df.drop_duplicates(subset=['md5'], keep='first') # "
   ]
  },
  {
   "cell_type": "markdown",
   "metadata": {},
   "source": [
    "Midiworld - 90% duplicates with rest  \n",
    "Freemidi - 50% duplicates with rest  \n",
    "LMD - 70% duplicates with rest"
   ]
  },
  {
   "cell_type": "code",
   "execution_count": 28,
   "metadata": {},
   "outputs": [],
   "source": [
    "# from collections import Counter\n",
    "# # No dedups\n",
    "# print(Counter(merged_df.source.values))\n",
    "# # replacing reddit\n",
    "# print(Counter(merged_df.drop_duplicates(subset=['md5'], keep='first').source.values))\n",
    "# # reddit replace else\n",
    "# print(Counter(merged_df.drop_duplicates(subset=['md5'], keep='last').source.values))\n",
    "# # Midiworld - 90% duplicates with rest, \n",
    "# # Freemidi - 50% duplicates with rest,\n",
    "# # LMD - 70% duplicates with rest"
   ]
  },
  {
   "cell_type": "code",
   "execution_count": 29,
   "metadata": {},
   "outputs": [
    {
     "data": {
      "text/plain": [
       "Counter({'hooktheory': 20544,\n",
       "         'freemidi': 5168,\n",
       "         'midiworld': 4109,\n",
       "         'ecomp': 2735,\n",
       "         'cprato': 312,\n",
       "         'classical_piano': 329,\n",
       "         'classical_archives': 14671,\n",
       "         'musescore': 11502,\n",
       "         'wikifonia': 6391,\n",
       "         'lmd': 13568,\n",
       "         'reddit': 98683})"
      ]
     },
     "execution_count": 29,
     "metadata": {},
     "output_type": "execute_result"
    }
   ],
   "source": [
    "from collections import Counter\n",
    "Counter(deduped_df.source.values)"
   ]
  },
  {
   "cell_type": "code",
   "execution_count": 30,
   "metadata": {},
   "outputs": [
    {
     "data": {
      "text/plain": [
       "([(20745, 14),\n",
       "  (5784, 6),\n",
       "  (4711, 6),\n",
       "  (2735, 6),\n",
       "  (314, 6),\n",
       "  (329, 6),\n",
       "  (14671, 6),\n",
       "  (11504, 6),\n",
       "  (6391, 6),\n",
       "  (17243, 6),\n",
       "  (128419, 6)],\n",
       " (212846, 15),\n",
       " (178012, 15))"
      ]
     },
     "execution_count": 30,
     "metadata": {},
     "output_type": "execute_result"
    }
   ],
   "source": [
    "# combined df does not contain hooktheory_c files\n",
    "[df.shape for df in dfs], combined_df.shape, deduped_df.shape"
   ]
  },
  {
   "cell_type": "code",
   "execution_count": 31,
   "metadata": {},
   "outputs": [
    {
     "data": {
      "text/plain": [
       "(198757, 15)"
      ]
     },
     "execution_count": 31,
     "metadata": {},
     "output_type": "execute_result"
    }
   ],
   "source": [
    "hooktheory_c_csv = pd.read_csv(create_paths('hooktheory_c')[-1])\n",
    "out_df = pd.concat([deduped_df, hooktheory_c_csv], sort=False); out_df.shape"
   ]
  },
  {
   "cell_type": "code",
   "execution_count": 32,
   "metadata": {},
   "outputs": [],
   "source": [
    "out_df.to_csv(combined_csv, index=False)"
   ]
  },
  {
   "cell_type": "markdown",
   "metadata": {},
   "source": [
    "### Convert MXL to Midi\n",
    "\n",
    "Makes it easier for us to process in part 2"
   ]
  },
  {
   "cell_type": "code",
   "execution_count": 34,
   "metadata": {},
   "outputs": [
    {
     "name": "stderr",
     "output_type": "stream",
     "text": [
      "/home/ubuntu/anaconda3/envs/musicautobot/lib/python3.7/site-packages/IPython/core/interactiveshell.py:3058: DtypeWarning: Columns (3,5,8,11,13,14) have mixed types. Specify dtype option on import or set low_memory=False.\n",
      "  interactivity=interactivity, compiler=compiler, result=result)\n"
     ]
    },
    {
     "data": {
      "text/plain": [
       "198757"
      ]
     },
     "execution_count": 34,
     "metadata": {},
     "output_type": "execute_result"
    }
   ],
   "source": [
    "df = pd.read_csv(combined_csv); df.head()\n",
    "all_records = df.to_dict(orient='records'); len(all_records)"
   ]
  },
  {
   "cell_type": "code",
   "execution_count": 35,
   "metadata": {},
   "outputs": [],
   "source": [
    "def mxl2midi_func(metadata):\n",
    "    result = metadata.copy()\n",
    "    if not isinstance(result.get('mxl'), str): return result\n",
    "\n",
    "    input_path = version_path/metadata['mxl']\n",
    "    out_file = Path(str(metadata['mxl']).replace('midi_sources/', 'midi_sources/from_mxl/')).with_suffix('.mid')\n",
    "    output_path = version_path/out_file\n",
    "    \n",
    "    if not output_path.exists():\n",
    "        try:\n",
    "            output_path.parent.mkdir(parents=True, exist_ok=True)\n",
    "            stream = file2stream(input_path)\n",
    "            stream.write('midi', fp=output_path)\n",
    "            print('Encoded:', output_path)\n",
    "        except Exception:\n",
    "#             print(traceback.format_exc())\n",
    "            return result\n",
    "        \n",
    "    result['midi'] = out_file\n",
    "    return result"
   ]
  },
  {
   "cell_type": "code",
   "execution_count": 36,
   "metadata": {},
   "outputs": [],
   "source": [
    "def timeout_func(data, seconds):\n",
    "    print(\"Timeout:\", seconds, data.get('mxl'))"
   ]
  },
  {
   "cell_type": "code",
   "execution_count": 37,
   "metadata": {},
   "outputs": [
    {
     "data": {
      "text/html": [
       "\n",
       "    <div>\n",
       "        <style>\n",
       "            /* Turns off some styling */\n",
       "            progress {\n",
       "                /* gets rid of default border in Firefox and Opera. */\n",
       "                border: none;\n",
       "                /* Needs to be in here for Safari polyfill so background images work as expected. */\n",
       "                background-size: auto;\n",
       "            }\n",
       "            .progress-bar-interrupted, .progress-bar-interrupted::-webkit-progress-bar {\n",
       "                background: #F44336;\n",
       "            }\n",
       "        </style>\n",
       "      <progress value='198757' class='' max='198757', style='width:300px; height:20px; vertical-align: middle;'></progress>\n",
       "      100.00% [198757/198757 00:17<00:00]\n",
       "    </div>\n",
       "    "
      ],
      "text/plain": [
       "<IPython.core.display.HTML object>"
      ]
     },
     "metadata": {},
     "output_type": "display_data"
    }
   ],
   "source": [
    "processed = process_all(mxl2midi_func, all_records, timeout=600, timeout_func=timeout_func)"
   ]
  },
  {
   "cell_type": "code",
   "execution_count": 38,
   "metadata": {},
   "outputs": [],
   "source": [
    "# converted = [(p['midi'], p['source']) for p in processed if isinstance(p.get('mxl'), str)]\n",
    "\n",
    "# converted"
   ]
  },
  {
   "cell_type": "code",
   "execution_count": 39,
   "metadata": {},
   "outputs": [
    {
     "name": "stderr",
     "output_type": "stream",
     "text": [
      "/home/ubuntu/anaconda3/envs/musicautobot/lib/python3.7/site-packages/IPython/core/interactiveshell.py:3058: DtypeWarning: Columns (3,4,6,11,13,14) have mixed types. Specify dtype option on import or set low_memory=False.\n",
      "  interactivity=interactivity, compiler=compiler, result=result)\n"
     ]
    },
    {
     "data": {
      "text/html": [
       "<div>\n",
       "<style scoped>\n",
       "    .dataframe tbody tr th:only-of-type {\n",
       "        vertical-align: middle;\n",
       "    }\n",
       "\n",
       "    .dataframe tbody tr th {\n",
       "        vertical-align: top;\n",
       "    }\n",
       "\n",
       "    .dataframe thead th {\n",
       "        text-align: right;\n",
       "    }\n",
       "</style>\n",
       "<table border=\"1\" class=\"dataframe\">\n",
       "  <thead>\n",
       "    <tr style=\"text-align: right;\">\n",
       "      <th></th>\n",
       "      <th>title</th>\n",
       "      <th>midi</th>\n",
       "      <th>source</th>\n",
       "      <th>parts</th>\n",
       "      <th>mxl</th>\n",
       "      <th>ht_time_signature</th>\n",
       "      <th>midi_title</th>\n",
       "      <th>ht_mode</th>\n",
       "      <th>md5</th>\n",
       "      <th>genres</th>\n",
       "      <th>ht_bpm</th>\n",
       "      <th>ht_key</th>\n",
       "      <th>artist</th>\n",
       "      <th>song_url</th>\n",
       "      <th>section</th>\n",
       "    </tr>\n",
       "  </thead>\n",
       "  <tbody>\n",
       "    <tr>\n",
       "      <th>0</th>\n",
       "      <td>yu-gi-oh-theme-song</td>\n",
       "      <td>midi_sources/hooktheory/pianoroll/w/wayne-shar...</td>\n",
       "      <td>hooktheory</td>\n",
       "      <td>intro,chorus</td>\n",
       "      <td>NaN</td>\n",
       "      <td>4.0</td>\n",
       "      <td>yu-gi-oh3</td>\n",
       "      <td>1.0</td>\n",
       "      <td>bf1f29e5ff84e3e93e37fb873bfb590e</td>\n",
       "      <td>NaN</td>\n",
       "      <td>128.0</td>\n",
       "      <td>C</td>\n",
       "      <td>wayne-sharpe</td>\n",
       "      <td>https://www.hooktheory.com/theorytab/view/wayn...</td>\n",
       "      <td>chorus</td>\n",
       "    </tr>\n",
       "    <tr>\n",
       "      <th>1</th>\n",
       "      <td>yu-gi-oh-theme-song</td>\n",
       "      <td>midi_sources/hooktheory/pianoroll/w/wayne-shar...</td>\n",
       "      <td>hooktheory</td>\n",
       "      <td>intro,chorus</td>\n",
       "      <td>NaN</td>\n",
       "      <td>3.0</td>\n",
       "      <td>yu-gi-oh</td>\n",
       "      <td>1.0</td>\n",
       "      <td>055f80ad67f64edb14a85ca8fbfe8c29</td>\n",
       "      <td>NaN</td>\n",
       "      <td>85.0</td>\n",
       "      <td>C</td>\n",
       "      <td>wayne-sharpe</td>\n",
       "      <td>https://www.hooktheory.com/theorytab/view/wayn...</td>\n",
       "      <td>intro</td>\n",
       "    </tr>\n",
       "    <tr>\n",
       "      <th>2</th>\n",
       "      <td>kiefer</td>\n",
       "      <td>midi_sources/hooktheory/pianoroll/w/what-a-day...</td>\n",
       "      <td>hooktheory</td>\n",
       "      <td>chorus</td>\n",
       "      <td>NaN</td>\n",
       "      <td>4.0</td>\n",
       "      <td>kiefer</td>\n",
       "      <td>6.0</td>\n",
       "      <td>197f96f5d181f6ce1e2c5ab04ac1ff87</td>\n",
       "      <td>Jazz</td>\n",
       "      <td>96.0</td>\n",
       "      <td>D</td>\n",
       "      <td>what-a-day</td>\n",
       "      <td>https://www.hooktheory.com/theorytab/view/what...</td>\n",
       "      <td>chorus</td>\n",
       "    </tr>\n",
       "    <tr>\n",
       "      <th>3</th>\n",
       "      <td>senbonzakura</td>\n",
       "      <td>midi_sources/hooktheory/pianoroll/w/whiteflame...</td>\n",
       "      <td>hooktheory</td>\n",
       "      <td>verse,pre-chorus,chorus</td>\n",
       "      <td>NaN</td>\n",
       "      <td>4.0</td>\n",
       "      <td>senbonzakura - pre-Pre-Chorus</td>\n",
       "      <td>6.0</td>\n",
       "      <td>9e7ce13a35f1314423a9a6d5a5287a4a</td>\n",
       "      <td>J-Pop,Pop</td>\n",
       "      <td>152.0</td>\n",
       "      <td>D</td>\n",
       "      <td>whiteflame</td>\n",
       "      <td>https://www.hooktheory.com/theorytab/view/whit...</td>\n",
       "      <td>pre-chorus</td>\n",
       "    </tr>\n",
       "    <tr>\n",
       "      <th>4</th>\n",
       "      <td>senbonzakura</td>\n",
       "      <td>midi_sources/hooktheory/pianoroll/w/whiteflame...</td>\n",
       "      <td>hooktheory</td>\n",
       "      <td>verse,pre-chorus,chorus</td>\n",
       "      <td>NaN</td>\n",
       "      <td>4.0</td>\n",
       "      <td>Senbonzakura</td>\n",
       "      <td>6.0</td>\n",
       "      <td>d5aaf79d0989222f1362f9f46c540a27</td>\n",
       "      <td>J-Pop,Pop</td>\n",
       "      <td>152.0</td>\n",
       "      <td>D</td>\n",
       "      <td>whiteflame</td>\n",
       "      <td>https://www.hooktheory.com/theorytab/view/whit...</td>\n",
       "      <td>verse</td>\n",
       "    </tr>\n",
       "  </tbody>\n",
       "</table>\n",
       "</div>"
      ],
      "text/plain": [
       "                 title                                               midi  \\\n",
       "0  yu-gi-oh-theme-song  midi_sources/hooktheory/pianoroll/w/wayne-shar...   \n",
       "1  yu-gi-oh-theme-song  midi_sources/hooktheory/pianoroll/w/wayne-shar...   \n",
       "2               kiefer  midi_sources/hooktheory/pianoroll/w/what-a-day...   \n",
       "3         senbonzakura  midi_sources/hooktheory/pianoroll/w/whiteflame...   \n",
       "4         senbonzakura  midi_sources/hooktheory/pianoroll/w/whiteflame...   \n",
       "\n",
       "       source                    parts  mxl  ht_time_signature  \\\n",
       "0  hooktheory             intro,chorus  NaN                4.0   \n",
       "1  hooktheory             intro,chorus  NaN                3.0   \n",
       "2  hooktheory                   chorus  NaN                4.0   \n",
       "3  hooktheory  verse,pre-chorus,chorus  NaN                4.0   \n",
       "4  hooktheory  verse,pre-chorus,chorus  NaN                4.0   \n",
       "\n",
       "                      midi_title  ht_mode                               md5  \\\n",
       "0                      yu-gi-oh3      1.0  bf1f29e5ff84e3e93e37fb873bfb590e   \n",
       "1                       yu-gi-oh      1.0  055f80ad67f64edb14a85ca8fbfe8c29   \n",
       "2                         kiefer      6.0  197f96f5d181f6ce1e2c5ab04ac1ff87   \n",
       "3  senbonzakura - pre-Pre-Chorus      6.0  9e7ce13a35f1314423a9a6d5a5287a4a   \n",
       "4                   Senbonzakura      6.0  d5aaf79d0989222f1362f9f46c540a27   \n",
       "\n",
       "      genres  ht_bpm ht_key        artist  \\\n",
       "0        NaN   128.0      C  wayne-sharpe   \n",
       "1        NaN    85.0      C  wayne-sharpe   \n",
       "2       Jazz    96.0      D    what-a-day   \n",
       "3  J-Pop,Pop   152.0      D    whiteflame   \n",
       "4  J-Pop,Pop   152.0      D    whiteflame   \n",
       "\n",
       "                                            song_url     section  \n",
       "0  https://www.hooktheory.com/theorytab/view/wayn...      chorus  \n",
       "1  https://www.hooktheory.com/theorytab/view/wayn...       intro  \n",
       "2  https://www.hooktheory.com/theorytab/view/what...      chorus  \n",
       "3  https://www.hooktheory.com/theorytab/view/whit...  pre-chorus  \n",
       "4  https://www.hooktheory.com/theorytab/view/whit...       verse  "
      ]
     },
     "execution_count": 39,
     "metadata": {},
     "output_type": "execute_result"
    }
   ],
   "source": [
    "arr2csv(processed, all_csv)\n",
    "df = pd.read_csv(all_csv); df.head()"
   ]
  },
  {
   "cell_type": "code",
   "execution_count": 40,
   "metadata": {},
   "outputs": [
    {
     "data": {
      "text/plain": [
       "(198757, 15)"
      ]
     },
     "execution_count": 40,
     "metadata": {},
     "output_type": "execute_result"
    }
   ],
   "source": [
    "df.shape"
   ]
  }
 ],
 "metadata": {
  "kernelspec": {
   "display_name": "Python 3",
   "language": "python",
   "name": "python3"
  },
  "language_info": {
   "codemirror_mode": {
    "name": "ipython",
    "version": 3
   },
   "file_extension": ".py",
   "mimetype": "text/x-python",
   "name": "python",
   "nbconvert_exporter": "python",
   "pygments_lexer": "ipython3",
   "version": "3.7.4"
  }
 },
 "nbformat": 4,
 "nbformat_minor": 2
}
