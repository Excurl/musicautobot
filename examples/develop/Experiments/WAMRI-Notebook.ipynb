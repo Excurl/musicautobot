{
 "cells": [
  {
   "cell_type": "code",
   "execution_count": 3,
   "metadata": {},
   "outputs": [],
   "source": [
    "%reload_ext autoreload\n",
    "%autoreload 2\n",
    "%matplotlib inline"
   ]
  },
  {
   "cell_type": "code",
   "execution_count": 4,
   "metadata": {},
   "outputs": [],
   "source": [
    "import os\n",
    "os.chdir('../../')"
   ]
  },
  {
   "cell_type": "code",
   "execution_count": 5,
   "metadata": {},
   "outputs": [
    {
     "name": "stderr",
     "output_type": "stream",
     "text": [
      "/Users/andrewshaw/miniconda3/envs/midi/lib/python3.7/site-packages/requests/__init__.py:91: RequestsDependencyWarning: urllib3 (1.25.3) or chardet (3.0.4) doesn't match a supported version!\n",
      "  RequestsDependencyWarning)\n"
     ]
    }
   ],
   "source": [
    "from musicautobot.numpy_encode import *\n",
    "from musicautobot.music_transformer import *\n",
    "from music21 import *"
   ]
  },
  {
   "cell_type": "code",
   "execution_count": 6,
   "metadata": {},
   "outputs": [],
   "source": [
    "ad = Path('../medium_post_assets')"
   ]
  },
  {
   "cell_type": "markdown",
   "metadata": {},
   "source": [
    "## Explain Like I'm 5..."
   ]
  },
  {
   "cell_type": "code",
   "execution_count": 14,
   "metadata": {},
   "outputs": [],
   "source": [
    "\n",
    "# Melody\n",
    "m = music21.stream.Part()\n",
    "\n",
    "notes = ['C4', 'D4', 'E4', 'F4', 'G4']\n",
    "i = music21.instrument.Piano()\n",
    "i.instrumentName = 'Melody'\n",
    "m.insert(i)\n",
    "# m.insert(music21.note.Rest())\n",
    "\n",
    "for n in notes:\n",
    "    if isinstance(n, tuple):\n",
    "        m.append(music21.note.Note(n[0], type=n[1]))\n",
    "    else:\n",
    "        m.append(music21.note.Note(n))"
   ]
  },
  {
   "cell_type": "code",
   "execution_count": 15,
   "metadata": {},
   "outputs": [
    {
     "data": {
      "image/png": "[encoded data removed]",
      "text/plain": [
       "<IPython.core.display.Image object>"
      ]
     },
     "metadata": {
      "image/png": {
       "height": 50,
       "width": 295
      }
     },
     "output_type": "display_data"
    }
   ],
   "source": [
    "m.show()"
   ]
  },
  {
   "cell_type": "code",
   "execution_count": 16,
   "metadata": {},
   "outputs": [
    {
     "data": {
      "text/html": [
       "\n",
       "                <div id='midiPlayerDiv585'></div>\n",
       "                <link rel=\"stylesheet\" href=\"//cuthbertLab.github.io/music21j/css/m21.css\"\n",
       "                    type=\"text/css\" />\n",
       "                <script>\n",
       "                require.config({\n",
       "                    paths: {'music21': '//cuthbertLab.github.io/music21j/src/music21'}\n",
       "                });\n",
       "                require(['music21'], function() {\n",
       "                               mp = new music21.miditools.MidiPlayer();\n",
       "                               mp.addPlayer('#midiPlayerDiv585');\n",
       "                               mp.base64Load('data:audio/midi;base64,TVRoZAAAAAYAAQABBABNVHJrAAAARgD/AwZNZWxvZHkAwAAA4ABAAMAAAJA8WogAgDwAAJA+WogAgD4AAJBAWogAgEAAAJBBWogAgEEAAJBDWogAgEMAiAD/LwA=');\n",
       "                        });\n",
       "                </script>"
      ],
      "text/plain": [
       "<IPython.core.display.HTML object>"
      ]
     },
     "metadata": {},
     "output_type": "display_data"
    }
   ],
   "source": [
    "m.show('midi')"
   ]
  },
  {
   "cell_type": "code",
   "execution_count": 22,
   "metadata": {},
   "outputs": [],
   "source": [
    "item = MusicItem.from_stream(music21.stream.Score([m]), vocab=MusicVocab.create())"
   ]
  },
  {
   "cell_type": "code",
   "execution_count": 23,
   "metadata": {},
   "outputs": [
    {
     "data": {
      "text/plain": [
       "array([  0,   1,  69, 141,   8, 141,  71, 141,   8, 141,  73, 141,   8, 141,  74, 141,   8, 141,  76, 141])"
      ]
     },
     "execution_count": 23,
     "metadata": {},
     "output_type": "execute_result"
    }
   ],
   "source": [
    "item.data"
   ]
  },
  {
   "cell_type": "markdown",
   "metadata": {},
   "source": [
    "## Explain Like I'm 10..."
   ]
  },
  {
   "cell_type": "code",
   "execution_count": 38,
   "metadata": {},
   "outputs": [],
   "source": [
    "\n",
    "# Melody\n",
    "m = music21.stream.Part()\n",
    "\n",
    "notes = ['E4', 'D4', 'C4', 'D4']\n",
    "i = music21.instrument.Piano()\n",
    "i.instrumentName = 'Melody'\n",
    "m.insert(i)\n",
    "# m.insert(music21.note.Rest())\n",
    "\n",
    "for n in notes:\n",
    "    if isinstance(n, tuple):\n",
    "        m.append(music21.note.Note(n[0], type=n[1]))\n",
    "    else:\n",
    "        m.append(music21.note.Note(n))"
   ]
  },
  {
   "cell_type": "code",
   "execution_count": 39,
   "metadata": {},
   "outputs": [
    {
     "data": {
      "image/png": "[encoded data removed]",
      "text/plain": [
       "<IPython.core.display.Image object>"
      ]
     },
     "metadata": {
      "image/png": {
       "height": 50,
       "width": 238
      }
     },
     "output_type": "display_data"
    }
   ],
   "source": [
    "m.show()"
   ]
  },
  {
   "cell_type": "code",
   "execution_count": 13,
   "metadata": {},
   "outputs": [
    {
     "data": {
      "text/html": [
       "\n",
       "                <div id='midiPlayerDiv585'></div>\n",
       "                <link rel=\"stylesheet\" href=\"//cuthbertLab.github.io/music21j/css/m21.css\"\n",
       "                    type=\"text/css\" />\n",
       "                <script>\n",
       "                require.config({\n",
       "                    paths: {'music21': '//cuthbertLab.github.io/music21j/src/music21'}\n",
       "                });\n",
       "                require(['music21'], function() {\n",
       "                               mp = new music21.miditools.MidiPlayer();\n",
       "                               mp.addPlayer('#midiPlayerDiv585');\n",
       "                               mp.base64Load('data:audio/midi;base64,TVRoZAAAAAYAAQABBABNVHJrAAAAPgD/AwZNZWxvZHkAwAAA4ABAAMAAiACQQFqIAIBAAACQPlqIAIA+AACQPFqIAIA8AACQPlqIAIA+AIgA/y8A');\n",
       "                        });\n",
       "                </script>"
      ],
      "text/plain": [
       "<IPython.core.display.HTML object>"
      ]
     },
     "metadata": {},
     "output_type": "display_data"
    }
   ],
   "source": [
    "m.show('midi')"
   ]
  },
  {
   "cell_type": "code",
   "execution_count": 36,
   "metadata": {},
   "outputs": [],
   "source": [
    "\n",
    "# Melody\n",
    "m = music21.stream.Part()\n",
    "\n",
    "notes = ['E4', 'D4', 'C4', 'D4', 'E4', 'E4', ('E4', 'half')]\n",
    "i = music21.instrument.Piano()\n",
    "i.instrumentName = 'Melody'\n",
    "m.insert(i)\n",
    "# m.insert(music21.note.Rest())\n",
    "\n",
    "for n in notes:\n",
    "    if isinstance(n, tuple):\n",
    "        m.append(music21.note.Note(n[0], type=n[1]))\n",
    "    else:\n",
    "        m.append(music21.note.Note(n))"
   ]
  },
  {
   "cell_type": "code",
   "execution_count": 37,
   "metadata": {},
   "outputs": [
    {
     "data": {
      "image/png": "[encoded data removed]",
      "text/plain": [
       "<IPython.core.display.Image object>"
      ]
     },
     "metadata": {
      "image/png": {
       "height": 50,
       "width": 346
      }
     },
     "output_type": "display_data"
    }
   ],
   "source": [
    "m.show()"
   ]
  },
  {
   "cell_type": "code",
   "execution_count": 35,
   "metadata": {},
   "outputs": [
    {
     "data": {
      "text/html": [
       "\n",
       "                <div id='midiPlayerDiv2255'></div>\n",
       "                <link rel=\"stylesheet\" href=\"//cuthbertLab.github.io/music21j/css/m21.css\"\n",
       "                    type=\"text/css\" />\n",
       "                <script>\n",
       "                require.config({\n",
       "                    paths: {'music21': '//cuthbertLab.github.io/music21j/src/music21'}\n",
       "                });\n",
       "                require(['music21'], function() {\n",
       "                               mp = new music21.miditools.MidiPlayer();\n",
       "                               mp.addPlayer('#midiPlayerDiv2255');\n",
       "                               mp.base64Load('data:audio/midi;base64,TVRoZAAAAAYAAQABBABNVHJrAAAAWQD/AwZNZWxvZHkAwAAA4ABAAMAAiACQQFqIAIBAAACQPlqIAIA+AACQPFqIAIA8AACQPlqIAIA+AACQQFqIAIBAAACQQFqIAIBAAACQQFqQAIBAAIgA/y8A');\n",
       "                        });\n",
       "                </script>"
      ],
      "text/plain": [
       "<IPython.core.display.HTML object>"
      ]
     },
     "metadata": {},
     "output_type": "display_data"
    }
   ],
   "source": [
    "m.show('midi')"
   ]
  },
  {
   "cell_type": "markdown",
   "metadata": {},
   "source": [
    "## Explain Like I'm 20"
   ]
  },
  {
   "cell_type": "code",
   "execution_count": 18,
   "metadata": {},
   "outputs": [
    {
     "data": {
      "image/png": "[encoded data removed]",
      "text/plain": [
       "<IPython.core.display.Image object>"
      ]
     },
     "metadata": {
      "image/png": {
       "height": 69,
       "width": 748
      }
     },
     "output_type": "display_data"
    }
   ],
   "source": [
    "# Let's create a partial progression I-V-vi\n",
    "c = music21.stream.Part()\n",
    "c.insert(music21.note.Rest())\n",
    "\n",
    "c.append(music21.chord.Chord('C4 E4 G4', type='whole')) # I\n",
    "c.append(music21.chord.Chord('F3 A3 C4', type='whole')) # IV\n",
    "c.append(music21.chord.Chord('G3 B3 D4', type='whole')) # V\n",
    "# c.append(music21.chord.Chord('A3 C4 E4', type='whole')) # vi\n",
    "\n",
    "c.show()\n",
    "# chord_item = MusicItem.from_stream(s, vocab)\n",
    "# chord_item.show()"
   ]
  },
  {
   "cell_type": "code",
   "execution_count": 19,
   "metadata": {},
   "outputs": [
    {
     "data": {
      "text/html": [
       "\n",
       "                <div id='midiPlayerDiv1089'></div>\n",
       "                <link rel=\"stylesheet\" href=\"//cuthbertLab.github.io/music21j/css/m21.css\"\n",
       "                    type=\"text/css\" />\n",
       "                <script>\n",
       "                require.config({\n",
       "                    paths: {'music21': '//cuthbertLab.github.io/music21j/src/music21'}\n",
       "                });\n",
       "                require(['music21'], function() {\n",
       "                               mp = new music21.miditools.MidiPlayer();\n",
       "                               mp.addPlayer('#midiPlayerDiv1089');\n",
       "                               mp.base64Load('data:audio/midi;base64,TVRoZAAAAAYAAQABBABNVHJrAAAAcgD/AwAA4ABAiACQPFoAkEBaAJBDWqAAgDwAAIBAAACAQwAAkDVaAJA5WgCQPFqgAIA1AACAOQAAgDwAAJA3WgCQO1oAkD5aoACANwAAgDsAAIA+AACQOVoAkDxaAJBAWqAAgDkAAIA8AACAQACIAP8vAA==');\n",
       "                        });\n",
       "                </script>"
      ],
      "text/plain": [
       "<IPython.core.display.HTML object>"
      ]
     },
     "metadata": {},
     "output_type": "display_data"
    }
   ],
   "source": [
    "c.show('midi')"
   ]
  },
  {
   "cell_type": "markdown",
   "metadata": {},
   "source": []
  },
  {
   "cell_type": "code",
   "execution_count": 31,
   "metadata": {},
   "outputs": [],
   "source": [
    "# Chords\n",
    "c = music21.stream.Part()\n",
    "i = music21.instrument.Piano()\n",
    "i.instrumentName = 'Chords'\n",
    "\n",
    "c.append(i)\n",
    "c.append(music21.chord.Chord('A2 E3', type='half')) # vi power\n",
    "c.append(music21.chord.Chord('C3 G3', type='half')) # I power\n",
    "\n",
    "# Melody\n",
    "m = music21.stream.Part()\n",
    "\n",
    "notes = ['C4', 'D4', ('E4', 'half')]\n",
    "i = music21.instrument.Piano()\n",
    "i.instrumentName = 'Melody'\n",
    "m.insert(i)\n",
    "\n",
    "for n in notes:\n",
    "    if isinstance(n, tuple):\n",
    "        m.append(music21.note.Note(n[0], type=n[1]))\n",
    "    else:\n",
    "        m.append(music21.note.Note(n))"
   ]
  },
  {
   "cell_type": "code",
   "execution_count": 32,
   "metadata": {},
   "outputs": [],
   "source": [
    "s = music21.stream.Score([m, c])"
   ]
  },
  {
   "cell_type": "code",
   "execution_count": 33,
   "metadata": {},
   "outputs": [
    {
     "data": {
      "image/png": "[encoded data removed]",
      "text/plain": [
       "<IPython.core.display.Image object>"
      ]
     },
     "metadata": {
      "image/png": {
       "height": 122,
       "width": 346
      }
     },
     "output_type": "display_data"
    }
   ],
   "source": [
    "s.show()"
   ]
  },
  {
   "cell_type": "code",
   "execution_count": 34,
   "metadata": {},
   "outputs": [
    {
     "data": {
      "text/plain": [
       "'data/example.mid'"
      ]
     },
     "execution_count": 34,
     "metadata": {},
     "output_type": "execute_result"
    }
   ],
   "source": [
    "s.write('midi', 'data/example.mid')"
   ]
  },
  {
   "cell_type": "code",
   "execution_count": 75,
   "metadata": {},
   "outputs": [
    {
     "data": {
      "text/plain": [
       "PosixPath('../medium_post_assets/example_chords.mid')"
      ]
     },
     "execution_count": 75,
     "metadata": {},
     "output_type": "execute_result"
    }
   ],
   "source": [
    "c.write('midi', ad/'example_chords.mid')"
   ]
  },
  {
   "cell_type": "code",
   "execution_count": 77,
   "metadata": {},
   "outputs": [
    {
     "data": {
      "text/plain": [
       "PosixPath('../medium_post_assets/example_melody.mid')"
      ]
     },
     "execution_count": 77,
     "metadata": {},
     "output_type": "execute_result"
    }
   ],
   "source": [
    "m.write('midi', ad/'example_melody.mid')"
   ]
  },
  {
   "cell_type": "code",
   "execution_count": 35,
   "metadata": {},
   "outputs": [
    {
     "data": {
      "text/plain": [
       "True"
      ]
     },
     "execution_count": 35,
     "metadata": {},
     "output_type": "execute_result"
    }
   ],
   "source": [
    "Path('data/example.mid').exists()"
   ]
  },
  {
   "cell_type": "code",
   "execution_count": 36,
   "metadata": {},
   "outputs": [],
   "source": [
    "item = MusicItem.from_file('data/example.mid', MusicVocab.create())"
   ]
  },
  {
   "cell_type": "code",
   "execution_count": 37,
   "metadata": {},
   "outputs": [
    {
     "data": {
      "text/plain": [
       "'xxbos xxpad n60 d4 n52 d8 n45 d8 xxsep d4 n62 d4 xxsep d4 n64 d8 n55 d8 n48 d8'"
      ]
     },
     "execution_count": 37,
     "metadata": {},
     "output_type": "execute_result"
    }
   ],
   "source": [
    "item.to_text()"
   ]
  },
  {
   "cell_type": "code",
   "execution_count": 40,
   "metadata": {},
   "outputs": [
    {
     "data": {
      "text/plain": [
       "{'xxbos': 0,\n",
       " 'xxpad': 1,\n",
       " 'xxeos': 2,\n",
       " 'xxs2scls': 3,\n",
       " 'xxmask': 4,\n",
       " 'xxcseq': 5,\n",
       " 'xxmseq': 6,\n",
       " 'xxnscls': 7,\n",
       " 'xxsep': 8,\n",
       " 'n0': 9,\n",
       " 'n1': 10,\n",
       " 'n2': 11,\n",
       " 'n3': 12,\n",
       " 'n4': 13,\n",
       " 'n5': 14,\n",
       " 'n6': 15,\n",
       " 'n7': 16,\n",
       " 'n8': 17,\n",
       " 'n9': 18,\n",
       " 'n10': 19,\n",
       " 'n11': 20,\n",
       " 'n12': 21,\n",
       " 'n13': 22,\n",
       " 'n14': 23,\n",
       " 'n15': 24,\n",
       " 'n16': 25,\n",
       " 'n17': 26,\n",
       " 'n18': 27,\n",
       " 'n19': 28,\n",
       " 'n20': 29,\n",
       " 'n21': 30,\n",
       " 'n22': 31,\n",
       " 'n23': 32,\n",
       " 'n24': 33,\n",
       " 'n25': 34,\n",
       " 'n26': 35,\n",
       " 'n27': 36,\n",
       " 'n28': 37,\n",
       " 'n29': 38,\n",
       " 'n30': 39,\n",
       " 'n31': 40,\n",
       " 'n32': 41,\n",
       " 'n33': 42,\n",
       " 'n34': 43,\n",
       " 'n35': 44,\n",
       " 'n36': 45,\n",
       " 'n37': 46,\n",
       " 'n38': 47,\n",
       " 'n39': 48,\n",
       " 'n40': 49,\n",
       " 'n41': 50,\n",
       " 'n42': 51,\n",
       " 'n43': 52,\n",
       " 'n44': 53,\n",
       " 'n45': 54,\n",
       " 'n46': 55,\n",
       " 'n47': 56,\n",
       " 'n48': 57,\n",
       " 'n49': 58,\n",
       " 'n50': 59,\n",
       " 'n51': 60,\n",
       " 'n52': 61,\n",
       " 'n53': 62,\n",
       " 'n54': 63,\n",
       " 'n55': 64,\n",
       " 'n56': 65,\n",
       " 'n57': 66,\n",
       " 'n58': 67,\n",
       " 'n59': 68,\n",
       " 'n60': 69,\n",
       " 'n61': 70,\n",
       " 'n62': 71,\n",
       " 'n63': 72,\n",
       " 'n64': 73,\n",
       " 'n65': 74,\n",
       " 'n66': 75,\n",
       " 'n67': 76,\n",
       " 'n68': 77,\n",
       " 'n69': 78,\n",
       " 'n70': 79,\n",
       " 'n71': 80,\n",
       " 'n72': 81,\n",
       " 'n73': 82,\n",
       " 'n74': 83,\n",
       " 'n75': 84,\n",
       " 'n76': 85,\n",
       " 'n77': 86,\n",
       " 'n78': 87,\n",
       " 'n79': 88,\n",
       " 'n80': 89,\n",
       " 'n81': 90,\n",
       " 'n82': 91,\n",
       " 'n83': 92,\n",
       " 'n84': 93,\n",
       " 'n85': 94,\n",
       " 'n86': 95,\n",
       " 'n87': 96,\n",
       " 'n88': 97,\n",
       " 'n89': 98,\n",
       " 'n90': 99,\n",
       " 'n91': 100,\n",
       " 'n92': 101,\n",
       " 'n93': 102,\n",
       " 'n94': 103,\n",
       " 'n95': 104,\n",
       " 'n96': 105,\n",
       " 'n97': 106,\n",
       " 'n98': 107,\n",
       " 'n99': 108,\n",
       " 'n100': 109,\n",
       " 'n101': 110,\n",
       " 'n102': 111,\n",
       " 'n103': 112,\n",
       " 'n104': 113,\n",
       " 'n105': 114,\n",
       " 'n106': 115,\n",
       " 'n107': 116,\n",
       " 'n108': 117,\n",
       " 'n109': 118,\n",
       " 'n110': 119,\n",
       " 'n111': 120,\n",
       " 'n112': 121,\n",
       " 'n113': 122,\n",
       " 'n114': 123,\n",
       " 'n115': 124,\n",
       " 'n116': 125,\n",
       " 'n117': 126,\n",
       " 'n118': 127,\n",
       " 'n119': 128,\n",
       " 'n120': 129,\n",
       " 'n121': 130,\n",
       " 'n122': 131,\n",
       " 'n123': 132,\n",
       " 'n124': 133,\n",
       " 'n125': 134,\n",
       " 'n126': 135,\n",
       " 'n127': 136,\n",
       " 'd0': 137,\n",
       " 'd1': 138,\n",
       " 'd2': 139,\n",
       " 'd3': 140,\n",
       " 'd4': 141,\n",
       " 'd5': 142,\n",
       " 'd6': 143,\n",
       " 'd7': 144,\n",
       " 'd8': 145,\n",
       " 'd9': 146,\n",
       " 'd10': 147,\n",
       " 'd11': 148,\n",
       " 'd12': 149,\n",
       " 'd13': 150,\n",
       " 'd14': 151,\n",
       " 'd15': 152,\n",
       " 'd16': 153,\n",
       " 'd17': 154,\n",
       " 'd18': 155,\n",
       " 'd19': 156,\n",
       " 'd20': 157,\n",
       " 'd21': 158,\n",
       " 'd22': 159,\n",
       " 'd23': 160,\n",
       " 'd24': 161,\n",
       " 'd25': 162,\n",
       " 'd26': 163,\n",
       " 'd27': 164,\n",
       " 'd28': 165,\n",
       " 'd29': 166,\n",
       " 'd30': 167,\n",
       " 'd31': 168,\n",
       " 'd32': 169,\n",
       " 'd33': 170,\n",
       " 'd34': 171,\n",
       " 'd35': 172,\n",
       " 'd36': 173,\n",
       " 'd37': 174,\n",
       " 'd38': 175,\n",
       " 'd39': 176,\n",
       " 'd40': 177,\n",
       " 'd41': 178,\n",
       " 'd42': 179,\n",
       " 'd43': 180,\n",
       " 'd44': 181,\n",
       " 'd45': 182,\n",
       " 'd46': 183,\n",
       " 'd47': 184,\n",
       " 'd48': 185,\n",
       " 'd49': 186,\n",
       " 'd50': 187,\n",
       " 'd51': 188,\n",
       " 'd52': 189,\n",
       " 'd53': 190,\n",
       " 'd54': 191,\n",
       " 'd55': 192,\n",
       " 'd56': 193,\n",
       " 'd57': 194,\n",
       " 'd58': 195,\n",
       " 'd59': 196,\n",
       " 'd60': 197,\n",
       " 'd61': 198,\n",
       " 'd62': 199,\n",
       " 'd63': 200,\n",
       " 'd64': 201,\n",
       " 'd65': 202,\n",
       " 'd66': 203,\n",
       " 'd67': 204,\n",
       " 'd68': 205,\n",
       " 'd69': 206,\n",
       " 'd70': 207,\n",
       " 'd71': 208,\n",
       " 'd72': 209,\n",
       " 'd73': 210,\n",
       " 'd74': 211,\n",
       " 'd75': 212,\n",
       " 'd76': 213,\n",
       " 'd77': 214,\n",
       " 'd78': 215,\n",
       " 'd79': 216,\n",
       " 'd80': 217,\n",
       " 'd81': 218,\n",
       " 'd82': 219,\n",
       " 'd83': 220,\n",
       " 'd84': 221,\n",
       " 'd85': 222,\n",
       " 'd86': 223,\n",
       " 'd87': 224,\n",
       " 'd88': 225,\n",
       " 'd89': 226,\n",
       " 'd90': 227,\n",
       " 'd91': 228,\n",
       " 'd92': 229,\n",
       " 'd93': 230,\n",
       " 'd94': 231,\n",
       " 'd95': 232,\n",
       " 'd96': 233,\n",
       " 'd97': 234,\n",
       " 'd98': 235,\n",
       " 'd99': 236,\n",
       " 'd100': 237,\n",
       " 'd101': 238,\n",
       " 'd102': 239,\n",
       " 'd103': 240,\n",
       " 'd104': 241,\n",
       " 'd105': 242,\n",
       " 'd106': 243,\n",
       " 'd107': 244,\n",
       " 'd108': 245,\n",
       " 'd109': 246,\n",
       " 'd110': 247,\n",
       " 'd111': 248,\n",
       " 'd112': 249,\n",
       " 'd113': 250,\n",
       " 'd114': 251,\n",
       " 'd115': 252,\n",
       " 'd116': 253,\n",
       " 'd117': 254,\n",
       " 'd118': 255,\n",
       " 'd119': 256,\n",
       " 'd120': 257,\n",
       " 'd121': 258,\n",
       " 'd122': 259,\n",
       " 'd123': 260,\n",
       " 'd124': 261,\n",
       " 'd125': 262,\n",
       " 'd126': 263,\n",
       " 'd127': 264,\n",
       " 'd128': 265,\n",
       " 'd129': 266,\n",
       " 'd130': 267,\n",
       " 'd131': 268,\n",
       " 'd132': 269,\n",
       " 'd133': 270,\n",
       " 'd134': 271,\n",
       " 'd135': 272,\n",
       " 'd136': 273,\n",
       " 'd137': 274,\n",
       " 'd138': 275,\n",
       " 'd139': 276,\n",
       " 'd140': 277,\n",
       " 'd141': 278,\n",
       " 'd142': 279,\n",
       " 'd143': 280,\n",
       " 'd144': 281,\n",
       " 'd145': 282,\n",
       " 'd146': 283,\n",
       " 'd147': 284,\n",
       " 'd148': 285,\n",
       " 'd149': 286,\n",
       " 'd150': 287,\n",
       " 'd151': 288,\n",
       " 'd152': 289,\n",
       " 'd153': 290,\n",
       " 'd154': 291,\n",
       " 'd155': 292,\n",
       " 'd156': 293,\n",
       " 'd157': 294,\n",
       " 'd158': 295,\n",
       " 'd159': 296,\n",
       " 'd160': 297,\n",
       " 'mt0': 298,\n",
       " 'mt1': 299,\n",
       " 'mt2': 300,\n",
       " 'mt3': 301,\n",
       " 'mt4': 302,\n",
       " 'mt5': 303,\n",
       " 'mt6': 304,\n",
       " 'mt7': 305,\n",
       " 'mt8': 306,\n",
       " 'mt9': 307,\n",
       " 'dummy0': 308,\n",
       " 'dummy1': 309,\n",
       " 'dummy2': 310,\n",
       " 'dummy3': 311}"
      ]
     },
     "execution_count": 40,
     "metadata": {},
     "output_type": "execute_result"
    }
   ],
   "source": [
    "item.vocab.stoi"
   ]
  },
  {
   "cell_type": "code",
   "execution_count": 39,
   "metadata": {},
   "outputs": [
    {
     "data": {
      "text/plain": [
       "array([  0,   1,  69, 141,  61, 145,  54, 145,   8, 141,  71, 141,   8, 141,  73, 145,  64, 145,  57, 145])"
      ]
     },
     "execution_count": 39,
     "metadata": {},
     "output_type": "execute_result"
    }
   ],
   "source": [
    "item.data"
   ]
  },
  {
   "cell_type": "code",
   "execution_count": 68,
   "metadata": {},
   "outputs": [
    {
     "data": {
      "image/png": "[encoded data removed]",
      "text/plain": [
       "<IPython.core.display.Image object>"
      ]
     },
     "metadata": {
      "image/png": {
       "height": 122,
       "width": 319
      }
     },
     "output_type": "display_data"
    }
   ],
   "source": [
    "item.stream.show()"
   ]
  },
  {
   "cell_type": "code",
   "execution_count": 69,
   "metadata": {},
   "outputs": [
    {
     "data": {
      "image/png": "[encoded data removed]",
      "text/plain": [
       "<Figure size 720x432 with 1 Axes>"
      ]
     },
     "metadata": {
      "image/png": {
       "height": 382,
       "width": 586
      }
     },
     "output_type": "display_data"
    }
   ],
   "source": [
    "item.stream.plot()"
   ]
  },
  {
   "cell_type": "code",
   "execution_count": 70,
   "metadata": {},
   "outputs": [
    {
     "data": {
      "text/plain": [
       "<MidiFile 2 tracks\n",
       "  <MidiTrack 0 -- 22 events\n",
       "    <MidiEvent DeltaTime, t=0, track=0, channel=None>\n",
       "    <MidiEvent SEQUENCE_TRACK_NAME, t=None, track=0, channel=None, data=b'Melody'>\n",
       "    <MidiEvent DeltaTime, t=0, track=0, channel=None>\n",
       "    <MidiEvent PROGRAM_CHANGE, t=None, track=0, channel=1, data=0>\n",
       "    <MidiEvent DeltaTime, t=0, track=0, channel=None>\n",
       "    <MidiEvent PITCH_BEND, t=None, track=0, channel=1, parameter1=0, parameter2=64>\n",
       "    <MidiEvent DeltaTime, t=0, track=0, channel=None>\n",
       "    <MidiEvent PROGRAM_CHANGE, t=None, track=0, channel=1, data=0>\n",
       "    <MidiEvent DeltaTime, t=0, track=0, channel=None>\n",
       "    <MidiEvent NOTE_ON, t=None, track=0, channel=1, pitch=60, velocity=90>\n",
       "    <MidiEvent DeltaTime, t=1024, track=0, channel=None>\n",
       "    <MidiEvent NOTE_OFF, t=None, track=0, channel=1, pitch=60, velocity=0>\n",
       "    <MidiEvent DeltaTime, t=0, track=0, channel=None>\n",
       "    <MidiEvent NOTE_ON, t=None, track=0, channel=1, pitch=62, velocity=90>\n",
       "    <MidiEvent DeltaTime, t=1024, track=0, channel=None>\n",
       "    <MidiEvent NOTE_OFF, t=None, track=0, channel=1, pitch=62, velocity=0>\n",
       "    <MidiEvent DeltaTime, t=0, track=0, channel=None>\n",
       "    <MidiEvent NOTE_ON, t=None, track=0, channel=1, pitch=64, velocity=90>\n",
       "    <MidiEvent DeltaTime, t=2048, track=0, channel=None>\n",
       "    <MidiEvent NOTE_OFF, t=None, track=0, channel=1, pitch=64, velocity=0>\n",
       "    <MidiEvent DeltaTime, t=1024, track=0, channel=None>\n",
       "    <MidiEvent END_OF_TRACK, t=None, track=0, channel=None, data=b''>\n",
       "  >\n",
       "  <MidiTrack 1 -- 26 events\n",
       "    <MidiEvent DeltaTime, t=0, track=1, channel=None>\n",
       "    <MidiEvent SEQUENCE_TRACK_NAME, t=None, track=1, channel=None, data=b'Chords'>\n",
       "    <MidiEvent DeltaTime, t=0, track=1, channel=None>\n",
       "    <MidiEvent PROGRAM_CHANGE, t=None, track=1, channel=1, data=0>\n",
       "    <MidiEvent DeltaTime, t=0, track=1, channel=None>\n",
       "    <MidiEvent PITCH_BEND, t=None, track=1, channel=1, parameter1=0, parameter2=64>\n",
       "    <MidiEvent DeltaTime, t=0, track=1, channel=None>\n",
       "    <MidiEvent PROGRAM_CHANGE, t=None, track=1, channel=1, data=0>\n",
       "    <MidiEvent DeltaTime, t=0, track=1, channel=None>\n",
       "    <MidiEvent NOTE_ON, t=None, track=1, channel=1, pitch=45, velocity=90>\n",
       "    <MidiEvent DeltaTime, t=0, track=1, channel=None>\n",
       "    <MidiEvent NOTE_ON, t=None, track=1, channel=1, pitch=52, velocity=90>\n",
       "    <MidiEvent DeltaTime, t=2048, track=1, channel=None>\n",
       "    <MidiEvent NOTE_OFF, t=None, track=1, channel=1, pitch=45, velocity=0>\n",
       "    <MidiEvent DeltaTime, t=0, track=1, channel=None>\n",
       "    <MidiEvent NOTE_OFF, t=None, track=1, channel=1, pitch=52, velocity=0>\n",
       "    <MidiEvent DeltaTime, t=0, track=1, channel=None>\n",
       "    <MidiEvent NOTE_ON, t=None, track=1, channel=1, pitch=48, velocity=90>\n",
       "    <MidiEvent DeltaTime, t=0, track=1, channel=None>\n",
       "    <MidiEvent NOTE_ON, t=None, track=1, channel=1, pitch=55, velocity=90>\n",
       "    <MidiEvent DeltaTime, t=2048, track=1, channel=None>\n",
       "    <MidiEvent NOTE_OFF, t=None, track=1, channel=1, pitch=48, velocity=0>\n",
       "    <MidiEvent DeltaTime, t=0, track=1, channel=None>\n",
       "    <MidiEvent NOTE_OFF, t=None, track=1, channel=1, pitch=55, velocity=0>\n",
       "    <MidiEvent DeltaTime, t=1024, track=1, channel=None>\n",
       "    <MidiEvent END_OF_TRACK, t=None, track=1, channel=None, data=b''>\n",
       "  >\n",
       ">"
      ]
     },
     "execution_count": 70,
     "metadata": {},
     "output_type": "execute_result"
    }
   ],
   "source": [
    "from musicautobot.utils.midifile import *\n",
    "file2mf(Path('data/example.mid'))"
   ]
  },
  {
   "cell_type": "code",
   "execution_count": 71,
   "metadata": {},
   "outputs": [
    {
     "data": {
      "text/plain": [
       "array([  0,   1,  69, 141,  61, 145,  54, 145,   8, 141,  71, 141,   8, 141,  73, 145,  64, 145,  57, 145])"
      ]
     },
     "execution_count": 71,
     "metadata": {},
     "output_type": "execute_result"
    }
   ],
   "source": [
    "item.data"
   ]
  },
  {
   "cell_type": "code",
   "execution_count": 72,
   "metadata": {},
   "outputs": [
    {
     "data": {
      "text/plain": [
       "array([0, 0, 0, 0, 0, 0, 0, 0, 0, 0, 1, 1, 1, 1, 2, 2, 2, 2, 2, 2])"
      ]
     },
     "execution_count": 72,
     "metadata": {},
     "output_type": "execute_result"
    }
   ],
   "source": [
    "item.position//4"
   ]
  },
  {
   "cell_type": "code",
   "execution_count": null,
   "metadata": {},
   "outputs": [],
   "source": []
  }
 ],
 "metadata": {
  "kernelspec": {
   "display_name": "Python 3",
   "language": "python",
   "name": "python3"
  },
  "language_info": {
   "codemirror_mode": {
    "name": "ipython",
    "version": 3
   },
   "file_extension": ".py",
   "mimetype": "text/x-python",
   "name": "python",
   "nbconvert_exporter": "python",
   "pygments_lexer": "ipython3",
   "version": "3.7.4"
  }
 },
 "nbformat": 4,
 "nbformat_minor": 2
}
