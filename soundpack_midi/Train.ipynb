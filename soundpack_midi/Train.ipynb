{
 "cells": [
  {
   "cell_type": "code",
   "execution_count": 2,
   "metadata": {},
   "outputs": [],
   "source": [
    "%reload_ext autoreload\n",
    "%autoreload 2\n",
    "%matplotlib inline"
   ]
  },
  {
   "cell_type": "code",
   "execution_count": 3,
   "metadata": {},
   "outputs": [],
   "source": [
    "from musicautobot.imports import *\n",
    "from musicautobot.numpy_encode import *\n",
    "from musicautobot.utils.file_processing import process_all, process_file\n",
    "from musicautobot.vocab import *\n",
    "\n",
    "# Do this instead\n",
    "from musicautobot.music_transformer.all import *\n",
    "from musicautobot.multitask_transformer.all import *"
   ]
  },
  {
   "cell_type": "code",
   "execution_count": 4,
   "metadata": {},
   "outputs": [],
   "source": [
    "from fastai.text.all import *"
   ]
  },
  {
   "cell_type": "code",
   "execution_count": 6,
   "metadata": {},
   "outputs": [],
   "source": [
    "torch.cuda.set_device(2)"
   ]
  },
  {
   "cell_type": "markdown",
   "metadata": {},
   "source": [
    "## MultitaskTransformer Training\n",
    "\n",
    "Multitask Training is an extension of [MusicTransformer](../music_transformer/Train.ipynb).\n",
    "\n",
    "Instead a basic language model that predicts the next word...\n",
    "\n",
    "We train on multiple tasks\n",
    "* [Next Word](../music_transformer/Train.ipynb)\n",
    "* [Bert Mask](https://arxiv.org/abs/1810.04805)\n",
    "* [Sequence to Sequence Translation](http://jalammar.github.io/illustrated-transformer/)\n",
    "\n",
    "This gives a more generalized model and also let's you do some really cool [predictions](Generate.ipynb)"
   ]
  },
  {
   "cell_type": "markdown",
   "metadata": {},
   "source": [
    "## End to end training pipeline \n",
    "\n",
    "1. Create and encode dataset\n",
    "2. Initialize Transformer MOdel\n",
    "3. Train\n",
    "4. Predict"
   ]
  },
  {
   "cell_type": "code",
   "execution_count": 12,
   "metadata": {},
   "outputs": [],
   "source": [
    "base_path = Path('../data/soundpack_midi')\n",
    "\n",
    "# Location of your midi files\n",
    "midi_path = base_path/'midi_sources/hooktheory'\n",
    "\n",
    "# Location to save dataset\n",
    "s2s_path = base_path/'s2s_encode/hooktheory'\n",
    "lm_path = base_path/'piano_duet/hooktheory'"
   ]
  },
  {
   "cell_type": "markdown",
   "metadata": {},
   "source": [
    "## 1. Gather midi dataset"
   ]
  },
  {
   "cell_type": "markdown",
   "metadata": {},
   "source": [
    "Make sure all your midi data is in `musicautobot/data/midi` directory"
   ]
  },
  {
   "cell_type": "markdown",
   "metadata": {},
   "source": [
    "Here's a pretty good dataset with lots of midi data:  \n",
    "https://www.reddit.com/r/datasets/comments/3akhxy/the_largest_midi_collection_on_the_internet/\n",
    "\n",
    "Download the folder and unzip it to `data/midi`"
   ]
  },
  {
   "cell_type": "markdown",
   "metadata": {},
   "source": [
    "## 2. Create dataset from MIDI files"
   ]
  },
  {
   "cell_type": "code",
   "execution_count": 14,
   "metadata": {},
   "outputs": [
    {
     "data": {
      "text/plain": [
       "(#4) [Path('../data/soundpack_midi/midi_sources/hooktheory/billboard'),Path('../data/soundpack_midi/midi_sources/hooktheory/examples'),Path('../data/soundpack_midi/midi_sources/hooktheory/manual'),Path('../data/soundpack_midi/midi_sources/hooktheory/.DS_Store')]"
      ]
     },
     "execution_count": 14,
     "metadata": {},
     "output_type": "execute_result"
    }
   ],
   "source": [
    "midi_path.ls()"
   ]
  },
  {
   "cell_type": "code",
   "execution_count": 20,
   "metadata": {},
   "outputs": [
    {
     "data": {
      "text/plain": [
       "2057"
      ]
     },
     "execution_count": 20,
     "metadata": {},
     "output_type": "execute_result"
    }
   ],
   "source": [
    "midi_files = get_files(midi_path, '.mid', recurse=True); len(midi_files)"
   ]
  },
  {
   "cell_type": "code",
   "execution_count": 10,
   "metadata": {},
   "outputs": [
    {
     "data": {
      "text/plain": [
       "(0, 0)"
      ]
     },
     "execution_count": 10,
     "metadata": {},
     "output_type": "execute_result"
    }
   ],
   "source": [
    "vocab = MusicVocab.create()\n",
    "s2s_files = get_files(s2s_path, '.npy', recurse=True)[:400]\n",
    "lm_files = get_files(lm_path, '.npy', recurse=True)[:400]\n",
    "\n",
    "len(s2s_files), len(lm_files)"
   ]
  },
  {
   "cell_type": "markdown",
   "metadata": {},
   "source": [
    "### 2a. Create NextWord/Mask Dataset"
   ]
  },
  {
   "cell_type": "code",
   "execution_count": 7,
   "metadata": {},
   "outputs": [],
   "source": [
    "tfms = [MusicItemTfm(vocab), rand_transpose, mi2tensor]\n",
    "splits = RandomSplitter(seed=42)(range(len(lm_files)))\n",
    "dsets = Datasets(lm_files, [tfms], splits=splits)\n",
    "\n",
    "bs = 16\n",
    "seq_len = 512\n",
    "\n",
    "batch_tfms = [MaskLMTransform(vocab)]\n",
    "dls = dsets.dataloaders(dl_type=LMDataLoader, \n",
    "                        bs=bs, seq_len=seq_len, cache=bs*4,\n",
    "                        after_batch=batch_tfms,\n",
    "                       ).cuda()"
   ]
  },
  {
   "cell_type": "code",
   "execution_count": 8,
   "metadata": {},
   "outputs": [
    {
     "data": {
      "text/plain": [
       "torch.Size([16, 512])"
      ]
     },
     "execution_count": 8,
     "metadata": {},
     "output_type": "execute_result"
    }
   ],
   "source": [
    "xb,yb = dls.one_batch()\n",
    "xb['msk']['x'].shape"
   ]
  },
  {
   "cell_type": "markdown",
   "metadata": {},
   "source": [
    "Key:\n",
    "* 'msk' = masked input\n",
    "* 'lm' = next word input\n",
    "* 'pos' = timestepped postional encoding. This is in addition to relative positional encoding\n",
    "\n",
    "Note: MultitaskTransformer trains on both the masked input ('msk') and next word input ('lm') at the same time.\n",
    "\n",
    "The encoder is trained on the 'msk' data, while the decoder is trained on 'lm' data.\n",
    "\n"
   ]
  },
  {
   "cell_type": "markdown",
   "metadata": {},
   "source": [
    "### 2b. Create sequence to sequence dataset"
   ]
  },
  {
   "cell_type": "code",
   "execution_count": 9,
   "metadata": {},
   "outputs": [
    {
     "data": {
      "text/plain": [
       "374"
      ]
     },
     "execution_count": 9,
     "metadata": {},
     "output_type": "execute_result"
    }
   ],
   "source": [
    "s2s_files = list(filter(is_valid_mtt, s2s_files))\n",
    "len(s2s_files)"
   ]
  },
  {
   "cell_type": "markdown",
   "metadata": {},
   "source": [
    "## S2S DataLoader"
   ]
  },
  {
   "cell_type": "code",
   "execution_count": 10,
   "metadata": {},
   "outputs": [],
   "source": [
    "bs,seq_len = 2,8\n",
    "tfms = [S2SFileTfm(vocab), partial(mtt2tensor, seq_len=seq_len)]\n",
    "splits = RandomSplitter(seed=42)(range(len(s2s_files)))\n",
    "dsets = Datasets(s2s_files, [tfms], splits=splits)\n",
    "\n",
    "batch_tfms = [M2CTransform()]\n",
    "dls = dsets.dataloaders(bs=bs, seq_len=seq_len,\n",
    "                        after_batch=batch_tfms)\n"
   ]
  },
  {
   "cell_type": "markdown",
   "metadata": {},
   "source": [
    "Structure"
   ]
  },
  {
   "cell_type": "code",
   "execution_count": 11,
   "metadata": {},
   "outputs": [
    {
     "data": {
      "text/plain": [
       "{'c2m': {'enc': tensor([[  5,   1,  75, 153,  68, 153,  65, 153],\n",
       "          [  5,   1,  61, 149,  57, 149,  54, 149]], device='cuda:0'),\n",
       "  'enc_pos': tensor([[0, 0, 0, 0, 0, 0, 0, 0],\n",
       "          [0, 0, 0, 0, 0, 0, 0, 0]], device='cuda:0'),\n",
       "  'dec': tensor([[  6,   1,   8, 139,  75, 139,   8, 139],\n",
       "          [  6,   1,  78, 140,   8, 140,  81, 140]], device='cuda:0'),\n",
       "  'dec_pos': tensor([[0, 0, 0, 0, 2, 2, 2, 2],\n",
       "          [0, 0, 0, 0, 0, 0, 3, 3]], device='cuda:0')},\n",
       " 'm2c': {'enc': tensor([[  6,   1,   8, 139,  75, 139,   8, 139],\n",
       "          [  6,   1,  78, 140,   8, 140,  81, 140]], device='cuda:0'),\n",
       "  'enc_pos': tensor([[0, 0, 0, 0, 2, 2, 2, 2],\n",
       "          [0, 0, 0, 0, 0, 0, 3, 3]], device='cuda:0'),\n",
       "  'dec': tensor([[  5,   1,  75, 153,  68, 153,  65, 153],\n",
       "          [  5,   1,  61, 149,  57, 149,  54, 149]], device='cuda:0'),\n",
       "  'dec_pos': tensor([[0, 0, 0, 0, 0, 0, 0, 0],\n",
       "          [0, 0, 0, 0, 0, 0, 0, 0]], device='cuda:0')}}"
      ]
     },
     "execution_count": 11,
     "metadata": {},
     "output_type": "execute_result"
    }
   ],
   "source": [
    "xb, yb = dls.one_batch(); xb"
   ]
  },
  {
   "cell_type": "markdown",
   "metadata": {},
   "source": [
    "Key:\n",
    "* 'c2m' = chord2melody translation\n",
    " * enc = chord\n",
    " * dec = melody\n",
    "* 'm2c' = next word input\n",
    " * enc = melody\n",
    " * dec = chord\n",
    "* 'pos' = timestepped postional encoding. Gives the model a better reference when translating\n",
    "\n",
    "Note: MultitaskTransformer trains both translations ('m2c' and 'c2m') at the same time. "
   ]
  },
  {
   "cell_type": "markdown",
   "metadata": {},
   "source": [
    "## 2c. Stacked Dataloader"
   ]
  },
  {
   "cell_type": "code",
   "execution_count": 12,
   "metadata": {},
   "outputs": [],
   "source": [
    "bs,seq_len = 2,8\n",
    "s2s_tfms = [S2SFileTfm(vocab), partial(mtt2tensor, seq_len=seq_len)]\n",
    "splits = RandomSplitter(seed=42)(range(len(s2s_files)))\n",
    "s2s_dsets = Datasets(s2s_files, [s2s_tfms], splits=splits)\n",
    "\n",
    "s2s_dls = s2s_dsets.dataloaders(\n",
    "    bs=bs, seq_len=seq_len,\n",
    "    after_batch=[M2CTransform()]\n",
    ")\n",
    "\n",
    "\n",
    "lm_tfms = [MusicItemTfm(vocab), rand_transpose, mi2tensor]\n",
    "splits = RandomSplitter(seed=42)(range(len(lm_files)))\n",
    "lm_dsets = Datasets(lm_files, [lm_tfms], splits=splits, dl_type=LMDataLoader)\n",
    "\n",
    "lm_dls = lm_dsets.dataloaders(bs=bs, seq_len=seq_len, cache=bs*4,\n",
    "                        after_batch=[MaskLMTransform(vocab)],\n",
    "                       ).cuda()"
   ]
  },
  {
   "cell_type": "code",
   "execution_count": 14,
   "metadata": {},
   "outputs": [],
   "source": [
    "class StackedDLs():\n",
    "    def __init__(self, dls, num_it=100):\n",
    "        self.dls = dls\n",
    "        self.num_it = num_it\n",
    "        self.dl_idx = -1\n",
    "        \n",
    "#     def __len__(self)->int: return sum([len(dl) for dl in self.dls])\n",
    "    def __getattr__(self, attr):\n",
    "        def redirected(*args, **kwargs):\n",
    "            for dl in self.dls:\n",
    "                if hasattr(dl, attr):\n",
    "                    getattr(dl, attr)(*args, **kwargs)\n",
    "        return redirected\n",
    "        \n",
    "    def __iter__(self):\n",
    "        \"Process and returns items from `DataLoader`.\"\n",
    "        iters = [iter(dl) for dl in self.dls]\n",
    "        self.dl_idx = -1\n",
    "        while len(iters):\n",
    "            self.dl_idx = (self.dl_idx+1) % len(iters)\n",
    "            for b in range(self.num_it):\n",
    "                try:\n",
    "                    yield next(iters[self.dl_idx])\n",
    "                except StopIteration as e:\n",
    "                    iters.remove(iters[self.dl_idx])\n",
    "                    break\n",
    "#         raise StopIteration\n",
    "\n",
    "#     def new(self, **kwargs):\n",
    "#         \"Create a new copy of `self` with `kwargs` replacing current values.\"\n",
    "#         new_dls = [dl.new(**kwargs) for dl in self.dls]\n",
    "#         return StackedDataloader(new_dls, self.num_it)\n"
   ]
  },
  {
   "cell_type": "code",
   "execution_count": 15,
   "metadata": {},
   "outputs": [],
   "source": [
    "sdls = StackedDLs([s2s_dls, lm_dls])"
   ]
  },
  {
   "cell_type": "code",
   "execution_count": 16,
   "metadata": {},
   "outputs": [
    {
     "ename": "TypeError",
     "evalue": "object of type 'StackedDLs' has no len()",
     "output_type": "error",
     "traceback": [
      "\u001b[0;31m---------------------------------------------------------------------------\u001b[0m",
      "\u001b[0;31mTypeError\u001b[0m                                 Traceback (most recent call last)",
      "\u001b[0;32m<ipython-input-16-d65e88500246>\u001b[0m in \u001b[0;36m<module>\u001b[0;34m\u001b[0m\n\u001b[0;32m----> 1\u001b[0;31m \u001b[0mlen\u001b[0m\u001b[0;34m(\u001b[0m\u001b[0msdls\u001b[0m\u001b[0;34m)\u001b[0m\u001b[0;34m\u001b[0m\u001b[0;34m\u001b[0m\u001b[0m\n\u001b[0m",
      "\u001b[0;31mTypeError\u001b[0m: object of type 'StackedDLs' has no len()"
     ]
    }
   ],
   "source": [
    "len(sdls)"
   ]
  },
  {
   "cell_type": "markdown",
   "metadata": {},
   "source": [
    "## 3. Initialize Model"
   ]
  },
  {
   "cell_type": "code",
   "execution_count": 10,
   "metadata": {},
   "outputs": [],
   "source": [
    "# Load Data\n",
    "batch_size = 2\n",
    "bptt = 128\n",
    "\n",
    "lm_data = load_data(data_path, data_save_name, \n",
    "                    bs=batch_size, bptt=bptt, encode_position=True,\n",
    "                    dl_tfms=mask_lm_tfm_pitchdur)\n",
    "\n",
    "s2s_data = load_data(data_path, s2s_data_save_name, \n",
    "                     bs=batch_size//2, bptt=bptt,\n",
    "                     preloader_cls=S2SPreloader, dl_tfms=melody_chord_tfm)\n",
    "\n",
    "# Combine both dataloaders so we can train multiple tasks at the same time\n",
    "data = StackedDataBunch([lm_data, s2s_data])"
   ]
  },
  {
   "cell_type": "code",
   "execution_count": 23,
   "metadata": {},
   "outputs": [],
   "source": [
    "import musicautobot.utils.fastai_transformer as ft\n",
    "\n",
    "# Create Model\n",
    "config = ft.tfmer_lm_config.copy()\n",
    "\n",
    "# Create Model\n",
    "config = ft.tfmer_lm_config.copy()\n",
    "config['mem_len'] = 512\n",
    "learn = multitask_model_learner(dls, config.copy())\n",
    "# learn.to_fp16(dynamic=True) # Enable for mixed precision"
   ]
  },
  {
   "cell_type": "code",
   "execution_count": 12,
   "metadata": {},
   "outputs": [
    {
     "data": {
      "text/plain": [
       "MultiTransformer(\n",
       "  (encoder): MTEncoder(\n",
       "    (embed): TransformerEmbedding(\n",
       "      (embed): Embedding(312, 512, padding_idx=1)\n",
       "      (pos_enc): PositionalEncoding()\n",
       "      (beat_enc): Embedding(32, 512, padding_idx=0)\n",
       "      (bar_enc): Embedding(1024, 512, padding_idx=0)\n",
       "      (drop): Dropout(p=0.1, inplace=False)\n",
       "    )\n",
       "    (layers): ModuleList(\n",
       "      (0): MTEncoderBlock(\n",
       "        (mha1): MemMultiHeadRelativeAttentionKV(\n",
       "          (q_wgt): Linear(in_features=512, out_features=512, bias=True)\n",
       "          (k_wgt): Linear(in_features=512, out_features=512, bias=True)\n",
       "          (v_wgt): Linear(in_features=512, out_features=512, bias=True)\n",
       "          (drop_att): Dropout(p=0.1, inplace=False)\n",
       "          (drop_res): Dropout(p=0.1, inplace=False)\n",
       "          (ln): LayerNorm((512,), eps=1e-05, elementwise_affine=True)\n",
       "          (r_attn): Linear(in_features=512, out_features=512, bias=True)\n",
       "        )\n",
       "        (mha2): MemMultiHeadRelativeAttentionKV(\n",
       "          (q_wgt): Linear(in_features=512, out_features=512, bias=True)\n",
       "          (k_wgt): Linear(in_features=512, out_features=512, bias=True)\n",
       "          (v_wgt): Linear(in_features=512, out_features=512, bias=True)\n",
       "          (drop_att): Dropout(p=0.1, inplace=False)\n",
       "          (drop_res): Dropout(p=0.1, inplace=False)\n",
       "          (ln): LayerNorm((512,), eps=1e-05, elementwise_affine=True)\n",
       "          (r_attn): Linear(in_features=512, out_features=512, bias=True)\n",
       "        )\n",
       "        (ff): SequentialEx(\n",
       "          (layers): ModuleList(\n",
       "            (0): Linear(in_features=512, out_features=2048, bias=True)\n",
       "            (1): ReLU(inplace=True)\n",
       "            (2): Dropout(p=0.1, inplace=False)\n",
       "            (3): Linear(in_features=2048, out_features=512, bias=True)\n",
       "            (4): Dropout(p=0.1, inplace=False)\n",
       "            (5): MergeLayer()\n",
       "            (6): LayerNorm((512,), eps=1e-05, elementwise_affine=True)\n",
       "          )\n",
       "        )\n",
       "      )\n",
       "      (1): MTEncoderBlock(\n",
       "        (mha1): MemMultiHeadRelativeAttentionKV(\n",
       "          (q_wgt): Linear(in_features=512, out_features=512, bias=True)\n",
       "          (k_wgt): Linear(in_features=512, out_features=512, bias=True)\n",
       "          (v_wgt): Linear(in_features=512, out_features=512, bias=True)\n",
       "          (drop_att): Dropout(p=0.1, inplace=False)\n",
       "          (drop_res): Dropout(p=0.1, inplace=False)\n",
       "          (ln): LayerNorm((512,), eps=1e-05, elementwise_affine=True)\n",
       "          (r_attn): Linear(in_features=512, out_features=512, bias=True)\n",
       "        )\n",
       "        (mha2): MemMultiHeadRelativeAttentionKV(\n",
       "          (q_wgt): Linear(in_features=512, out_features=512, bias=True)\n",
       "          (k_wgt): Linear(in_features=512, out_features=512, bias=True)\n",
       "          (v_wgt): Linear(in_features=512, out_features=512, bias=True)\n",
       "          (drop_att): Dropout(p=0.1, inplace=False)\n",
       "          (drop_res): Dropout(p=0.1, inplace=False)\n",
       "          (ln): LayerNorm((512,), eps=1e-05, elementwise_affine=True)\n",
       "          (r_attn): Linear(in_features=512, out_features=512, bias=True)\n",
       "        )\n",
       "        (ff): SequentialEx(\n",
       "          (layers): ModuleList(\n",
       "            (0): Linear(in_features=512, out_features=2048, bias=True)\n",
       "            (1): ReLU(inplace=True)\n",
       "            (2): Dropout(p=0.1, inplace=False)\n",
       "            (3): Linear(in_features=2048, out_features=512, bias=True)\n",
       "            (4): Dropout(p=0.1, inplace=False)\n",
       "            (5): MergeLayer()\n",
       "            (6): LayerNorm((512,), eps=1e-05, elementwise_affine=True)\n",
       "          )\n",
       "        )\n",
       "      )\n",
       "      (2): MTEncoderBlock(\n",
       "        (mha1): MemMultiHeadRelativeAttentionKV(\n",
       "          (q_wgt): Linear(in_features=512, out_features=512, bias=True)\n",
       "          (k_wgt): Linear(in_features=512, out_features=512, bias=True)\n",
       "          (v_wgt): Linear(in_features=512, out_features=512, bias=True)\n",
       "          (drop_att): Dropout(p=0.1, inplace=False)\n",
       "          (drop_res): Dropout(p=0.1, inplace=False)\n",
       "          (ln): LayerNorm((512,), eps=1e-05, elementwise_affine=True)\n",
       "          (r_attn): Linear(in_features=512, out_features=512, bias=True)\n",
       "        )\n",
       "        (mha2): MemMultiHeadRelativeAttentionKV(\n",
       "          (q_wgt): Linear(in_features=512, out_features=512, bias=True)\n",
       "          (k_wgt): Linear(in_features=512, out_features=512, bias=True)\n",
       "          (v_wgt): Linear(in_features=512, out_features=512, bias=True)\n",
       "          (drop_att): Dropout(p=0.1, inplace=False)\n",
       "          (drop_res): Dropout(p=0.1, inplace=False)\n",
       "          (ln): LayerNorm((512,), eps=1e-05, elementwise_affine=True)\n",
       "          (r_attn): Linear(in_features=512, out_features=512, bias=True)\n",
       "        )\n",
       "        (ff): SequentialEx(\n",
       "          (layers): ModuleList(\n",
       "            (0): Linear(in_features=512, out_features=2048, bias=True)\n",
       "            (1): ReLU(inplace=True)\n",
       "            (2): Dropout(p=0.1, inplace=False)\n",
       "            (3): Linear(in_features=2048, out_features=512, bias=True)\n",
       "            (4): Dropout(p=0.1, inplace=False)\n",
       "            (5): MergeLayer()\n",
       "            (6): LayerNorm((512,), eps=1e-05, elementwise_affine=True)\n",
       "          )\n",
       "        )\n",
       "      )\n",
       "      (3): MTEncoderBlock(\n",
       "        (mha1): MemMultiHeadRelativeAttentionKV(\n",
       "          (q_wgt): Linear(in_features=512, out_features=512, bias=True)\n",
       "          (k_wgt): Linear(in_features=512, out_features=512, bias=True)\n",
       "          (v_wgt): Linear(in_features=512, out_features=512, bias=True)\n",
       "          (drop_att): Dropout(p=0.1, inplace=False)\n",
       "          (drop_res): Dropout(p=0.1, inplace=False)\n",
       "          (ln): LayerNorm((512,), eps=1e-05, elementwise_affine=True)\n",
       "          (r_attn): Linear(in_features=512, out_features=512, bias=True)\n",
       "        )\n",
       "        (mha2): MemMultiHeadRelativeAttentionKV(\n",
       "          (q_wgt): Linear(in_features=512, out_features=512, bias=True)\n",
       "          (k_wgt): Linear(in_features=512, out_features=512, bias=True)\n",
       "          (v_wgt): Linear(in_features=512, out_features=512, bias=True)\n",
       "          (drop_att): Dropout(p=0.1, inplace=False)\n",
       "          (drop_res): Dropout(p=0.1, inplace=False)\n",
       "          (ln): LayerNorm((512,), eps=1e-05, elementwise_affine=True)\n",
       "          (r_attn): Linear(in_features=512, out_features=512, bias=True)\n",
       "        )\n",
       "        (ff): SequentialEx(\n",
       "          (layers): ModuleList(\n",
       "            (0): Linear(in_features=512, out_features=2048, bias=True)\n",
       "            (1): ReLU(inplace=True)\n",
       "            (2): Dropout(p=0.1, inplace=False)\n",
       "            (3): Linear(in_features=2048, out_features=512, bias=True)\n",
       "            (4): Dropout(p=0.1, inplace=False)\n",
       "            (5): MergeLayer()\n",
       "            (6): LayerNorm((512,), eps=1e-05, elementwise_affine=True)\n",
       "          )\n",
       "        )\n",
       "      )\n",
       "      (4): MTEncoderBlock(\n",
       "        (mha1): MemMultiHeadRelativeAttentionKV(\n",
       "          (q_wgt): Linear(in_features=512, out_features=512, bias=True)\n",
       "          (k_wgt): Linear(in_features=512, out_features=512, bias=True)\n",
       "          (v_wgt): Linear(in_features=512, out_features=512, bias=True)\n",
       "          (drop_att): Dropout(p=0.1, inplace=False)\n",
       "          (drop_res): Dropout(p=0.1, inplace=False)\n",
       "          (ln): LayerNorm((512,), eps=1e-05, elementwise_affine=True)\n",
       "          (r_attn): Linear(in_features=512, out_features=512, bias=True)\n",
       "        )\n",
       "        (mha2): MemMultiHeadRelativeAttentionKV(\n",
       "          (q_wgt): Linear(in_features=512, out_features=512, bias=True)\n",
       "          (k_wgt): Linear(in_features=512, out_features=512, bias=True)\n",
       "          (v_wgt): Linear(in_features=512, out_features=512, bias=True)\n",
       "          (drop_att): Dropout(p=0.1, inplace=False)\n",
       "          (drop_res): Dropout(p=0.1, inplace=False)\n",
       "          (ln): LayerNorm((512,), eps=1e-05, elementwise_affine=True)\n",
       "          (r_attn): Linear(in_features=512, out_features=512, bias=True)\n",
       "        )\n",
       "        (ff): SequentialEx(\n",
       "          (layers): ModuleList(\n",
       "            (0): Linear(in_features=512, out_features=2048, bias=True)\n",
       "            (1): ReLU(inplace=True)\n",
       "            (2): Dropout(p=0.1, inplace=False)\n",
       "            (3): Linear(in_features=2048, out_features=512, bias=True)\n",
       "            (4): Dropout(p=0.1, inplace=False)\n",
       "            (5): MergeLayer()\n",
       "            (6): LayerNorm((512,), eps=1e-05, elementwise_affine=True)\n",
       "          )\n",
       "        )\n",
       "      )\n",
       "      (5): MTEncoderBlock(\n",
       "        (mha1): MemMultiHeadRelativeAttentionKV(\n",
       "          (q_wgt): Linear(in_features=512, out_features=512, bias=True)\n",
       "          (k_wgt): Linear(in_features=512, out_features=512, bias=True)\n",
       "          (v_wgt): Linear(in_features=512, out_features=512, bias=True)\n",
       "          (drop_att): Dropout(p=0.1, inplace=False)\n",
       "          (drop_res): Dropout(p=0.1, inplace=False)\n",
       "          (ln): LayerNorm((512,), eps=1e-05, elementwise_affine=True)\n",
       "          (r_attn): Linear(in_features=512, out_features=512, bias=True)\n",
       "        )\n",
       "        (mha2): MemMultiHeadRelativeAttentionKV(\n",
       "          (q_wgt): Linear(in_features=512, out_features=512, bias=True)\n",
       "          (k_wgt): Linear(in_features=512, out_features=512, bias=True)\n",
       "          (v_wgt): Linear(in_features=512, out_features=512, bias=True)\n",
       "          (drop_att): Dropout(p=0.1, inplace=False)\n",
       "          (drop_res): Dropout(p=0.1, inplace=False)\n",
       "          (ln): LayerNorm((512,), eps=1e-05, elementwise_affine=True)\n",
       "          (r_attn): Linear(in_features=512, out_features=512, bias=True)\n",
       "        )\n",
       "        (ff): SequentialEx(\n",
       "          (layers): ModuleList(\n",
       "            (0): Linear(in_features=512, out_features=2048, bias=True)\n",
       "            (1): ReLU(inplace=True)\n",
       "            (2): Dropout(p=0.1, inplace=False)\n",
       "            (3): Linear(in_features=2048, out_features=512, bias=True)\n",
       "            (4): Dropout(p=0.1, inplace=False)\n",
       "            (5): MergeLayer()\n",
       "            (6): LayerNorm((512,), eps=1e-05, elementwise_affine=True)\n",
       "          )\n",
       "        )\n",
       "      )\n",
       "      (6): MTEncoderBlock(\n",
       "        (mha1): MemMultiHeadRelativeAttentionKV(\n",
       "          (q_wgt): Linear(in_features=512, out_features=512, bias=True)\n",
       "          (k_wgt): Linear(in_features=512, out_features=512, bias=True)\n",
       "          (v_wgt): Linear(in_features=512, out_features=512, bias=True)\n",
       "          (drop_att): Dropout(p=0.1, inplace=False)\n",
       "          (drop_res): Dropout(p=0.1, inplace=False)\n",
       "          (ln): LayerNorm((512,), eps=1e-05, elementwise_affine=True)\n",
       "          (r_attn): Linear(in_features=512, out_features=512, bias=True)\n",
       "        )\n",
       "        (mha2): MemMultiHeadRelativeAttentionKV(\n",
       "          (q_wgt): Linear(in_features=512, out_features=512, bias=True)\n",
       "          (k_wgt): Linear(in_features=512, out_features=512, bias=True)\n",
       "          (v_wgt): Linear(in_features=512, out_features=512, bias=True)\n",
       "          (drop_att): Dropout(p=0.1, inplace=False)\n",
       "          (drop_res): Dropout(p=0.1, inplace=False)\n",
       "          (ln): LayerNorm((512,), eps=1e-05, elementwise_affine=True)\n",
       "          (r_attn): Linear(in_features=512, out_features=512, bias=True)\n",
       "        )\n",
       "        (ff): SequentialEx(\n",
       "          (layers): ModuleList(\n",
       "            (0): Linear(in_features=512, out_features=2048, bias=True)\n",
       "            (1): ReLU(inplace=True)\n",
       "            (2): Dropout(p=0.1, inplace=False)\n",
       "            (3): Linear(in_features=2048, out_features=512, bias=True)\n",
       "            (4): Dropout(p=0.1, inplace=False)\n",
       "            (5): MergeLayer()\n",
       "            (6): LayerNorm((512,), eps=1e-05, elementwise_affine=True)\n",
       "          )\n",
       "        )\n",
       "      )\n",
       "      (7): MTEncoderBlock(\n",
       "        (mha1): MemMultiHeadRelativeAttentionKV(\n",
       "          (q_wgt): Linear(in_features=512, out_features=512, bias=True)\n",
       "          (k_wgt): Linear(in_features=512, out_features=512, bias=True)\n",
       "          (v_wgt): Linear(in_features=512, out_features=512, bias=True)\n",
       "          (drop_att): Dropout(p=0.1, inplace=False)\n",
       "          (drop_res): Dropout(p=0.1, inplace=False)\n",
       "          (ln): LayerNorm((512,), eps=1e-05, elementwise_affine=True)\n",
       "          (r_attn): Linear(in_features=512, out_features=512, bias=True)\n",
       "        )\n",
       "        (mha2): MemMultiHeadRelativeAttentionKV(\n",
       "          (q_wgt): Linear(in_features=512, out_features=512, bias=True)\n",
       "          (k_wgt): Linear(in_features=512, out_features=512, bias=True)\n",
       "          (v_wgt): Linear(in_features=512, out_features=512, bias=True)\n",
       "          (drop_att): Dropout(p=0.1, inplace=False)\n",
       "          (drop_res): Dropout(p=0.1, inplace=False)\n",
       "          (ln): LayerNorm((512,), eps=1e-05, elementwise_affine=True)\n",
       "          (r_attn): Linear(in_features=512, out_features=512, bias=True)\n",
       "        )\n",
       "        (ff): SequentialEx(\n",
       "          (layers): ModuleList(\n",
       "            (0): Linear(in_features=512, out_features=2048, bias=True)\n",
       "            (1): ReLU(inplace=True)\n",
       "            (2): Dropout(p=0.1, inplace=False)\n",
       "            (3): Linear(in_features=2048, out_features=512, bias=True)\n",
       "            (4): Dropout(p=0.1, inplace=False)\n",
       "            (5): MergeLayer()\n",
       "            (6): LayerNorm((512,), eps=1e-05, elementwise_affine=True)\n",
       "          )\n",
       "        )\n",
       "      )\n",
       "    )\n",
       "  )\n",
       "  (decoder): MTEncoder(\n",
       "    (embed): TransformerEmbedding(\n",
       "      (embed): Embedding(312, 512, padding_idx=1)\n",
       "      (pos_enc): PositionalEncoding()\n",
       "      (beat_enc): Embedding(32, 512, padding_idx=0)\n",
       "      (bar_enc): Embedding(1024, 512, padding_idx=0)\n",
       "      (drop): Dropout(p=0.1, inplace=False)\n",
       "    )\n",
       "    (layers): ModuleList(\n",
       "      (0): MTEncoderBlock(\n",
       "        (mha1): MemMultiHeadRelativeAttentionKV(\n",
       "          (q_wgt): Linear(in_features=512, out_features=512, bias=True)\n",
       "          (k_wgt): Linear(in_features=512, out_features=512, bias=True)\n",
       "          (v_wgt): Linear(in_features=512, out_features=512, bias=True)\n",
       "          (drop_att): Dropout(p=0.1, inplace=False)\n",
       "          (drop_res): Dropout(p=0.1, inplace=False)\n",
       "          (ln): LayerNorm((512,), eps=1e-05, elementwise_affine=True)\n",
       "          (r_attn): Linear(in_features=512, out_features=512, bias=True)\n",
       "        )\n",
       "        (mha2): MemMultiHeadRelativeAttentionKV(\n",
       "          (q_wgt): Linear(in_features=512, out_features=512, bias=True)\n",
       "          (k_wgt): Linear(in_features=512, out_features=512, bias=True)\n",
       "          (v_wgt): Linear(in_features=512, out_features=512, bias=True)\n",
       "          (drop_att): Dropout(p=0.1, inplace=False)\n",
       "          (drop_res): Dropout(p=0.1, inplace=False)\n",
       "          (ln): LayerNorm((512,), eps=1e-05, elementwise_affine=True)\n",
       "          (r_attn): Linear(in_features=512, out_features=512, bias=True)\n",
       "        )\n",
       "        (ff): SequentialEx(\n",
       "          (layers): ModuleList(\n",
       "            (0): Linear(in_features=512, out_features=2048, bias=True)\n",
       "            (1): ReLU(inplace=True)\n",
       "            (2): Dropout(p=0.1, inplace=False)\n",
       "            (3): Linear(in_features=2048, out_features=512, bias=True)\n",
       "            (4): Dropout(p=0.1, inplace=False)\n",
       "            (5): MergeLayer()\n",
       "            (6): LayerNorm((512,), eps=1e-05, elementwise_affine=True)\n",
       "          )\n",
       "        )\n",
       "      )\n",
       "      (1): MTEncoderBlock(\n",
       "        (mha1): MemMultiHeadRelativeAttentionKV(\n",
       "          (q_wgt): Linear(in_features=512, out_features=512, bias=True)\n",
       "          (k_wgt): Linear(in_features=512, out_features=512, bias=True)\n",
       "          (v_wgt): Linear(in_features=512, out_features=512, bias=True)\n",
       "          (drop_att): Dropout(p=0.1, inplace=False)\n",
       "          (drop_res): Dropout(p=0.1, inplace=False)\n",
       "          (ln): LayerNorm((512,), eps=1e-05, elementwise_affine=True)\n",
       "          (r_attn): Linear(in_features=512, out_features=512, bias=True)\n",
       "        )\n",
       "        (mha2): MemMultiHeadRelativeAttentionKV(\n",
       "          (q_wgt): Linear(in_features=512, out_features=512, bias=True)\n",
       "          (k_wgt): Linear(in_features=512, out_features=512, bias=True)\n",
       "          (v_wgt): Linear(in_features=512, out_features=512, bias=True)\n",
       "          (drop_att): Dropout(p=0.1, inplace=False)\n",
       "          (drop_res): Dropout(p=0.1, inplace=False)\n",
       "          (ln): LayerNorm((512,), eps=1e-05, elementwise_affine=True)\n",
       "          (r_attn): Linear(in_features=512, out_features=512, bias=True)\n",
       "        )\n",
       "        (ff): SequentialEx(\n",
       "          (layers): ModuleList(\n",
       "            (0): Linear(in_features=512, out_features=2048, bias=True)\n",
       "            (1): ReLU(inplace=True)\n",
       "            (2): Dropout(p=0.1, inplace=False)\n",
       "            (3): Linear(in_features=2048, out_features=512, bias=True)\n",
       "            (4): Dropout(p=0.1, inplace=False)\n",
       "            (5): MergeLayer()\n",
       "            (6): LayerNorm((512,), eps=1e-05, elementwise_affine=True)\n",
       "          )\n",
       "        )\n",
       "      )\n",
       "      (2): MTEncoderBlock(\n",
       "        (mha1): MemMultiHeadRelativeAttentionKV(\n",
       "          (q_wgt): Linear(in_features=512, out_features=512, bias=True)\n",
       "          (k_wgt): Linear(in_features=512, out_features=512, bias=True)\n",
       "          (v_wgt): Linear(in_features=512, out_features=512, bias=True)\n",
       "          (drop_att): Dropout(p=0.1, inplace=False)\n",
       "          (drop_res): Dropout(p=0.1, inplace=False)\n",
       "          (ln): LayerNorm((512,), eps=1e-05, elementwise_affine=True)\n",
       "          (r_attn): Linear(in_features=512, out_features=512, bias=True)\n",
       "        )\n",
       "        (mha2): MemMultiHeadRelativeAttentionKV(\n",
       "          (q_wgt): Linear(in_features=512, out_features=512, bias=True)\n",
       "          (k_wgt): Linear(in_features=512, out_features=512, bias=True)\n",
       "          (v_wgt): Linear(in_features=512, out_features=512, bias=True)\n",
       "          (drop_att): Dropout(p=0.1, inplace=False)\n",
       "          (drop_res): Dropout(p=0.1, inplace=False)\n",
       "          (ln): LayerNorm((512,), eps=1e-05, elementwise_affine=True)\n",
       "          (r_attn): Linear(in_features=512, out_features=512, bias=True)\n",
       "        )\n",
       "        (ff): SequentialEx(\n",
       "          (layers): ModuleList(\n",
       "            (0): Linear(in_features=512, out_features=2048, bias=True)\n",
       "            (1): ReLU(inplace=True)\n",
       "            (2): Dropout(p=0.1, inplace=False)\n",
       "            (3): Linear(in_features=2048, out_features=512, bias=True)\n",
       "            (4): Dropout(p=0.1, inplace=False)\n",
       "            (5): MergeLayer()\n",
       "            (6): LayerNorm((512,), eps=1e-05, elementwise_affine=True)\n",
       "          )\n",
       "        )\n",
       "      )\n",
       "      (3): MTEncoderBlock(\n",
       "        (mha1): MemMultiHeadRelativeAttentionKV(\n",
       "          (q_wgt): Linear(in_features=512, out_features=512, bias=True)\n",
       "          (k_wgt): Linear(in_features=512, out_features=512, bias=True)\n",
       "          (v_wgt): Linear(in_features=512, out_features=512, bias=True)\n",
       "          (drop_att): Dropout(p=0.1, inplace=False)\n",
       "          (drop_res): Dropout(p=0.1, inplace=False)\n",
       "          (ln): LayerNorm((512,), eps=1e-05, elementwise_affine=True)\n",
       "          (r_attn): Linear(in_features=512, out_features=512, bias=True)\n",
       "        )\n",
       "        (mha2): MemMultiHeadRelativeAttentionKV(\n",
       "          (q_wgt): Linear(in_features=512, out_features=512, bias=True)\n",
       "          (k_wgt): Linear(in_features=512, out_features=512, bias=True)\n",
       "          (v_wgt): Linear(in_features=512, out_features=512, bias=True)\n",
       "          (drop_att): Dropout(p=0.1, inplace=False)\n",
       "          (drop_res): Dropout(p=0.1, inplace=False)\n",
       "          (ln): LayerNorm((512,), eps=1e-05, elementwise_affine=True)\n",
       "          (r_attn): Linear(in_features=512, out_features=512, bias=True)\n",
       "        )\n",
       "        (ff): SequentialEx(\n",
       "          (layers): ModuleList(\n",
       "            (0): Linear(in_features=512, out_features=2048, bias=True)\n",
       "            (1): ReLU(inplace=True)\n",
       "            (2): Dropout(p=0.1, inplace=False)\n",
       "            (3): Linear(in_features=2048, out_features=512, bias=True)\n",
       "            (4): Dropout(p=0.1, inplace=False)\n",
       "            (5): MergeLayer()\n",
       "            (6): LayerNorm((512,), eps=1e-05, elementwise_affine=True)\n",
       "          )\n",
       "        )\n",
       "      )\n",
       "      (4): MTEncoderBlock(\n",
       "        (mha1): MemMultiHeadRelativeAttentionKV(\n",
       "          (q_wgt): Linear(in_features=512, out_features=512, bias=True)\n",
       "          (k_wgt): Linear(in_features=512, out_features=512, bias=True)\n",
       "          (v_wgt): Linear(in_features=512, out_features=512, bias=True)\n",
       "          (drop_att): Dropout(p=0.1, inplace=False)\n",
       "          (drop_res): Dropout(p=0.1, inplace=False)\n",
       "          (ln): LayerNorm((512,), eps=1e-05, elementwise_affine=True)\n",
       "          (r_attn): Linear(in_features=512, out_features=512, bias=True)\n",
       "        )\n",
       "        (mha2): MemMultiHeadRelativeAttentionKV(\n",
       "          (q_wgt): Linear(in_features=512, out_features=512, bias=True)\n",
       "          (k_wgt): Linear(in_features=512, out_features=512, bias=True)\n",
       "          (v_wgt): Linear(in_features=512, out_features=512, bias=True)\n",
       "          (drop_att): Dropout(p=0.1, inplace=False)\n",
       "          (drop_res): Dropout(p=0.1, inplace=False)\n",
       "          (ln): LayerNorm((512,), eps=1e-05, elementwise_affine=True)\n",
       "          (r_attn): Linear(in_features=512, out_features=512, bias=True)\n",
       "        )\n",
       "        (ff): SequentialEx(\n",
       "          (layers): ModuleList(\n",
       "            (0): Linear(in_features=512, out_features=2048, bias=True)\n",
       "            (1): ReLU(inplace=True)\n",
       "            (2): Dropout(p=0.1, inplace=False)\n",
       "            (3): Linear(in_features=2048, out_features=512, bias=True)\n",
       "            (4): Dropout(p=0.1, inplace=False)\n",
       "            (5): MergeLayer()\n",
       "            (6): LayerNorm((512,), eps=1e-05, elementwise_affine=True)\n",
       "          )\n",
       "        )\n",
       "      )\n",
       "      (5): MTEncoderBlock(\n",
       "        (mha1): MemMultiHeadRelativeAttentionKV(\n",
       "          (q_wgt): Linear(in_features=512, out_features=512, bias=True)\n",
       "          (k_wgt): Linear(in_features=512, out_features=512, bias=True)\n",
       "          (v_wgt): Linear(in_features=512, out_features=512, bias=True)\n",
       "          (drop_att): Dropout(p=0.1, inplace=False)\n",
       "          (drop_res): Dropout(p=0.1, inplace=False)\n",
       "          (ln): LayerNorm((512,), eps=1e-05, elementwise_affine=True)\n",
       "          (r_attn): Linear(in_features=512, out_features=512, bias=True)\n",
       "        )\n",
       "        (mha2): MemMultiHeadRelativeAttentionKV(\n",
       "          (q_wgt): Linear(in_features=512, out_features=512, bias=True)\n",
       "          (k_wgt): Linear(in_features=512, out_features=512, bias=True)\n",
       "          (v_wgt): Linear(in_features=512, out_features=512, bias=True)\n",
       "          (drop_att): Dropout(p=0.1, inplace=False)\n",
       "          (drop_res): Dropout(p=0.1, inplace=False)\n",
       "          (ln): LayerNorm((512,), eps=1e-05, elementwise_affine=True)\n",
       "          (r_attn): Linear(in_features=512, out_features=512, bias=True)\n",
       "        )\n",
       "        (ff): SequentialEx(\n",
       "          (layers): ModuleList(\n",
       "            (0): Linear(in_features=512, out_features=2048, bias=True)\n",
       "            (1): ReLU(inplace=True)\n",
       "            (2): Dropout(p=0.1, inplace=False)\n",
       "            (3): Linear(in_features=2048, out_features=512, bias=True)\n",
       "            (4): Dropout(p=0.1, inplace=False)\n",
       "            (5): MergeLayer()\n",
       "            (6): LayerNorm((512,), eps=1e-05, elementwise_affine=True)\n",
       "          )\n",
       "        )\n",
       "      )\n",
       "      (6): MTEncoderBlock(\n",
       "        (mha1): MemMultiHeadRelativeAttentionKV(\n",
       "          (q_wgt): Linear(in_features=512, out_features=512, bias=True)\n",
       "          (k_wgt): Linear(in_features=512, out_features=512, bias=True)\n",
       "          (v_wgt): Linear(in_features=512, out_features=512, bias=True)\n",
       "          (drop_att): Dropout(p=0.1, inplace=False)\n",
       "          (drop_res): Dropout(p=0.1, inplace=False)\n",
       "          (ln): LayerNorm((512,), eps=1e-05, elementwise_affine=True)\n",
       "          (r_attn): Linear(in_features=512, out_features=512, bias=True)\n",
       "        )\n",
       "        (mha2): MemMultiHeadRelativeAttentionKV(\n",
       "          (q_wgt): Linear(in_features=512, out_features=512, bias=True)\n",
       "          (k_wgt): Linear(in_features=512, out_features=512, bias=True)\n",
       "          (v_wgt): Linear(in_features=512, out_features=512, bias=True)\n",
       "          (drop_att): Dropout(p=0.1, inplace=False)\n",
       "          (drop_res): Dropout(p=0.1, inplace=False)\n",
       "          (ln): LayerNorm((512,), eps=1e-05, elementwise_affine=True)\n",
       "          (r_attn): Linear(in_features=512, out_features=512, bias=True)\n",
       "        )\n",
       "        (ff): SequentialEx(\n",
       "          (layers): ModuleList(\n",
       "            (0): Linear(in_features=512, out_features=2048, bias=True)\n",
       "            (1): ReLU(inplace=True)\n",
       "            (2): Dropout(p=0.1, inplace=False)\n",
       "            (3): Linear(in_features=2048, out_features=512, bias=True)\n",
       "            (4): Dropout(p=0.1, inplace=False)\n",
       "            (5): MergeLayer()\n",
       "            (6): LayerNorm((512,), eps=1e-05, elementwise_affine=True)\n",
       "          )\n",
       "        )\n",
       "      )\n",
       "      (7): MTEncoderBlock(\n",
       "        (mha1): MemMultiHeadRelativeAttentionKV(\n",
       "          (q_wgt): Linear(in_features=512, out_features=512, bias=True)\n",
       "          (k_wgt): Linear(in_features=512, out_features=512, bias=True)\n",
       "          (v_wgt): Linear(in_features=512, out_features=512, bias=True)\n",
       "          (drop_att): Dropout(p=0.1, inplace=False)\n",
       "          (drop_res): Dropout(p=0.1, inplace=False)\n",
       "          (ln): LayerNorm((512,), eps=1e-05, elementwise_affine=True)\n",
       "          (r_attn): Linear(in_features=512, out_features=512, bias=True)\n",
       "        )\n",
       "        (mha2): MemMultiHeadRelativeAttentionKV(\n",
       "          (q_wgt): Linear(in_features=512, out_features=512, bias=True)\n",
       "          (k_wgt): Linear(in_features=512, out_features=512, bias=True)\n",
       "          (v_wgt): Linear(in_features=512, out_features=512, bias=True)\n",
       "          (drop_att): Dropout(p=0.1, inplace=False)\n",
       "          (drop_res): Dropout(p=0.1, inplace=False)\n",
       "          (ln): LayerNorm((512,), eps=1e-05, elementwise_affine=True)\n",
       "          (r_attn): Linear(in_features=512, out_features=512, bias=True)\n",
       "        )\n",
       "        (ff): SequentialEx(\n",
       "          (layers): ModuleList(\n",
       "            (0): Linear(in_features=512, out_features=2048, bias=True)\n",
       "            (1): ReLU(inplace=True)\n",
       "            (2): Dropout(p=0.1, inplace=False)\n",
       "            (3): Linear(in_features=2048, out_features=512, bias=True)\n",
       "            (4): Dropout(p=0.1, inplace=False)\n",
       "            (5): MergeLayer()\n",
       "            (6): LayerNorm((512,), eps=1e-05, elementwise_affine=True)\n",
       "          )\n",
       "        )\n",
       "      )\n",
       "    )\n",
       "  )\n",
       "  (head): MTLinearDecoder(\n",
       "    (decoder): Linear(in_features=512, out_features=312, bias=True)\n",
       "    (output_dp): RNNDropout()\n",
       "  )\n",
       ")"
      ]
     },
     "execution_count": 12,
     "metadata": {},
     "output_type": "execute_result"
    }
   ],
   "source": [
    "learn.model"
   ]
  },
  {
   "cell_type": "markdown",
   "metadata": {},
   "source": [
    "# 4. Train"
   ]
  },
  {
   "cell_type": "code",
   "execution_count": 13,
   "metadata": {},
   "outputs": [
    {
     "data": {
      "text/html": [
       "<table border=\"1\" class=\"dataframe\">\n",
       "  <thead>\n",
       "    <tr style=\"text-align: left;\">\n",
       "      <th>epoch</th>\n",
       "      <th>train_loss</th>\n",
       "      <th>valid_loss</th>\n",
       "      <th>mask_acc</th>\n",
       "      <th>lm_acc</th>\n",
       "      <th>c2m_acc</th>\n",
       "      <th>m2c_acc</th>\n",
       "      <th>time</th>\n",
       "    </tr>\n",
       "  </thead>\n",
       "  <tbody>\n",
       "    <tr>\n",
       "      <td>0</td>\n",
       "      <td>7.605104</td>\n",
       "      <td>12.079700</td>\n",
       "      <td>0.000000</td>\n",
       "      <td>0.000000</td>\n",
       "      <td>0.251312</td>\n",
       "      <td>0.117202</td>\n",
       "      <td>00:13</td>\n",
       "    </tr>\n",
       "    <tr>\n",
       "      <td>1</td>\n",
       "      <td>7.555094</td>\n",
       "      <td>9.073783</td>\n",
       "      <td>0.000000</td>\n",
       "      <td>0.088274</td>\n",
       "      <td>0.251312</td>\n",
       "      <td>0.117202</td>\n",
       "      <td>00:13</td>\n",
       "    </tr>\n",
       "    <tr>\n",
       "      <td>2</td>\n",
       "      <td>7.236278</td>\n",
       "      <td>11.516213</td>\n",
       "      <td>0.039823</td>\n",
       "      <td>0.000000</td>\n",
       "      <td>0.251312</td>\n",
       "      <td>0.117202</td>\n",
       "      <td>00:13</td>\n",
       "    </tr>\n",
       "    <tr>\n",
       "      <td>3</td>\n",
       "      <td>7.062389</td>\n",
       "      <td>8.917387</td>\n",
       "      <td>0.266644</td>\n",
       "      <td>0.127444</td>\n",
       "      <td>0.251312</td>\n",
       "      <td>0.117202</td>\n",
       "      <td>00:13</td>\n",
       "    </tr>\n",
       "  </tbody>\n",
       "</table>"
      ],
      "text/plain": [
       "<IPython.core.display.HTML object>"
      ]
     },
     "metadata": {},
     "output_type": "display_data"
    }
   ],
   "source": [
    "learn.fit_one_cycle(4)"
   ]
  },
  {
   "cell_type": "code",
   "execution_count": 14,
   "metadata": {},
   "outputs": [
    {
     "data": {
      "text/plain": [
       "PosixPath('../../data/numpy/models/example.pth')"
      ]
     },
     "execution_count": 14,
     "metadata": {},
     "output_type": "execute_result"
    }
   ],
   "source": [
    "learn.save('example')"
   ]
  },
  {
   "cell_type": "markdown",
   "metadata": {},
   "source": [
    "## Predict\n",
    "\n",
    "---\n",
    "See [Generate.ipynb](Generate.ipynb) to use a pretrained model and generate better predictions\n",
    "\n",
    "---"
   ]
  },
  {
   "cell_type": "code",
   "execution_count": 20,
   "metadata": {},
   "outputs": [
    {
     "data": {
      "text/plain": [
       "PosixPath('../../data/midi/notebook_examples/single_bar_example.mid')"
      ]
     },
     "execution_count": 20,
     "metadata": {},
     "output_type": "execute_result"
    }
   ],
   "source": [
    "# midi_files = get_files(midi_path, '.mid', recurse=True)\n",
    "midi_file = base_path/'midi/notebook_examples/single_bar_example.mid'; midi_file"
   ]
  },
  {
   "cell_type": "code",
   "execution_count": 21,
   "metadata": {},
   "outputs": [
    {
     "data": {
      "text/html": [
       "\n",
       "    <div>\n",
       "        <style>\n",
       "            /* Turns off some styling */\n",
       "            progress {\n",
       "                /* gets rid of default border in Firefox and Opera. */\n",
       "                border: none;\n",
       "                /* Needs to be in here for Safari polyfill so background images work as expected. */\n",
       "                background-size: auto;\n",
       "            }\n",
       "            .progress-bar-interrupted, .progress-bar-interrupted::-webkit-progress-bar {\n",
       "                background: #F44336;\n",
       "            }\n",
       "        </style>\n",
       "      <progress value='20' class='' max='20' style='width:300px; height:20px; vertical-align: middle;'></progress>\n",
       "      100.00% [20/20 00:00<00:00]\n",
       "    </div>\n",
       "    "
      ],
      "text/plain": [
       "<IPython.core.display.HTML object>"
      ]
     },
     "metadata": {},
     "output_type": "display_data"
    },
    {
     "name": "stderr",
     "output_type": "stream",
     "text": [
      "/home/ashaw/musicautobot/musicautobot/multitask_transformer/learner.py:102: UserWarning: This overload of nonzero is deprecated:\n",
      "\tnonzero()\n",
      "Consider using one of the following signatures instead:\n",
      "\tnonzero(*, bool as_tuple) (Triggered internally at  /opt/conda/conda-bld/pytorch_1607370172916/work/torch/csrc/utils/python_arg_parser.cpp:882.)\n",
      "  num_choices = len(probs.nonzero().view(-1))\n"
     ]
    },
    {
     "name": "stdout",
     "output_type": "stream",
     "text": [
      "Non midi note detected. Only returning valid portion. Index, seed 26 (28, 2)\n"
     ]
    },
    {
     "data": {
      "image/png": "[encoded data removed]",
      "text/plain": [
       "<IPython.core.display.Image object>"
      ]
     },
     "metadata": {
      "image/png": {
       "height": 183,
       "width": 748
      }
     },
     "output_type": "display_data"
    }
   ],
   "source": [
    "next_word = nw_predict_from_midi(learn, midi_file, n_words=20, seed_len=8); next_word.show()"
   ]
  },
  {
   "cell_type": "code",
   "execution_count": 22,
   "metadata": {},
   "outputs": [
    {
     "data": {
      "text/html": [
       "\n",
       "    <div>\n",
       "        <style>\n",
       "            /* Turns off some styling */\n",
       "            progress {\n",
       "                /* gets rid of default border in Firefox and Opera. */\n",
       "                border: none;\n",
       "                /* Needs to be in here for Safari polyfill so background images work as expected. */\n",
       "                background-size: auto;\n",
       "            }\n",
       "            .progress-bar-interrupted, .progress-bar-interrupted::-webkit-progress-bar {\n",
       "                background: #F44336;\n",
       "            }\n",
       "        </style>\n",
       "      <progress value='1' class='' max='20' style='width:300px; height:20px; vertical-align: middle;'></progress>\n",
       "      5.00% [1/20 00:00<00:00]\n",
       "    </div>\n",
       "    "
      ],
      "text/plain": [
       "<IPython.core.display.HTML object>"
      ]
     },
     "metadata": {},
     "output_type": "display_data"
    },
    {
     "name": "stdout",
     "output_type": "stream",
     "text": [
      "Predicted past counter-part length. Returning early\n"
     ]
    },
    {
     "data": {
      "image/png": "[encoded data removed]",
      "text/plain": [
       "<IPython.core.display.Image object>"
      ]
     },
     "metadata": {
      "image/png": {
       "height": 111,
       "width": 748
      }
     },
     "output_type": "display_data"
    }
   ],
   "source": [
    "pred_melody = s2s_predict_from_midi(learn, midi_file, n_words=20, seed_len=4, pred_melody=True); pred_melody.show()"
   ]
  },
  {
   "cell_type": "code",
   "execution_count": 23,
   "metadata": {},
   "outputs": [
    {
     "data": {
      "text/html": [
       "\n",
       "    <div>\n",
       "        <style>\n",
       "            /* Turns off some styling */\n",
       "            progress {\n",
       "                /* gets rid of default border in Firefox and Opera. */\n",
       "                border: none;\n",
       "                /* Needs to be in here for Safari polyfill so background images work as expected. */\n",
       "                background-size: auto;\n",
       "            }\n",
       "            .progress-bar-interrupted, .progress-bar-interrupted::-webkit-progress-bar {\n",
       "                background: #F44336;\n",
       "            }\n",
       "        </style>\n",
       "      <progress value='11' class='' max='11' style='width:300px; height:20px; vertical-align: middle;'></progress>\n",
       "      100.00% [11/11 00:00<00:00]\n",
       "    </div>\n",
       "    "
      ],
      "text/plain": [
       "<IPython.core.display.HTML object>"
      ]
     },
     "metadata": {},
     "output_type": "display_data"
    },
    {
     "data": {
      "image/png": "[encoded data removed]",
      "text/plain": [
       "<IPython.core.display.Image object>"
      ]
     },
     "metadata": {
      "image/png": {
       "height": 48,
       "width": 413
      }
     },
     "output_type": "display_data"
    }
   ],
   "source": [
    "pred_notes = mask_predict_from_midi(learn, midi_file, predict_notes=True); pred_notes.show()"
   ]
  }
 ],
 "metadata": {
  "kernelspec": {
   "display_name": "Python 3",
   "language": "python",
   "name": "python3"
  },
  "language_info": {
   "codemirror_mode": {
    "name": "ipython",
    "version": 3
   },
   "file_extension": ".py",
   "mimetype": "text/x-python",
   "name": "python",
   "nbconvert_exporter": "python",
   "pygments_lexer": "ipython3",
   "version": "3.8.5"
  }
 },
 "nbformat": 4,
 "nbformat_minor": 2
}
