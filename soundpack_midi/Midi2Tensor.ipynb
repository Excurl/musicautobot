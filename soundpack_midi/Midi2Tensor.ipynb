{
 "cells": [
  {
   "cell_type": "code",
   "execution_count": 3,
   "metadata": {},
   "outputs": [],
   "source": [
    "%reload_ext autoreload\n",
    "%autoreload 2\n",
    "%matplotlib inline"
   ]
  },
  {
   "cell_type": "code",
   "execution_count": 4,
   "metadata": {},
   "outputs": [
    {
     "ename": "ImportError",
     "evalue": "cannot import name 'LMLabelList' from 'fastai.text.data' (/home/ashaw/anaconda3/envs/musicautobot/lib/python3.8/site-packages/fastai/text/data.py)",
     "output_type": "error",
     "traceback": [
      "\u001b[0;31m---------------------------------------------------------------------------\u001b[0m",
      "\u001b[0;31mImportError\u001b[0m                               Traceback (most recent call last)",
      "\u001b[0;32m<ipython-input-4-f0fb0a8d1022>\u001b[0m in \u001b[0;36m<module>\u001b[0;34m\u001b[0m\n\u001b[1;32m      3\u001b[0m \u001b[0;32mfrom\u001b[0m \u001b[0mmusicautobot\u001b[0m\u001b[0;34m.\u001b[0m\u001b[0mvocab\u001b[0m \u001b[0;32mimport\u001b[0m \u001b[0;34m*\u001b[0m\u001b[0;34m\u001b[0m\u001b[0;34m\u001b[0m\u001b[0m\n\u001b[1;32m      4\u001b[0m \u001b[0;32mfrom\u001b[0m \u001b[0mmusicautobot\u001b[0m\u001b[0;34m.\u001b[0m\u001b[0mutils\u001b[0m \u001b[0;32mimport\u001b[0m \u001b[0mmidifile\u001b[0m\u001b[0;34m\u001b[0m\u001b[0;34m\u001b[0m\u001b[0m\n\u001b[0;32m----> 5\u001b[0;31m \u001b[0;32mfrom\u001b[0m \u001b[0mmusicautobot\u001b[0m\u001b[0;34m.\u001b[0m\u001b[0mmusic_transformer\u001b[0m\u001b[0;34m.\u001b[0m\u001b[0mall\u001b[0m \u001b[0;32mimport\u001b[0m \u001b[0;34m*\u001b[0m\u001b[0;34m\u001b[0m\u001b[0;34m\u001b[0m\u001b[0m\n\u001b[0m",
      "\u001b[0;32m~/musicautobot/musicautobot/music_transformer/all.py\u001b[0m in \u001b[0;36m<module>\u001b[0;34m\u001b[0m\n\u001b[0;32m----> 1\u001b[0;31m \u001b[0;32mfrom\u001b[0m \u001b[0;34m.\u001b[0m\u001b[0mdataloader\u001b[0m \u001b[0;32mimport\u001b[0m \u001b[0;34m*\u001b[0m\u001b[0;34m\u001b[0m\u001b[0;34m\u001b[0m\u001b[0m\n\u001b[0m\u001b[1;32m      2\u001b[0m \u001b[0;32mfrom\u001b[0m \u001b[0;34m.\u001b[0m\u001b[0mmodel\u001b[0m \u001b[0;32mimport\u001b[0m \u001b[0;34m*\u001b[0m\u001b[0;34m\u001b[0m\u001b[0;34m\u001b[0m\u001b[0m\n\u001b[1;32m      3\u001b[0m \u001b[0;32mfrom\u001b[0m \u001b[0;34m.\u001b[0m\u001b[0mlearner\u001b[0m \u001b[0;32mimport\u001b[0m \u001b[0;34m*\u001b[0m\u001b[0;34m\u001b[0m\u001b[0;34m\u001b[0m\u001b[0m\n\u001b[1;32m      4\u001b[0m \u001b[0;32mfrom\u001b[0m \u001b[0;34m.\u001b[0m\u001b[0mtransform\u001b[0m \u001b[0;32mimport\u001b[0m \u001b[0;34m*\u001b[0m\u001b[0;34m\u001b[0m\u001b[0;34m\u001b[0m\u001b[0m\n",
      "\u001b[0;32m~/musicautobot/musicautobot/music_transformer/dataloader.py\u001b[0m in \u001b[0;36m<module>\u001b[0;34m\u001b[0m\n\u001b[1;32m      8\u001b[0m \u001b[0;32mfrom\u001b[0m \u001b[0mfastai\u001b[0m\u001b[0;34m.\u001b[0m\u001b[0mbasics\u001b[0m \u001b[0;32mimport\u001b[0m \u001b[0;34m*\u001b[0m\u001b[0;34m\u001b[0m\u001b[0;34m\u001b[0m\u001b[0m\n\u001b[1;32m      9\u001b[0m \u001b[0;31m# from fastai.basic_data import DataBunch\u001b[0m\u001b[0;34m\u001b[0m\u001b[0;34m\u001b[0m\u001b[0;34m\u001b[0m\u001b[0m\n\u001b[0;32m---> 10\u001b[0;31m \u001b[0;32mfrom\u001b[0m \u001b[0mfastai\u001b[0m\u001b[0;34m.\u001b[0m\u001b[0mtext\u001b[0m\u001b[0;34m.\u001b[0m\u001b[0mdata\u001b[0m \u001b[0;32mimport\u001b[0m \u001b[0mLMLabelList\u001b[0m\u001b[0;34m\u001b[0m\u001b[0;34m\u001b[0m\u001b[0m\n\u001b[0m\u001b[1;32m     11\u001b[0m \u001b[0;32mfrom\u001b[0m \u001b[0;34m.\u001b[0m\u001b[0mtransform\u001b[0m \u001b[0;32mimport\u001b[0m \u001b[0;34m*\u001b[0m\u001b[0;34m\u001b[0m\u001b[0;34m\u001b[0m\u001b[0m\n\u001b[1;32m     12\u001b[0m \u001b[0;32mfrom\u001b[0m \u001b[0;34m.\u001b[0m\u001b[0;34m.\u001b[0m\u001b[0mvocab\u001b[0m \u001b[0;32mimport\u001b[0m \u001b[0mMusicVocab\u001b[0m\u001b[0;34m\u001b[0m\u001b[0;34m\u001b[0m\u001b[0m\n",
      "\u001b[0;31mImportError\u001b[0m: cannot import name 'LMLabelList' from 'fastai.text.data' (/home/ashaw/anaconda3/envs/musicautobot/lib/python3.8/site-packages/fastai/text/data.py)"
     ]
    }
   ],
   "source": [
    "from musicautobot.imports import *\n",
    "from musicautobot.numpy_encode import *\n",
    "from musicautobot.vocab import *\n",
    "from musicautobot.utils import midifile\n",
    "from musicautobot.music_transformer.all import *"
   ]
  },
  {
   "cell_type": "markdown",
   "metadata": {},
   "source": [
    "# Encoding Midi Files to Tensor\n",
    "\n",
    "Step by step on transforming a MIDI file into a tensor.\n",
    "This notebook is more of an FYI, as the details are not necessary for training\n",
    "\n",
    "#### For a more high level API, see `MusicItem`\n",
    "\n",
    "MusicItem wraps all these functions in a simplified API. See this [notebook](MusicItem-Transform.ipynb) for more details"
   ]
  },
  {
   "cell_type": "markdown",
   "metadata": {},
   "source": [
    "## Overview\n",
    "\n",
    "Start with something that looks like this:"
   ]
  },
  {
   "cell_type": "code",
   "execution_count": 30,
   "metadata": {},
   "outputs": [
    {
     "data": {
      "image/png": "[encoded data removed]",
      "text/plain": [
       "<IPython.core.display.Image object>"
      ]
     },
     "metadata": {
      "image/png": {
       "height": 111,
       "width": 748
      }
     },
     "output_type": "display_data"
    }
   ],
   "source": [
    "data_path = Path('../../data/')\n",
    "midi_file = data_path/'midi/notebook_examples/single_bar_example.mid'\n",
    "vocab = MusicVocab.create()\n",
    "item = MusicItem.from_file(midi_file, vocab); item.show()"
   ]
  },
  {
   "cell_type": "markdown",
   "metadata": {},
   "source": [
    "And end up with a Tensor that looks like this:"
   ]
  },
  {
   "cell_type": "code",
   "execution_count": 6,
   "metadata": {},
   "outputs": [
    {
     "data": {
      "text/plain": [
       "tensor([  0,   1,  81, 139,  61, 153,  57, 153,  54, 153,   8, 139,  80, 139,\n",
       "          8, 139,  80, 139,   8, 139,  78, 139,   8, 139,  78, 139,   8, 139,\n",
       "         76, 141,   8, 141,  73, 138,   8, 138,  71, 138], device='cuda:0')"
      ]
     },
     "execution_count": 6,
     "metadata": {},
     "output_type": "execute_result"
    }
   ],
   "source": [
    "item.to_tensor()"
   ]
  },
  {
   "cell_type": "markdown",
   "metadata": {},
   "source": [
    "## Basic Steps:"
   ]
  },
  {
   "cell_type": "markdown",
   "metadata": {},
   "source": [
    "A basic step by step process to show how the library encodes a midi file like this:"
   ]
  },
  {
   "cell_type": "markdown",
   "metadata": {},
   "source": [
    "1. MidiFile - Load a single midi file\n",
    "2. Music21 Stream - Python Library helps with manipulating music files\n",
    "3. Chord Encoding - Encode stream to a sparse matrix\n",
    "4. Note Encoding - Intermediate dense matrix encoding\n",
    "5. Tensor Encoding - Final single tensor for training"
   ]
  },
  {
   "cell_type": "markdown",
   "metadata": {},
   "source": [
    "## 1. MidiFile\n",
    "\n",
    "[MIDI](https://en.wikipedia.org/wiki/MIDI) is a standardized digital music representation that looks like this:"
   ]
  },
  {
   "cell_type": "code",
   "execution_count": 7,
   "metadata": {},
   "outputs": [
    {
     "data": {
      "text/plain": [
       "<music21.midi.MidiFile 2 tracks>"
      ]
     },
     "execution_count": 7,
     "metadata": {},
     "output_type": "execute_result"
    }
   ],
   "source": [
    "mf = midifile.file2mf(midi_file); mf"
   ]
  },
  {
   "cell_type": "markdown",
   "metadata": {},
   "source": [
    "## 2. Music21 Stream\n",
    "\n",
    "[Music21](https://web.mit.edu/music21/) is powerful python library that helps us manipulate these MIDI files"
   ]
  },
  {
   "cell_type": "code",
   "execution_count": 8,
   "metadata": {},
   "outputs": [],
   "source": [
    "stream = file2stream(mf)"
   ]
  },
  {
   "cell_type": "code",
   "execution_count": 9,
   "metadata": {},
   "outputs": [
    {
     "name": "stdout",
     "output_type": "stream",
     "text": [
      "{0.0} <music21.stream.Part 0x7f91455a8d00>\n",
      "    {0.0} <music21.instrument.Piano 'Piano: Piano'>\n",
      "    {0.0} <music21.tempo.MetronomeMark animato Quarter=120.0>\n",
      "    {0.0} <music21.note.Note C>\n",
      "    {0.5} <music21.note.Note B>\n",
      "    {1.0} <music21.note.Note B>\n",
      "    {1.5} <music21.note.Note A>\n",
      "    {2.0} <music21.note.Note A>\n",
      "    {2.5} <music21.note.Note G>\n",
      "    {3.5} <music21.note.Note E>\n",
      "    {3.75} <music21.note.Note D>\n",
      "{0.0} <music21.stream.Part 0x7f91455f2130>\n",
      "    {0.0} <music21.instrument.Piano 'Piano: Piano'>\n",
      "    {0.0} <music21.chord.Chord A2 C3 E3>\n"
     ]
    }
   ],
   "source": [
    "stream.show('text')"
   ]
  },
  {
   "cell_type": "code",
   "execution_count": 10,
   "metadata": {},
   "outputs": [
    {
     "data": {
      "image/png": "[encoded data removed]",
      "text/plain": [
       "<IPython.core.display.Image object>"
      ]
     },
     "metadata": {
      "image/png": {
       "height": 111,
       "width": 748
      }
     },
     "output_type": "display_data"
    }
   ],
   "source": [
    "stream.show()"
   ]
  },
  {
   "cell_type": "code",
   "execution_count": 11,
   "metadata": {},
   "outputs": [
    {
     "data": {
      "text/html": [
       "\n",
       "                <div id='midiPlayerDiv851'></div>\n",
       "                <link rel=\"stylesheet\" href=\"//cuthbertLab.github.io/music21j/css/m21.css\"\n",
       "                    type=\"text/css\" />\n",
       "                <script>\n",
       "                require.config({\n",
       "                    paths: {'music21': '//cuthbertLab.github.io/music21j/src/music21'}\n",
       "                });\n",
       "                require(['music21'], function() {\n",
       "                               mp = new music21.miditools.MidiPlayer();\n",
       "                               mp.addPlayer('#midiPlayerDiv851');\n",
       "                               mp.base64Load('data:audio/midi;base64,TVRoZAAAAAYAAQADBABNVHJrAAAAFAD/UQMHoSAA/1gEBAIYCIgA/y8ATVRyawAAAGEA/wMFUGlhbm8AwAAA4ABAAMAAiACQSFqEAIBIAACQR1qEAIBHAACQR1qEAIBHAACQRVqEAIBFAACQRVqEAIBFAACQQ1qIAIBDAACQQFqCAIBAAACQPlqCAIA+AIgA/y8ATVRyawAAADIA/wMFUGlhbm8AwAAA4ABAAMAAiACQLVoAkDBaAJA0WqAAgC0AAIAwAACANACIAP8vAA==');\n",
       "                        });\n",
       "                </script>"
      ],
      "text/plain": [
       "<IPython.core.display.HTML object>"
      ]
     },
     "metadata": {},
     "output_type": "display_data"
    }
   ],
   "source": [
    "stream.show('midi')"
   ]
  },
  {
   "cell_type": "markdown",
   "metadata": {},
   "source": [
    "## 3. Chord Encoding\n",
    "\n",
    "Take the music21 stream object and encode it into a sparse numpy matrix. This matrix represents which notes are played at which timesteps"
   ]
  },
  {
   "cell_type": "code",
   "execution_count": 12,
   "metadata": {},
   "outputs": [
    {
     "data": {
      "text/plain": [
       "(17, 2, 128)"
      ]
     },
     "execution_count": 12,
     "metadata": {},
     "output_type": "execute_result"
    }
   ],
   "source": [
    "chordarr = stream2chordarr(stream); chordarr.shape"
   ]
  },
  {
   "cell_type": "markdown",
   "metadata": {},
   "source": [
    "##### Chord Encoding Dimensions - (timestep x track x notes)\n"
   ]
  },
  {
   "cell_type": "markdown",
   "metadata": {},
   "source": [
    "17 = timesteps in song  \n",
    "2 = tracks/parts (track 1 = melody, track 2 = chords)  \n",
    "128 = midi pitch range - [reference](https://www.inspiredacoustics.com/en/MIDI_note_numbers_and_center_frequencies)  "
   ]
  },
  {
   "cell_type": "markdown",
   "metadata": {},
   "source": [
    "##### Representation"
   ]
  },
  {
   "cell_type": "code",
   "execution_count": 13,
   "metadata": {},
   "outputs": [
    {
     "data": {
      "text/plain": [
       "array([[[0., 0., 0., 0., ..., 0., 0., 0., 0.],\n",
       "        [0., 0., 0., 0., ..., 0., 0., 0., 0.]],\n",
       "\n",
       "       [[0., 0., 0., 0., ..., 0., 0., 0., 0.],\n",
       "        [0., 0., 0., 0., ..., 0., 0., 0., 0.]],\n",
       "\n",
       "       [[0., 0., 0., 0., ..., 0., 0., 0., 0.],\n",
       "        [0., 0., 0., 0., ..., 0., 0., 0., 0.]],\n",
       "\n",
       "       [[0., 0., 0., 0., ..., 0., 0., 0., 0.],\n",
       "        [0., 0., 0., 0., ..., 0., 0., 0., 0.]],\n",
       "\n",
       "       ...,\n",
       "\n",
       "       [[0., 0., 0., 0., ..., 0., 0., 0., 0.],\n",
       "        [0., 0., 0., 0., ..., 0., 0., 0., 0.]],\n",
       "\n",
       "       [[0., 0., 0., 0., ..., 0., 0., 0., 0.],\n",
       "        [0., 0., 0., 0., ..., 0., 0., 0., 0.]],\n",
       "\n",
       "       [[0., 0., 0., 0., ..., 0., 0., 0., 0.],\n",
       "        [0., 0., 0., 0., ..., 0., 0., 0., 0.]],\n",
       "\n",
       "       [[0., 0., 0., 0., ..., 0., 0., 0., 0.],\n",
       "        [0., 0., 0., 0., ..., 0., 0., 0., 0.]]])"
      ]
     },
     "execution_count": 13,
     "metadata": {},
     "output_type": "execute_result"
    }
   ],
   "source": [
    "chordarr"
   ]
  },
  {
   "cell_type": "code",
   "execution_count": 14,
   "metadata": {},
   "outputs": [
    {
     "data": {
      "text/plain": [
       "(array([0, 1, 1, 1]), array([72, 45, 48, 52]))"
      ]
     },
     "execution_count": 14,
     "metadata": {},
     "output_type": "execute_result"
    }
   ],
   "source": [
    "# First timestep\n",
    "ts1 = chordarr[0].nonzero(); ts1"
   ]
  },
  {
   "cell_type": "markdown",
   "metadata": {},
   "source": [
    "First timestep, contains the midi notes 72, 45, 48, 52.  \n",
    "Equivalent to (C5 A2 C3 E3)"
   ]
  },
  {
   "cell_type": "code",
   "execution_count": 15,
   "metadata": {},
   "outputs": [
    {
     "data": {
      "text/plain": [
       "<music21.chord.Chord C5 A2 C3 E3>"
      ]
     },
     "execution_count": 15,
     "metadata": {},
     "output_type": "execute_result"
    }
   ],
   "source": [
    "c = music21.chord.Chord(ts1[1].tolist()); c"
   ]
  },
  {
   "cell_type": "code",
   "execution_count": 16,
   "metadata": {},
   "outputs": [
    {
     "data": {
      "image/png": "[encoded data removed]",
      "text/plain": [
       "<IPython.core.display.Image object>"
      ]
     },
     "metadata": {
      "image/png": {
       "height": 85,
       "width": 168
      }
     },
     "output_type": "display_data"
    }
   ],
   "source": [
    "c.show()"
   ]
  },
  {
   "cell_type": "markdown",
   "metadata": {},
   "source": [
    "## 4. Note Encoding\n",
    "\n",
    "Convert chord encoding to a dense matrix representation.  \n",
    "\n",
    "Sparse Matrix (177 x 2 x 128) takes up too much space.  \n",
    "Instead of 0's and 1's. Let's only keep track of when and how long a note is played."
   ]
  },
  {
   "cell_type": "code",
   "execution_count": 17,
   "metadata": {},
   "outputs": [
    {
     "data": {
      "text/plain": [
       "(18, 2)"
      ]
     },
     "execution_count": 17,
     "metadata": {},
     "output_type": "execute_result"
    }
   ],
   "source": [
    "npenc = chordarr2npenc(chordarr); npenc.shape"
   ]
  },
  {
   "cell_type": "markdown",
   "metadata": {},
   "source": [
    "##### Encoding Dimensions: (timesteps, (pitch x duration))\n",
    "\n",
    "18 = timesteps  \n",
    "2 = note representation (pitch x duration)\n",
    "* note pitch range (1-128)\n",
    "  * Separator Index = -1\n",
    "* note duration range (1 - 256)\n",
    "  * Quarter Note = 4"
   ]
  },
  {
   "cell_type": "markdown",
   "metadata": {},
   "source": [
    "#### Comparing matrix sizes:"
   ]
  },
  {
   "cell_type": "code",
   "execution_count": 18,
   "metadata": {},
   "outputs": [
    {
     "data": {
      "text/plain": [
       "('Chord encoding size: 4352', 'Note encoding size: 36')"
      ]
     },
     "execution_count": 18,
     "metadata": {},
     "output_type": "execute_result"
    }
   ],
   "source": [
    "f'Chord encoding size: {np.prod(chordarr.shape)}', f'Note encoding size: {np.prod(npenc.shape)}'"
   ]
  },
  {
   "cell_type": "markdown",
   "metadata": {},
   "source": [
    "Much smaller"
   ]
  },
  {
   "cell_type": "markdown",
   "metadata": {},
   "source": [
    "#### Representation"
   ]
  },
  {
   "cell_type": "markdown",
   "metadata": {},
   "source": [
    "Single note:"
   ]
  },
  {
   "cell_type": "code",
   "execution_count": 19,
   "metadata": {},
   "outputs": [
    {
     "data": {
      "text/plain": [
       "array([[72,  2]])"
      ]
     },
     "execution_count": 19,
     "metadata": {},
     "output_type": "execute_result"
    }
   ],
   "source": [
    "n = npenc[0:1]; n"
   ]
  },
  {
   "cell_type": "markdown",
   "metadata": {},
   "source": [
    "72 = C4 (note pitch)  \n",
    "2 = Eighth Note (2 1/16th notes)"
   ]
  },
  {
   "cell_type": "code",
   "execution_count": 20,
   "metadata": {},
   "outputs": [
    {
     "data": {
      "image/png": "[encoded data removed]",
      "text/plain": [
       "<IPython.core.display.Image object>"
      ]
     },
     "metadata": {
      "image/png": {
       "height": 49,
       "width": 143
      }
     },
     "output_type": "display_data"
    }
   ],
   "source": [
    "npenc2stream(n).show()"
   ]
  },
  {
   "cell_type": "markdown",
   "metadata": {},
   "source": [
    "Chord:"
   ]
  },
  {
   "cell_type": "code",
   "execution_count": 21,
   "metadata": {},
   "outputs": [
    {
     "data": {
      "text/plain": [
       "array([[52, 16],\n",
       "       [48, 16],\n",
       "       [45, 16]])"
      ]
     },
     "execution_count": 21,
     "metadata": {},
     "output_type": "execute_result"
    }
   ],
   "source": [
    "c = npenc[1:4]; c"
   ]
  },
  {
   "cell_type": "code",
   "execution_count": 22,
   "metadata": {},
   "outputs": [
    {
     "data": {
      "image/png": "[encoded data removed]",
      "text/plain": [
       "<IPython.core.display.Image object>"
      ]
     },
     "metadata": {
      "image/png": {
       "height": 28,
       "width": 166
      }
     },
     "output_type": "display_data"
    }
   ],
   "source": [
    "npenc2stream(c).show()"
   ]
  },
  {
   "cell_type": "markdown",
   "metadata": {},
   "source": [
    "#### Full Representation"
   ]
  },
  {
   "cell_type": "code",
   "execution_count": 23,
   "metadata": {},
   "outputs": [
    {
     "data": {
      "text/plain": [
       "array([[72,  2],\n",
       "       [52, 16],\n",
       "       [48, 16],\n",
       "       [45, 16],\n",
       "       [-1,  2],\n",
       "       [71,  2],\n",
       "       [-1,  2],\n",
       "       [71,  2]])"
      ]
     },
     "execution_count": 23,
     "metadata": {},
     "output_type": "execute_result"
    }
   ],
   "source": [
    "npenc[:8]"
   ]
  },
  {
   "cell_type": "markdown",
   "metadata": {},
   "source": [
    "Note encoding represents a stream of notes followed by a `-1` index. \n",
    "\n",
    "`-1` is a special encoding that separates each group of notes to a different timestep."
   ]
  },
  {
   "cell_type": "markdown",
   "metadata": {},
   "source": [
    "The above basically says -\n",
    "1. Play notes (72, 52, 48, 45) all at once\n",
    "2. Wait (-1, 2) for 1/8th beat\n",
    "3. Play (71, 2) - B4 Eighth Note\n",
    "4. Wait (-1, 2) for 1/8th beat\n",
    "5. Play (71, 2) - B4 Eighth Note"
   ]
  },
  {
   "cell_type": "code",
   "execution_count": 24,
   "metadata": {},
   "outputs": [
    {
     "data": {
      "image/png": "[encoded data removed]",
      "text/plain": [
       "<IPython.core.display.Image object>"
      ]
     },
     "metadata": {
      "image/png": {
       "height": 80,
       "width": 236
      }
     },
     "output_type": "display_data"
    }
   ],
   "source": [
    "npenc2stream(npenc[:8]).show()"
   ]
  },
  {
   "cell_type": "markdown",
   "metadata": {},
   "source": [
    "## Tensor Encoding\n",
    "\n",
    "Vocab indexed tensor encoding for training"
   ]
  },
  {
   "cell_type": "code",
   "execution_count": 25,
   "metadata": {},
   "outputs": [
    {
     "data": {
      "text/plain": [
       "(38,)"
      ]
     },
     "execution_count": 25,
     "metadata": {},
     "output_type": "execute_result"
    }
   ],
   "source": [
    "idxenc = npenc2idxenc(npenc, vocab); idxenc.shape"
   ]
  },
  {
   "cell_type": "markdown",
   "metadata": {},
   "source": [
    "Tensor encoding converts note encoding to a single dimensional array, required for training. \n",
    "\n",
    "Indexes are encoded according to the vocab dictionary -"
   ]
  },
  {
   "cell_type": "code",
   "execution_count": 26,
   "metadata": {},
   "outputs": [
    {
     "data": {
      "text/plain": [
       "[('xxbos', 0),\n",
       " ('xxpad', 1),\n",
       " ('xxeos', 2),\n",
       " ('xxs2scls', 3),\n",
       " ('xxmask', 4),\n",
       " ('xxcseq', 5),\n",
       " ('xxmseq', 6),\n",
       " ('xxnscls', 7),\n",
       " ('xxsep', 8),\n",
       " ('n0', 9),\n",
       " ('n1', 10),\n",
       " ('n2', 11),\n",
       " ('n3', 12),\n",
       " ('n4', 13),\n",
       " ('n5', 14)]"
      ]
     },
     "execution_count": 26,
     "metadata": {},
     "output_type": "execute_result"
    }
   ],
   "source": [
    "list(vocab.stoi.items())[:15]"
   ]
  },
  {
   "cell_type": "markdown",
   "metadata": {},
   "source": [
    "#### Representation"
   ]
  },
  {
   "cell_type": "code",
   "execution_count": 27,
   "metadata": {},
   "outputs": [
    {
     "data": {
      "text/plain": [
       "array([  0,   1,  81, 139,  61, 153,  57, 153,  54, 153,   8, 139,  80, 139,   8, 139,  80, 139,   8, 139,  78, 139,\n",
       "         8, 139,  78, 139,   8, 139,  76, 141,   8, 141,  73, 138,   8, 138,  71, 138])"
      ]
     },
     "execution_count": 27,
     "metadata": {},
     "output_type": "execute_result"
    }
   ],
   "source": [
    "idxenc"
   ]
  },
  {
   "cell_type": "markdown",
   "metadata": {},
   "source": [
    "More human readable:"
   ]
  },
  {
   "cell_type": "code",
   "execution_count": 28,
   "metadata": {},
   "outputs": [
    {
     "data": {
      "text/plain": [
       "'xxbos xxpad n72 d2 n52 d16 n48 d16 n45 d16 xxsep d2 n71 d2 xxsep d2 n71 d2 xxsep d2 n69 d2 xxsep d2 n69 d2 xxsep d2 n67 d4 xxsep d4 n64 d1 xxsep d1 n62 d1'"
      ]
     },
     "execution_count": 28,
     "metadata": {},
     "output_type": "execute_result"
    }
   ],
   "source": [
    "vocab.textify(idxenc)"
   ]
  },
  {
   "cell_type": "markdown",
   "metadata": {},
   "source": [
    "'xxbos xxpad' is inserted at the beginning of each sequence so the model can distinguish when multiple music files are combined"
   ]
  }
 ],
 "metadata": {
  "kernelspec": {
   "display_name": "Python 3",
   "language": "python",
   "name": "python3"
  },
  "language_info": {
   "codemirror_mode": {
    "name": "ipython",
    "version": 3
   },
   "file_extension": ".py",
   "mimetype": "text/x-python",
   "name": "python",
   "nbconvert_exporter": "python",
   "pygments_lexer": "ipython3",
   "version": "3.8.5"
  }
 },
 "nbformat": 4,
 "nbformat_minor": 2
}
